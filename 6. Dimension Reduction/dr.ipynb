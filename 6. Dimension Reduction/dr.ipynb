{
 "cells": [
  {
   "cell_type": "code",
   "execution_count": 1,
   "metadata": {},
   "outputs": [],
   "source": [
    "import numpy as np\n",
    "import pandas as pd\n",
    "# import umap\n",
    "import umap.umap_ as umap\n",
    "import sklearn.feature_extraction.text as sktext\n",
    "from sklearn.linear_model import LogisticRegressionCV\n",
    "from sklearn.model_selection import train_test_split\n",
    "from sklearn.metrics import roc_curve, roc_auc_score\n",
    "from itertools import product\n",
    "from sklearn.pipeline import Pipeline\n",
    "from   sklearn.manifold import TSNE\n",
    "from   sklearn.decomposition import PCA, SparsePCA, TruncatedSVD\n",
    "import seaborn as sns\n",
    "import matplotlib.pyplot as plt\n",
    "%matplotlib inline\n",
    "seed = 0"
   ]
  },
  {
   "cell_type": "markdown",
   "metadata": {},
   "source": [
    "# PCA\n",
    "\n",
    "- Finds directions that maximize variance\n",
    "- These directions that are mutually orthogonal\n",
    "- The first component has the highest variance\n",
    "- The variation present in the PCs decrease as we move from the 1st PC to the last one\n",
    "- The PCs are linear combinations of the original variables/basis."
   ]
  },
  {
   "cell_type": "code",
   "execution_count": 2,
   "metadata": {},
   "outputs": [],
   "source": [
    "from sklearn.feature_extraction.text import TfidfVectorizer\n",
    "\n",
    "transformer = TfidfVectorizer(sublinear_tf = True, min_df = 0.05, max_df = 0.90, strip_accents='unicode', stop_words='english')\n",
    "\n",
    "df = pd.read_csv(\"Reviews_sample.csv\")\n",
    "# Train/test split [ /2 marks]\n",
    "\n",
    "X = df['text']\n",
    "y = df['label']\n",
    "\n",
    "Xtrain, Xtest, ytrain, ytest = train_test_split(X,y, test_size = 0.3, random_state = seed)\n",
    "\n",
    "# Calculate the Tf-Idf transform on training and test [ /4 marks]\n",
    "XtrainTransform = transformer.fit_transform(Xtrain).toarray()\n",
    "XtestTransform = transformer.transform(Xtest).toarray()"
   ]
  },
  {
   "cell_type": "code",
   "execution_count": 3,
   "metadata": {},
   "outputs": [],
   "source": [
    "pca = PCA(n_components=2)\n",
    "pca.fit(XtrainTransform)\n",
    "Z1 = pca.transform(XtestTransform)\n",
    "# Get the results\n",
    "sns.scatterplot(x=Z1[:, 0], y=Z1[:, 1], hue=ytest)\n",
    "\n",
    "# Create plot\n",
    "plt.xlabel(\"Component 1\")\n",
    "plt.ylabel(\"Component 2\")\n",
    "plt.title(\"PCA of Amazon Rewiews\")\n",
    "plt.show()"
   ]
  },
  {
   "cell_type": "markdown",
   "metadata": {},
   "source": [
    "# Sparse PCA\n",
    "\n",
    "Sparsity is enforced most of the time on the principal loadings _i.e.,_ $\\boldsymbol V$. The advantage of sparsity is that a sparse $\\boldsymbol V$ tells us which variables from the original $p$-dimensional feature space are worth keeping. This helps with interpretability.\n",
    "\n",
    "Sparsity can also be enforced on the entries of $\\boldsymbol Z$, but that's far less popular."
   ]
  },
  {
   "cell_type": "code",
   "execution_count": null,
   "metadata": {},
   "outputs": [],
   "source": [
    "sPCA = SparsePCA(n_components=2, random_state=0, alpha=0.5) # play with alpha to control sparsity \n",
    "sPCA.fit(XtrainTransform)\n",
    "\n",
    "# Get the results\n",
    "Z2 = sPCA.transform(XtrainTransform)  # This are the the Z  \n",
    "\n",
    "# Create plot\n",
    "sns.scatterplot(x=Z1[:, 0], y=Z1[:, 1], hue=ytest)\n",
    "\n",
    "plt.xlabel(\"Component 1\")\n",
    "plt.ylabel(\"Component 2\")\n",
    "plt.title(\"PCA of Amazon Rewiews\")\n",
    "plt.show()"
   ]
  },
  {
   "cell_type": "markdown",
   "metadata": {},
   "source": [
    "# T-sne\n",
    "\n",
    "Some parameters in TSNE are extremely important. [This](https://distill.pub/2016/misread-tsne/) is a great paper going into detail in this regard.\n",
    "\n",
    "In particular:\n",
    "\n",
    "- Perplexity: The perplexity is related to the number of nearest neighbors that is used in other manifold learning algorithms. Larger datasets usually require a larger perplexity. Consider selecting a value between 5 and 50. Different values can result in significantly different results. In general, set to a high value and test a few.\n",
    "- n_iter: The method must converge to be good. Set high and let the min_grad_norm and n_iter_without_progress stop the training.\n",
    "- Metric: How to measure distances. Can be any keyword [here](https://docs.scipy.org/doc/scipy/reference/generated/scipy.spatial.distance.pdist.html). For text, cosine similarity is [known to work](https://academic.oup.com/bioinformatics/article/22/18/2298/318080)."
   ]
  },
  {
   "cell_type": "code",
   "execution_count": null,
   "metadata": {},
   "outputs": [],
   "source": [
    "tSNEmapper = TSNE(n_components=2,               # How many dimensions to use. Never more than 2 or 3\n",
    "                  init='random',                # First initialization. Sparse matrices need 'random'.  Otherwise use 'pca'\n",
    "                  perplexity=100.0,              # Read below\n",
    "                  early_exaggeration=12.0,      # Read below\n",
    "                  learning_rate='auto',         # Related to above. Leave to auto\n",
    "                  n_iter=5000,                  # Very important to let iterate enough\n",
    "                  n_iter_without_progress=300,  # Set early stopping\n",
    "                  metric='euclidean',           # Metric to use to calculate distances.\n",
    "                  min_grad_norm=1e-7,           # Minimum gradient to continue iterating\n",
    "                  verbose=0,                    # Verbosity\n",
    "                  random_state=42,              # Random seed\n",
    "                  n_jobs=4,                     # Parallel processes\n",
    "                  square_distances=True         # Square or root distances?\n",
    "                 )"
   ]
  },
  {
   "cell_type": "markdown",
   "metadata": {},
   "source": [
    "# UMAP\n",
    "\n",
    "UMAP (Uniform Manifold Approximation and Projection) is a more sophisticated model based on solid mathematical principles. They are fairly sophisticated.\n",
    "\n",
    "UMAP is far more efficient than t-SNE, particularly when projecting into more than two dimensions, so it is generally a better method than t-SNE. It is, however, still not very mainstream."
   ]
  },
  {
   "cell_type": "code",
   "execution_count": 5,
   "metadata": {},
   "outputs": [
    {
     "data": {
      "image/png": "[encoded data removed]",
      "text/plain": [
       "<Figure size 432x288 with 1 Axes>"
      ]
     },
     "metadata": {
      "needs_background": "light"
     },
     "output_type": "display_data"
    }
   ],
   "source": [
    "reducer = umap.UMAP(n_neighbors=2,              # Number of neareast neighbours to use. \n",
    "                    n_components=2,              # Number of components. UMAP is robust to larger values\n",
    "                    min_dist = 0.1,\n",
    "                    metric='hellinger',          # Metric to use.\n",
    "                    n_epochs=1000,               # Iterations. Set to convergence. None implies either 200 or 500.\n",
    "                    low_memory=True,             # Run slower, but with less memory.\n",
    "                    n_jobs=-1,                   # Cores to use\n",
    "                    random_state=seed,             # Random seed\n",
    "                    verbose=False                 # Verbosity\n",
    "                   )\n",
    "\n",
    "# Now we train and calculate the embedding!\n",
    "UMAP_embedding = reducer.fit_transform(XtestTransform)\n",
    "\n",
    "\n",
    "sns.scatterplot(x=UMAP_embedding[:, 0], y=UMAP_embedding[:, 1], hue=ytest)\n",
    "plt.xlabel(\"Component 1\")\n",
    "plt.ylabel(\"Component 2\")\n",
    "plt.title(\"UMAP of Amazon Rewiews\")\n",
    "plt.show()"
   ]
  },
  {
   "cell_type": "markdown",
   "metadata": {},
   "source": [
    "## UMAP on with logistic regression"
   ]
  },
  {
   "cell_type": "code",
   "execution_count": 6,
   "metadata": {},
   "outputs": [
    {
     "name": "stdout",
     "output_type": "stream",
     "text": [
      "0.685972850678733\n"
     ]
    },
    {
     "data": {
      "image/png": "[encoded data removed]",
      "text/plain": [
       "<Figure size 432x288 with 1 Axes>"
      ]
     },
     "metadata": {
      "needs_background": "light"
     },
     "output_type": "display_data"
    }
   ],
   "source": [
    "# Apply UMAP first [ / 4 marks]\n",
    "reducer = umap.UMAP(n_neighbors=2,              # Number of neareast neighbours to use. \n",
    "                    n_components=10,              # Number of components. UMAP is robust to larger values\n",
    "                    min_dist = 0.1,\n",
    "                    metric='hellinger',          # Metric to use.\n",
    "                    n_epochs=1000,               # Iterations. Set to convergence. None implies either 200 or 500.\n",
    "                    low_memory=True,             # Run slower, but with less memory.\n",
    "                    n_jobs=-1,                   # Cores to use\n",
    "                    random_state=seed,             # Random seed\n",
    "                    verbose=False                 # Verbosity\n",
    "                   )\n",
    "\n",
    "# Train and test using model LogisticRegressionCV [ /4 marks]\n",
    "logReg = LogisticRegressionCV(cv=5)\n",
    "\n",
    "# Define the model\n",
    "model = Pipeline([\n",
    "    ('umap', reducer), \n",
    "    ('log', logReg)])\n",
    "\n",
    "# Fit on the training dataset\n",
    "model.fit(XtrainTransform, ytrain)\n",
    "\n",
    "# Apply to the test dataset\n",
    "ypred = model.predict(XtestTransform)\n",
    "ytest_prob3 = model.predict_proba(XtestTransform)\n",
    "\n",
    "# Plot ROC curve and compute AUC score [ /4 marks]\n",
    "# Calculate the ROC curve points and plot\n",
    "fpr3, tpr3, _ = roc_curve(ytest, ytest_prob3[:,1])\n",
    "sns.lineplot(x = fpr3, y = tpr3)\n",
    "\n",
    "# Calculate the AUC and print it\n",
    "AUC3 = roc_auc_score(ytest, ytest_prob3[:,1])\n",
    "print(AUC3)"
   ]
  }
 ],
 "metadata": {
  "kernelspec": {
   "display_name": "Python 3.9.12 ('base')",
   "language": "python",
   "name": "python3"
  },
  "language_info": {
   "codemirror_mode": {
    "name": "ipython",
    "version": 3
   },
   "file_extension": ".py",
   "mimetype": "text/x-python",
   "name": "python",
   "nbconvert_exporter": "python",
   "pygments_lexer": "ipython3",
   "version": "3.9.12 (main, Apr  5 2022, 01:53:17) \n[Clang 12.0.0 ]"
  },
  "orig_nbformat": 4,
  "vscode": {
   "interpreter": {
    "hash": "9dbd6522d963e110ce680ef8bbf2ac9e45451014885da3f564eb257b1470d2af"
   }
  }
 },
 "nbformat": 4,
 "nbformat_minor": 2
}
