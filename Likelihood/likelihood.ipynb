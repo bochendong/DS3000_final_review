{
 "cells": [
  {
   "cell_type": "code",
   "execution_count": 45,
   "metadata": {},
   "outputs": [],
   "source": [
    "import pandas as pd\n",
    "import numpy as np\n",
    "import matplotlib.pyplot as plt \n",
    "import seaborn as sns\n",
    "from math import pi\n",
    "from scipy.special import gammaln\n",
    "import scipy as sc\n",
    "import scipy.stats as ss"
   ]
  },
  {
   "cell_type": "code",
   "execution_count": 46,
   "metadata": {},
   "outputs": [],
   "source": [
    "df2 = pd.read_csv(\"q1q2.csv\")\n",
    "x_train = df2.x2.values\n",
    "X_train = np.c_[np.ones(x_train.size), x_train]\n",
    "y_train = df2.y2.values\n",
    "\n",
    "x_new = np.linspace(x_train.min(), x_train.max(), 200)\n",
    "X_new = np.c_[np.ones(x_new.size), x_new]"
   ]
  },
  {
   "cell_type": "markdown",
   "metadata": {},
   "source": [
    "# Likelihood\n",
    "\n",
    "The likelihood (Likelihood) function represents the data based on observation. When different parameters are taken, how likely is the statistical model to be close to the real observation data.\n",
    "\n",
    "$$\n",
    "L(\\theta; y_1, \\cdots, y_n) = \\prod_i f(\\theta; y_i)\n",
    "$$\n",
    "\n",
    "\n",
    "## Bernoulli model\n",
    "$$\n",
    "    f(y; \\mu, \\sigma) = \\frac{1}{\\sqrt{2\\pi \\sigma^2}}\\exp(-\\frac{(y - \\mu)^2}{2\\sigma^2})\n",
    "$$\n",
    "\n",
    "$$\n",
    "\\begin{align}\n",
    "    l(\\mu, \\sigma^2; y_1, \\cdots, y_n) &= \\log [ \\prod_i f(\\theta; y_i)]\\\\\n",
    "    &= \\log [ \\prod_i \\frac{1}{\\sqrt{2\\pi \\sigma^2}}\\exp(-\\frac{(y_i - \\mu)^2}{2\\sigma^2})]\\\\\n",
    "    &= \\sum_{i = 1}^n[-\\frac{1}{2} \\log 2\\pi - \\frac{1}{2}\\log(\\sigma^2) - \\frac{1}{2}\\frac{(y_i - \\mu)^2}{\\sigma^2}]\\\\\n",
    "\\end{align}\n",
    "$$\n",
    "\n",
    "\n",
    "$$\n",
    "\\begin{align}\n",
    "-l(\\mu, \\sigma^2; y_1, \\cdots, y_n) &= \\sum_{i = 1}^n[\\frac{1}{2} \\log 2\\pi + \\frac{1}{2}\\log(\\sigma^2) + \\frac{1}{2}\\frac{(y_i - \\mu)^2}{\\sigma^2}]\\\\\n",
    "& = \\frac{n}{2} \\log 2\\pi + \\frac{n}{2}\\log(\\sigma^2) + \\sum_{i = 1}^n (\\frac{1}{2}\\frac{(y_i - \\mu)^2}{\\sigma^2})\n",
    "\\end{align}\n",
    "$$\n"
   ]
  },
  {
   "cell_type": "code",
   "execution_count": 47,
   "metadata": {},
   "outputs": [],
   "source": [
    "def bernoulliNegLogLikelihood(beta, X, y):\n",
    "    mu = X@beta\n",
    "    n = y.size\n",
    "    sigma = 1\n",
    "    l = (1 / 2) * n*np.log(2 * pi) + (1 / 2) * n*np.log(sigma) + (1/(2*sigma*sigma))*np.sum((y-mu)**2)\n",
    "    return l"
   ]
  },
  {
   "cell_type": "code",
   "execution_count": 48,
   "metadata": {},
   "outputs": [],
   "source": [
    "def maximumRegLikelihood(X, y, negloglik=bernoulliNegLogLikelihood):\n",
    "    _, ncols = X.shape\n",
    "    betas=np.zeros((ncols,1))\n",
    "    RES = sc.optimize.minimize(negloglik, betas, args=(X,y), method=\"Powell\", tol=1e-8)\n",
    "    return RES.x"
   ]
  },
  {
   "cell_type": "code",
   "execution_count": 49,
   "metadata": {},
   "outputs": [
    {
     "name": "stderr",
     "output_type": "stream",
     "text": [
      "/var/folders/fy/p355vwwd683668y784t68b2c0000gn/T/ipykernel_88540/316431229.py:4: DeprecationWarning: Use of `minimize` with `x0.ndim != 1` is deprecated. Currently, singleton dimensions will be removed from `x0`, but an error will be raised in SciPy 1.11.0.\n",
      "  RES = sc.optimize.minimize(negloglik, betas, args=(X,y), method=\"Powell\", tol=1e-8)\n"
     ]
    }
   ],
   "source": [
    "bernoulliBetas = maximumRegLikelihood(X_train, y_train, bernoulliNegLogLikelihood)\n",
    "y_pred_bernoulli = X_new@bernoulliBetas"
   ]
  },
  {
   "cell_type": "markdown",
   "metadata": {},
   "source": [
    "## Poisson\n",
    "$$ f(y; \\lambda) = \\frac{\\lambda^{-y} \\exp(-\\lambda)}{y!}$$\n",
    "$$\n",
    "\\begin{align}\n",
    "    l(\\lambda; y_1, \\cdots, y_n) &= \\log [ \\prod_i f(\\theta; y_i)]\\\\\n",
    "    &= \\log [ \\prod_i \\frac{\\lambda^{-y_i} \\exp(-\\lambda)}{y_i!}]\\\\\n",
    "    &= \\sum_{i=1}^{n}y_i \\log(\\lambda) - \\lambda - \\log y_i!\\\\\n",
    "\\end{align}\n",
    "$$"
   ]
  },
  {
   "cell_type": "code",
   "execution_count": 50,
   "metadata": {},
   "outputs": [],
   "source": [
    "def poisson_nll_regression(beta, X, y):\n",
    "    lam = np.exp(np.dot(X, beta))\n",
    "    nll = - (np.sum(y * np.log(lam) - lam - gammaln(y+1)))\n",
    "    return nll"
   ]
  },
  {
   "cell_type": "code",
   "execution_count": 51,
   "metadata": {},
   "outputs": [
    {
     "name": "stderr",
     "output_type": "stream",
     "text": [
      "/var/folders/fy/p355vwwd683668y784t68b2c0000gn/T/ipykernel_88540/316431229.py:4: DeprecationWarning: Use of `minimize` with `x0.ndim != 1` is deprecated. Currently, singleton dimensions will be removed from `x0`, but an error will be raised in SciPy 1.11.0.\n",
      "  RES = sc.optimize.minimize(negloglik, betas, args=(X,y), method=\"Powell\", tol=1e-8)\n"
     ]
    }
   ],
   "source": [
    "possionBetas = maximumRegLikelihood(X_train, y_train, poisson_nll_regression)\n",
    "y_pred_possion = np.exp(np.dot(X_new, possionBetas))"
   ]
  },
  {
   "cell_type": "markdown",
   "metadata": {},
   "source": [
    "## Beta model\n",
    "$$\n",
    "    f(y_i, a, b) = \\frac{\\Gamma(a+b)y_i^{a - 1}(1 - y_i)^{b - 1}}{\\Gamma(a)\\Gamma(b)}, \\text{ where } \\Gamma(z) = \\int_{0}^\\infty t^{z - 1}e^{-t}dt\n",
    "$$\n",
    "\n",
    "$$\n",
    "\\begin{align}\n",
    "    l(a, b; y_1, \\cdots, y_n) &= \\log [ \\prod_i f(\\theta; y_i)]\\\\\n",
    "    &= \\log [ \\prod_i \\frac{\\Gamma(a+b)y_i^{a - 1}(1 - y_i)^{b - 1}}{\\Gamma(a)\\Gamma(b)}]\\\\\n",
    "    &= \\sum_{i = 1}^n \\log (\\frac{\\Gamma(a+b)y_i^{a - 1}(1 - y_i)^{b - 1}}{\\Gamma(a)\\Gamma(b)})\\\\\n",
    "\\end{align}\n",
    "$$"
   ]
  },
  {
   "cell_type": "code",
   "execution_count": 52,
   "metadata": {},
   "outputs": [],
   "source": [
    "def predict(X,b):\n",
    "    # Logistic regression also needs to make predictions between 0 and 1; \n",
    "    # we'll just use the sigmoid function like we do for LR\n",
    "    eta = np.dot(X,b)\n",
    "    predictions = 1.0 / (1+np.exp(-eta))\n",
    "    return predictions\n",
    "\n",
    "def betaloglik(y,mu,phi):\n",
    "    a = mu*phi\n",
    "    b = (1-mu)*phi\n",
    "\n",
    "    return ss.beta.logpdf(y, a, b).sum() \n",
    "    # (Taking log of beta.pdf probably also works fine but will be less precise\n",
    "    #  than a specially-made function, and may not optimize as well. Full marks though.)\n",
    "\n",
    "def betaregnegloglik(theta,X,y):\n",
    "    # theta contains phi followed by beta\n",
    "    phi = theta[0]\n",
    "    beta = theta[1:]\n",
    "    # Your code below =======\n",
    "    mu = predict(X, beta).T # Use our predict function\n",
    "\n",
    "    return -1*betaloglik(y, mu, phi) # Negate the beta log likelihood"
   ]
  },
  {
   "cell_type": "code",
   "execution_count": 53,
   "metadata": {},
   "outputs": [],
   "source": [
    "def betaregmaximumlikelihood(X,y):\n",
    "    phistart = np.ones((1,1))\n",
    "    bstart = np.zeros((X.shape[1],1))\n",
    "    thetastart = np.r_[phistart, bstart] # Stack one on top of the other\n",
    "    \n",
    "    # Call the minimize function, similar to first assignments\n",
    "    optimization = sc.optimize.minimize(betaregnegloglik, x0=thetastart, \n",
    "                            args = (X,y), method = 'Nelder-Mead')\n",
    "    results = optimization.x \n",
    "    return results"
   ]
  },
  {
   "cell_type": "code",
   "execution_count": 54,
   "metadata": {},
   "outputs": [
    {
     "name": "stderr",
     "output_type": "stream",
     "text": [
      "/var/folders/fy/p355vwwd683668y784t68b2c0000gn/T/ipykernel_88540/674924315.py:7: DeprecationWarning: Use of `minimize` with `x0.ndim != 1` is deprecated. Currently, singleton dimensions will be removed from `x0`, but an error will be raised in SciPy 1.11.0.\n",
      "  optimization = sc.optimize.minimize(betaregnegloglik, x0=thetastart,\n",
      "/Library/Frameworks/Python.framework/Versions/3.10/lib/python3.10/site-packages/scipy/optimize/_optimize.py:790: RuntimeWarning: invalid value encountered in subtract\n",
      "  np.max(np.abs(fsim[0] - fsim[1:])) <= fatol):\n"
     ]
    }
   ],
   "source": [
    "betaBeta = betaregmaximumlikelihood(X_train, y_train)\n",
    "y_pred_beta = predict(X_new, betaBeta[1:]).T"
   ]
  },
  {
   "cell_type": "markdown",
   "metadata": {},
   "source": [
    "## Midterm\n",
    "\n",
    "$$\n",
    "f_Y(y|X=x)=\\dfrac{\\pi}{3\\sigma_{\\epsilon}\\sqrt{2\\pi}}e^{-\\dfrac{1}{2}\\dfrac{(y-\\mu_{Y})^2}{\\sigma_{\\epsilon}^2\\sqrt{\\pi}}}\n",
    "$$"
   ]
  },
  {
   "cell_type": "code",
   "execution_count": 55,
   "metadata": {},
   "outputs": [],
   "source": [
    "def RegNegLogLikelihood(beta, X, y):\n",
    "    mu = X@beta\n",
    "    n = y.size\n",
    "    sigma = 1\n",
    "    l = n*np.log(pi) - n*np.log(3) - n*np.log(sigma) - (n/2)*np.log(2*pi) - (1/(2*np.sqrt(pi)*sigma*sigma))*np.sum((y-mu)**2)\n",
    "    return -l"
   ]
  },
  {
   "cell_type": "code",
   "execution_count": 56,
   "metadata": {},
   "outputs": [
    {
     "name": "stderr",
     "output_type": "stream",
     "text": [
      "/var/folders/fy/p355vwwd683668y784t68b2c0000gn/T/ipykernel_88540/316431229.py:4: DeprecationWarning: Use of `minimize` with `x0.ndim != 1` is deprecated. Currently, singleton dimensions will be removed from `x0`, but an error will be raised in SciPy 1.11.0.\n",
      "  RES = sc.optimize.minimize(negloglik, betas, args=(X,y), method=\"Powell\", tol=1e-8)\n"
     ]
    }
   ],
   "source": [
    "midBetas = maximumRegLikelihood(X_train, y_train, RegNegLogLikelihood)\n",
    "y_pred_mid= X_new@midBetas"
   ]
  },
  {
   "cell_type": "code",
   "execution_count": 57,
   "metadata": {},
   "outputs": [
    {
     "data": {
      "image/png": "[encoded data removed]",
      "text/plain": [
       "<Figure size 640x480 with 1 Axes>"
      ]
     },
     "metadata": {},
     "output_type": "display_data"
    }
   ],
   "source": [
    "plt.scatter(x_train, y_train, c='blue')\n",
    "\n",
    "plt.plot(x_new, y_pred_mid, c='red', label='mid')\n",
    "plt.plot(x_new, y_pred_bernoulli, c='orange', label='bernoulli')\n",
    "plt.plot(x_new, y_pred_possion, c='green', label='possion')\n",
    "plt.plot(x_new, y_pred_beta, c='black', label='beta')\n",
    "\n",
    "plt.legend()\n",
    "plt.xlabel(\"$X_1$\")\n",
    "plt.ylabel(\"$Y$\")\n",
    "plt.show()"
   ]
  }
 ],
 "metadata": {
  "kernelspec": {
   "display_name": "Python 3.10.6 64-bit",
   "language": "python",
   "name": "python3"
  },
  "language_info": {
   "codemirror_mode": {
    "name": "ipython",
    "version": 3
   },
   "file_extension": ".py",
   "mimetype": "text/x-python",
   "name": "python",
   "nbconvert_exporter": "python",
   "pygments_lexer": "ipython3",
   "version": "3.10.6"
  },
  "orig_nbformat": 4,
  "vscode": {
   "interpreter": {
    "hash": "aee8b7b246df8f9039afb4144a1f6fd8d2ca17a180786b69acc140d282b71a49"
   }
  }
 },
 "nbformat": 4,
 "nbformat_minor": 2
}
