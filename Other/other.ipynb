{
 "cells": [
  {
   "cell_type": "code",
   "execution_count": null,
   "metadata": {},
   "outputs": [],
   "source": [
    "import pandas as pd\n",
    "import numpy as np\n",
    "import matplotlib.pyplot as plt \n",
    "import seaborn as sns\n",
    "from sklearn.metrics import roc_curve, precision_recall_curve, auc\n",
    "from sklearn.linear_model import LogisticRegression\n",
    "from sklearn.model_selection import GridSearchCV, train_test_split"
   ]
  },
  {
   "cell_type": "code",
   "execution_count": null,
   "metadata": {},
   "outputs": [],
   "source": [
    "df = pd.read_csv('diabetes.csv')\n",
    "df.head(5)\n",
    "\n",
    "Xtrain, Xtest, ytrain, ytest = train_test_split(X, y, test_size=0.2, random_state=0)\n",
    "model = LogisticRegression(penalty='none', max_iter=10000)\n",
    "model.fit(Xtrain, ytrain)\n",
    "ypred = model.predict(Xtest)\n",
    "\n",
    "ytest_prob = model.predict_proba(Xtest)"
   ]
  },
  {
   "cell_type": "markdown",
   "metadata": {},
   "source": [
    "# R2"
   ]
  },
  {
   "cell_type": "code",
   "execution_count": null,
   "metadata": {},
   "outputs": [],
   "source": [
    "def cal_r2(y, ypred):\n",
    "    RSS = np.sum((y - ypred) ** 2)\n",
    "    TSS = sum((y - np.mean(y))**2)\n",
    "    return 1 - RSS/TSS"
   ]
  },
  {
   "cell_type": "markdown",
   "metadata": {},
   "source": [
    "# Performance"
   ]
  },
  {
   "cell_type": "code",
   "execution_count": null,
   "metadata": {},
   "outputs": [],
   "source": [
    "def compute_performance(ypred, ytest, classes):\n",
    "    tp = sum(np.logical_and(ypred == classes[1], ytest == classes[1]))\n",
    "    tn = sum(np.logical_and(ypred == classes[0], ytest == classes[0]))\n",
    "    fp = sum(np.logical_and(ypred == classes[1], ytest == classes[0]))\n",
    "    fn = sum(np.logical_and(ypred == classes[0], ytest == classes[1]))\n",
    "\n",
    "    return tp, tn, fp, fn\n",
    "\n",
    "tp, tn, fp, fn = compute_performance(ypred, ytest, model.classes_)\n",
    "Acc = (tp + tn) / (tp + tn + fp + fn)\n",
    "print(\"Acc: %.5f\" % Acc)"
   ]
  },
  {
   "cell_type": "markdown",
   "metadata": {},
   "source": [
    "# Threshold"
   ]
  },
  {
   "cell_type": "code",
   "execution_count": null,
   "metadata": {},
   "outputs": [],
   "source": [
    "threshold = 0.6\n",
    "\n",
    "ytest_prob = model.predict_proba(Xtest)\n",
    "ypred = model.classes_[(ytest_prob[:,1]>threshold).astype(int)]\n",
    "tp, tn, fp, fn = compute_performance(ypred, ytest, model.classes_)\n",
    "Acc = (tp + tn) / (tp + tn + fp + fn)\n",
    "print(\"Acc: %.5f\" % Acc)"
   ]
  },
  {
   "cell_type": "markdown",
   "metadata": {},
   "source": [
    "# ROC and AUC"
   ]
  },
  {
   "cell_type": "code",
   "execution_count": null,
   "metadata": {},
   "outputs": [],
   "source": [
    "fpr, tpr, _ = roc_curve(ytest, ytest_prob[:,1], pos_label=1)\n",
    "ax = sns.lineplot(x = fpr, y = tpr)\n",
    "\n",
    "AUC = auc(fpr, tpr)\n",
    "print(\"classifier (all feature): \"+ str(AUC))"
   ]
  }
 ],
 "metadata": {
  "kernelspec": {
   "display_name": "Python 3.10.6 64-bit",
   "language": "python",
   "name": "python3"
  },
  "language_info": {
   "name": "python",
   "version": "3.10.6"
  },
  "orig_nbformat": 4,
  "vscode": {
   "interpreter": {
    "hash": "aee8b7b246df8f9039afb4144a1f6fd8d2ca17a180786b69acc140d282b71a49"
   }
  }
 },
 "nbformat": 4,
 "nbformat_minor": 2
}
