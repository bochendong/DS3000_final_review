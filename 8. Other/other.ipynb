{
 "cells": [
  {
   "cell_type": "code",
   "execution_count": 47,
   "metadata": {},
   "outputs": [],
   "source": [
    "import pandas as pd\n",
    "import numpy as np\n",
    "import matplotlib.pyplot as plt \n",
    "import seaborn as sns\n",
    "\n",
    "from sklearn.metrics import mean_squared_error\n",
    "from sklearn.metrics import roc_auc_score, confusion_matrix, roc_curve\n",
    "from sklearn.metrics import auc, make_scorer, r2_score\n",
    "from sklearn.preprocessing import StandardScaler\n",
    "from sklearn.linear_model import LinearRegression\n",
    "from sklearn.linear_model import LogisticRegression\n",
    "from sklearn.pipeline import Pipeline\n",
    "from sklearn.model_selection import train_test_split, cross_val_score, KFold\n",
    "from sklearn.linear_model import SGDRegressor\n",
    "from sklearn.model_selection import KFold, LeaveOneOut\n",
    "from sklearn import preprocessing\n",
    "from sklearn.model_selection import GridSearchCV, train_test_split, StratifiedKFold\n",
    "from xgboost import XGBRegressor\n",
    "from sklearn.preprocessing import PolynomialFeatures\n",
    "from sklearn.base import BaseEstimator, TransformerMixin\n",
    "seed = 42"
   ]
  },
  {
   "cell_type": "code",
   "execution_count": 48,
   "metadata": {},
   "outputs": [
    {
     "data": {
      "text/html": [
       "<div>\n",
       "<style scoped>\n",
       "    .dataframe tbody tr th:only-of-type {\n",
       "        vertical-align: middle;\n",
       "    }\n",
       "\n",
       "    .dataframe tbody tr th {\n",
       "        vertical-align: top;\n",
       "    }\n",
       "\n",
       "    .dataframe thead th {\n",
       "        text-align: right;\n",
       "    }\n",
       "</style>\n",
       "<table border=\"1\" class=\"dataframe\">\n",
       "  <thead>\n",
       "    <tr style=\"text-align: right;\">\n",
       "      <th></th>\n",
       "      <th>Pregnancies</th>\n",
       "      <th>Glucose</th>\n",
       "      <th>BloodPressure</th>\n",
       "      <th>SkinThickness</th>\n",
       "      <th>Insulin</th>\n",
       "      <th>BMI</th>\n",
       "      <th>DiabetesPedigreeFunction</th>\n",
       "      <th>Age</th>\n",
       "      <th>Outcome</th>\n",
       "    </tr>\n",
       "  </thead>\n",
       "  <tbody>\n",
       "    <tr>\n",
       "      <th>0</th>\n",
       "      <td>6</td>\n",
       "      <td>148</td>\n",
       "      <td>72</td>\n",
       "      <td>35</td>\n",
       "      <td>0</td>\n",
       "      <td>33.6</td>\n",
       "      <td>0.627</td>\n",
       "      <td>50</td>\n",
       "      <td>1</td>\n",
       "    </tr>\n",
       "    <tr>\n",
       "      <th>1</th>\n",
       "      <td>1</td>\n",
       "      <td>85</td>\n",
       "      <td>66</td>\n",
       "      <td>29</td>\n",
       "      <td>0</td>\n",
       "      <td>26.6</td>\n",
       "      <td>0.351</td>\n",
       "      <td>31</td>\n",
       "      <td>0</td>\n",
       "    </tr>\n",
       "    <tr>\n",
       "      <th>2</th>\n",
       "      <td>8</td>\n",
       "      <td>183</td>\n",
       "      <td>64</td>\n",
       "      <td>0</td>\n",
       "      <td>0</td>\n",
       "      <td>23.3</td>\n",
       "      <td>0.672</td>\n",
       "      <td>32</td>\n",
       "      <td>1</td>\n",
       "    </tr>\n",
       "    <tr>\n",
       "      <th>3</th>\n",
       "      <td>1</td>\n",
       "      <td>89</td>\n",
       "      <td>66</td>\n",
       "      <td>23</td>\n",
       "      <td>94</td>\n",
       "      <td>28.1</td>\n",
       "      <td>0.167</td>\n",
       "      <td>21</td>\n",
       "      <td>0</td>\n",
       "    </tr>\n",
       "    <tr>\n",
       "      <th>4</th>\n",
       "      <td>0</td>\n",
       "      <td>137</td>\n",
       "      <td>40</td>\n",
       "      <td>35</td>\n",
       "      <td>168</td>\n",
       "      <td>43.1</td>\n",
       "      <td>2.288</td>\n",
       "      <td>33</td>\n",
       "      <td>1</td>\n",
       "    </tr>\n",
       "  </tbody>\n",
       "</table>\n",
       "</div>"
      ],
      "text/plain": [
       "   Pregnancies  Glucose  BloodPressure  SkinThickness  Insulin   BMI  \\\n",
       "0            6      148             72             35        0  33.6   \n",
       "1            1       85             66             29        0  26.6   \n",
       "2            8      183             64              0        0  23.3   \n",
       "3            1       89             66             23       94  28.1   \n",
       "4            0      137             40             35      168  43.1   \n",
       "\n",
       "   DiabetesPedigreeFunction  Age  Outcome  \n",
       "0                     0.627   50        1  \n",
       "1                     0.351   31        0  \n",
       "2                     0.672   32        1  \n",
       "3                     0.167   21        0  \n",
       "4                     2.288   33        1  "
      ]
     },
     "execution_count": 48,
     "metadata": {},
     "output_type": "execute_result"
    }
   ],
   "source": [
    "df = pd.read_csv('diabetes.csv')\n",
    "df.head(5)"
   ]
  },
  {
   "cell_type": "code",
   "execution_count": 49,
   "metadata": {},
   "outputs": [],
   "source": [
    "df = pd.read_csv('diabetes.csv')\n",
    "\n",
    "X =  df.iloc[:,0:8].values\n",
    "y = df.Outcome.values\n",
    "\n",
    "Xtrain, Xtest, ytrain, ytest = train_test_split(X, y, test_size=0.2, random_state=0)\n",
    "model = LogisticRegression(penalty='none', max_iter=10000)\n",
    "model.fit(Xtrain, ytrain)\n",
    "ypred = model.predict(Xtest)\n",
    "\n",
    "ytest_prob = model.predict_proba(Xtest)"
   ]
  },
  {
   "cell_type": "code",
   "execution_count": 50,
   "metadata": {},
   "outputs": [],
   "source": [
    "def rmse(y,ypr):\n",
    "    return np.sqrt(mean_squared_error(y, ypr, squared=True))\n",
    "\n",
    "def MSE(y, ypr):\n",
    "    return np.mean((y-ypr)**2)"
   ]
  },
  {
   "attachments": {},
   "cell_type": "markdown",
   "metadata": {},
   "source": [
    "# Class Balanced\n"
   ]
  },
  {
   "cell_type": "code",
   "execution_count": 51,
   "metadata": {},
   "outputs": [
    {
     "name": "stdout",
     "output_type": "stream",
     "text": [
      "Baseline Accuracy is: 0.651\n"
     ]
    }
   ],
   "source": [
    "counts= df.Outcome.value_counts()\n",
    "\n",
    "baseline_accuracy = round(counts[0]/(counts[0]+counts[1]), 3)\n",
    "print(\"Baseline Accuracy is:\", baseline_accuracy)"
   ]
  },
  {
   "cell_type": "markdown",
   "metadata": {},
   "source": [
    "# R2"
   ]
  },
  {
   "cell_type": "code",
   "execution_count": 52,
   "metadata": {},
   "outputs": [
    {
     "data": {
      "text/plain": [
       "0.1731954662954871"
      ]
     },
     "execution_count": 52,
     "metadata": {},
     "output_type": "execute_result"
    }
   ],
   "source": [
    "def cal_r2(y, ypred):\n",
    "    RSS = np.sum((y - ypred) ** 2)\n",
    "    TSS = sum((y - np.mean(y))**2)\n",
    "    return 1 - RSS/TSS\n",
    "cal_r2(ytest, ypred)"
   ]
  },
  {
   "cell_type": "code",
   "execution_count": 53,
   "metadata": {},
   "outputs": [
    {
     "data": {
      "text/plain": [
       "0.1731954662954862"
      ]
     },
     "execution_count": 53,
     "metadata": {},
     "output_type": "execute_result"
    }
   ],
   "source": [
    "r2_score(ytest, ypred)"
   ]
  },
  {
   "attachments": {},
   "cell_type": "markdown",
   "metadata": {},
   "source": [
    "# Statistical Significance \n",
    "Group insignificant labels into two new statistically significant labels."
   ]
  },
  {
   "cell_type": "code",
   "execution_count": 54,
   "metadata": {},
   "outputs": [
    {
     "data": {
      "text/plain": [
       "aug    35.59\n",
       "sep    33.27\n",
       "mar    10.44\n",
       "jul     6.19\n",
       "feb     3.87\n",
       "jun     3.29\n",
       "oct     2.90\n",
       "apr     1.74\n",
       "dec     1.74\n",
       "jan     0.39\n",
       "may     0.39\n",
       "nov     0.19\n",
       "Name: month, dtype: float64"
      ]
     },
     "execution_count": 54,
     "metadata": {},
     "output_type": "execute_result"
    }
   ],
   "source": [
    "df = pd.read_csv('forestfires.csv')\n",
    "((df.month.value_counts()/df.month.value_counts().sum())*100).round(2)"
   ]
  },
  {
   "cell_type": "code",
   "execution_count": 55,
   "metadata": {},
   "outputs": [],
   "source": [
    "# Group insignificant labels into two new statistically significant labels.\n",
    "df.month.replace({'feb':'fj', 'jun':'fj'}, inplace=True)\n",
    "\n",
    "df.month.replace({'oct':'oadjmn', 'apr':'oadjmn', 'dec':'oadjmn', \n",
    "    'jan':'oadjmn', 'may':'oadjmn', \n",
    "    'nov':'oadjmn'}, inplace=True)"
   ]
  },
  {
   "cell_type": "code",
   "execution_count": 56,
   "metadata": {},
   "outputs": [
    {
     "data": {
      "text/plain": [
       "aug       35.59\n",
       "sep       33.27\n",
       "mar       10.44\n",
       "oadjmn     7.35\n",
       "fj         7.16\n",
       "jul        6.19\n",
       "Name: month, dtype: float64"
      ]
     },
     "execution_count": 56,
     "metadata": {},
     "output_type": "execute_result"
    }
   ],
   "source": [
    "((df.month.value_counts()/df.month.value_counts().sum())*100).round(2)"
   ]
  },
  {
   "attachments": {},
   "cell_type": "markdown",
   "metadata": {},
   "source": [
    "# Performance Mesurement\n",
    "\n",
    "- **TP = “True Positive”.** i.e. your classifier predicted 1; it was correct.\n",
    "- **FP = “False Positive”.** i.e. your classifier predicted 1; it was incorrect (Type I error).\n",
    "- **FN = “False Negative”.** i.e. your classifier predicted 0; it was incorrect (Type II error).\n",
    "- **TN = “True Negative”.** i.e. your classifier predicted 0; it was correct.\n"
   ]
  },
  {
   "cell_type": "code",
   "execution_count": 57,
   "metadata": {},
   "outputs": [],
   "source": [
    "def compute_performance(yhat, y, classes):\n",
    "    # First, get tp, tn, fp, fn\n",
    "    tp = sum(np.logical_and(yhat == classes[1], y == classes[1]))\n",
    "    tn = sum(np.logical_and(yhat == classes[0], y == classes[0]))\n",
    "    fp = sum(np.logical_and(yhat == classes[1], y == classes[0]))\n",
    "    fn = sum(np.logical_and(yhat == classes[0], y == classes[1]))\n",
    "    return tp, tn, fp, fn"
   ]
  },
  {
   "attachments": {},
   "cell_type": "markdown",
   "metadata": {},
   "source": [
    "## Confusion_matrix"
   ]
  },
  {
   "cell_type": "code",
   "execution_count": 58,
   "metadata": {},
   "outputs": [
    {
     "data": {
      "image/png": "[encoded data removed]",
      "text/plain": [
       "<Figure size 720x504 with 2 Axes>"
      ]
     },
     "metadata": {
      "needs_background": "light"
     },
     "output_type": "display_data"
    }
   ],
   "source": [
    "def get_confusion_matrix(ytest, ypred):\n",
    "    # Calculate confusion matrix\n",
    "    confusion_matrix_rf = confusion_matrix(y_true = ytest, y_pred = ypred)\n",
    "\n",
    "    # Turn matrix to percentages\n",
    "    confusion_matrix_rf = confusion_matrix_rf.astype('float') / confusion_matrix_rf.sum(axis=1)[:, np.newaxis]\n",
    "\n",
    "    # Turn to dataframe\n",
    "    df_cm = pd.DataFrame(confusion_matrix_rf, index=['Good', 'Bad'], columns=['Good', 'Bad'])\n",
    "\n",
    "    # Parameters of the image\n",
    "    figsize = (10,7)\n",
    "    fontsize=14\n",
    "\n",
    "    # Create image\n",
    "    fig = plt.figure(figsize=figsize)\n",
    "    heatmap = sns.heatmap(df_cm, annot=True, fmt='.2f')\n",
    "\n",
    "    # Make it nicer\n",
    "    heatmap.yaxis.set_ticklabels(heatmap.yaxis.get_ticklabels(), rotation=0,  ha='right', fontsize=fontsize)\n",
    "    heatmap.xaxis.set_ticklabels(heatmap.xaxis.get_ticklabels(), rotation=45, ha='right', fontsize=fontsize)\n",
    "\n",
    "    # Add labels\n",
    "    plt.ylabel('True label')\n",
    "    plt.xlabel('Predicted label')\n",
    "\n",
    "    # Plot!\n",
    "    plt.show()\n",
    "\n",
    "get_confusion_matrix(ytest, ypred)"
   ]
  },
  {
   "attachments": {},
   "cell_type": "markdown",
   "metadata": {},
   "source": [
    "## Measurement:\n",
    "\n",
    "- Precision: What percentage of all positive predictions were correct?\n",
    "  $$\n",
    "  Precision = \\frac{\\# \\ \\text{True Positive}}{\\#\\ \\text{Predicted Positive}}\n",
    "  $$\n",
    "- Recall: What percentage of all positive samples were recalled?\n",
    "\n",
    "$$\n",
    "Recall = \\frac{\\# \\ \\text{True Positive}}{\\# \\ \\text{Class Positive}}\n",
    "$$\n",
    "\n",
    "- F-Measure: A combined metric which accounts for precision and recall in a single measure.\n",
    "\n",
    "$$\n",
    "F-Measure = 2 * (\\frac{\\text{Precision} * \\text{Recall}}{\\text{Precision} + {Recall}})\n",
    "$$"
   ]
  },
  {
   "cell_type": "code",
   "execution_count": 59,
   "metadata": {},
   "outputs": [],
   "source": [
    "def compute_performance_2(yhat, y, classes):\n",
    "    # First, get tp, tn, fp, fn\n",
    "    tp = sum(np.logical_and(yhat == classes[1], y == classes[1]))\n",
    "    tn = sum(np.logical_and(yhat == classes[0], y == classes[0]))\n",
    "    fp = sum(np.logical_and(yhat == classes[1], y == classes[0]))\n",
    "    fn = sum(np.logical_and(yhat == classes[0], y == classes[1]))\n",
    "    \n",
    "    # Accuracy\n",
    "    acc = (tp + tn) / (tp + tn + fp + fn)\n",
    "    \n",
    "    # Recall\n",
    "    # \"Of all the + in the data, how many do I correctly label?\"\n",
    "    recall = tp / (tp + fn)    \n",
    "    \n",
    "    # Sensitivity\n",
    "    # \"Of all the + in the data, how many do I correctly label?\"\n",
    "    sensitivity = recall\n",
    "    \n",
    "    # Specificity\n",
    "    # \"Of all the - in the data, how many do I correctly label?\"\n",
    "    specificity = tn / (fp + tn)\n",
    "        \n",
    "    # print(\"Accuracy:\",round(acc,3),\"Recall:\",round(recall,3),\n",
    "    #       \"Sensitivity:\",round(sensitivity,3),\"Specificity:\",round(specificity,3))\n",
    "    return acc, recall, sensitivity, specificity"
   ]
  },
  {
   "attachments": {},
   "cell_type": "markdown",
   "metadata": {},
   "source": [
    "## Threshold"
   ]
  },
  {
   "cell_type": "code",
   "execution_count": 60,
   "metadata": {},
   "outputs": [
    {
     "name": "stdout",
     "output_type": "stream",
     "text": [
      "Acc: 0.81818\n"
     ]
    }
   ],
   "source": [
    "threshold = 0.6\n",
    "\n",
    "ytest_prob = model.predict_proba(Xtest)\n",
    "ypred = model.classes_[(ytest_prob[:,1]>threshold).astype(int)]\n",
    "tp, tn, fp, fn = compute_performance(ypred, ytest, model.classes_)\n",
    "Acc = (tp + tn) / (tp + tn + fp + fn)\n",
    "print(\"Acc: %.5f\" % Acc)"
   ]
  },
  {
   "attachments": {},
   "cell_type": "markdown",
   "metadata": {},
   "source": [
    "## ROC and AUC\n",
    "\n",
    "- If Area Under Receiver Operating\n",
    "  Characteristic Curve (AUROC) is\n",
    "  1, classifier is perfect\n",
    "- If AUROC is 0.5, classifier is no\n",
    "  better than random chance.\n",
    "- If AUROC is 0, classifier is\n",
    "  worst possible (TPR=0, FPR=1)"
   ]
  },
  {
   "cell_type": "code",
   "execution_count": 61,
   "metadata": {},
   "outputs": [
    {
     "data": {
      "image/png": "[encoded data removed]",
      "text/plain": [
       "<Figure size 432x288 with 1 Axes>"
      ]
     },
     "metadata": {
      "needs_background": "light"
     },
     "output_type": "display_data"
    }
   ],
   "source": [
    "fpr, tpr, _ = roc_curve(ytest, ytest_prob[:,1], pos_label=1)\n",
    "ax = sns.lineplot(x = fpr, y = tpr)"
   ]
  },
  {
   "cell_type": "code",
   "execution_count": 62,
   "metadata": {},
   "outputs": [
    {
     "name": "stdout",
     "output_type": "stream",
     "text": [
      "AUC: 0.8663750248558362\n"
     ]
    }
   ],
   "source": [
    "AUC = roc_auc_score(ytest, ytest_prob[:,1])\n",
    "print(\"AUC: \"+ str(AUC))"
   ]
  },
  {
   "cell_type": "code",
   "execution_count": 63,
   "metadata": {},
   "outputs": [
    {
     "name": "stdout",
     "output_type": "stream",
     "text": [
      "AUC: 0.8663750248558362\n"
     ]
    }
   ],
   "source": [
    "AUC = auc(fpr, tpr)\n",
    "print(\"AUC: \"+ str(AUC))"
   ]
  },
  {
   "attachments": {},
   "cell_type": "markdown",
   "metadata": {},
   "source": [
    "# Grid Search"
   ]
  },
  {
   "cell_type": "code",
   "execution_count": 64,
   "metadata": {},
   "outputs": [
    {
     "data": {
      "text/plain": [
       "GridSearchCV(cv=StratifiedKFold(n_splits=2, random_state=None, shuffle=False),\n",
       "             estimator=XGBRegressor(base_score=0.5, booster='gbtree',\n",
       "                                    callbacks=None, colsample_bylevel=1,\n",
       "                                    colsample_bynode=1, colsample_bytree=1,\n",
       "                                    early_stopping_rounds=None,\n",
       "                                    enable_categorical=False, eval_metric=None,\n",
       "                                    feature_types=None, gamma=0.001,\n",
       "                                    gpu_id=None, grow_policy=None,\n",
       "                                    importance_type=N...\n",
       "                                    max_cat_to_onehot=None, max_delta_step=None,\n",
       "                                    max_depth=None, max_leaves=None,\n",
       "                                    min_child_weight=None, missing=nan,\n",
       "                                    monotone_constraints=None, n_estimators=100,\n",
       "                                    n_jobs=-1, num_parallel_tree=None,\n",
       "                                    predictor=None, random_state=0, ...),\n",
       "             n_jobs=-1,\n",
       "             param_grid={'learning_rate': [0.01, 0.1, 0.2],\n",
       "                         'max_depth': [3, 4, 5, 6, 7],\n",
       "                         'n_estimators': [350, 400, 450, 500]},\n",
       "             refit=False, scoring='neg_mean_absolute_percentage_error')"
      ]
     },
     "execution_count": 64,
     "metadata": {},
     "output_type": "execute_result"
    }
   ],
   "source": [
    "XGB = XGBRegressor(verbosity=1, objective='reg:squarederror', booster='gbtree',       \n",
    "                    n_jobs=-1, gamma=0.001, subsample=0.632, colsample_bytree=1,           # Subsample ratio of columns when constructing each tree.\n",
    "                    colsample_bylevel=1, colsample_bynode=1, base_score=0.5,               # Global bias. Set to average of the target rate.\n",
    "                    random_state=0)\n",
    "\n",
    "param_grid = dict({\n",
    "    'learning_rate': [0.01, 0.1, 0.2],\n",
    "    'max_depth': [3, 4, 5, 6 ,7],\n",
    "    'n_estimators' : [350, 400, 450, 500]})\n",
    "\n",
    "df = pd.read_csv('energy_appliances_standard.csv')\n",
    "EnergyTrain,  EnergyTest = train_test_split(df, test_size = 0.3, random_state = 20201107)\n",
    "\n",
    "val_train = EnergyTrain.sample(frac = 0.6, random_state = 0)    # The seed.\n",
    "\n",
    "cv_object = StratifiedKFold(n_splits=2)\n",
    "\n",
    "GridXGB = GridSearchCV(XGB, param_grid, cv = cv_object,      # Cross-validation object.  \n",
    "                       scoring = 'neg_mean_absolute_percentage_error', n_jobs = -1,          # Parallel jobs. -1 is \"all you have\"\n",
    "                       refit = False, verbose = 0)\n",
    "val_y = val_train['Appliances']\n",
    "val_x = val_train.drop(\"Appliances\",axis=1)\n",
    "\n",
    "GridXGB.fit(val_x, val_y)"
   ]
  },
  {
   "cell_type": "code",
   "execution_count": 65,
   "metadata": {},
   "outputs": [
    {
     "data": {
      "text/plain": [
       "{'learning_rate': 0.1, 'max_depth': 7, 'n_estimators': 450}"
      ]
     },
     "execution_count": 65,
     "metadata": {},
     "output_type": "execute_result"
    }
   ],
   "source": [
    "GridXGB.best_params_"
   ]
  },
  {
   "attachments": {},
   "cell_type": "markdown",
   "metadata": {},
   "source": [
    "# One hot encoding VS Label encoding\n",
    "Label encoding and one hot encoding both can turn category into numeric variables\n",
    "In most scenarios, one hot encoding is the preferred way to convert a categorical variable into a numeric variable because label encoding makes it seem that there is a ranking between values."
   ]
  },
  {
   "cell_type": "code",
   "execution_count": 66,
   "metadata": {},
   "outputs": [
    {
     "data": {
      "text/html": [
       "<div>\n",
       "<style scoped>\n",
       "    .dataframe tbody tr th:only-of-type {\n",
       "        vertical-align: middle;\n",
       "    }\n",
       "\n",
       "    .dataframe tbody tr th {\n",
       "        vertical-align: top;\n",
       "    }\n",
       "\n",
       "    .dataframe thead th {\n",
       "        text-align: right;\n",
       "    }\n",
       "</style>\n",
       "<table border=\"1\" class=\"dataframe\">\n",
       "  <thead>\n",
       "    <tr style=\"text-align: right;\">\n",
       "      <th></th>\n",
       "      <th>age</th>\n",
       "      <th>height_cm</th>\n",
       "      <th>weight_kg</th>\n",
       "      <th>work_rate_att</th>\n",
       "      <th>overall</th>\n",
       "    </tr>\n",
       "  </thead>\n",
       "  <tbody>\n",
       "    <tr>\n",
       "      <th>0</th>\n",
       "      <td>20</td>\n",
       "      <td>175</td>\n",
       "      <td>70</td>\n",
       "      <td>Medium</td>\n",
       "      <td>58</td>\n",
       "    </tr>\n",
       "    <tr>\n",
       "      <th>1</th>\n",
       "      <td>29</td>\n",
       "      <td>183</td>\n",
       "      <td>80</td>\n",
       "      <td>High</td>\n",
       "      <td>65</td>\n",
       "    </tr>\n",
       "    <tr>\n",
       "      <th>2</th>\n",
       "      <td>35</td>\n",
       "      <td>183</td>\n",
       "      <td>78</td>\n",
       "      <td>High</td>\n",
       "      <td>67</td>\n",
       "    </tr>\n",
       "    <tr>\n",
       "      <th>3</th>\n",
       "      <td>24</td>\n",
       "      <td>178</td>\n",
       "      <td>72</td>\n",
       "      <td>Medium</td>\n",
       "      <td>69</td>\n",
       "    </tr>\n",
       "    <tr>\n",
       "      <th>4</th>\n",
       "      <td>23</td>\n",
       "      <td>173</td>\n",
       "      <td>73</td>\n",
       "      <td>Medium</td>\n",
       "      <td>70</td>\n",
       "    </tr>\n",
       "  </tbody>\n",
       "</table>\n",
       "</div>"
      ],
      "text/plain": [
       "   age  height_cm  weight_kg work_rate_att  overall\n",
       "0   20        175         70        Medium       58\n",
       "1   29        183         80          High       65\n",
       "2   35        183         78          High       67\n",
       "3   24        178         72        Medium       69\n",
       "4   23        173         73        Medium       70"
      ]
     },
     "execution_count": 66,
     "metadata": {},
     "output_type": "execute_result"
    }
   ],
   "source": [
    "data = pd.read_csv('footballer_reduced.csv')\n",
    "data.head(5)"
   ]
  },
  {
   "attachments": {},
   "cell_type": "markdown",
   "metadata": {},
   "source": [
    "## One hot encoding"
   ]
  },
  {
   "cell_type": "code",
   "execution_count": 67,
   "metadata": {},
   "outputs": [
    {
     "data": {
      "text/html": [
       "<div>\n",
       "<style scoped>\n",
       "    .dataframe tbody tr th:only-of-type {\n",
       "        vertical-align: middle;\n",
       "    }\n",
       "\n",
       "    .dataframe tbody tr th {\n",
       "        vertical-align: top;\n",
       "    }\n",
       "\n",
       "    .dataframe thead th {\n",
       "        text-align: right;\n",
       "    }\n",
       "</style>\n",
       "<table border=\"1\" class=\"dataframe\">\n",
       "  <thead>\n",
       "    <tr style=\"text-align: right;\">\n",
       "      <th></th>\n",
       "      <th>age</th>\n",
       "      <th>height_cm</th>\n",
       "      <th>weight_kg</th>\n",
       "      <th>overall</th>\n",
       "      <th>work_rate_att_Low</th>\n",
       "      <th>work_rate_att_Medium</th>\n",
       "    </tr>\n",
       "  </thead>\n",
       "  <tbody>\n",
       "    <tr>\n",
       "      <th>0</th>\n",
       "      <td>20</td>\n",
       "      <td>175</td>\n",
       "      <td>70</td>\n",
       "      <td>58</td>\n",
       "      <td>0</td>\n",
       "      <td>1</td>\n",
       "    </tr>\n",
       "    <tr>\n",
       "      <th>1</th>\n",
       "      <td>29</td>\n",
       "      <td>183</td>\n",
       "      <td>80</td>\n",
       "      <td>65</td>\n",
       "      <td>0</td>\n",
       "      <td>0</td>\n",
       "    </tr>\n",
       "    <tr>\n",
       "      <th>2</th>\n",
       "      <td>35</td>\n",
       "      <td>183</td>\n",
       "      <td>78</td>\n",
       "      <td>67</td>\n",
       "      <td>0</td>\n",
       "      <td>0</td>\n",
       "    </tr>\n",
       "    <tr>\n",
       "      <th>3</th>\n",
       "      <td>24</td>\n",
       "      <td>178</td>\n",
       "      <td>72</td>\n",
       "      <td>69</td>\n",
       "      <td>0</td>\n",
       "      <td>1</td>\n",
       "    </tr>\n",
       "    <tr>\n",
       "      <th>4</th>\n",
       "      <td>23</td>\n",
       "      <td>173</td>\n",
       "      <td>73</td>\n",
       "      <td>70</td>\n",
       "      <td>0</td>\n",
       "      <td>1</td>\n",
       "    </tr>\n",
       "  </tbody>\n",
       "</table>\n",
       "</div>"
      ],
      "text/plain": [
       "   age  height_cm  weight_kg  overall  work_rate_att_Low  work_rate_att_Medium\n",
       "0   20        175         70       58                  0                     1\n",
       "1   29        183         80       65                  0                     0\n",
       "2   35        183         78       67                  0                     0\n",
       "3   24        178         72       69                  0                     1\n",
       "4   23        173         73       70                  0                     1"
      ]
     },
     "execution_count": 67,
     "metadata": {},
     "output_type": "execute_result"
    }
   ],
   "source": [
    "data = pd.get_dummies(data, drop_first=True)\n",
    "data.head(5)"
   ]
  },
  {
   "attachments": {},
   "cell_type": "markdown",
   "metadata": {},
   "source": [
    "## Label encoding"
   ]
  },
  {
   "cell_type": "code",
   "execution_count": 68,
   "metadata": {},
   "outputs": [
    {
     "data": {
      "text/html": [
       "<div>\n",
       "<style scoped>\n",
       "    .dataframe tbody tr th:only-of-type {\n",
       "        vertical-align: middle;\n",
       "    }\n",
       "\n",
       "    .dataframe tbody tr th {\n",
       "        vertical-align: top;\n",
       "    }\n",
       "\n",
       "    .dataframe thead th {\n",
       "        text-align: right;\n",
       "    }\n",
       "</style>\n",
       "<table border=\"1\" class=\"dataframe\">\n",
       "  <thead>\n",
       "    <tr style=\"text-align: right;\">\n",
       "      <th></th>\n",
       "      <th>age</th>\n",
       "      <th>height_cm</th>\n",
       "      <th>weight_kg</th>\n",
       "      <th>work_rate_att</th>\n",
       "      <th>overall</th>\n",
       "    </tr>\n",
       "  </thead>\n",
       "  <tbody>\n",
       "    <tr>\n",
       "      <th>0</th>\n",
       "      <td>20</td>\n",
       "      <td>175</td>\n",
       "      <td>70</td>\n",
       "      <td>2</td>\n",
       "      <td>58</td>\n",
       "    </tr>\n",
       "    <tr>\n",
       "      <th>1</th>\n",
       "      <td>29</td>\n",
       "      <td>183</td>\n",
       "      <td>80</td>\n",
       "      <td>0</td>\n",
       "      <td>65</td>\n",
       "    </tr>\n",
       "    <tr>\n",
       "      <th>2</th>\n",
       "      <td>35</td>\n",
       "      <td>183</td>\n",
       "      <td>78</td>\n",
       "      <td>0</td>\n",
       "      <td>67</td>\n",
       "    </tr>\n",
       "    <tr>\n",
       "      <th>3</th>\n",
       "      <td>24</td>\n",
       "      <td>178</td>\n",
       "      <td>72</td>\n",
       "      <td>2</td>\n",
       "      <td>69</td>\n",
       "    </tr>\n",
       "    <tr>\n",
       "      <th>4</th>\n",
       "      <td>23</td>\n",
       "      <td>173</td>\n",
       "      <td>73</td>\n",
       "      <td>2</td>\n",
       "      <td>70</td>\n",
       "    </tr>\n",
       "  </tbody>\n",
       "</table>\n",
       "</div>"
      ],
      "text/plain": [
       "   age  height_cm  weight_kg  work_rate_att  overall\n",
       "0   20        175         70              2       58\n",
       "1   29        183         80              0       65\n",
       "2   35        183         78              0       67\n",
       "3   24        178         72              2       69\n",
       "4   23        173         73              2       70"
      ]
     },
     "execution_count": 68,
     "metadata": {},
     "output_type": "execute_result"
    }
   ],
   "source": [
    "data = pd.read_csv('footballer_reduced.csv')\n",
    "\n",
    "dataLE = data.copy()\n",
    "label_encoder = preprocessing.LabelEncoder()\n",
    "dataLE['work_rate_att']= label_encoder.fit_transform(data['work_rate_att'])\n",
    "dataLE.head(5)"
   ]
  },
  {
   "attachments": {},
   "cell_type": "markdown",
   "metadata": {},
   "source": [
    "# PipeLine"
   ]
  },
  {
   "cell_type": "code",
   "execution_count": 69,
   "metadata": {},
   "outputs": [],
   "source": [
    "M1 = Pipeline([\n",
    "    ('lr1', LinearRegression())\n",
    "])\n",
    "\n",
    "M2 = Pipeline([\n",
    "    ('poly', PolynomialFeatures(degree=2, include_bias=False)),\n",
    "    ('lr3', LinearRegression())\n",
    "])"
   ]
  },
  {
   "attachments": {},
   "cell_type": "markdown",
   "metadata": {},
   "source": [
    "## Custom Transformer\n",
    "\n",
    "`Temperature (temp)` and `Rain (rain)` may be important features, so let's extend model 1 by adding a *cubed* term for temp and a *squared* term for rain."
   ]
  },
  {
   "cell_type": "code",
   "execution_count": 70,
   "metadata": {},
   "outputs": [],
   "source": [
    "class KeyFeatures(BaseEstimator, TransformerMixin):\n",
    "    def fit(self, X, y=None):\n",
    "        return self\n",
    "\n",
    "    def transform(self, X, y=None):\n",
    "        X = X.assign(temp2 = X.temp**3)\n",
    "        X = X.assign(rain2 = X.rain**2)\n",
    "        return X\n",
    "\n",
    "# Create a pipeline for model 3 (M3) [ /8 marks]\n",
    "M3 = Pipeline([\n",
    "    ('temp_cubic_rain_square', KeyFeatures()),\n",
    "    ('lr2', LinearRegression())\n",
    "])"
   ]
  },
  {
   "attachments": {},
   "cell_type": "markdown",
   "metadata": {},
   "source": [
    "# K-flod cross-validation\n",
    "\n",
    "Model Choose  \n",
    "Choose the simplest model which has the lowest cross-validated training loss."
   ]
  },
  {
   "cell_type": "code",
   "execution_count": 71,
   "metadata": {},
   "outputs": [],
   "source": [
    "LR  = LinearRegression()\n",
    "\n",
    "# KFold cross-validated loss with shuffling\n",
    "kf = KFold(n_splits=5, shuffle=True, random_state=seed)\n",
    "cv_scores = cross_val_score(LR, Xtrain, ytrain, cv=kf, scoring=make_scorer(rmse))"
   ]
  },
  {
   "cell_type": "code",
   "execution_count": 72,
   "metadata": {},
   "outputs": [
    {
     "name": "stdout",
     "output_type": "stream",
     "text": [
      "[ 0  1  2  3  4  5  6  7  8  9 10 11 12 13 14 15 16 17 18 19] \n",
      "\n",
      "Train set: [ 4  5  6  7  8  9 10 11 12 13 14 15 16 17 18 19], Test set: [0 1 2 3]\n",
      "Train set: [ 0  1  2  3  8  9 10 11 12 13 14 15 16 17 18 19], Test set: [4 5 6 7]\n",
      "Train set: [ 0  1  2  3  4  5  6  7 12 13 14 15 16 17 18 19], Test set: [ 8  9 10 11]\n",
      "Train set: [ 0  1  2  3  4  5  6  7  8  9 10 11 16 17 18 19], Test set: [12 13 14 15]\n",
      "Train set: [ 0  1  2  3  4  5  6  7  8  9 10 11 12 13 14 15], Test set: [16 17 18 19]\n",
      "[ 1  2  3  4  5  6  7  8  9 10 11 12 13 14 15 16 17 18 19] [0]\n",
      "[ 0  2  3  4  5  6  7  8  9 10 11 12 13 14 15 16 17 18 19] [1]\n",
      "[ 0  1  3  4  5  6  7  8  9 10 11 12 13 14 15 16 17 18 19] [2]\n",
      "[ 0  1  2  4  5  6  7  8  9 10 11 12 13 14 15 16 17 18 19] [3]\n",
      "[ 0  1  2  3  5  6  7  8  9 10 11 12 13 14 15 16 17 18 19] [4]\n",
      "[ 0  1  2  3  4  6  7  8  9 10 11 12 13 14 15 16 17 18 19] [5]\n",
      "[ 0  1  2  3  4  5  7  8  9 10 11 12 13 14 15 16 17 18 19] [6]\n",
      "[ 0  1  2  3  4  5  6  8  9 10 11 12 13 14 15 16 17 18 19] [7]\n",
      "[ 0  1  2  3  4  5  6  7  9 10 11 12 13 14 15 16 17 18 19] [8]\n",
      "[ 0  1  2  3  4  5  6  7  8 10 11 12 13 14 15 16 17 18 19] [9]\n",
      "[ 0  1  2  3  4  5  6  7  8  9 11 12 13 14 15 16 17 18 19] [10]\n",
      "[ 0  1  2  3  4  5  6  7  8  9 10 12 13 14 15 16 17 18 19] [11]\n",
      "[ 0  1  2  3  4  5  6  7  8  9 10 11 13 14 15 16 17 18 19] [12]\n",
      "[ 0  1  2  3  4  5  6  7  8  9 10 11 12 14 15 16 17 18 19] [13]\n",
      "[ 0  1  2  3  4  5  6  7  8  9 10 11 12 13 15 16 17 18 19] [14]\n",
      "[ 0  1  2  3  4  5  6  7  8  9 10 11 12 13 14 16 17 18 19] [15]\n",
      "[ 0  1  2  3  4  5  6  7  8  9 10 11 12 13 14 15 17 18 19] [16]\n",
      "[ 0  1  2  3  4  5  6  7  8  9 10 11 12 13 14 15 16 18 19] [17]\n",
      "[ 0  1  2  3  4  5  6  7  8  9 10 11 12 13 14 15 16 17 19] [18]\n",
      "[ 0  1  2  3  4  5  6  7  8  9 10 11 12 13 14 15 16 17 18] [19]\n",
      "List of CV loss: [1.23521981e-01 3.32617964e-05 7.18150914e-02 4.85416703e-04\n",
      " 3.06850259e-02 4.48001804e-02 9.00013112e-01 3.78746431e-01\n",
      " 1.20840624e-01 1.06753686e+00 7.42606717e-02 2.45938153e-02\n",
      " 5.26571167e-01 1.84135540e-01 1.65077703e-01 3.34496014e-01\n",
      " 3.87636031e-01 5.51830258e-01 1.53177021e-01 5.04834020e-01\n",
      " 1.68055454e-01 1.30710345e-01 3.50227023e-03 4.27685999e-01\n",
      " 1.36376965e-01 2.94155884e-01 1.20547380e-01 5.53742405e-07\n",
      " 3.05082594e-01 1.09126178e-01 1.96723952e-01 2.10359779e-01\n",
      " 1.22181828e-04 1.29748633e-03 2.11923338e-01 4.72438621e-02\n",
      " 3.76115763e-01 3.45121220e-01 6.19419956e-01 2.30959820e-01\n",
      " 4.63222609e-01 3.84098959e-01 2.84305057e-02 1.10055502e-02\n",
      " 3.57147282e-01 1.37280423e-03 2.07963786e-01 1.35997484e-03\n",
      " 3.63924693e-01 4.17528764e-04 1.33841217e-03 1.21988004e-02\n",
      " 4.57989693e-03 5.86426485e-02 4.24611058e-01 1.45862298e-02\n",
      " 2.82583458e-02 1.37699976e-01 5.77520449e-01 5.47334748e-02\n",
      " 4.95723759e-02 2.45029264e-01 1.55630381e-02 1.39724509e-01\n",
      " 3.71560326e-01 2.73387042e-02 5.78754079e-01 2.10700432e-01\n",
      " 3.09893240e-03 1.32849769e-01 5.69049999e-01 1.70301989e-01\n",
      " 8.13806064e-02 9.51001547e-02 1.56204668e-05 3.00926472e-01\n",
      " 5.34186365e-03 7.54943380e-02 1.69136080e-01 1.95177554e-02\n",
      " 2.31831887e-02 9.73293488e-02 3.52000865e-02 2.33555026e-04\n",
      " 1.78982441e-01 6.31366784e-02 2.73733205e-01 5.68650360e-02\n",
      " 8.84732694e-02 6.90564874e-03 2.04687327e-02 1.02430952e-01\n",
      " 1.27614968e-01 4.11371902e-01 1.05727065e-01 2.61572024e-01\n",
      " 8.60279211e-03 2.61390525e-02 3.64328076e-02 3.27839301e-01\n",
      " 6.64738619e-02 1.25124425e-01 2.98892917e-03 4.83888085e-03\n",
      " 7.55604528e-02 9.85202642e-02 2.40532802e-02 2.08639659e-01\n",
      " 1.83666767e-02 8.16445064e-01 1.91570289e-01 1.29281048e-01\n",
      " 2.83249350e-04 1.16938241e-02 1.05431624e-01 2.26598798e-01\n",
      " 3.72269839e-01 4.37888752e-02 2.67211684e-02 6.64660200e-04\n",
      " 4.13390349e-02 1.16082047e-01 4.00618767e-02 1.72338734e-01\n",
      " 6.82682533e-01 2.90464513e-01 2.03109318e-01 6.74444654e-02\n",
      " 5.65229842e-01 6.51882173e-01 1.66725977e-01 1.53279819e-01\n",
      " 1.48001186e-01 1.02180812e-01 1.10797962e-03 9.52143351e-02\n",
      " 1.47060613e-02 3.64657676e-03 1.01579284e-01 5.62816040e-02\n",
      " 6.25194142e-02 1.27270897e-01 5.46964193e-02 3.46102205e-01\n",
      " 2.33499534e-01 8.52358515e-02 2.00158667e-03 1.25046417e-01\n",
      " 3.54910346e-01 7.72406515e-05 1.52149798e-01 4.13695192e-02\n",
      " 5.40858444e-02 2.59172717e-01 8.90399556e-05 4.20917499e-02\n",
      " 1.26974916e-02 3.16890319e-02 2.08578854e-05 4.37512140e-03\n",
      " 2.06463247e-01 1.24144619e-01 7.42834201e-02 1.86938844e-02\n",
      " 4.60565654e-01 4.99240755e-01 2.14638346e-01 1.35191120e-01\n",
      " 8.70216593e-02 2.85012835e-02 6.30146028e-01 2.47241132e-01\n",
      " 7.50762549e-02 5.33469414e-02 1.04694670e-04 3.35799216e-02\n",
      " 2.95142016e-02 1.38004320e-01 4.48230599e-01 1.77637039e-01\n",
      " 2.88516230e-06 1.01258095e-01 3.06018727e-01 4.29871245e-05\n",
      " 1.59262842e-01 5.36601942e-04 4.82759516e-02 3.76775960e-01\n",
      " 4.85201670e-01 3.65207895e-01 9.29051706e-03 2.39024079e-01\n",
      " 1.38137108e-01 3.28773775e-03 2.05577066e-02 1.51853765e-01\n",
      " 3.34610775e-03 7.23869576e-01 3.95355278e-01 3.44849432e-01\n",
      " 5.15945648e-02 1.90322908e-01 3.70788260e-02 3.94393895e-04\n",
      " 1.42901015e-01 3.65161749e-02 2.94520544e-04 1.45870911e-01\n",
      " 1.25444703e-02 3.37381954e-02 2.95385875e-05 2.70741540e-01\n",
      " 6.10195118e-01 2.58850157e-01 4.13315960e-01 2.52881775e-02\n",
      " 4.29465327e-01 1.48099305e-01 6.05732547e-01 3.59313797e-01\n",
      " 1.33332808e-01 1.49067049e-01 2.17611904e-01 3.75643856e-01\n",
      " 5.80115537e-03 8.54907704e-04 1.90916970e-02 9.04683493e-02\n",
      " 1.21127548e+00 1.05850005e-01 1.61752832e-01 1.80341892e-01\n",
      " 5.71322655e-03 1.53531109e-01 3.88284569e-04 4.58310391e-02\n",
      " 2.93784764e-02 6.69424022e-02 7.84152750e-02 2.37250500e-04\n",
      " 9.06177975e-04 2.41629721e-02 4.14482788e-01 2.90382100e-01\n",
      " 2.27953480e-01 5.19867891e-03 2.28731547e-01 4.15590609e-01\n",
      " 1.96156694e-01 1.14319843e-02 1.76712645e-01 5.77194262e-02\n",
      " 2.68034360e-03 5.90768058e-03 4.24202139e-01 5.36570548e-01\n",
      " 9.11518928e-02 2.78948818e-02 4.12984696e-01 1.91001468e-02\n",
      " 5.01347663e-01 1.49037120e-01 4.48845582e-02 2.46274341e-01\n",
      " 4.12034383e-01 1.17450015e-01 1.32117007e-01 3.18455560e-01\n",
      " 7.77260798e-04 2.36404189e-01 1.45298693e-01 7.25220034e-03\n",
      " 3.85568683e-02 1.50438702e-03 2.61957619e-01 1.01367290e-01\n",
      " 5.65911107e-01 8.25378462e-03 1.18436532e-01 2.49815250e-02\n",
      " 2.84461358e-01 2.95623925e-01 1.71230874e-01 1.68586636e-01\n",
      " 7.01571552e-01 2.29461755e-01 3.43398914e-01 3.23759704e-01\n",
      " 2.91337226e-03 1.01674364e-01 5.86355409e-05 5.11994218e-01\n",
      " 1.87873139e-01 2.81407723e-01 2.45746940e-01 4.24354188e-01\n",
      " 4.65413094e-01 4.37663656e-02 2.79514599e-01 1.59410440e-01\n",
      " 5.87383720e-02 3.26262024e-01 1.04496976e-02 2.55981796e-01\n",
      " 1.07028893e-01 1.17261434e-01 1.35676922e-01 3.24030022e-02\n",
      " 3.82936996e-01 3.96373805e-01 9.07639232e-03 6.72681594e-02\n",
      " 3.58594981e-01 8.76578124e-02 2.47358714e-01 6.00100874e-02\n",
      " 7.04016423e-04 1.30128517e-01 1.00764197e-01 8.07371454e-02\n",
      " 1.13935188e-01 6.20614252e-01 6.24908641e-01 1.07194140e-01\n",
      " 5.36258728e-02 1.05086208e-01 4.10079370e-01 7.27197305e-01\n",
      " 5.64293142e-01 5.99428129e-02 2.48557878e-01 6.99352589e-03\n",
      " 2.21610869e-03 8.18243163e-02 3.62543644e-05 4.29753835e-01\n",
      " 3.10676632e-01 4.51048583e-01 9.50558720e-02 2.86283313e-02\n",
      " 5.17169077e-02 6.98814465e-03 2.09652753e-01 1.30992631e-01\n",
      " 1.75581641e-01 2.81936877e-01 1.65405910e-01 8.97026852e-02\n",
      " 1.37711070e-03 1.63329995e+00 6.73179545e-02 1.40721941e-01\n",
      " 3.58591047e-05 3.34389085e-03 7.04383194e-02 1.05372133e-01\n",
      " 3.39205164e-01 8.86337206e-03 1.54383503e-01 4.15112361e-02\n",
      " 6.92257024e-02 3.85338577e-01 1.26044737e-01 1.11262907e-01\n",
      " 2.28552173e-01 9.13009587e-02 4.51837842e-01 1.05648322e-03\n",
      " 3.13861280e-03 5.26742619e-01 2.36203336e-02 5.69204786e-05\n",
      " 9.13902597e-03 5.06594488e-02 1.95705224e-01 7.69985158e-02\n",
      " 1.81561242e-03 2.56778127e-02 7.20734221e-02 7.69933715e-02\n",
      " 4.61447058e-02 9.23423864e-04 2.99752035e-02 1.78122634e-02\n",
      " 2.19165142e-02 1.62278342e-02 3.81789990e-01 3.30608478e-01\n",
      " 2.51401365e-01 6.93044228e-02 3.05285516e-02 4.96567699e-02\n",
      " 2.23556601e-02 3.69057635e-02 1.49309428e-01 1.89477926e-01\n",
      " 4.01855982e-02 4.79337999e-01 4.64006934e-03 6.20341302e-02\n",
      " 6.95836916e-01 1.84512410e-01 3.10190841e-01 1.96838031e-02\n",
      " 1.19391907e-01 2.34665686e-01 4.95294987e-01 2.07704862e-05\n",
      " 5.86564944e-03 1.16585421e-01 1.01049004e-01 5.49539085e-02\n",
      " 3.03627877e-01 7.55198672e-02 3.75537386e-01 2.36817620e-01\n",
      " 2.77006167e-02 1.75722240e-01 9.54668963e-03 5.50469918e-01\n",
      " 1.49967815e-01 3.19483562e-03 6.84594419e-02 6.15933948e-02\n",
      " 7.48579261e-02 9.06801507e-02 4.03023355e-02 1.17419922e-01\n",
      " 1.28227204e-01 7.91633603e-01 2.14442129e-02 1.77707300e-02\n",
      " 7.81408283e-05 7.66780355e-02 1.69660865e-02 1.31838928e-01\n",
      " 4.58435963e-01 2.31501809e-01 1.06306627e-02 1.42523934e-01\n",
      " 1.25751167e-01 5.91357017e-03 8.52299839e-02 3.46381743e-01\n",
      " 4.83379535e-01 7.00176760e-02 7.36380176e-03 1.28467204e-02\n",
      " 6.71770519e-01 3.61747180e-02 1.22706747e-02 4.41127617e-01\n",
      " 2.09085588e-02 2.39030167e-01 7.66549863e-02 9.23821898e-03\n",
      " 2.18556881e-01 1.16936707e-02 5.15663918e-02 3.44899530e-01\n",
      " 1.44553618e-01 1.97433463e-02 6.72621663e-02 8.80926648e-03\n",
      " 1.36615551e-01 2.07022429e-02 5.93543001e-03 4.03732740e-02\n",
      " 2.17341287e-01 5.66724554e-01 3.01562730e-01 1.06044432e-01\n",
      " 9.77206517e-02 1.99784895e-01 4.82473194e-02 1.04333539e-01\n",
      " 6.12904290e-01 5.62487499e-02 1.21799087e-01 1.75747824e-01\n",
      " 2.17237171e-01 6.16727668e-02 6.07229875e-03 1.23991759e-03\n",
      " 5.97051735e-02 3.36128224e-01 1.99391103e-01 8.23880059e-01\n",
      " 1.11135073e-02 7.96343078e-01 2.66407185e-02 1.13738482e-02\n",
      " 4.22519531e-02 3.02264797e-01 5.90396498e-02 4.36405171e-01\n",
      " 4.35298063e-02 1.05017028e-03 5.93329881e-02 3.55714078e-01\n",
      " 9.18042207e-03 2.20399108e-02 1.41328936e+00 1.19883125e-01\n",
      " 5.58080505e-02 3.48722003e-02 1.54785182e-01 9.39030455e-02\n",
      " 2.53828540e-02 1.62855651e-01 5.25514070e-01 2.85561832e-02\n",
      " 4.67720938e-02 6.15597313e-03 6.47510068e-03 2.28257733e-01\n",
      " 1.51886254e-01 2.60731819e-01 8.87161690e-02 7.58178142e-02\n",
      " 2.47757682e-02 8.46111934e-02 1.76648253e-03 1.58672716e-01\n",
      " 1.01310297e-01 2.57354563e-05 6.50143462e-03 1.77149009e-02\n",
      " 3.79315198e-02 2.46581301e-02 9.75741363e-02 1.38335680e-01\n",
      " 7.82764757e-02 1.34100383e-01 3.13235729e-02 2.11661433e-01\n",
      " 1.01737889e-02 7.86187048e-03 1.16108443e-01 3.13243824e-01\n",
      " 3.31879778e-01 4.27574978e-01 3.43610040e-01 1.49977169e-02\n",
      " 2.53530693e-03 4.81229365e-02 2.11593625e-04 1.26410560e-01\n",
      " 3.20584993e-01 4.68603619e-01 2.05747311e-02 1.15781035e-02\n",
      " 1.03795071e-01 3.30616628e-03 1.68298640e-02 8.31114897e-02\n",
      " 4.03649591e-02 1.17888193e-01 3.37597272e-01 5.81098739e-02\n",
      " 3.19997539e-01 3.54872031e-02 1.82708170e-02 4.97822099e-02\n",
      " 7.65030981e-03 1.54265987e-02 4.59426106e-02 4.44586484e-02\n",
      " 2.67687789e-01 5.63247723e-01 6.32148748e-03 1.65514230e-02\n",
      " 5.72783773e-02 2.42469218e-02 1.24180327e-01 1.19285383e-01\n",
      " 1.01012437e-01 3.40129840e-01 2.24017346e-01 9.18135650e-03\n",
      " 2.53097019e-01 4.53191392e-02 2.38544278e-01 1.44414118e-01\n",
      " 4.19366016e-01 3.00754104e-05 1.68904599e-01 2.59103350e-02\n",
      " 5.31959079e-02 7.25387314e-04 8.46665633e-02 6.95123045e-02\n",
      " 3.25906107e-01 5.42931135e-02 1.93940435e-01 1.49463975e-01\n",
      " 1.38731097e-02 2.04458606e-02 1.49658309e-01 1.94392441e-02\n",
      " 7.23755175e-03 6.68650518e-02 3.89035713e-02 9.87781699e-02\n",
      " 3.68863035e-02 1.39128703e-01 4.87948482e-02 1.78820675e-03\n",
      " 2.26969156e-01 2.23096204e-03 4.00867375e-02 9.82482939e-02\n",
      " 6.13498626e-02 1.15376148e-01 1.00087807e-01 1.23337880e-02\n",
      " 4.95190052e-02 3.70415682e-02 2.57986586e-01 4.24674297e-01\n",
      " 6.10687022e-02 4.29042167e-02 1.06934418e+00 4.27373602e-02\n",
      " 2.71304196e-02 3.37594995e-02 1.99312852e-02 8.42344722e-02\n",
      " 1.76872333e-01 1.68321652e-03 3.94950780e-01 1.29117797e-02\n",
      " 2.66091664e-02 2.04043309e-02 4.13357647e-02 3.20474418e-01\n",
      " 4.99856095e-02 1.75192636e-02 3.30742249e-01 4.51282207e-03\n",
      " 9.00279509e-03 1.50120881e-01 2.52342674e-01 9.59007225e-02\n",
      " 2.94243560e-02 2.49574512e-01 3.40332448e-01 9.76188645e-02\n",
      " 2.69310608e-01 5.40473236e-03 3.85219747e-05 8.50737881e-02\n",
      " 1.32195596e-01 7.06181650e-02 2.05037250e-02 2.61655439e-01\n",
      " 7.11120575e-05 2.13083266e-01 3.18529032e-01 6.64102108e-01\n",
      " 4.32715402e-01 3.04053521e-05 1.24037139e-01 9.93834506e-02\n",
      " 3.61346718e-01 3.36254661e-02 2.14194373e-01 4.43845533e-01\n",
      " 9.87020167e-02 3.64986635e-01 5.36381274e-01 8.48330167e-03\n",
      " 1.95238214e-02 3.90212614e-01 1.62221063e-01 4.13718111e-02\n",
      " 2.01582184e-01 1.68031292e-02 4.10991407e-01 5.88669196e-03\n",
      " 3.61341811e-02 8.55478358e-02 6.29235777e-02 4.15647028e-01\n",
      " 2.08226551e-02 1.14905770e-01 5.74999535e-02 2.71655427e-02\n",
      " 8.89875595e-02 1.78628819e-01 9.12551742e-02 4.34207551e-02\n",
      " 1.92849720e-01 1.90200937e-01 2.24764307e-04 4.16071220e-01\n",
      " 2.20882836e-01 2.60462683e-02 1.36582561e-01 3.16732654e-01\n",
      " 1.00056759e-01 3.53723843e-01 9.71225378e-02 3.99196853e-01\n",
      " 2.32351828e-02 3.63443814e-02 7.85490241e-01 1.01344523e-01\n",
      " 9.51153179e-02 6.03326725e-01 2.05660804e-01 1.41494519e-01\n",
      " 1.00391455e-01 4.55188804e-02 1.75037612e-02 1.62574860e-02\n",
      " 9.49889048e-02 8.24720161e-02 5.61035038e-02 4.79149973e-01\n",
      " 2.14691322e-03 6.80579854e-02 3.39865626e-01 1.54966770e-01\n",
      " 3.93602213e-02 1.40494005e-01 6.82489071e-02 1.17167015e-01\n",
      " 1.89034365e-01 7.80816933e-03 4.96012923e-01 5.14331523e-01\n",
      " 6.71152252e-02 2.68182438e-02 2.75927518e-02 5.81875268e-02\n",
      " 2.85341638e-02 2.40311675e-02 4.62225467e-02 5.39206654e-01\n",
      " 1.06979593e-01 5.34431134e-02 1.59955742e-02 1.63228266e-01\n",
      " 8.60164747e-01 1.36799123e-01 1.64325896e-01 1.11079829e-01\n",
      " 6.07093972e-02 1.94438149e-01 2.42331883e-01 1.05011408e-01\n",
      " 2.24366737e-02 1.67368926e-01 1.18991927e-01 3.17664505e-01\n",
      " 2.36335080e-01 4.21317599e-01 4.52298051e-02 1.92194361e-02\n",
      " 1.47432395e-02 5.78373381e-03 1.44810166e-02 1.46001854e-01\n",
      " 1.29741534e-01 5.92768804e-02 4.36141422e-01 4.69001590e-03]\n",
      "Average CV loss: 0.163 +/- 0.195\n"
     ]
    }
   ],
   "source": [
    "# Define Kfold crossvalidation \n",
    "x = np.arange(20)\n",
    "print(x,'\\n')\n",
    "kf = KFold(n_splits=5, shuffle=False)\n",
    "# Shuffle = True : random test set\n",
    "for train, test in kf.split(x):\n",
    "    print(\"Train set: %s, Test set: %s\" % (train, test))\n",
    "\n",
    "# Leave One Out crossvalidation when dataset is too small\n",
    "x=np.arange(20)\n",
    "loo = LeaveOneOut()\n",
    "for train,test in loo.split(x):\n",
    "    print(\"%s %s\" % (train, test))\n",
    "\n",
    "\n",
    "sc = make_scorer(MSE) \n",
    "\n",
    "# KFold cross-validated loss without shuffling\n",
    "kf = KFold(n_splits=5, shuffle=False, random_state=None)\n",
    "cv_scores = cross_val_score(LinearRegression(), Xtrain, ytrain, cv=kf, scoring=sc)\n",
    "\n",
    "# KFold cross-validated loss with shuffling\n",
    "kf = KFold(n_splits=5, shuffle=True, random_state=seed)\n",
    "cv_scores = cross_val_score(LinearRegression(), Xtrain, ytrain, cv=kf, scoring=sc)\n",
    "\n",
    "# Leave One Out cross-validated loss\n",
    "kf = LeaveOneOut()\n",
    "cv_scores = cross_val_score(LinearRegression(), X, y, cv=kf, scoring=sc) \n",
    "# for Leave One Out you use the full data set\n",
    "\n",
    "print(f'List of CV loss:', cv_scores)\n",
    "print(f\"Average CV loss: %.3f +/- %.3f\" % (cv_scores.mean(), cv_scores.std()))"
   ]
  },
  {
   "attachments": {},
   "cell_type": "markdown",
   "metadata": {},
   "source": [
    "# Learning Curve"
   ]
  },
  {
   "cell_type": "code",
   "execution_count": 73,
   "metadata": {},
   "outputs": [
    {
     "data": {
      "image/png": "[encoded data removed]",
      "text/plain": [
       "<Figure size 432x288 with 1 Axes>"
      ]
     },
     "metadata": {
      "needs_background": "light"
     },
     "output_type": "display_data"
    }
   ],
   "source": [
    "def plot_learning_curves(model, X, y):\n",
    "    X_train, X_val, y_train, y_val = train_test_split(X, y, test_size=0.2, random_state=10)\n",
    "    train_errors, val_errors = [], []\n",
    "    for m in range(1, len(X_train) + 1):\n",
    "        model.fit(X_train[:m], y_train[:m])\n",
    "        y_train_predict = model.predict(X_train[:m])\n",
    "        y_val_predict = model.predict(X_val)\n",
    "        train_errors.append(mean_squared_error(y_train[:m], y_train_predict))\n",
    "        val_errors.append(mean_squared_error(y_val, y_val_predict))\n",
    "\n",
    "    plt.plot(np.sqrt(train_errors), \"r-+\", linewidth=2, label=\"train\")\n",
    "    plt.plot(np.sqrt(val_errors), \"b-\", linewidth=3, label=\"val\")\n",
    "    plt.legend(loc=\"upper right\", fontsize=14)\n",
    "    plt.xlabel(\"Training set size\", fontsize=14)\n",
    "    plt.ylabel(\"RMSE\", fontsize=14)    \n",
    "\n",
    "polynomial_regression = Pipeline([\n",
    "        (\"poly_features\", PolynomialFeatures(degree=2, include_bias=False)), # play with degree\n",
    "        (\"lin_reg\", LinearRegression()),\n",
    "    ])\n",
    "\n",
    "plot_learning_curves(polynomial_regression, X, y)\n",
    "plt.show()                   "
   ]
  },
  {
   "attachments": {},
   "cell_type": "markdown",
   "metadata": {},
   "source": [
    "# Gradient Descent"
   ]
  },
  {
   "cell_type": "markdown",
   "metadata": {},
   "source": [
    "## Batch Gradient Descent"
   ]
  },
  {
   "cell_type": "code",
   "execution_count": 74,
   "metadata": {},
   "outputs": [],
   "source": [
    "np.random.seed(42)\n",
    "X = 2 * np.random.rand(100, 1) \n",
    "X_b = np.c_[np.ones((100, 1)), X]\n",
    "\n",
    "X_new = np.array([[0], [2]])\n",
    "X_new_b = np.c_[np.ones((2, 1)), X_new]\n",
    "\n",
    "y = 4 + 3 * X + np.random.randn(100, 1)"
   ]
  },
  {
   "cell_type": "code",
   "execution_count": 75,
   "metadata": {},
   "outputs": [],
   "source": [
    "eta = 0.1  # learning rate\n",
    "n_iterations = 1000\n",
    "m = len(X_b)\n",
    "\n",
    "theta = np.random.randn(2,1)  # random initialization\n",
    "\n",
    "for iteration in range(n_iterations):\n",
    "    gradients = 2/m * X_b.T.dot(X_b.dot(theta) - y)\n",
    "    theta = theta - eta * gradients"
   ]
  },
  {
   "cell_type": "code",
   "execution_count": 76,
   "metadata": {},
   "outputs": [],
   "source": [
    "def plot_gradient_descent(theta, eta, theta_path=None):\n",
    "    m = len(X_b)\n",
    "    plt.plot(X, y, \"b.\")\n",
    "    n_iterations = 1000\n",
    "    for iteration in range(n_iterations):\n",
    "        if iteration < 10:\n",
    "            y_predict = X_new_b.dot(theta)\n",
    "            style = \"b-\" if iteration > 0 else \"r--\"\n",
    "            plt.plot(X_new, y_predict, style)\n",
    "        gradients = 2/m * X_b.T.dot(X_b.dot(theta) - y)\n",
    "        theta = theta - eta * gradients\n",
    "        if theta_path is not None:\n",
    "            theta_path.append(theta)\n",
    "    plt.xlabel(\"$x_1$\", fontsize=18)\n",
    "    plt.axis([0, 2, 0, 15])\n",
    "    plt.title(r\"$\\eta = {}$\".format(eta), fontsize=16)"
   ]
  },
  {
   "cell_type": "code",
   "execution_count": 77,
   "metadata": {},
   "outputs": [
    {
     "data": {
      "image/png": "[encoded data removed]",
      "text/plain": [
       "<Figure size 720x288 with 3 Axes>"
      ]
     },
     "metadata": {
      "needs_background": "light"
     },
     "output_type": "display_data"
    }
   ],
   "source": [
    "np.random.seed(42)\n",
    "theta = np.random.randn(2,1)  # random initialization\n",
    "\n",
    "plt.figure(figsize=(10,4))\n",
    "plt.subplot(131); plot_gradient_descent(theta, eta=0.02); plt.ylabel(\"$y$\", rotation=0, fontsize=18)\n",
    "plt.subplot(132); plot_gradient_descent(theta, eta=0.10)\n",
    "plt.subplot(133); plot_gradient_descent(theta, eta=0.50)\n",
    "\n",
    "plt.show()"
   ]
  },
  {
   "cell_type": "markdown",
   "metadata": {},
   "source": [
    "## Stochastic Gradient Descent:\n",
    "In practice, the N could be very large, therefore, computing the loss could be very expensive.\n",
    "\n",
    "Therefore we sample some small set of data examples as minibatch and use the minibatch to estimate the true gradient.\n",
    "\n",
    "We want to gradually reduce the learning rate. The steps start out large (which helps make quick progress and escape local minima), then get smaller and smaller. The \"learning schedule\" determines the learning rate at each iteration."
   ]
  },
  {
   "cell_type": "code",
   "execution_count": 78,
   "metadata": {},
   "outputs": [
    {
     "data": {
      "image/png": "[encoded data removed]",
      "text/plain": [
       "<Figure size 432x288 with 1 Axes>"
      ]
     },
     "metadata": {
      "needs_background": "light"
     },
     "output_type": "display_data"
    }
   ],
   "source": [
    "m = len(X_b)\n",
    "np.random.seed(42)\n",
    "n_epochs = 50\n",
    "\n",
    "t0, t1 = 5, 50  # learning schedule hyperparameters\n",
    "def learning_schedule(t):\n",
    "    return t0 / (t + t1)\n",
    "\n",
    "theta = np.random.randn(2,1)  # random initialization\n",
    "\n",
    "for epoch in range(n_epochs):\n",
    "    for i in range(m):\n",
    "        if epoch == 0 and i < 20:                    \n",
    "            y_predict = X_new_b.dot(theta)           \n",
    "            style = \"b-\" if i > 0 else \"r--\"         \n",
    "            plt.plot(X_new, y_predict, style)        \n",
    "        random_index = np.random.randint(m)\n",
    "        xi = X_b[random_index:random_index+1]\n",
    "        yi = y[random_index:random_index+1]\n",
    "        gradients = 2 * xi.T.dot(xi.dot(theta) - yi)\n",
    "        eta = learning_schedule(epoch * m + i)\n",
    "        theta = theta - eta * gradients  \n",
    "\n",
    "sgd_reg = SGDRegressor(max_iter=1000, tol=1e-3, eta0=0.1, random_state=42) \n",
    "sgd_reg.fit(X, y.ravel()) # \"ravel\" to flatten the array\n",
    "sgd_reg.intercept_, sgd_reg.coef_\n",
    "score = sgd_reg.score(X, y.ravel())"
   ]
  },
  {
   "attachments": {},
   "cell_type": "markdown",
   "metadata": {},
   "source": [
    "# Mini-Batch Gradient Descent"
   ]
  },
  {
   "cell_type": "code",
   "execution_count": 79,
   "metadata": {},
   "outputs": [],
   "source": [
    "n_iterations = 50\n",
    "minibatch_size = 20\n",
    "\n",
    "np.random.seed(42)\n",
    "theta = np.random.randn(2,1)  # random initialization\n",
    "\n",
    "t0, t1 = 200, 1000\n",
    "def learning_schedule(t):\n",
    "    return t0 / (t + t1)\n",
    "\n",
    "t = 0\n",
    "for epoch in range(n_iterations):\n",
    "    shuffled_indices = np.random.permutation(m)\n",
    "    X_b_shuffled = X_b[shuffled_indices]\n",
    "    y_shuffled = y[shuffled_indices]\n",
    "    for i in range(0, m, minibatch_size):\n",
    "        t += 1\n",
    "        xi = X_b_shuffled[i:i+minibatch_size]\n",
    "        yi = y_shuffled[i:i+minibatch_size]\n",
    "        gradients = 2/minibatch_size * xi.T.dot(xi.dot(theta) - yi)\n",
    "        eta = learning_schedule(t)\n",
    "        theta = theta - eta * gradients"
   ]
  }
 ],
 "metadata": {
  "kernelspec": {
   "display_name": "Python 3.9.12 ('base')",
   "language": "python",
   "name": "python3"
  },
  "language_info": {
   "codemirror_mode": {
    "name": "ipython",
    "version": 3
   },
   "file_extension": ".py",
   "mimetype": "text/x-python",
   "name": "python",
   "nbconvert_exporter": "python",
   "pygments_lexer": "ipython3",
   "version": "3.9.12"
  },
  "orig_nbformat": 4,
  "vscode": {
   "interpreter": {
    "hash": "9dbd6522d963e110ce680ef8bbf2ac9e45451014885da3f564eb257b1470d2af"
   }
  }
 },
 "nbformat": 4,
 "nbformat_minor": 2
}
