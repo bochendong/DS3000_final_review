{
 "cells": [
  {
   "cell_type": "code",
   "execution_count": 3,
   "metadata": {},
   "outputs": [],
   "source": [
    "import pandas as pd\n",
    "import numpy as np\n",
    "import matplotlib.pyplot as plt \n",
    "import seaborn as sns\n",
    "from sklearn.metrics import roc_curve, precision_recall_curve, auc\n",
    "from sklearn.linear_model import LogisticRegression\n",
    "from sklearn.model_selection import GridSearchCV, train_test_split\n",
    "from sklearn.metrics import mean_squared_error"
   ]
  },
  {
   "cell_type": "code",
   "execution_count": 4,
   "metadata": {},
   "outputs": [],
   "source": [
    "df = pd.read_csv('diabetes.csv')\n",
    "df.head(5)\n",
    "\n",
    "X = X = df.iloc[:,0:8].values\n",
    "y = df.Outcome.values\n",
    "\n",
    "Xtrain, Xtest, ytrain, ytest = train_test_split(X, y, test_size=0.2, random_state=0)\n",
    "model = LogisticRegression(penalty='none', max_iter=10000)\n",
    "model.fit(Xtrain, ytrain)\n",
    "ypred = model.predict(Xtest)\n",
    "\n",
    "ytest_prob = model.predict_proba(Xtest)"
   ]
  },
  {
   "cell_type": "markdown",
   "metadata": {},
   "source": [
    "# R2"
   ]
  },
  {
   "cell_type": "code",
   "execution_count": 5,
   "metadata": {},
   "outputs": [],
   "source": [
    "def cal_r2(y, ypred):\n",
    "    RSS = np.sum((y - ypred) ** 2)\n",
    "    TSS = sum((y - np.mean(y))**2)\n",
    "    return 1 - RSS/TSS"
   ]
  },
  {
   "cell_type": "markdown",
   "metadata": {},
   "source": [
    "# Performance\n",
    "\n",
    "- **TP = “True Positive”.** i.e. your classifier predicted 1; it was correct.\n",
    "- **FP = “False Positive”.** i.e. your classifier predicted 1; it was incorrect (Type I error).\n",
    "- **FN = “False Negative”.** i.e. your classifier predicted 0; it was incorrect (Type II error).\n",
    "- **TN = “True Negative”.** i.e. your classifier predicted 0; it was correct.\n",
    "\n",
    "## Measurement:\n",
    "\n",
    "- Precision: What percentage of all positive predictions were correct?\n",
    "  $$\n",
    "  Precision = \\frac{\\# \\ \\text{True Positive}}{\\#\\ \\text{Predicted Positive}}\n",
    "  $$\n",
    "- Recall: What percentage of all positive samples were recalled?\n",
    "\n",
    "$$\n",
    "Recall = \\frac{\\# \\ \\text{True Positive}}{\\# \\ \\text{Class Positive}}\n",
    "$$\n",
    "\n",
    "- F-Measure: A combined metric which accounts for precision and recall in a single measure.\n",
    "\n",
    "$$\n",
    "F-Measure = 2 * (\\frac{\\text{Precision} * \\text{Recall}}{\\text{Precision} + {Recall}})\n",
    "$$\n"
   ]
  },
  {
   "cell_type": "code",
   "execution_count": 6,
   "metadata": {},
   "outputs": [
    {
     "name": "stdout",
     "output_type": "stream",
     "text": [
      "Acc: 0.82468\n"
     ]
    }
   ],
   "source": [
    "def compute_performance(ypred, ytest, classes):\n",
    "    tp = sum(np.logical_and(ypred == classes[1], ytest == classes[1]))\n",
    "    tn = sum(np.logical_and(ypred == classes[0], ytest == classes[0]))\n",
    "    fp = sum(np.logical_and(ypred == classes[1], ytest == classes[0]))\n",
    "    fn = sum(np.logical_and(ypred == classes[0], ytest == classes[1]))\n",
    "\n",
    "    return tp, tn, fp, fn\n",
    "\n",
    "tp, tn, fp, fn = compute_performance(ypred, ytest, model.classes_)\n",
    "Acc = (tp + tn) / (tp + tn + fp + fn)\n",
    "print(\"Acc: %.5f\" % Acc)\n",
    "\n",
    "def compute_performance_2(yhat, y, classes):\n",
    "    # First, get tp, tn, fp, fn\n",
    "    tp = sum(np.logical_and(yhat == classes[1], y == classes[1]))\n",
    "    tn = sum(np.logical_and(yhat == classes[0], y == classes[0]))\n",
    "    fp = sum(np.logical_and(yhat == classes[1], y == classes[0]))\n",
    "    fn = sum(np.logical_and(yhat == classes[0], y == classes[1]))\n",
    "\n",
    "    # print(f\"tp: {tp} tn: {tn} fp: {fp} fn: {fn}\")\n",
    "    \n",
    "    # Accuracy\n",
    "    acc = (tp + tn) / (tp + tn + fp + fn)\n",
    "    \n",
    "    # Recall\n",
    "    # \"Of all the + in the data, how many do I correctly label?\"\n",
    "    recall = tp / (tp + fn)    \n",
    "    \n",
    "    # Sensitivity\n",
    "    # \"Of all the + in the data, how many do I correctly label?\"\n",
    "    sensitivity = recall\n",
    "    \n",
    "    # Specificity\n",
    "    # \"Of all the - in the data, how many do I correctly label?\"\n",
    "    specificity = tn / (fp + tn)\n",
    "        \n",
    "    # print(\"Accuracy:\",round(acc,3),\"Recall:\",round(recall,3),\n",
    "    #       \"Sensitivity:\",round(sensitivity,3),\"Specificity:\",round(specificity,3))\n",
    "    return acc, recall, sensitivity, specificity"
   ]
  },
  {
   "cell_type": "markdown",
   "metadata": {},
   "source": [
    "# Threshold"
   ]
  },
  {
   "cell_type": "code",
   "execution_count": 7,
   "metadata": {},
   "outputs": [
    {
     "name": "stdout",
     "output_type": "stream",
     "text": [
      "Acc: 0.81818\n"
     ]
    }
   ],
   "source": [
    "threshold = 0.6\n",
    "\n",
    "ytest_prob = model.predict_proba(Xtest)\n",
    "ypred = model.classes_[(ytest_prob[:,1]>threshold).astype(int)]\n",
    "tp, tn, fp, fn = compute_performance(ypred, ytest, model.classes_)\n",
    "Acc = (tp + tn) / (tp + tn + fp + fn)\n",
    "print(\"Acc: %.5f\" % Acc)"
   ]
  },
  {
   "cell_type": "markdown",
   "metadata": {},
   "source": [
    "# ROC and AUC\n",
    "\n",
    "- If Area Under Receiver Operating\n",
    "  Characteristic Curve (AUROC) is\n",
    "  1, classifier is perfect\n",
    "- If AUROC is 0.5, classifier is no\n",
    "  better than random chance.\n",
    "- If AUROC is 0, classifier is\n",
    "  worst possible (TPR=0, FPR=1)"
   ]
  },
  {
   "cell_type": "code",
   "execution_count": 8,
   "metadata": {},
   "outputs": [
    {
     "name": "stdout",
     "output_type": "stream",
     "text": [
      "classifier (all feature): 0.8665738715450387\n"
     ]
    },
    {
     "data": {
      "image/png": "[encoded data removed]",
      "text/plain": [
       "<Figure size 640x480 with 1 Axes>"
      ]
     },
     "metadata": {},
     "output_type": "display_data"
    }
   ],
   "source": [
    "fpr, tpr, _ = roc_curve(ytest, ytest_prob[:,1], pos_label=1)\n",
    "ax = sns.lineplot(x = fpr, y = tpr)\n",
    "\n",
    "AUC = auc(fpr, tpr)\n",
    "print(\"classifier (all feature): \"+ str(AUC))"
   ]
  },
  {
   "cell_type": "markdown",
   "metadata": {},
   "source": [
    "# Class Balanced"
   ]
  },
  {
   "cell_type": "code",
   "execution_count": 9,
   "metadata": {},
   "outputs": [
    {
     "name": "stdout",
     "output_type": "stream",
     "text": [
      "Baseline Accuracy is: 0.651\n"
     ]
    }
   ],
   "source": [
    "df = pd.read_csv('diabetes.csv')\n",
    "counts= df.Outcome.value_counts()\n",
    "\n",
    "baseline_accuracy = round(counts[0]/(counts[0]+counts[1]), 3)\n",
    "print(\"Baseline Accuracy is:\", baseline_accuracy)"
   ]
  },
  {
   "cell_type": "markdown",
   "metadata": {},
   "source": [
    "# Learning Curve"
   ]
  },
  {
   "cell_type": "code",
   "execution_count": null,
   "metadata": {},
   "outputs": [],
   "source": [
    "def plot_learning_curves(model, X, y):\n",
    "    X_train, X_val, y_train, y_val = train_test_split(X, y, test_size=0.2, random_state=10)\n",
    "    train_errors, val_errors = [], []\n",
    "    for m in range(1, len(X_train) + 1):\n",
    "        model.fit(X_train[:m], y_train[:m])\n",
    "        y_train_predict = model.predict(X_train[:m])\n",
    "        y_val_predict = model.predict(X_val)\n",
    "        train_errors.append(mean_squared_error(y_train[:m], y_train_predict))\n",
    "        val_errors.append(mean_squared_error(y_val, y_val_predict))\n",
    "\n",
    "    plt.plot(np.sqrt(train_errors), \"r-+\", linewidth=2, label=\"train\")\n",
    "    plt.plot(np.sqrt(val_errors), \"b-\", linewidth=3, label=\"val\")\n",
    "    plt.legend(loc=\"upper right\", fontsize=14)\n",
    "    plt.xlabel(\"Training set size\", fontsize=14)\n",
    "    plt.ylabel(\"RMSE\", fontsize=14)              "
   ]
  },
  {
   "cell_type": "markdown",
   "metadata": {},
   "source": []
  }
 ],
 "metadata": {
  "kernelspec": {
   "display_name": "Python 3.10.6 64-bit",
   "language": "python",
   "name": "python3"
  },
  "language_info": {
   "codemirror_mode": {
    "name": "ipython",
    "version": 3
   },
   "file_extension": ".py",
   "mimetype": "text/x-python",
   "name": "python",
   "nbconvert_exporter": "python",
   "pygments_lexer": "ipython3",
   "version": "3.10.6"
  },
  "orig_nbformat": 4,
  "vscode": {
   "interpreter": {
    "hash": "aee8b7b246df8f9039afb4144a1f6fd8d2ca17a180786b69acc140d282b71a49"
   }
  }
 },
 "nbformat": 4,
 "nbformat_minor": 2
}
