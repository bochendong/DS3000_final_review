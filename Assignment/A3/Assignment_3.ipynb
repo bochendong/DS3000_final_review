{
 "cells": [
  {
   "cell_type": "markdown",
   "metadata": {},
   "source": [
    "# Grade: /100 Mark(s)\n",
    "\n",
    "# Assignment 03: Maximum Likelihood\n",
    "\n",
    "\n",
    "### Maximum Likelihood\n",
    "\n",
    "The poisson distribution https://en.wikipedia.org/wiki/Poisson_distribution is a discrete probability distribution often used to describe count-based data, like how many snowflakes fall in a day.\n",
    "\n",
    "If we have count data $y$ that are influenced by a covariate or feature $x$, we can use the maximum likelihood principle to develop a regression model that estimates the mean of $Y$ given $X = x$.\n",
    "\n",
    "### Follow These Instructions\n",
    "\n",
    "Once you are finished, ensure to complete the following steps.\n",
    "\n",
    "1.  Restart your kernel by clicking 'Kernel' > 'Restart & Run All'.\n",
    "\n",
    "2.  Fix any errors which result from this.\n",
    "\n",
    "3.  Repeat steps 1. and 2. until your notebook runs without errors.\n",
    "\n",
    "4.  Submit your completed notebook to OWL by the deadline.\n"
   ]
  },
  {
   "cell_type": "code",
   "execution_count": 56,
   "metadata": {},
   "outputs": [],
   "source": [
    "#Packages for this assignment\n",
    "import numpy as np\n",
    "import matplotlib.pyplot as plt\n",
    "import pandas as pd\n",
    "from scipy.optimize import minimize\n",
    "from scipy.special import gammaln\n",
    "from sklearn import linear_model"
   ]
  },
  {
   "cell_type": "markdown",
   "metadata": {},
   "source": [
    "### Question 1: /10 Marks\n",
    "\n",
    "The negative log likelihood for a Poisson random variable is\n",
    "\n",
    "$$\\ell(\\lambda; \\mathbf{y}) = -\\sum_{i=1}^N\\Bigg(   y_{i}\\cdot \\ln(\\lambda) - \\lambda - \\ln(y_i!) \\Bigg)$$\n",
    "\n",
    "Here, $\\mathbf{y}$ is a vector of counts and $\\lambda$ is a scalar value.\n",
    "\n",
    "Write a function called `poissonNegLogLikelihood` that takes a vector of counts $\\mathbf{y}$ and a parameter $\\lambda$ and returns the negative log likelihood.  The $\\sum_{i} \\ln(y!)$ does not affect the location of the maximum, and so you can omit the $ \\ln(y!)$ in your function.\n",
    "\n",
    "Test your function by calling it with `lam = 1.3` and `y=np.array([2,1,0,0])`.\n",
    "\n",
    "What happens when you call the function when `lam=np.array([1,0.5,1,3])` and  `y=np.array([2,1,0,0])`? \n",
    "\n",
    "Answer the following below in markdown: What happens when you set an element of lam to 0 or a negative number and why? \n"
   ]
  },
  {
   "cell_type": "markdown",
   "metadata": {},
   "source": [
    "#### Written Answer:\n",
    "\n",
    "When we set lam equals to 0 or negative, the $\\ln(\\lambda)$ is then undefined, so the output value is nan"
   ]
  },
  {
   "cell_type": "code",
   "execution_count": 57,
   "metadata": {},
   "outputs": [
    {
     "name": "stdout",
     "output_type": "stream",
     "text": [
      "4.412907206597527\n",
      "6.193147180559945\n"
     ]
    }
   ],
   "source": [
    "def poissonNegLogLikelihood(lam,y):\n",
    "    \n",
    "    # Read up on the gamma function to make sure you get the likelihood right!\n",
    "    neg_log_lik = - np.sum(y * np.log(lam) - lam)\n",
    "    return neg_log_lik\n",
    "\n",
    "test_val = poissonNegLogLikelihood(1.3, np.array([2,1,0,0]))\n",
    "test_val_2 = poissonNegLogLikelihood(np.array([1,0.5,1,3]), np.array([2,1,0,0]))\n",
    "print(test_val)\n",
    "print(test_val_2)"
   ]
  },
  {
   "cell_type": "markdown",
   "metadata": {},
   "source": [
    "---\n",
    "\n",
    "### Question 2: /10 Marks\n",
    "\n",
    "Write a function called `poissonRegressionNegLogLikelihood` that takes as arguments a vector $\\mathbf{y}$ of counts, a design matrix $\\mathbf{X}$ of features for each count, and a vector $\\mathbf{\\beta}$ of parameters. The function should return the negative log likelihood of this dataset, assuming that each element of  $\\mathbf{y}$ is independent and Poisson distributed with parameter $\\lambda = \\exp(\\mathbf{X}\\beta)$.\n",
    "\n",
    "Hint: You can use `poissonNegLogLikelihood` in this answer!\n",
    "Test your function by calling it with \n",
    "* `b=np.array([1,2])`\n",
    "* `X=np.array([[1,2,3],[2,3,1]]).T`\n",
    "* `y=np.array([0,2,10])`\n"
   ]
  },
  {
   "cell_type": "code",
   "execution_count": 58,
   "metadata": {},
   "outputs": [
    {
     "name": "stdout",
     "output_type": "stream",
     "text": [
      "3211.7843052468816\n"
     ]
    }
   ],
   "source": [
    "def poissonRegressionNegLogLikelihood(b, X, y):\n",
    "    #Enter the expression for lambda as shown above!\n",
    "    lam = np.exp(np.dot(X, b))\n",
    "    # Use poissonNegLogLikelihood to compute the likelihood\n",
    "    neg_log_lik = poissonNegLogLikelihood(lam,y)\n",
    "    return neg_log_lik\n",
    "\n",
    "b = np.array([1,2])\n",
    "X = np.array([[1,2,3],[2,3,1]]).T\n",
    "y = np.array([0,2,10])\n",
    "test_val = poissonRegressionNegLogLikelihood(b, X, y)\n",
    "print(test_val)"
   ]
  },
  {
   "cell_type": "markdown",
   "metadata": {},
   "source": [
    "### Question 3: /10 Marks\n",
    "\n",
    "a) In `poissonRegressionNegLogLikelihood`, why did we apply the exponential function to $\\mathbf{X}\\beta$?  Hint: Can an exponential ever be negative?\n",
    "\n",
    "b) What might have happened had we just passed $\\lambda = \\mathbf{X}\\beta$?\n",
    "\n",
    "Answer parts a) and b) below in this cell.  Write no more than 2 sentences per answer! \n",
    "\n",
    "---\n",
    "\n",
    "\n",
    "a) We need to avoid the value to be negative.\n",
    "\n",
    "b) A negative lambda will let the result be nan."
   ]
  },
  {
   "cell_type": "markdown",
   "metadata": {},
   "source": [
    "### Question 4: /5 Marks\n",
    "\n",
    "Write a function called `modelPrediction` which accepts as its first argument a vector of coefficents $\\beta$ and a design matrix $\\mathbf{X}$.  The function should return predictions of the form $\\widehat{\\mathbf{y}} = \\exp(\\mathbf{X}\\beta)$. \n",
    "\n",
    "Hint: Numpy implements the exponential using `np.exp`.  \n",
    "\n",
    "Test your function by calling it with \n",
    "* `b=np.array([1,2])`\n",
    "* `X=np.array([[1,2,3],[2,3,1]]).T`"
   ]
  },
  {
   "cell_type": "code",
   "execution_count": 59,
   "metadata": {},
   "outputs": [
    {
     "data": {
      "text/plain": [
       "array([ 148.4131591 , 2980.95798704,  148.4131591 ])"
      ]
     },
     "execution_count": 59,
     "metadata": {},
     "output_type": "execute_result"
    }
   ],
   "source": [
    "def modelPrediction(b,X):\n",
    "    yhat = np.exp(np.dot(X, b))\n",
    "    return yhat\n",
    "\n",
    "b=np.array([1,2])\n",
    "X=np.array([[1,2,3],[2,3,1]]).T\n",
    "modelPrediction(b, X)"
   ]
  },
  {
   "cell_type": "markdown",
   "metadata": {},
   "source": [
    "### Question 5: /15 Marks\n",
    "\n",
    "Write a function called `fitModel` which accepts as its first argument argument a design matrix $\\mathbf{X}$ and as its second argument a vector of outcomes counts $\\mathbf{y}$. The function should return the maximum likelihood estimates for the coefficients of a Poisson regression of $\\mathbf{y}$ onto $\\mathbf{X}$.\n",
    "\n",
    "Test your function by calling it with \n",
    "* `X=np.array([[1,2,3],[2,3,1]]).T`\n",
    "* `y=np.array([0,2,10])`\n",
    "\n",
    "What is your estimated b? "
   ]
  },
  {
   "cell_type": "code",
   "execution_count": 60,
   "metadata": {},
   "outputs": [
    {
     "data": {
      "text/plain": [
       "array([ 0.94827555, -0.52953518])"
      ]
     },
     "execution_count": 60,
     "metadata": {},
     "output_type": "execute_result"
    }
   ],
   "source": [
    "def fitModel(X,y):\n",
    "\n",
    "    # Instantiate a guess for the betas, beta_start, so that the optimizer has somewhere to start\n",
    "    # Keep in mind what shape the beta_start should be. It shoud have the same number of elements as X as columns\n",
    "    beta_start = np.zeros(X.shape[1])\n",
    "    # Minimize the appropriate likelihood function\n",
    "    mle = minimize(poissonRegressionNegLogLikelihood, beta_start, args=(X,y), method=\"Powell\", tol=1e-8)\n",
    "    # Extract the maximum likelihood estimates from the optimizer.\n",
    "    betas = mle.x\n",
    "    return betas\n",
    "\n",
    "# Write code to show your estimated b.\n",
    "X=np.array([[1,2,3],[2,3,1]]).T\n",
    "y=np.array([0,2,10])\n",
    "fitModel(X,y)"
   ]
  },
  {
   "cell_type": "markdown",
   "metadata": {},
   "source": [
    "### Question 6: /15 Mark(s)\n",
    "\n",
    "Load in the data from `poisson_regression_data.csv`. Plot a scatterplot of the data. Fit a poisson regression to this data using the functions you wrote above.  Plot the model predictions over $x \\in [-2,2]$ on the same graph as the scatterplot of the data.  "
   ]
  },
  {
   "cell_type": "code",
   "execution_count": 61,
   "metadata": {},
   "outputs": [
    {
     "data": {
      "text/plain": [
       "[<matplotlib.lines.Line2D at 0x16ec128f0>]"
      ]
     },
     "execution_count": 61,
     "metadata": {},
     "output_type": "execute_result"
    },
    {
     "data": {
      "image/png": "[encoded data removed]",
      "text/plain": [
       "<Figure size 768x576 with 1 Axes>"
      ]
     },
     "metadata": {},
     "output_type": "display_data"
    }
   ],
   "source": [
    "# Loading in the data.  \n",
    "df = pd.read_csv(\"poisson_regression_data.csv\")\n",
    "\n",
    "fig, ax = plt.subplots(dpi = 120)\n",
    "\n",
    "# Scatterplot the data. \n",
    "\n",
    "# Fit the model.  Use your functions.  \n",
    "x = df.x.values \n",
    "X = np.transpose(np.concatenate([[np.ones(len(df))], [x]]))\n",
    "y= df.y.values\n",
    "\n",
    "# Find the maximum likelihood estimates for the coefficients for this data\n",
    "betas = fitModel(X, y)\n",
    "\n",
    "# Make predictions on new data\n",
    "newx = np.linspace(-2,2,1001)\n",
    "newX = np.c_[np.ones(newx.size), newx]\n",
    "\n",
    "# Make predictions on the new data\n",
    "y_predicted = modelPrediction (betas, newX)\n",
    "\n",
    "#Finally, plot the predictions on the same axis and color the predictions red\n",
    "x = df.x.values \n",
    "y= df.y.values\n",
    "ax.scatter(x, y)\n",
    "ax.plot(newx, y_predicted)\n"
   ]
  },
  {
   "cell_type": "markdown",
   "metadata": {},
   "source": [
    "### Question 7: /20 Mark(s)\n",
    "We wish to do an experiment to determine if ants search for food using a random search or directed search method. To help design the experiment we first will run some simulations. In the experiment, ants are placed inside a 50 mm $\\times$ 50 mm box. They cannot climb the wall, but can escape through an opening of size 5 mm in the wall. Repeated measurements of how far an ant travels in 1 second show an average speed of 2 mm per second. Our simulation needs to determine the probability that an ant escapes the box in 600 seconds (hint: so your main iteration would look like `for t in range(600):`) if their motion is indeed random. Assume the ant is always initially placed in the center of the box and simulate a simple random walk in 2D on discrete time in this fashion: Have the ant live on a discrete lattice. The ant takes 2 mm to the left if a random number $u$ satisfies $u < 0.25$. The ant moves 2 mm to the right if $0.25 \\leq u < 0.5$, the ant moves 2 mm up if $0.5 \\leq u < 0.75$, and 2 mm down if $0.75 \\leq u \\leq 1.0$. $u$ is distributed uniformly between 0 and 1 (hint: use `np.random.uniform(low=0.0, high=1)` to generate it). If a step would take the ant into a wall, repeat the step until it is successful (result is still one time-step). With `attempts = np.linspace(10, 1000, 19)`, run your main iteration under the loop `for M in attempts:` and construct a dataframe with columns for number of attempts (i.e. `M`), number of escapes, and probability of escape for every `M`. Your dataframe would eventually look something like this with 19 rows and real values:\n",
    "attempts | escapes| probability\n",
    "|---|---|---|\n",
    "|10|x1|y1|\n",
    "|65|x2|y2|\n",
    "|...|...|...|\n",
    "|1000|x19|y19|"
   ]
  },
  {
   "cell_type": "code",
   "execution_count": 62,
   "metadata": {},
   "outputs": [
    {
     "data": {
      "text/html": [
       "<div>\n",
       "<style scoped>\n",
       "    .dataframe tbody tr th:only-of-type {\n",
       "        vertical-align: middle;\n",
       "    }\n",
       "\n",
       "    .dataframe tbody tr th {\n",
       "        vertical-align: top;\n",
       "    }\n",
       "\n",
       "    .dataframe thead th {\n",
       "        text-align: right;\n",
       "    }\n",
       "</style>\n",
       "<table border=\"1\" class=\"dataframe\">\n",
       "  <thead>\n",
       "    <tr style=\"text-align: right;\">\n",
       "      <th></th>\n",
       "      <th>attempts</th>\n",
       "      <th>escapes</th>\n",
       "      <th>probability</th>\n",
       "    </tr>\n",
       "  </thead>\n",
       "  <tbody>\n",
       "    <tr>\n",
       "      <th>0</th>\n",
       "      <td>10.0</td>\n",
       "      <td>1</td>\n",
       "      <td>0.100000</td>\n",
       "    </tr>\n",
       "    <tr>\n",
       "      <th>1</th>\n",
       "      <td>65.0</td>\n",
       "      <td>4</td>\n",
       "      <td>0.061538</td>\n",
       "    </tr>\n",
       "    <tr>\n",
       "      <th>2</th>\n",
       "      <td>120.0</td>\n",
       "      <td>9</td>\n",
       "      <td>0.075000</td>\n",
       "    </tr>\n",
       "    <tr>\n",
       "      <th>3</th>\n",
       "      <td>175.0</td>\n",
       "      <td>14</td>\n",
       "      <td>0.080000</td>\n",
       "    </tr>\n",
       "    <tr>\n",
       "      <th>4</th>\n",
       "      <td>230.0</td>\n",
       "      <td>18</td>\n",
       "      <td>0.078261</td>\n",
       "    </tr>\n",
       "  </tbody>\n",
       "</table>\n",
       "</div>"
      ],
      "text/plain": [
       "   attempts  escapes  probability\n",
       "0      10.0        1     0.100000\n",
       "1      65.0        4     0.061538\n",
       "2     120.0        9     0.075000\n",
       "3     175.0       14     0.080000\n",
       "4     230.0       18     0.078261"
      ]
     },
     "execution_count": 62,
     "metadata": {},
     "output_type": "execute_result"
    }
   ],
   "source": [
    "attempts = np.linspace(10, 1000, 19)\n",
    "x    = 50       # box size in x-direction\n",
    "y    = 50       # box size in y-direction\n",
    "time = 600      # in seconds\n",
    "\n",
    "# coordinate of one arbitrary opening of size 5 mm:\n",
    "### your stuff\n",
    "x_bound = 0\n",
    "y_left_bound = 10\n",
    "y_right_bound = 15\n",
    "\n",
    "# distance in millimeters that the ant travels per second\n",
    "delta  = 2\n",
    "\n",
    "### your stuff\n",
    "escapes = []\n",
    "for M in attempts:\n",
    "    escape = 0\n",
    "    for trial in range(int(M)):\n",
    "        ### your stuff\n",
    "        curX, curY = 25, 25 # it will be always placed on the center\n",
    "        for t in range(time):\n",
    "            action = np.random.uniform(low = 0.0, high = 1)\n",
    "            if (action < 0.25):                     # move left\n",
    "                curX -=  delta\n",
    "            if (action >= 0.25 and action < 0.5):   # move right\n",
    "                curX +=  delta\n",
    "            elif (action >= 0.5 and action < 0.75): # move up\n",
    "                curY -= delta\n",
    "            else:                                   # move down\n",
    "                curY += delta\n",
    "\n",
    "            if (curX >= 25): curX = 25\n",
    "            if (curX <= 0): curX = 0\n",
    "            if (curY >= 25): curY = 25\n",
    "            if (curY <= 0): curY = 0\n",
    "            if (curX == x_bound and curY >= y_left_bound and curY <= y_right_bound):\n",
    "                escape += 1\n",
    "                break\n",
    "    escapes.append(escape)\n",
    "\n",
    "escapes = np.array(escapes)\n",
    "df_attempts = pd.DataFrame(attempts, columns=['attempts'])\n",
    "df_escapes = pd.DataFrame(escapes, columns=['escapes'])\n",
    "df_probability = pd.DataFrame(escapes / attempts, columns=['probability'])   \n",
    "\n",
    "ant = pd.concat([df_attempts, df_escapes, df_probability], axis=1)\n",
    "ant.head()"
   ]
  },
  {
   "cell_type": "markdown",
   "metadata": {},
   "source": [
    "### Question 8: /5 Mark(s)\n",
    "Explore the dataframe created in the previous step. Do you see any trend in probability? What value for probability would you report if you are asked what is the probability of the escape event? "
   ]
  },
  {
   "cell_type": "code",
   "execution_count": 63,
   "metadata": {},
   "outputs": [
    {
     "data": {
      "text/html": [
       "<div>\n",
       "<style scoped>\n",
       "    .dataframe tbody tr th:only-of-type {\n",
       "        vertical-align: middle;\n",
       "    }\n",
       "\n",
       "    .dataframe tbody tr th {\n",
       "        vertical-align: top;\n",
       "    }\n",
       "\n",
       "    .dataframe thead th {\n",
       "        text-align: right;\n",
       "    }\n",
       "</style>\n",
       "<table border=\"1\" class=\"dataframe\">\n",
       "  <thead>\n",
       "    <tr style=\"text-align: right;\">\n",
       "      <th></th>\n",
       "      <th>attempts</th>\n",
       "      <th>escapes</th>\n",
       "      <th>probability</th>\n",
       "    </tr>\n",
       "  </thead>\n",
       "  <tbody>\n",
       "    <tr>\n",
       "      <th>0</th>\n",
       "      <td>10.0</td>\n",
       "      <td>1</td>\n",
       "      <td>0.100000</td>\n",
       "    </tr>\n",
       "    <tr>\n",
       "      <th>1</th>\n",
       "      <td>65.0</td>\n",
       "      <td>4</td>\n",
       "      <td>0.061538</td>\n",
       "    </tr>\n",
       "    <tr>\n",
       "      <th>2</th>\n",
       "      <td>120.0</td>\n",
       "      <td>9</td>\n",
       "      <td>0.075000</td>\n",
       "    </tr>\n",
       "    <tr>\n",
       "      <th>3</th>\n",
       "      <td>175.0</td>\n",
       "      <td>14</td>\n",
       "      <td>0.080000</td>\n",
       "    </tr>\n",
       "    <tr>\n",
       "      <th>4</th>\n",
       "      <td>230.0</td>\n",
       "      <td>18</td>\n",
       "      <td>0.078261</td>\n",
       "    </tr>\n",
       "    <tr>\n",
       "      <th>5</th>\n",
       "      <td>285.0</td>\n",
       "      <td>25</td>\n",
       "      <td>0.087719</td>\n",
       "    </tr>\n",
       "    <tr>\n",
       "      <th>6</th>\n",
       "      <td>340.0</td>\n",
       "      <td>31</td>\n",
       "      <td>0.091176</td>\n",
       "    </tr>\n",
       "    <tr>\n",
       "      <th>7</th>\n",
       "      <td>395.0</td>\n",
       "      <td>35</td>\n",
       "      <td>0.088608</td>\n",
       "    </tr>\n",
       "    <tr>\n",
       "      <th>8</th>\n",
       "      <td>450.0</td>\n",
       "      <td>47</td>\n",
       "      <td>0.104444</td>\n",
       "    </tr>\n",
       "    <tr>\n",
       "      <th>9</th>\n",
       "      <td>505.0</td>\n",
       "      <td>57</td>\n",
       "      <td>0.112871</td>\n",
       "    </tr>\n",
       "    <tr>\n",
       "      <th>10</th>\n",
       "      <td>560.0</td>\n",
       "      <td>43</td>\n",
       "      <td>0.076786</td>\n",
       "    </tr>\n",
       "    <tr>\n",
       "      <th>11</th>\n",
       "      <td>615.0</td>\n",
       "      <td>62</td>\n",
       "      <td>0.100813</td>\n",
       "    </tr>\n",
       "    <tr>\n",
       "      <th>12</th>\n",
       "      <td>670.0</td>\n",
       "      <td>56</td>\n",
       "      <td>0.083582</td>\n",
       "    </tr>\n",
       "    <tr>\n",
       "      <th>13</th>\n",
       "      <td>725.0</td>\n",
       "      <td>65</td>\n",
       "      <td>0.089655</td>\n",
       "    </tr>\n",
       "    <tr>\n",
       "      <th>14</th>\n",
       "      <td>780.0</td>\n",
       "      <td>80</td>\n",
       "      <td>0.102564</td>\n",
       "    </tr>\n",
       "    <tr>\n",
       "      <th>15</th>\n",
       "      <td>835.0</td>\n",
       "      <td>66</td>\n",
       "      <td>0.079042</td>\n",
       "    </tr>\n",
       "    <tr>\n",
       "      <th>16</th>\n",
       "      <td>890.0</td>\n",
       "      <td>82</td>\n",
       "      <td>0.092135</td>\n",
       "    </tr>\n",
       "    <tr>\n",
       "      <th>17</th>\n",
       "      <td>945.0</td>\n",
       "      <td>81</td>\n",
       "      <td>0.085714</td>\n",
       "    </tr>\n",
       "    <tr>\n",
       "      <th>18</th>\n",
       "      <td>1000.0</td>\n",
       "      <td>90</td>\n",
       "      <td>0.090000</td>\n",
       "    </tr>\n",
       "  </tbody>\n",
       "</table>\n",
       "</div>"
      ],
      "text/plain": [
       "    attempts  escapes  probability\n",
       "0       10.0        1     0.100000\n",
       "1       65.0        4     0.061538\n",
       "2      120.0        9     0.075000\n",
       "3      175.0       14     0.080000\n",
       "4      230.0       18     0.078261\n",
       "5      285.0       25     0.087719\n",
       "6      340.0       31     0.091176\n",
       "7      395.0       35     0.088608\n",
       "8      450.0       47     0.104444\n",
       "9      505.0       57     0.112871\n",
       "10     560.0       43     0.076786\n",
       "11     615.0       62     0.100813\n",
       "12     670.0       56     0.083582\n",
       "13     725.0       65     0.089655\n",
       "14     780.0       80     0.102564\n",
       "15     835.0       66     0.079042\n",
       "16     890.0       82     0.092135\n",
       "17     945.0       81     0.085714\n",
       "18    1000.0       90     0.090000"
      ]
     },
     "execution_count": 63,
     "metadata": {},
     "output_type": "execute_result"
    }
   ],
   "source": [
    "ant"
   ]
  },
  {
   "cell_type": "markdown",
   "metadata": {},
   "source": [
    "#### Written Answer:\n",
    "\n",
    "Yes, the probability seems to converge around 0.08 to 0.10, so I will report the probability as 0.09"
   ]
  },
  {
   "cell_type": "markdown",
   "metadata": {},
   "source": [
    "### Question 9: /10 Mark(s)\n",
    "Now scatter plot `attempts` versus `escapes` and use what you have learned so far to apply linear regression (ordinary least squares) to the data, and plot the predictions over the same range. Report your fit coefficients and compare them against your answer to the previous question and report what you witness and explain why?"
   ]
  },
  {
   "cell_type": "code",
   "execution_count": 64,
   "metadata": {},
   "outputs": [
    {
     "name": "stdout",
     "output_type": "stream",
     "text": [
      "[0.         0.09043062]\n"
     ]
    },
    {
     "data": {
      "image/png": "[encoded data removed]",
      "text/plain": [
       "<Figure size 640x480 with 1 Axes>"
      ]
     },
     "metadata": {},
     "output_type": "display_data"
    }
   ],
   "source": [
    "### your stuff\n",
    "x = ant['attempts']\n",
    "X = np.transpose(np.concatenate([[np.ones(len(ant))], [x]]))\n",
    "\n",
    "y = ant['escapes']\n",
    "\n",
    "leg = linear_model.LinearRegression().fit(X, y)\n",
    "\n",
    "newx = np.linspace(0, 1000, 100)\n",
    "newX = np.c_[np.ones(newx.size), newx]\n",
    "y_pred = leg.predict(newX)\n",
    "\n",
    "plt.plot(newX[:,1], y_pred, color='red', linestyle='--')\n",
    "plt.scatter(x, y)\n",
    "\n",
    "print(leg.coef_)"
   ]
  },
  {
   "cell_type": "markdown",
   "metadata": {},
   "source": [
    "#### Written Answer:\n",
    "The result are similiar to my previous because the coefficients predicts how many escapes corresposding to the number of attempts."
   ]
  },
  {
   "cell_type": "markdown",
   "metadata": {},
   "source": [
    "### Follow These Instructions\n",
    "\n",
    "Once you are finished, ensure to complete the following steps.\n",
    "\n",
    "1.  Restart your kernel by clicking 'Kernel' > 'Restart & Run All'.\n",
    "\n",
    "2.  Fix any errors which result from this.\n",
    "\n",
    "3.  Repeat steps 1. and 2. until your notebook runs without errors.\n",
    "\n",
    "4.  Submit your completed notebook to OWL by the deadline."
   ]
  }
 ],
 "metadata": {
  "kernelspec": {
   "display_name": "Python 3.10.6 64-bit",
   "language": "python",
   "name": "python3"
  },
  "language_info": {
   "codemirror_mode": {
    "name": "ipython",
    "version": 3
   },
   "file_extension": ".py",
   "mimetype": "text/x-python",
   "name": "python",
   "nbconvert_exporter": "python",
   "pygments_lexer": "ipython3",
   "version": "3.10.6"
  },
  "vscode": {
   "interpreter": {
    "hash": "aee8b7b246df8f9039afb4144a1f6fd8d2ca17a180786b69acc140d282b71a49"
   }
  }
 },
 "nbformat": 4,
 "nbformat_minor": 4
}
