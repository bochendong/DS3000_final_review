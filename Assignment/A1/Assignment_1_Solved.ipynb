{
 "cells": [
  {
   "cell_type": "markdown",
   "metadata": {},
   "source": [
    "# Grade: /100 points\n",
    "\n",
    "# Assignment 01: Supervised learning, Linear models, and Loss functions\n",
    "\n",
    "In this assignment, you're going to write your own methods to fit a linear model using either an OLS or LAD cost function.  \n",
    "\n",
    "## Data set \n",
    "\n",
    "For this assignment, we will examine some data representing possums in Australia and New Guinea. The data frame contains 46 observations on the following 6 variables:\n",
    "\n",
    "* sex: Sex, either m (male) or f (female).\n",
    "* age: Age in years.\n",
    "* headL: Head length, in mm.\n",
    "* skullW: Skull width, in mm.\n",
    "* totalL: Total length, in cm.\n",
    "* tailL: Tail length, in cm.\n",
    "\n",
    "## Follow These Steps Before Submitting\n",
    "Once you are finished, ensure to complete the following steps.\n",
    "\n",
    "1.  Restart your kernel by clicking 'Kernel' > 'Restart & Run All'.\n",
    "\n",
    "2.  Fix any errors which result from this.\n",
    "\n",
    "3.  Repeat steps 1. and 2. until your notebook runs without errors.\n",
    "\n",
    "4.  Submit your completed notebook to OWL by the deadline."
   ]
  },
  {
   "cell_type": "markdown",
   "metadata": {},
   "source": [
    "#### Before you start...\n",
    "\n",
    "Recall that L1 loss function (sum of magnitudes, used for LAD model):\n",
    "\n",
    "$$L_1(\\theta) = \\sum_{i=1}^{n} \\lvert {y_i-\\hat{y_i}} \\rvert$$\n",
    "\n",
    "L2 loss function (RSS, residual sum of squares, used for OLS model):\n",
    "\n",
    "$$L_2(\\theta) = \\sum_{i=1}^{n} ({y_i-\\hat{y_i}})^2$$"
   ]
  },
  {
   "cell_type": "markdown",
   "metadata": {},
   "source": [
    "## Preliminaries"
   ]
  },
  {
   "cell_type": "code",
   "execution_count": 1,
   "metadata": {},
   "outputs": [],
   "source": [
    "# Import all the necessary packages: \n",
    "import matplotlib.pyplot as plt \n",
    "import numpy as np\n",
    "import pandas as pd\n",
    "import scipy.stats as ss \n",
    "import scipy.optimize as so\n",
    "from sklearn import linear_model\n",
    "\n",
    "%matplotlib inline"
   ]
  },
  {
   "cell_type": "markdown",
   "metadata": {},
   "source": [
    "\n",
    "## Part 1\n",
    "### Question 1.1:  /10 points\n",
    "\n",
    "\n",
    "Read in the `possum.csv` file as a `pandas.DataFrame`.  Investigate the relationship between the possum's age and its tail length by plotting a scatter plot of the `age` and `tailL` columns. Add an `alpha`(transparency of the plotted dots) in case some data are overlapping. "
   ]
  },
  {
   "cell_type": "code",
   "execution_count": 3,
   "metadata": {},
   "outputs": [
    {
     "data": {
      "image/png": "[encoded data removed]",
      "text/plain": [
       "<Figure size 720x480 with 1 Axes>"
      ]
     },
     "metadata": {
      "needs_background": "light"
     },
     "output_type": "display_data"
    }
   ],
   "source": [
    "# Read in the data with pandas\n",
    "possum_data = pd.read_csv('possum.csv')\n",
    "\n",
    "# Create the axis where the plotting will happen\n",
    "fig, ax = plt.subplots(dpi=120)\n",
    "# Do the plotting\n",
    "possum_data.plot.scatter(x='age', y='tailL',alpha = 0.75, ax = ax,)\n",
    "# Adjust the labels\n",
    "ax.set_xlabel('Possum Age')\n",
    "ax.set_ylabel('Possum Tail Length')\n",
    "\n",
    "plt.show()"
   ]
  },
  {
   "cell_type": "markdown",
   "metadata": {},
   "source": [
    "### Question 1.2: /5 point\n",
    "\n",
    "Recall that the linear model, we obtain predictions by computing \n",
    "\n",
    "$$ \\hat{\\mathbf{y}} = \\mathbf{X} \\hat{\\beta} $$\n",
    "\n",
    "Here, $\\mathbf{X}$ is a design matrix which includes a column of ones, $\\hat{\\beta}$ are coefficients, and $\\hat{\\mathbf{y}}$ are outcomes.  Write a function `linearModelPredict` to compute linear model predictions given data and a coefficient vector.  The function should take as it's arguments a 1d-array of coefficients `b` and the design matrix `X` as a 2d-array and return linear model predictions `yp`.\n",
    "\n",
    "Test the function by setting \n",
    "\n",
    "```\n",
    "X = np.array([[1,0],[1,-1],[1,2]])\n",
    "b = np.array([0.1,0.3])\n",
    "```\n",
    "and call your function with these values! \n",
    "\n",
    "Report $\\hat{\\mathbf{y}}$. \n",
    "What is the dimensionality of the numpy-array that you get back? \n",
    "\n",
    "Hint:  Read the documentation for `np.dot` or the `@` operator in `numpy`."
   ]
  },
  {
   "cell_type": "code",
   "execution_count": 3,
   "metadata": {},
   "outputs": [
    {
     "name": "stdout",
     "output_type": "stream",
     "text": [
      "X@b is \n",
      "  [ 0.1 -0.2  0.7]\n"
     ]
    }
   ],
   "source": [
    "def linearModelPredict(b,X):\n",
    "    # Numpy does matrix multiplication in a few ways.\n",
    "    # The dot or @ operator are most common.\n",
    "    # b should always have the same dimensionality as X has columns.\n",
    "    yp = np.dot(X,b)\n",
    "\n",
    "    return yp\n",
    "\n",
    "# Test \n",
    "X = np.array([[1,0],[1,-1],[1,2]])\n",
    "b = np.array([0.1,0.3])\n",
    "print(\"X@b is \\n \", linearModelPredict(b,X))\n",
    "\n",
    "\n"
   ]
  },
  {
   "cell_type": "code",
   "execution_count": 4,
   "metadata": {},
   "outputs": [
    {
     "name": "stdout",
     "output_type": "stream",
     "text": [
      "Using a 2d array...\n",
      "X looks like:\n",
      " [[1. 0.]\n",
      " [0. 1.]]\n",
      "b looks like:\n",
      " [[2.]\n",
      " [2.]]\n",
      "X@b is \n",
      "  [[2.]\n",
      " [2.]]\n",
      "\n",
      "\n",
      "Using a 1d array...\n",
      "X looks like:\n",
      " [[1. 0.]\n",
      " [0. 1.]]\n",
      "b looks like:\n",
      " [2. 2.]\n",
      "X@b is \n",
      "  [2. 2.]\n"
     ]
    }
   ],
   "source": [
    "# Note that b can either be a 2d array or a 1d array and the mulitplication will still work\n",
    "# This requires you to be cognizant about shapes and keep track of the dimension.\n",
    "# Here are some examples\n",
    "\n",
    "# b is a 2d array\n",
    "print('Using a 2d array...')\n",
    "X = np.eye(2)\n",
    "b = 2*np.ones(2).reshape(-1,1)\n",
    "\n",
    "print(\"X looks like:\\n\", X)\n",
    "print(\"b looks like:\\n\", b)\n",
    "#Note, the result of this multiplication is a 2d array\n",
    "print(\"X@b is \\n \", linearModelPredict(b,X))\n",
    "\n",
    "\n",
    "# b is a 1d array\n",
    "print('\\n\\nUsing a 1d array...')\n",
    "X = np.eye(2)\n",
    "b = 2*np.ones(2)\n",
    "\n",
    "print(\"X looks like:\\n\", X)\n",
    "print(\"b looks like:\\n\", b)\n",
    "#Note, the result of this multiplication is a 1d array\n",
    "print(\"X@b is \\n \", linearModelPredict(b,X))\n",
    "\n",
    "\n"
   ]
  },
  {
   "cell_type": "markdown",
   "metadata": {},
   "source": [
    "### Question 1.3: /15 points\n",
    "\n",
    "Write a function `linearModelLossRSS` which computes and returns the loss function for an OLS model parameterized by $\\beta$, as well as the gradient of the loss.  The function should take as its first argument a 1d-array `beta` of coefficients for the linear model, as its second argument the design matrix `X` as a 2d-array, and as its third argument a 1d-array `y` of observed outcomes.\n",
    "\n",
    "Test the function with the values \n",
    "\n",
    "```\n",
    "X = np.array([[1,0],[1,-1],[1,2]])\n",
    "b = np.array([0.1,0.3])\n",
    "y = np.array([0,0.4,2]) \n",
    "```\n",
    "\n",
    "Report the loss and the gradient. \n",
    "\n",
    "**Written answer**: To minimize the cost do you need increase or decrease the value of the parameters? "
   ]
  },
  {
   "cell_type": "code",
   "execution_count": 5,
   "metadata": {},
   "outputs": [
    {
     "name": "stdout",
     "output_type": "stream",
     "text": [
      "RSS is 2.06\n",
      "gradient:\n",
      " [-3.6 -4. ]\n"
     ]
    }
   ],
   "source": [
    "def linearModelLossRSS(b,X,y):\n",
    "    # The loss is really a function of b.  The b changes, the X and y stay fixed.\n",
    "    # Make predictions\n",
    "    predY = linearModelPredict(b,X)\n",
    "    # Compute residuals.  This is an array.  The dimension of res will depend on if\n",
    "    # b is 1d or 2d.  If b is 2d, predY will be 2d, and so res will be 2d due to something\n",
    "    # called \"array broadcasting\".\n",
    "    res = y-predY\n",
    "    # Simply sum up the squared residuals.  This is the value of our loss.\n",
    "    residual_sum_of_squares = sum(res**2) \n",
    "    # Because res is a vector, we can take the product of res with X.\n",
    "    # Since X is two dimensional because it is a design matrix, this results in a\n",
    "    # 2d array.  The gradient has two elements because there are two parameters.\n",
    "    gradient=-2*np.dot(res,X)\n",
    "\n",
    "    return (residual_sum_of_squares, gradient)\n",
    "\n",
    "X = np.array([[1,0],[1,-1],[1,2]])\n",
    "b = np.array([0.1,0.3])\n",
    "y = np.array([0,0.4,2]) \n",
    "rss, grad =linearModelLossRSS(b,X,y)\n",
    "\n",
    "print(\"RSS is\", rss)\n",
    "print(\"gradient:\\n\", grad)"
   ]
  },
  {
   "cell_type": "markdown",
   "metadata": {},
   "source": [
    "The gradient is negative for both parameters, therefore both need to be increased to minimize the cost. "
   ]
  },
  {
   "cell_type": "markdown",
   "metadata": {},
   "source": [
    "### Question 1.4:  /15 points. \n",
    "\n",
    "Now that you've implemented a loss function in question 1.3, it is now time to minimize it!\n",
    "\n",
    "Write a function `linearModelFit` to fit a linear model.  The function should take as its first argument the design matrix `X` as a 2d-array, as its second argument a 1d-array `y` of outcomes, and as its third argument a function  `lossfcn` which returns as a tuple the value of the loss, as well as the gradient of the loss. As a result, it should return the estimated betas and the R2. \n",
    "\n",
    "**Hint**: Using scipy.optimize.minimize to minimize the customized loss function\n",
    "\n",
    "Test the function with the values: \n",
    "```\n",
    "X = np.array([[1,0],[1,-1],[1,2]])\n",
    "y = np.array([0,0.4,2]) \n",
    "```\n",
    "\n",
    "Report best parameters and the fitted R2 \n"
   ]
  },
  {
   "cell_type": "code",
   "execution_count": 6,
   "metadata": {},
   "outputs": [
    {
     "name": "stdout",
     "output_type": "stream",
     "text": [
      "Betas are [0.6 0.6]\n",
      "R2:\n",
      " 0.75\n"
     ]
    }
   ],
   "source": [
    "def linearModelFit(X,y,lossfcn = linearModelLossRSS):\n",
    "    # Because we know b has to have the some dimension as X has columns,\n",
    "    # We can use the number of columns to determine the size of betas\n",
    "    # In this case, we use a 2d array\n",
    "    nrows,ncols = X.shape\n",
    "    betas=np.zeros((ncols,1))\n",
    "    # Optimize the loss\n",
    "    RES = so.minimize(lossfcn,betas,args=(X,y),jac=True)\n",
    "    # Obtain estimates from the optimizer\n",
    "    estimated_betas=RES.x \n",
    "    # Compute goodness of fit.\n",
    "    res = y-np.mean(y)\n",
    "    TSS = sum(res**2)\n",
    "    RSS,deriv = linearModelLossRSS(estimated_betas,X,y) # L2 loss and RSS are the same thing\n",
    "    R2 = 1-RSS/TSS \n",
    "    \n",
    "    return (estimated_betas,R2)\n",
    "\n",
    "\n",
    "X = np.array([[1,0],[1,-1],[1,2]])\n",
    "y = np.array([0,0.4,2]) \n",
    "beta , R2 = linearModelFit(X,y)\n",
    "\n",
    "print(\"Betas are\", beta)\n",
    "print(\"R2:\\n\", R2)"
   ]
  },
  {
   "cell_type": "markdown",
   "metadata": {},
   "source": [
    "### Question 1.5: /15 points\n",
    "\n",
    "Use the above functions to fit your model to the possum data. Then use your model and the fitted parameters to make predictions along a grid of equally spaced possum ages.  \n",
    "\n",
    "**Hint** : Don't forget to include a column of ones in your design matrix to allow bias\n",
    "\n",
    "Plot the data and add a line for the predicted values. You can get these by generating a new X-matrix with equally space ages (using for example np.linspace). Also report the R2 value for the fit. You can do this by either printing out the R2 of the fit or putting it on your plot via the `annotate` function in matplotlib.\n"
   ]
  },
  {
   "cell_type": "code",
   "execution_count": 7,
   "metadata": {},
   "outputs": [
    {
     "data": {
      "text/plain": [
       "Text(0.25, 0.8, 'R Squared: 0.22')"
      ]
     },
     "execution_count": 7,
     "metadata": {},
     "output_type": "execute_result"
    },
    {
     "data": {
      "image/png": "[encoded data removed]",
      "text/plain": [
       "<Figure size 720x480 with 1 Axes>"
      ]
     },
     "metadata": {
      "needs_background": "light"
     },
     "output_type": "display_data"
    }
   ],
   "source": [
    "# Fit the data \n",
    "y = possum_data.tailL.values\n",
    "age = possum_data.age.values\n",
    "N = age.size\n",
    "X = np.c_[np.ones(N), age]\n",
    "betas, R2 = linearModelFit(X,y)\n",
    "\n",
    "# Create new data\n",
    "age_grid = np.linspace(age.min(), age.max(),10)\n",
    "# Turn it into a design matrix\n",
    "Xn = np.c_[np.ones(age_grid.size), age_grid]\n",
    "# Compute predictions with the new data and estimated coefficients\n",
    "yn = linearModelPredict(betas, Xn)\n",
    "\n",
    "fig, ax = plt.subplots(dpi = 120)\n",
    "possum_data.plot.scatter(x='age', y='tailL', alpha=0.75, ax=ax)\n",
    "ax.set_xlabel('Possum Age')\n",
    "ax.set_ylabel('Tail Length')\n",
    "\n",
    "ax.plot(age_grid, yn, color = 'red')\n",
    "ax.annotate('R Squared: {R2}'.format(R2=R2.round(2)), \n",
    "            xy=(0.25, 0.8), \n",
    "            xycoords='axes fraction',\n",
    "            ha='center',\n",
    "            fontsize = 16)\n",
    "\n"
   ]
  },
  {
   "cell_type": "markdown",
   "metadata": {},
   "source": [
    "## Part 2: LAD Regression\n",
    "\n",
    "### Question 2.1:  /15 points\n",
    "\n",
    "In the previous section, we worked with the squared loss.  Now, we'll implement a linear model with least absolute deviation loss.\n",
    "\n",
    "Write a function `linearModelLossLAD` which computes the least absolute deviation loss function for a linear model  parameterized by $\\beta$, as well as the gradient of the loss.  The function should take as its first argument a 1d-array `beta` of coefficients for the linear model, as its second argument the design matrix `X` as a 2d-array, and as its third argument a 1d-array `y` of observed outcomes.\n",
    "\n",
    "Test the function with the values \n",
    "\n",
    "```\n",
    "X = np.array([[1,0],[1,-1],[1,2]])\n",
    "b = np.array([0.1,0.3])\n",
    "y = np.array([0,0.4,2]) \n",
    "```\n",
    "\n",
    "Report the loss and the gradient. "
   ]
  },
  {
   "cell_type": "code",
   "execution_count": 8,
   "metadata": {},
   "outputs": [
    {
     "name": "stdout",
     "output_type": "stream",
     "text": [
      "LAD is 2.0\n",
      "gradient:\n",
      " [-1. -1.]\n"
     ]
    }
   ],
   "source": [
    "def linearModelLossLAD(b,X,y):\n",
    "    # Same concept as before, different loss\n",
    "    predY = linearModelPredict(b,X)\n",
    "    res = y-predY\n",
    "    sres = np.sign(res); \n",
    "    sum_abs_dev = sum(abs(res))\n",
    "    # Note the gradients are computed using the sign of the residuals\n",
    "    grad =- (np.dot(sres,X))\n",
    "\n",
    "    return (sum_abs_dev,grad)\n",
    "\n",
    "X = np.array([[1,0],[1,-1],[1,2]])\n",
    "b = np.array([0.1,0.3])\n",
    "y = np.array([0,0.4,2]) \n",
    "lad, grad =linearModelLossLAD(b,X,y)\n",
    "\n",
    "print(\"LAD is\", lad)\n",
    "print(\"gradient:\\n\", grad)"
   ]
  },
  {
   "cell_type": "markdown",
   "metadata": {},
   "source": [
    "### Question 2.2: /10 points\n",
    "\n",
    "\n",
    "Use the above functions to fit your LAD model. Use your model to make predictions along a grid of equally spaced possum ages.  Once fit, add the fitted line to the scatter plot as in question 1.5.  Also report the R2-value. \n",
    "\n",
    "**Written answer**: What is the difference in the fit obtained with an L1 as compared to the L2 cost function? Which one has a higher R2 value? Why?  \n",
    "\n",
    "Note: If you recieve an error from the optimizer, it may be because the loss function for the LAD model is not differentiable at its minimum.  This will lead to some gradient based optimizers to fail to converge.  If this happens to you then pass `method=\"Powell\"` to `scipy.optimize.minimize`.\n",
    "\n"
   ]
  },
  {
   "cell_type": "code",
   "execution_count": 9,
   "metadata": {},
   "outputs": [
    {
     "data": {
      "text/plain": [
       "Text(0.25, 0.8, 'R Squared: 0.13')"
      ]
     },
     "execution_count": 9,
     "metadata": {},
     "output_type": "execute_result"
    },
    {
     "data": {
      "image/png": "[encoded data removed]",
      "text/plain": [
       "<Figure size 720x480 with 1 Axes>"
      ]
     },
     "metadata": {
      "needs_background": "light"
     },
     "output_type": "display_data"
    }
   ],
   "source": [
    "# Same as above\n",
    "y = possum_data.tailL.values\n",
    "age = possum_data.age.values\n",
    "N = age.size\n",
    "X = np.c_[np.ones(N), age]\n",
    "betas, R2 = linearModelFit(X,y, lossfcn=linearModelLossLAD)\n",
    "\n",
    "age_grid = np.arange(age.min(), age.max()+1)\n",
    "Xn = np.c_[np.ones(age_grid.size), age_grid]\n",
    "yn = linearModelPredict(betas, Xn)\n",
    "\n",
    "fig, ax = plt.subplots(dpi = 120)\n",
    "possum_data.plot.scatter(x='age', y='tailL', alpha=0.75, ax=ax)\n",
    "ax.set_xlabel('Possum Age')\n",
    "ax.set_ylabel('Tail Length')\n",
    "\n",
    "ax.plot(age_grid, yn, color = 'red', linestyle = '--')\n",
    "ax.annotate('R Squared: {R2}'.format(R2=R2.round(2)), \n",
    "            xy=(0.25, 0.8), \n",
    "            xycoords='axes fraction',\n",
    "            ha='center',\n",
    "            fontsize = 16)\n"
   ]
  },
  {
   "cell_type": "markdown",
   "metadata": {},
   "source": [
    "Written answer: The LAD fit does not give as much weight to the outlier (9,55) as the OLS fit. The R2 value is lower, however. This is because OLS minimized the RSS, and therefore maximizes R2.  "
   ]
  },
  {
   "cell_type": "markdown",
   "metadata": {},
   "source": [
    "### Question 2.3: /15 points\n",
    "\n",
    "Fit an OLS model to the possum data with the `linear_model` module from the `sklearn` package by using the `LinearRegression` class.  In no more than two sentences, comment on the rsquared values from `sklearn` and the rsquared values from your models. Are they similar?"
   ]
  },
  {
   "cell_type": "code",
   "execution_count": 7,
   "metadata": {},
   "outputs": [
    {
     "name": "stdout",
     "output_type": "stream",
     "text": [
      "OLS rsquared:  0.22\n"
     ]
    },
    {
     "data": {
      "text/plain": [
       "<matplotlib.legend.Legend at 0x1af77b8e5c0>"
      ]
     },
     "execution_count": 7,
     "metadata": {},
     "output_type": "execute_result"
    },
    {
     "data": {
      "image/png": "[encoded data removed]",
      "text/plain": [
       "<Figure size 720x480 with 1 Axes>"
      ]
     },
     "metadata": {
      "needs_background": "light"
     },
     "output_type": "display_data"
    }
   ],
   "source": [
    "# Biggest problem here is that people did not show their model the same type of data.\n",
    "# When you make predictions on new data, that new data needs to be in the same format\n",
    "# as the training data.\n",
    "\n",
    "# Here, I am showing my models a dataframe.\n",
    "y = possum_data.tailL.values\n",
    "age = possum_data.age.values\n",
    "N = age.size\n",
    "X = np.c_[np.ones(N), age]\n",
    "ols_fit = linear_model.LinearRegression().fit(X, y)\n",
    "\n",
    "print('OLS rsquared: ', ols_fit.score(X,y).round(2))\n",
    "\n",
    "new_age = np.linspace(0,9,101)\n",
    "new_N = new_age.size\n",
    "new_X = np.c_[np.ones(new_N), new_age]\n",
    "y_ols = ols_fit.predict(new_X)\n",
    "\n",
    "\n",
    "fig, ax = plt.subplots(dpi = 120)\n",
    "possum_data.plot.scatter(x = 'age', y ='tailL', ax = ax, alpha = 0.75)\n",
    "ax.plot(new_age, y_ols, color = 'red', label = 'OLS')\n",
    "ax.set_xlabel('Possum Age')\n",
    "ax.set_ylabel('Possum Tail Length')\n",
    "ax.legend()\n",
    "\n"
   ]
  }
 ],
 "metadata": {
  "kernelspec": {
   "display_name": "Python 3.10.6 64-bit",
   "language": "python",
   "name": "python3"
  },
  "language_info": {
   "codemirror_mode": {
    "name": "ipython",
    "version": 3
   },
   "file_extension": ".py",
   "mimetype": "text/x-python",
   "name": "python",
   "nbconvert_exporter": "python",
   "pygments_lexer": "ipython3",
   "version": "3.10.6"
  },
  "vscode": {
   "interpreter": {
    "hash": "aee8b7b246df8f9039afb4144a1f6fd8d2ca17a180786b69acc140d282b71a49"
   }
  }
 },
 "nbformat": 4,
 "nbformat_minor": 4
}
