{
 "cells": [
  {
   "cell_type": "markdown",
   "metadata": {},
   "source": [
    "# Model Selection Lab"
   ]
  },
  {
   "cell_type": "code",
   "execution_count": 11,
   "metadata": {},
   "outputs": [],
   "source": [
    "import pandas as pd\n",
    "import numpy as np\n",
    "import matplotlib.pyplot as plt\n",
    "import seaborn as sns\n",
    "from sklearn.model_selection import train_test_split, cross_val_score, KFold, RepeatedKFold\n",
    "from sklearn.linear_model import LinearRegression\n",
    "from sklearn.pipeline import Pipeline\n",
    "from sklearn.base import BaseEstimator, TransformerMixin\n",
    "from sklearn.decomposition import PCA\n",
    "from sklearn.preprocessing import StandardScaler, PolynomialFeatures\n",
    "from sklearn.metrics import mean_squared_error, mean_absolute_error, make_scorer\n",
    "pd.set_option('display.max_columns', 500)\n",
    "seed=0"
   ]
  },
  {
   "cell_type": "markdown",
   "metadata": {},
   "source": [
    "## 1. Preliminaries (from previous lab)"
   ]
  },
  {
   "cell_type": "code",
   "execution_count": 12,
   "metadata": {},
   "outputs": [
    {
     "name": "stdout",
     "output_type": "stream",
     "text": [
      "(310, 5) (50, 5)\n"
     ]
    },
    {
     "data": {
      "text/html": [
       "<div>\n",
       "<style scoped>\n",
       "    .dataframe tbody tr th:only-of-type {\n",
       "        vertical-align: middle;\n",
       "    }\n",
       "\n",
       "    .dataframe tbody tr th {\n",
       "        vertical-align: top;\n",
       "    }\n",
       "\n",
       "    .dataframe thead th {\n",
       "        text-align: right;\n",
       "    }\n",
       "</style>\n",
       "<table border=\"1\" class=\"dataframe\">\n",
       "  <thead>\n",
       "    <tr style=\"text-align: right;\">\n",
       "      <th></th>\n",
       "      <th>age</th>\n",
       "      <th>height_cm</th>\n",
       "      <th>weight_kg</th>\n",
       "      <th>overall</th>\n",
       "      <th>work_rate_att_Low</th>\n",
       "      <th>work_rate_att_Medium</th>\n",
       "    </tr>\n",
       "  </thead>\n",
       "  <tbody>\n",
       "    <tr>\n",
       "      <th>0</th>\n",
       "      <td>20</td>\n",
       "      <td>175</td>\n",
       "      <td>70</td>\n",
       "      <td>58</td>\n",
       "      <td>0</td>\n",
       "      <td>1</td>\n",
       "    </tr>\n",
       "    <tr>\n",
       "      <th>1</th>\n",
       "      <td>29</td>\n",
       "      <td>183</td>\n",
       "      <td>80</td>\n",
       "      <td>65</td>\n",
       "      <td>0</td>\n",
       "      <td>0</td>\n",
       "    </tr>\n",
       "    <tr>\n",
       "      <th>2</th>\n",
       "      <td>35</td>\n",
       "      <td>183</td>\n",
       "      <td>78</td>\n",
       "      <td>67</td>\n",
       "      <td>0</td>\n",
       "      <td>0</td>\n",
       "    </tr>\n",
       "    <tr>\n",
       "      <th>3</th>\n",
       "      <td>24</td>\n",
       "      <td>178</td>\n",
       "      <td>72</td>\n",
       "      <td>69</td>\n",
       "      <td>0</td>\n",
       "      <td>1</td>\n",
       "    </tr>\n",
       "    <tr>\n",
       "      <th>4</th>\n",
       "      <td>23</td>\n",
       "      <td>173</td>\n",
       "      <td>73</td>\n",
       "      <td>70</td>\n",
       "      <td>0</td>\n",
       "      <td>1</td>\n",
       "    </tr>\n",
       "  </tbody>\n",
       "</table>\n",
       "</div>"
      ],
      "text/plain": [
       "   age  height_cm  weight_kg  overall  work_rate_att_Low  work_rate_att_Medium\n",
       "0   20        175         70       58                  0                     1\n",
       "1   29        183         80       65                  0                     0\n",
       "2   35        183         78       67                  0                     0\n",
       "3   24        178         72       69                  0                     1\n",
       "4   23        173         73       70                  0                     1"
      ]
     },
     "execution_count": 12,
     "metadata": {},
     "output_type": "execute_result"
    }
   ],
   "source": [
    "# Read in subset of footballer data\n",
    "model_data = pd.read_csv('footballer_reduced.csv')\n",
    "\n",
    "# Turn category into numeric variables\n",
    "model_data = pd.get_dummies(model_data, drop_first=True)\n",
    "\n",
    "# Define our X and y\n",
    "y = model_data.overall\n",
    "X = model_data.drop('overall', axis = 'columns')\n",
    "\n",
    "# Split into train&validation, test\n",
    "# Random state assures that folds are consistent across models\n",
    "Xtrain, Xtest, ytrain, ytest = train_test_split(X, y, test_size = 50, random_state = 0)\n",
    "\n",
    "print(Xtrain.shape, Xtest.shape)\n",
    "model_data.head()"
   ]
  },
  {
   "cell_type": "markdown",
   "metadata": {},
   "source": [
    "## 2. Use cross-validation to select the best model "
   ]
  },
  {
   "cell_type": "code",
   "execution_count": 13,
   "metadata": {
    "tags": []
   },
   "outputs": [
    {
     "name": "stdout",
     "output_type": "stream",
     "text": [
      "Training loss: 34.648\n",
      "CV loss:  36.009 +/- 3.330\n"
     ]
    }
   ],
   "source": [
    "# Model 1\n",
    "model1 = LinearRegression()\n",
    "model1 = model1.fit(Xtrain, ytrain)\n",
    "trainloss = mean_squared_error(ytrain, model1.predict(Xtrain))\n",
    "print(f\"Training loss: %.3f\" % trainloss)\n",
    "\n",
    "kf = KFold(n_splits=5, shuffle=False)\n",
    "# kf = RepeatedKFold(n_splits=5, n_repeats=10, random_state=seed)\n",
    "\n",
    "sc = make_scorer(mean_squared_error)\n",
    "cv_scores = cross_val_score(model1, Xtrain, ytrain, cv=kf, scoring=sc)\n",
    "print(f\"CV loss:  %.3f +/- %.3f\" % (cv_scores.mean(), cv_scores.std()))"
   ]
  },
  {
   "cell_type": "code",
   "execution_count": 14,
   "metadata": {},
   "outputs": [
    {
     "name": "stdout",
     "output_type": "stream",
     "text": [
      "Training loss: 31.955\n",
      "CV loss: 33.409 +/- 4.420\n"
     ]
    }
   ],
   "source": [
    "# Model 2: Squared trend for age\n",
    "# Construct a new feature - age squared\n",
    "Xtrain2 = Xtrain\n",
    "Xtrain2 = Xtrain2.assign(age2 = Xtrain.age**2)\n",
    "model2 = LinearRegression()\n",
    "model2 = model2.fit(Xtrain2, ytrain)\n",
    "trainloss = mean_squared_error(ytrain, model2.predict(Xtrain2))\n",
    "print(f\"Training loss: %.3f\" % trainloss)\n",
    "\n",
    "# Print CV scores and include standard deviation. Is it an unbiased estimate?\n",
    "cv_scores = cross_val_score(model2, Xtrain2, ytrain, cv=kf, scoring=sc)\n",
    "print(f\"CV loss: %.3f +/- %.3f\" % (cv_scores.mean(), cv_scores.std()))"
   ]
  },
  {
   "cell_type": "code",
   "execution_count": 15,
   "metadata": {},
   "outputs": [
    {
     "name": "stdout",
     "output_type": "stream",
     "text": [
      "Xtrain3 is of size  (310, 21)\n",
      "Training loss: 30.709\n",
      "CV loss: 35.333 +/- 4.774\n"
     ]
    },
    {
     "data": {
      "text/plain": [
       "(310, 21)"
      ]
     },
     "execution_count": 15,
     "metadata": {},
     "output_type": "execute_result"
    }
   ],
   "source": [
    "# Model 3: All polynomial features\n",
    "PT =  PolynomialFeatures(degree=2) #, include_bias=True)\n",
    "Xtrain3 = PT.fit_transform(Xtrain)\n",
    "print('Xtrain3 is of size ', Xtrain3.shape)\n",
    "\n",
    "# Run the linear regression\n",
    "model3 = LinearRegression().fit(Xtrain3,ytrain)\n",
    "trainloss = mean_squared_error(ytrain,model3.predict(Xtrain3))\n",
    "print(f\"Training loss: %.3f\" % trainloss)\n",
    "\n",
    "cv_scores = cross_val_score(model3, Xtrain3, ytrain, cv=kf, scoring=sc)\n",
    "print(f\"CV loss: %.3f +/- %.3f\" % (cv_scores.mean(), cv_scores.std()))\n",
    "Xtrain3.shape"
   ]
  },
  {
   "cell_type": "markdown",
   "metadata": {},
   "source": [
    "Now, which model to choose?\n",
    "\n",
    "Model 1.\n",
    "\n",
    "Why?\n",
    "\n",
    "Because we choose the simplest model that is within one standard deviation of the model which has the lowest cross-validated training loss.\n",
    "\n",
    "(36.009 is within 33.409 +/- 4.420)"
   ]
  },
  {
   "cell_type": "markdown",
   "metadata": {},
   "source": [
    "## 3. Pipelines \n",
    "\n",
    "Pipelines allow us to \"chain\" different parts of a model building process. They are very useful to apply transformations: If the transformation is applied using the information on the test set, there is \"test set leak\".\n",
    "\n",
    "It is always a best practice to create a pipeline in order to apply transformations to the data such as normalization. Here we'll use it for creating quadratic and cubic features. There is no test set leak risk here (why?) so this could be done more efficiently directly on the dataset, so this example is purely for illustrative purposes."
   ]
  },
  {
   "cell_type": "code",
   "execution_count": 16,
   "metadata": {},
   "outputs": [],
   "source": [
    "# Define the different pipelines \n",
    "model1 = Pipeline([\n",
    "    ('linear_regression', LinearRegression())\n",
    "])\n",
    "model3 = Pipeline([\n",
    "    ('poly', PolynomialFeatures(degree=2)),\n",
    "    ('linear_regression', LinearRegression())\n",
    "])"
   ]
  },
  {
   "cell_type": "markdown",
   "metadata": {},
   "source": [
    "Pipelines accept any transformer you can think of, even allowing the use of [classes](https://docs.python.org/3/tutorial/classes.html), a general object. Here is an example."
   ]
  },
  {
   "cell_type": "code",
   "execution_count": 17,
   "metadata": {},
   "outputs": [],
   "source": [
    "# Model2 with custom transform (You can also use ColumnTransformer)\n",
    "class Age2(BaseEstimator, TransformerMixin):  \n",
    "    def fit(self, X, y=None):\n",
    "        return self\n",
    "    \n",
    "    def transform(self, X, y=None):\n",
    "        X = X.assign(age2 = X.age**2)\n",
    "        return X\n",
    "\n",
    "model2 = Pipeline([\n",
    "    ('age2', Age2()),\n",
    "    ('linear_regression', LinearRegression())\n",
    "])"
   ]
  },
  {
   "cell_type": "code",
   "execution_count": 18,
   "metadata": {},
   "outputs": [
    {
     "name": "stdout",
     "output_type": "stream",
     "text": [
      "CV Loss (Model 1): 36.009 +/- 3.330\n",
      "CV Loss (Model 2): 33.409 +/- 4.420\n",
      "CV Loss (Model 2): 35.333 +/- 4.774\n"
     ]
    }
   ],
   "source": [
    "# Check training loss\n",
    "print(f\"CV Loss (Model 1): %.3f +/- %.3f\" % (cross_val_score(model1, Xtrain, ytrain, cv=kf, scoring=sc).mean(),\n",
    "                                            cross_val_score(model1, Xtrain, ytrain, cv=kf, scoring=sc).std())\n",
    "     )\n",
    "print(f\"CV Loss (Model 2): %.3f +/- %.3f\" % (cross_val_score(model2, Xtrain, ytrain, cv=kf, scoring=sc).mean(),\n",
    "                                            cross_val_score(model2, Xtrain, ytrain, cv=kf, scoring=sc).std())\n",
    "     )\n",
    "print(f\"CV Loss (Model 2): %.3f +/- %.3f\" % (cross_val_score(model3, Xtrain, ytrain, cv=kf, scoring=sc).mean(),\n",
    "                                            cross_val_score(model3, Xtrain, ytrain, cv=kf, scoring=sc).std())\n",
    "     )"
   ]
  },
  {
   "cell_type": "code",
   "execution_count": 19,
   "metadata": {},
   "outputs": [
    {
     "name": "stdout",
     "output_type": "stream",
     "text": [
      "Test loss: 35.636\n"
     ]
    }
   ],
   "source": [
    "# Now report test loss on selected model. Always use an independent test for this!\n",
    "model1 = model1.fit(Xtrain,ytrain)\n",
    "testloss = mean_squared_error(ytest,model1.predict(Xtest))\n",
    "print(f\"Test loss: %.3f\" % testloss)"
   ]
  }
 ],
 "metadata": {
  "kernelspec": {
   "display_name": "Python 3.10.6 64-bit",
   "language": "python",
   "name": "python3"
  },
  "language_info": {
   "codemirror_mode": {
    "name": "ipython",
    "version": 3
   },
   "file_extension": ".py",
   "mimetype": "text/x-python",
   "name": "python",
   "nbconvert_exporter": "python",
   "pygments_lexer": "ipython3",
   "version": "3.10.6"
  },
  "vscode": {
   "interpreter": {
    "hash": "aee8b7b246df8f9039afb4144a1f6fd8d2ca17a180786b69acc140d282b71a49"
   }
  }
 },
 "nbformat": 4,
 "nbformat_minor": 4
}
