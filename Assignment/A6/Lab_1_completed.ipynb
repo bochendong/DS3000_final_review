{
 "cells": [
  {
   "cell_type": "markdown",
   "metadata": {},
   "source": [
    "# Crossvalidation Lab\n"
   ]
  },
  {
   "cell_type": "code",
   "execution_count": 303,
   "metadata": {},
   "outputs": [],
   "source": [
    "import pandas as pd\n",
    "import numpy as np\n",
    "import matplotlib.pyplot as plt\n",
    "import seaborn as sns\n",
    "from sklearn.model_selection import train_test_split, cross_val_score\n",
    "from sklearn.linear_model import LinearRegression\n",
    "from sklearn.pipeline import Pipeline\n",
    "from sklearn.base import BaseEstimator, TransformerMixin\n",
    "from sklearn.decomposition import PCA\n",
    "from sklearn.preprocessing import StandardScaler, PolynomialFeatures\n",
    "from sklearn.metrics import mean_squared_error, mean_absolute_error, make_scorer\n",
    "from sklearn.model_selection import KFold, LeaveOneOut\n",
    "from sklearn import preprocessing\n",
    "from sklearn.model_selection import ShuffleSplit\n",
    "# Even though we are not using seaborn we can style the plots with it\n",
    "sns.set_style(\"darkgrid\")\n",
    "pd.set_option('display.max_columns', 500)\n",
    "# When printing arrays, set_printoptions controls the format\n",
    "np.set_printoptions(precision=3)\n",
    "# choose a scorer\n",
    "sc = make_scorer(mean_squared_error)\n",
    "# pick a seed\n",
    "seed=0"
   ]
  },
  {
   "cell_type": "markdown",
   "metadata": {},
   "source": [
    "## 1. Loading a data set a building a model"
   ]
  },
  {
   "cell_type": "code",
   "execution_count": 304,
   "metadata": {},
   "outputs": [
    {
     "data": {
      "text/html": [
       "<div>\n",
       "<style scoped>\n",
       "    .dataframe tbody tr th:only-of-type {\n",
       "        vertical-align: middle;\n",
       "    }\n",
       "\n",
       "    .dataframe tbody tr th {\n",
       "        vertical-align: top;\n",
       "    }\n",
       "\n",
       "    .dataframe thead th {\n",
       "        text-align: right;\n",
       "    }\n",
       "</style>\n",
       "<table border=\"1\" class=\"dataframe\">\n",
       "  <thead>\n",
       "    <tr style=\"text-align: right;\">\n",
       "      <th></th>\n",
       "      <th>age</th>\n",
       "      <th>height_cm</th>\n",
       "      <th>weight_kg</th>\n",
       "      <th>work_rate_att</th>\n",
       "      <th>overall</th>\n",
       "    </tr>\n",
       "  </thead>\n",
       "  <tbody>\n",
       "    <tr>\n",
       "      <th>0</th>\n",
       "      <td>20</td>\n",
       "      <td>175</td>\n",
       "      <td>70</td>\n",
       "      <td>Medium</td>\n",
       "      <td>58</td>\n",
       "    </tr>\n",
       "    <tr>\n",
       "      <th>1</th>\n",
       "      <td>29</td>\n",
       "      <td>183</td>\n",
       "      <td>80</td>\n",
       "      <td>High</td>\n",
       "      <td>65</td>\n",
       "    </tr>\n",
       "    <tr>\n",
       "      <th>2</th>\n",
       "      <td>35</td>\n",
       "      <td>183</td>\n",
       "      <td>78</td>\n",
       "      <td>High</td>\n",
       "      <td>67</td>\n",
       "    </tr>\n",
       "    <tr>\n",
       "      <th>3</th>\n",
       "      <td>24</td>\n",
       "      <td>178</td>\n",
       "      <td>72</td>\n",
       "      <td>Medium</td>\n",
       "      <td>69</td>\n",
       "    </tr>\n",
       "    <tr>\n",
       "      <th>4</th>\n",
       "      <td>23</td>\n",
       "      <td>173</td>\n",
       "      <td>73</td>\n",
       "      <td>Medium</td>\n",
       "      <td>70</td>\n",
       "    </tr>\n",
       "  </tbody>\n",
       "</table>\n",
       "</div>"
      ],
      "text/plain": [
       "   age  height_cm  weight_kg work_rate_att  overall\n",
       "0   20        175         70        Medium       58\n",
       "1   29        183         80          High       65\n",
       "2   35        183         78          High       67\n",
       "3   24        178         72        Medium       69\n",
       "4   23        173         73        Medium       70"
      ]
     },
     "execution_count": 304,
     "metadata": {},
     "output_type": "execute_result"
    }
   ],
   "source": [
    "# Read in subset of footballer data (we want to predict \"overall\")\n",
    "data = pd.read_csv('footballer_reduced.csv')\n",
    "data.head()"
   ]
  },
  {
   "cell_type": "code",
   "execution_count": 305,
   "metadata": {},
   "outputs": [
    {
     "name": "stdout",
     "output_type": "stream",
     "text": [
      "<class 'pandas.core.frame.DataFrame'>\n",
      "RangeIndex: 360 entries, 0 to 359\n",
      "Data columns (total 5 columns):\n",
      " #   Column         Non-Null Count  Dtype \n",
      "---  ------         --------------  ----- \n",
      " 0   age            360 non-null    int64 \n",
      " 1   height_cm      360 non-null    int64 \n",
      " 2   weight_kg      360 non-null    int64 \n",
      " 3   work_rate_att  360 non-null    object\n",
      " 4   overall        360 non-null    int64 \n",
      "dtypes: int64(4), object(1)\n",
      "memory usage: 14.2+ KB\n"
     ]
    }
   ],
   "source": [
    "# model_data.describe()\n",
    "data.info()"
   ]
  },
  {
   "cell_type": "code",
   "execution_count": 306,
   "metadata": {},
   "outputs": [
    {
     "data": {
      "text/plain": [
       "Medium    266\n",
       "High       71\n",
       "Low        23\n",
       "Name: work_rate_att, dtype: int64"
      ]
     },
     "execution_count": 306,
     "metadata": {},
     "output_type": "execute_result"
    }
   ],
   "source": [
    "data.work_rate_att.value_counts()\n",
    "# in linear regression a label with > 5% of instances is statistically significant"
   ]
  },
  {
   "cell_type": "code",
   "execution_count": 307,
   "metadata": {},
   "outputs": [
    {
     "name": "stdout",
     "output_type": "stream",
     "text": [
      "71\n",
      "23\n",
      "266\n"
     ]
    },
    {
     "data": {
      "text/html": [
       "<div>\n",
       "<style scoped>\n",
       "    .dataframe tbody tr th:only-of-type {\n",
       "        vertical-align: middle;\n",
       "    }\n",
       "\n",
       "    .dataframe tbody tr th {\n",
       "        vertical-align: top;\n",
       "    }\n",
       "\n",
       "    .dataframe thead th {\n",
       "        text-align: right;\n",
       "    }\n",
       "</style>\n",
       "<table border=\"1\" class=\"dataframe\">\n",
       "  <thead>\n",
       "    <tr style=\"text-align: right;\">\n",
       "      <th></th>\n",
       "      <th>age</th>\n",
       "      <th>height_cm</th>\n",
       "      <th>weight_kg</th>\n",
       "      <th>work_rate_att</th>\n",
       "      <th>overall</th>\n",
       "    </tr>\n",
       "  </thead>\n",
       "  <tbody>\n",
       "    <tr>\n",
       "      <th>0</th>\n",
       "      <td>20</td>\n",
       "      <td>175</td>\n",
       "      <td>70</td>\n",
       "      <td>2</td>\n",
       "      <td>58</td>\n",
       "    </tr>\n",
       "    <tr>\n",
       "      <th>1</th>\n",
       "      <td>29</td>\n",
       "      <td>183</td>\n",
       "      <td>80</td>\n",
       "      <td>0</td>\n",
       "      <td>65</td>\n",
       "    </tr>\n",
       "    <tr>\n",
       "      <th>2</th>\n",
       "      <td>35</td>\n",
       "      <td>183</td>\n",
       "      <td>78</td>\n",
       "      <td>0</td>\n",
       "      <td>67</td>\n",
       "    </tr>\n",
       "    <tr>\n",
       "      <th>3</th>\n",
       "      <td>24</td>\n",
       "      <td>178</td>\n",
       "      <td>72</td>\n",
       "      <td>2</td>\n",
       "      <td>69</td>\n",
       "    </tr>\n",
       "    <tr>\n",
       "      <th>4</th>\n",
       "      <td>23</td>\n",
       "      <td>173</td>\n",
       "      <td>73</td>\n",
       "      <td>2</td>\n",
       "      <td>70</td>\n",
       "    </tr>\n",
       "  </tbody>\n",
       "</table>\n",
       "</div>"
      ],
      "text/plain": [
       "   age  height_cm  weight_kg  work_rate_att  overall\n",
       "0   20        175         70              2       58\n",
       "1   29        183         80              0       65\n",
       "2   35        183         78              0       67\n",
       "3   24        178         72              2       69\n",
       "4   23        173         73              2       70"
      ]
     },
     "execution_count": 307,
     "metadata": {},
     "output_type": "execute_result"
    }
   ],
   "source": [
    "# Turn category into numeric variables\n",
    "# Label Encoding with sklearn LabelEncoder()\n",
    "dataLE = data.copy()\n",
    "label_encoder = preprocessing.LabelEncoder()\n",
    "dataLE['work_rate_att']= label_encoder.fit_transform(dataLE['work_rate_att'])\n",
    "\n",
    "print(dataLE.loc[dataLE['work_rate_att'] == 0].work_rate_att.count())\n",
    "print(dataLE.loc[dataLE['work_rate_att'] == 1].work_rate_att.count())\n",
    "print(dataLE.loc[dataLE['work_rate_att'] == 2].work_rate_att.count())\n",
    "dataLE.head()"
   ]
  },
  {
   "cell_type": "code",
   "execution_count": 308,
   "metadata": {},
   "outputs": [
    {
     "name": "stdout",
     "output_type": "stream",
     "text": [
      "71\n",
      "23\n",
      "266\n"
     ]
    },
    {
     "data": {
      "text/html": [
       "<div>\n",
       "<style scoped>\n",
       "    .dataframe tbody tr th:only-of-type {\n",
       "        vertical-align: middle;\n",
       "    }\n",
       "\n",
       "    .dataframe tbody tr th {\n",
       "        vertical-align: top;\n",
       "    }\n",
       "\n",
       "    .dataframe thead th {\n",
       "        text-align: right;\n",
       "    }\n",
       "</style>\n",
       "<table border=\"1\" class=\"dataframe\">\n",
       "  <thead>\n",
       "    <tr style=\"text-align: right;\">\n",
       "      <th></th>\n",
       "      <th>age</th>\n",
       "      <th>height_cm</th>\n",
       "      <th>weight_kg</th>\n",
       "      <th>overall</th>\n",
       "      <th>work_rate_att_0</th>\n",
       "      <th>work_rate_att_1</th>\n",
       "      <th>work_rate_att_2</th>\n",
       "    </tr>\n",
       "  </thead>\n",
       "  <tbody>\n",
       "    <tr>\n",
       "      <th>0</th>\n",
       "      <td>20</td>\n",
       "      <td>175</td>\n",
       "      <td>70</td>\n",
       "      <td>58</td>\n",
       "      <td>0.0</td>\n",
       "      <td>0.0</td>\n",
       "      <td>1.0</td>\n",
       "    </tr>\n",
       "    <tr>\n",
       "      <th>1</th>\n",
       "      <td>29</td>\n",
       "      <td>183</td>\n",
       "      <td>80</td>\n",
       "      <td>65</td>\n",
       "      <td>1.0</td>\n",
       "      <td>0.0</td>\n",
       "      <td>0.0</td>\n",
       "    </tr>\n",
       "    <tr>\n",
       "      <th>2</th>\n",
       "      <td>35</td>\n",
       "      <td>183</td>\n",
       "      <td>78</td>\n",
       "      <td>67</td>\n",
       "      <td>1.0</td>\n",
       "      <td>0.0</td>\n",
       "      <td>0.0</td>\n",
       "    </tr>\n",
       "    <tr>\n",
       "      <th>3</th>\n",
       "      <td>24</td>\n",
       "      <td>178</td>\n",
       "      <td>72</td>\n",
       "      <td>69</td>\n",
       "      <td>0.0</td>\n",
       "      <td>0.0</td>\n",
       "      <td>1.0</td>\n",
       "    </tr>\n",
       "    <tr>\n",
       "      <th>4</th>\n",
       "      <td>23</td>\n",
       "      <td>173</td>\n",
       "      <td>73</td>\n",
       "      <td>70</td>\n",
       "      <td>0.0</td>\n",
       "      <td>0.0</td>\n",
       "      <td>1.0</td>\n",
       "    </tr>\n",
       "  </tbody>\n",
       "</table>\n",
       "</div>"
      ],
      "text/plain": [
       "   age  height_cm  weight_kg  overall  work_rate_att_0  work_rate_att_1  \\\n",
       "0   20        175         70       58              0.0              0.0   \n",
       "1   29        183         80       65              1.0              0.0   \n",
       "2   35        183         78       67              1.0              0.0   \n",
       "3   24        178         72       69              0.0              0.0   \n",
       "4   23        173         73       70              0.0              0.0   \n",
       "\n",
       "   work_rate_att_2  \n",
       "0              1.0  \n",
       "1              0.0  \n",
       "2              0.0  \n",
       "3              1.0  \n",
       "4              1.0  "
      ]
     },
     "execution_count": 308,
     "metadata": {},
     "output_type": "execute_result"
    }
   ],
   "source": [
    "# Turn category into numeric variables\n",
    "# One-Hot Encoding with sklearn OneHotEncoder()\n",
    "dataOHE = data.copy()\n",
    "ohe = preprocessing.OneHotEncoder()\n",
    "\n",
    "#reshape the 1-D country array to 2-D as fit_transform expects 2-D and finally fit the object \n",
    "X = ohe.fit_transform(dataOHE.work_rate_att.values.reshape(-1,1)).toarray()\n",
    "\n",
    "#To add this back into the original dataframe \n",
    "dfOneHot = pd.DataFrame(X, columns = [\"work_rate_att_\"+str(int(i)) for i in range(3)]) \n",
    "dataOHE = pd.concat([dataOHE, dfOneHot], axis=1)\n",
    "\n",
    "#droping the cwork_rate_att column \n",
    "dataOHE = dataOHE.drop(['work_rate_att'], axis=1)\n",
    "\n",
    "print(dataOHE[(dataOHE['work_rate_att_0'] == 1.0)].work_rate_att_0.count())\n",
    "print(dataOHE[(dataOHE['work_rate_att_1'] == 1.0)].work_rate_att_1.count())\n",
    "print(dataOHE[(dataOHE['work_rate_att_2'] == 1.0)].work_rate_att_2.count())\n",
    "\n",
    "dataOHE.head()"
   ]
  },
  {
   "cell_type": "code",
   "execution_count": 309,
   "metadata": {},
   "outputs": [
    {
     "name": "stdout",
     "output_type": "stream",
     "text": [
      "23\n",
      "266\n"
     ]
    },
    {
     "data": {
      "text/html": [
       "<div>\n",
       "<style scoped>\n",
       "    .dataframe tbody tr th:only-of-type {\n",
       "        vertical-align: middle;\n",
       "    }\n",
       "\n",
       "    .dataframe tbody tr th {\n",
       "        vertical-align: top;\n",
       "    }\n",
       "\n",
       "    .dataframe thead th {\n",
       "        text-align: right;\n",
       "    }\n",
       "</style>\n",
       "<table border=\"1\" class=\"dataframe\">\n",
       "  <thead>\n",
       "    <tr style=\"text-align: right;\">\n",
       "      <th></th>\n",
       "      <th>age</th>\n",
       "      <th>height_cm</th>\n",
       "      <th>weight_kg</th>\n",
       "      <th>overall</th>\n",
       "      <th>work_rate_att_Low</th>\n",
       "      <th>work_rate_att_Medium</th>\n",
       "    </tr>\n",
       "  </thead>\n",
       "  <tbody>\n",
       "    <tr>\n",
       "      <th>0</th>\n",
       "      <td>20</td>\n",
       "      <td>175</td>\n",
       "      <td>70</td>\n",
       "      <td>58</td>\n",
       "      <td>0</td>\n",
       "      <td>1</td>\n",
       "    </tr>\n",
       "    <tr>\n",
       "      <th>1</th>\n",
       "      <td>29</td>\n",
       "      <td>183</td>\n",
       "      <td>80</td>\n",
       "      <td>65</td>\n",
       "      <td>0</td>\n",
       "      <td>0</td>\n",
       "    </tr>\n",
       "    <tr>\n",
       "      <th>2</th>\n",
       "      <td>35</td>\n",
       "      <td>183</td>\n",
       "      <td>78</td>\n",
       "      <td>67</td>\n",
       "      <td>0</td>\n",
       "      <td>0</td>\n",
       "    </tr>\n",
       "    <tr>\n",
       "      <th>3</th>\n",
       "      <td>24</td>\n",
       "      <td>178</td>\n",
       "      <td>72</td>\n",
       "      <td>69</td>\n",
       "      <td>0</td>\n",
       "      <td>1</td>\n",
       "    </tr>\n",
       "    <tr>\n",
       "      <th>4</th>\n",
       "      <td>23</td>\n",
       "      <td>173</td>\n",
       "      <td>73</td>\n",
       "      <td>70</td>\n",
       "      <td>0</td>\n",
       "      <td>1</td>\n",
       "    </tr>\n",
       "  </tbody>\n",
       "</table>\n",
       "</div>"
      ],
      "text/plain": [
       "   age  height_cm  weight_kg  overall  work_rate_att_Low  work_rate_att_Medium\n",
       "0   20        175         70       58                  0                     1\n",
       "1   29        183         80       65                  0                     0\n",
       "2   35        183         78       67                  0                     0\n",
       "3   24        178         72       69                  0                     1\n",
       "4   23        173         73       70                  0                     1"
      ]
     },
     "execution_count": 309,
     "metadata": {},
     "output_type": "execute_result"
    }
   ],
   "source": [
    "# Turn category into numeric variables\n",
    "# One-Hot Encoding with Pandas get_dummies()\n",
    "model_data = data.copy()\n",
    "model_data = pd.get_dummies(model_data, drop_first=True) # the dropped one is collinear to the other two\n",
    "\n",
    "print(model_data[(model_data['work_rate_att_Low'] == 1.0)].work_rate_att_Low.count())\n",
    "print(model_data[(model_data['work_rate_att_Medium'] == 1.0)].work_rate_att_Medium.count())\n",
    "model_data.head()"
   ]
  },
  {
   "cell_type": "code",
   "execution_count": 310,
   "metadata": {},
   "outputs": [
    {
     "data": {
      "image/png": "[encoded data removed]",
      "text/plain": [
       "<Figure size 640x480 with 2 Axes>"
      ]
     },
     "metadata": {},
     "output_type": "display_data"
    }
   ],
   "source": [
    "# Create histogram of target variable\n",
    "ax = model_data.overall.plot(kind='hist')\n",
    "model_data.overall.plot(kind='kde', ax=ax, secondary_y=True)\n",
    "plt.show()"
   ]
  },
  {
   "cell_type": "code",
   "execution_count": 311,
   "metadata": {},
   "outputs": [],
   "source": [
    "# Define our X and y\n",
    "X = model_data.drop('overall', axis = 'columns')\n",
    "y = model_data.overall"
   ]
  },
  {
   "cell_type": "markdown",
   "metadata": {},
   "source": [
    "## 2. Simple train-test split"
   ]
  },
  {
   "cell_type": "code",
   "execution_count": 312,
   "metadata": {},
   "outputs": [
    {
     "name": "stdout",
     "output_type": "stream",
     "text": [
      "(288, 5) (72, 5)\n"
     ]
    }
   ],
   "source": [
    "# Split into train_&_validation and test sets\n",
    "Xtrain, Xtest, ytrain, ytest = train_test_split(X, y, test_size = 0.20, random_state=seed)\n",
    "print(Xtrain.shape, Xtest.shape)"
   ]
  },
  {
   "cell_type": "code",
   "execution_count": 313,
   "metadata": {},
   "outputs": [
    {
     "name": "stdout",
     "output_type": "stream",
     "text": [
      "Training loss: 33.230\n",
      "Training loss: 40.952\n"
     ]
    }
   ],
   "source": [
    "# Check training and test loss\n",
    "linmodel = LinearRegression().fit(Xtrain, ytrain)\n",
    "\n",
    "trainloss = mean_squared_error(ytrain, linmodel.predict(Xtrain))\n",
    "print(f\"Training loss: %.3f\" %  trainloss)\n",
    "\n",
    "testloss = mean_squared_error(ytest, linmodel.predict(Xtest))\n",
    "print(f\"Training loss: %.3f\" % testloss)"
   ]
  },
  {
   "cell_type": "markdown",
   "metadata": {},
   "source": [
    "## 3. Crossvalidation: define the partitions\n",
    "For more details, see [this.](https://scikit-learn.org/stable/modules/cross_validation.html#cross-validation)\n",
    "\n",
    "For classification with unbalanced classes:\n",
    "[StratifiedKFold](https://scikit-learn.org/stable/modules/generated/sklearn.model_selection.StratifiedKFold.html)"
   ]
  },
  {
   "cell_type": "code",
   "execution_count": 314,
   "metadata": {},
   "outputs": [
    {
     "name": "stdout",
     "output_type": "stream",
     "text": [
      "[ 0  1  2  3  4  5  6  7  8  9 10 11 12 13 14 15 16 17 18 19] \n",
      "\n",
      "Train set: [ 4  5  6  7  8  9 10 11 12 13 14 15 16 17 18 19], Test set: [0 1 2 3]\n",
      "Train set: [ 0  1  2  3  8  9 10 11 12 13 14 15 16 17 18 19], Test set: [4 5 6 7]\n",
      "Train set: [ 0  1  2  3  4  5  6  7 12 13 14 15 16 17 18 19], Test set: [ 8  9 10 11]\n",
      "Train set: [ 0  1  2  3  4  5  6  7  8  9 10 11 16 17 18 19], Test set: [12 13 14 15]\n",
      "Train set: [ 0  1  2  3  4  5  6  7  8  9 10 11 12 13 14 15], Test set: [16 17 18 19]\n"
     ]
    }
   ],
   "source": [
    "# Define Kfold crossvalidation \n",
    "x = np.arange(20)\n",
    "print(x,'\\n')\n",
    "kf = KFold(n_splits=5, shuffle=False)\n",
    "for train, test in kf.split(x):\n",
    "    print(\"Train set: %s, Test set: %s\" % (train, test))"
   ]
  },
  {
   "cell_type": "code",
   "execution_count": 315,
   "metadata": {},
   "outputs": [
    {
     "name": "stdout",
     "output_type": "stream",
     "text": [
      "Train set: [ 0  1  3  4  5  6  7  8  9 10 12 13 15 16 17 19], Test set: [ 2 11 14 18]\n",
      "Train set: [ 1  2  3  5  8  9 10 11 12 13 14 15 16 17 18 19], Test set: [0 4 6 7]\n",
      "Train set: [ 0  1  2  4  5  6  7  8  9 10 11 12 14 16 17 18], Test set: [ 3 13 15 19]\n",
      "Train set: [ 0  1  2  3  4  5  6  7 11 12 13 14 15 16 18 19], Test set: [ 8  9 10 17]\n",
      "Train set: [ 0  2  3  4  6  7  8  9 10 11 13 14 15 17 18 19], Test set: [ 1  5 12 16]\n"
     ]
    }
   ],
   "source": [
    "# Define Kfold crossvalidation with random shuffling\n",
    "x=np.arange(20)\n",
    "kf = KFold(n_splits=5, shuffle=True)\n",
    "for train,test in kf.split(x):\n",
    "    print(\"Train set: %s, Test set: %s\" % (train, test))"
   ]
  },
  {
   "cell_type": "code",
   "execution_count": 316,
   "metadata": {},
   "outputs": [
    {
     "name": "stdout",
     "output_type": "stream",
     "text": [
      "[ 1  2  3  4  5  6  7  8  9 10 11 12 13 14 15 16 17 18 19] [0]\n",
      "[ 0  2  3  4  5  6  7  8  9 10 11 12 13 14 15 16 17 18 19] [1]\n",
      "[ 0  1  3  4  5  6  7  8  9 10 11 12 13 14 15 16 17 18 19] [2]\n",
      "[ 0  1  2  4  5  6  7  8  9 10 11 12 13 14 15 16 17 18 19] [3]\n",
      "[ 0  1  2  3  5  6  7  8  9 10 11 12 13 14 15 16 17 18 19] [4]\n",
      "[ 0  1  2  3  4  6  7  8  9 10 11 12 13 14 15 16 17 18 19] [5]\n",
      "[ 0  1  2  3  4  5  7  8  9 10 11 12 13 14 15 16 17 18 19] [6]\n",
      "[ 0  1  2  3  4  5  6  8  9 10 11 12 13 14 15 16 17 18 19] [7]\n",
      "[ 0  1  2  3  4  5  6  7  9 10 11 12 13 14 15 16 17 18 19] [8]\n",
      "[ 0  1  2  3  4  5  6  7  8 10 11 12 13 14 15 16 17 18 19] [9]\n",
      "[ 0  1  2  3  4  5  6  7  8  9 11 12 13 14 15 16 17 18 19] [10]\n",
      "[ 0  1  2  3  4  5  6  7  8  9 10 12 13 14 15 16 17 18 19] [11]\n",
      "[ 0  1  2  3  4  5  6  7  8  9 10 11 13 14 15 16 17 18 19] [12]\n",
      "[ 0  1  2  3  4  5  6  7  8  9 10 11 12 14 15 16 17 18 19] [13]\n",
      "[ 0  1  2  3  4  5  6  7  8  9 10 11 12 13 15 16 17 18 19] [14]\n",
      "[ 0  1  2  3  4  5  6  7  8  9 10 11 12 13 14 16 17 18 19] [15]\n",
      "[ 0  1  2  3  4  5  6  7  8  9 10 11 12 13 14 15 17 18 19] [16]\n",
      "[ 0  1  2  3  4  5  6  7  8  9 10 11 12 13 14 15 16 18 19] [17]\n",
      "[ 0  1  2  3  4  5  6  7  8  9 10 11 12 13 14 15 16 17 19] [18]\n",
      "[ 0  1  2  3  4  5  6  7  8  9 10 11 12 13 14 15 16 17 18] [19]\n"
     ]
    }
   ],
   "source": [
    "# Leave One Out crossvalidation.\n",
    "# Useful for situations when dataset is too small and you cannot afford leaving out a test set, neither hold-out crossvalidation. \n",
    "# You will use the average of the parameters of the trained models (per fold) to get your final model.\n",
    "# You are actually doing cross-validated test set.\n",
    "x=np.arange(20)\n",
    "loo = LeaveOneOut()\n",
    "for train,test in loo.split(x):\n",
    "    print(\"%s %s\" % (train, test))"
   ]
  },
  {
   "cell_type": "markdown",
   "metadata": {},
   "source": [
    "## 4. Run the crossvalidation"
   ]
  },
  {
   "cell_type": "code",
   "execution_count": 317,
   "metadata": {},
   "outputs": [
    {
     "name": "stdout",
     "output_type": "stream",
     "text": [
      "List of CV loss: [30.107 39.038 33.24  33.382 37.925]\n",
      "Average CV loss: 34.738 +/- 3.292\n"
     ]
    }
   ],
   "source": [
    "# KFold cross-validated loss without shuffling\n",
    "nfolds=5\n",
    "cv_scores = cross_val_score(LinearRegression(), Xtrain, ytrain, scoring=sc, cv=nfolds)\n",
    "\n",
    "print(f'List of CV loss:', cv_scores)\n",
    "print(f\"Average CV loss: %.3f +/- %.3f\" % (cv_scores.mean(), cv_scores.std()))"
   ]
  },
  {
   "cell_type": "code",
   "execution_count": 318,
   "metadata": {},
   "outputs": [
    {
     "name": "stdout",
     "output_type": "stream",
     "text": [
      "List of CV loss: [30.107 39.038 33.24  33.382 37.925]\n",
      "Average CV loss: 34.738 +/- 3.292\n"
     ]
    }
   ],
   "source": [
    "# KFold cross-validated loss without shuffling\n",
    "kf = KFold(n_splits=5, shuffle=False, random_state=None)\n",
    "cv_scores = cross_val_score(LinearRegression(), Xtrain, ytrain, cv=kf, scoring=sc)\n",
    "\n",
    "print(f'List of CV loss:', cv_scores)\n",
    "print(f\"Average CV loss: %.3f +/- %.3f\" % (cv_scores.mean(), cv_scores.std()))"
   ]
  },
  {
   "cell_type": "code",
   "execution_count": 319,
   "metadata": {},
   "outputs": [
    {
     "name": "stdout",
     "output_type": "stream",
     "text": [
      "List of CV loss: [32.168 32.547 27.698 49.119 31.711]\n",
      "Average CV loss: 34.649 +/- 7.442\n"
     ]
    }
   ],
   "source": [
    "# KFold cross-validated loss with shuffling\n",
    "kf = KFold(n_splits=5, shuffle=True, random_state=seed)\n",
    "cv_scores = cross_val_score(LinearRegression(), Xtrain, ytrain, cv=kf, scoring=sc)\n",
    "\n",
    "print(f'List of CV loss:', cv_scores)\n",
    "print(f\"Average CV loss: %.3f +/- %.3f\" % (cv_scores.mean(), cv_scores.std()))"
   ]
  },
  {
   "cell_type": "code",
   "execution_count": 320,
   "metadata": {},
   "outputs": [
    {
     "name": "stdout",
     "output_type": "stream",
     "text": [
      "Average CV loss: 35.832 +/- 50.553\n"
     ]
    }
   ],
   "source": [
    "# Leave One Out cross-validated loss\n",
    "# Use LOO when you have too little data.\n",
    "# It is not a good choice for the \"footballer\" dataset, this cell is just for illustration.\n",
    "kf = LeaveOneOut()\n",
    "cv_scores = cross_val_score(LinearRegression(), X, y, cv=kf, scoring=sc) # for Leave One Out you use the full data set\n",
    "\n",
    "# print(f'List of CV loss:', cv_scores)\n",
    "print(f\"Average CV loss: %.3f +/- %.3f\" % (cv_scores.mean(), cv_scores.std()))"
   ]
  }
 ],
 "metadata": {
  "kernelspec": {
   "display_name": "Python 3.8.10 ('my_env': venv)",
   "language": "python",
   "name": "python3"
  },
  "language_info": {
   "codemirror_mode": {
    "name": "ipython",
    "version": 3
   },
   "file_extension": ".py",
   "mimetype": "text/x-python",
   "name": "python",
   "nbconvert_exporter": "python",
   "pygments_lexer": "ipython3",
   "version": "3.8.10"
  },
  "vscode": {
   "interpreter": {
    "hash": "3420a8792bbc8a921cecec9f5e200567f9d5b83365a03086ee32a665b051d9eb"
   }
  }
 },
 "nbformat": 4,
 "nbformat_minor": 4
}
