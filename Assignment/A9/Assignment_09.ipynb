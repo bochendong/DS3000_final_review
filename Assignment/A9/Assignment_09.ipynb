{
 "cells": [
  {
   "cell_type": "markdown",
   "metadata": {
    "id": "-yO029ffQWaI"
   },
   "source": [
    "# Assignment 9: Clustering Customers of a Comic Book Store\n",
    "\n",
    "In this assignment, you will be solving a traditional problem in quantitative marketing: Customer segmentation. Having a properly segmented database is extremely important to define marketing campaigns, as it allows companies to define value-centric actions targeted towards customers of different profiles. While there are several ways we can cluster customers, in this example we will use the [Recency, Frequency and Monetary Value](https://en.wikipedia.org/wiki/RFM_(market_research)), or RFM, paradigm to do so. This way of thinking of customer data reflects the engagement between a customer and a company by reducing their interactions to three values:\n",
    "\n",
    "- The **Recency** between interactions: The time between two subsequent purchases or between two general interactions between the customer and your organization.\n",
    "\n",
    "- The **Frequency** of interactions: The raw number of interactions over a predefined time. This can be for example how many times a customer visits your website every month, or how many purchases the customer does at your store, etc.\n",
    "\n",
    "- The **Monetary Value** of the interactions: The total monetary value (not necessarily positive) of the interactions of the customer with your organization over the same period of time as before.\n",
    "\n",
    "Additionally, this dataset has a **Cost of Service** variable (which is not included in the MV calculations for this example). It shows how much cost each interaction with the customer brings. This can be useful information as a customer may make purchases of small monetary value, but may spend many hours at the store occupying the service personnel's time. This can mean on average these customers may even end up being a cost to the company! The information comes from a local comic book store, and represents the summary of interactions of the customers with a loyalty card.\n",
    "\n",
    "In this assignment, we will create a clustering of the customers using these four variables and will create a commercial strategy arising from our results."
   ]
  },
  {
   "cell_type": "code",
   "execution_count": 46,
   "metadata": {
    "executionInfo": {
     "elapsed": 766,
     "status": "ok",
     "timestamp": 1616624260897,
     "user": {
      "displayName": "Cristián Bravo",
      "photoUrl": "https://lh3.googleusercontent.com/a-/AOh14GjcJS9Tin3R1_Ke1xowC_yCoeM2DCwoBpMlkbv5=s64",
      "userId": "07563968753594904197"
     },
     "user_tz": 240
    },
    "id": "GCyJlnOeQWao"
   },
   "outputs": [],
   "source": [
    "import numpy as np\n",
    "import pandas as pd\n",
    "import matplotlib.pyplot as plt\n",
    "from sklearn.cluster import KMeans\n",
    "from sklearn.preprocessing import StandardScaler\n",
    "from sklearn.metrics import silhouette_samples, silhouette_score\n",
    "import matplotlib.cm as cm\n",
    "from sklearn.decomposition import PCA\n",
    "\n",
    "%matplotlib inline"
   ]
  },
  {
   "cell_type": "code",
   "execution_count": 47,
   "metadata": {
    "colab": {
     "base_uri": "https://localhost:8080/"
    },
    "executionInfo": {
     "elapsed": 2006,
     "status": "ok",
     "timestamp": 1616623368302,
     "user": {
      "displayName": "Cristián Bravo",
      "photoUrl": "https://lh3.googleusercontent.com/a-/AOh14GjcJS9Tin3R1_Ke1xowC_yCoeM2DCwoBpMlkbv5=s64",
      "userId": "07563968753594904197"
     },
     "user_tz": 240
    },
    "id": "z4lqkyZLQcYz",
    "outputId": "71b680d3-bb7b-4f89-c58f-fc7b0d08a199"
   },
   "outputs": [],
   "source": [
    "# Uncomment if working in the cloud\n",
    "#!gdown https://drive.google.com/uc?id=1VL-LjrjgCtGWkDw914MVLj2sEttlL2Uv"
   ]
  },
  {
   "cell_type": "markdown",
   "metadata": {
    "id": "-_T0o7l0QWav"
   },
   "source": [
    "## Task 1: Studying the data [10 pts]\n",
    "\n",
    "Import the data and present the descriptive statistics of all variables. **Written answer: What can you say about the variables you have? Why should you normalize the data?**. Normalize the data so you can create clusters."
   ]
  },
  {
   "cell_type": "code",
   "execution_count": 48,
   "metadata": {
    "colab": {
     "base_uri": "https://localhost:8080/",
     "height": 300
    },
    "executionInfo": {
     "elapsed": 764,
     "status": "ok",
     "timestamp": 1616623374633,
     "user": {
      "displayName": "Cristián Bravo",
      "photoUrl": "https://lh3.googleusercontent.com/a-/AOh14GjcJS9Tin3R1_Ke1xowC_yCoeM2DCwoBpMlkbv5=s64",
      "userId": "07563968753594904197"
     },
     "user_tz": 240
    },
    "id": "jZlwYg5eQWaz",
    "outputId": "9f54ba2e-3b04-4c42-d0cb-a95714f1dfcb"
   },
   "outputs": [],
   "source": [
    "# Read the data\n",
    "data = pd.read_csv(\"RFM_Assignment_09.csv\")\n"
   ]
  },
  {
   "cell_type": "code",
   "execution_count": 49,
   "metadata": {},
   "outputs": [
    {
     "data": {
      "text/html": [
       "<div>\n",
       "<style scoped>\n",
       "    .dataframe tbody tr th:only-of-type {\n",
       "        vertical-align: middle;\n",
       "    }\n",
       "\n",
       "    .dataframe tbody tr th {\n",
       "        vertical-align: top;\n",
       "    }\n",
       "\n",
       "    .dataframe thead th {\n",
       "        text-align: right;\n",
       "    }\n",
       "</style>\n",
       "<table border=\"1\" class=\"dataframe\">\n",
       "  <thead>\n",
       "    <tr style=\"text-align: right;\">\n",
       "      <th></th>\n",
       "      <th>Recency</th>\n",
       "      <th>Frequency</th>\n",
       "      <th>MV</th>\n",
       "      <th>CoS</th>\n",
       "    </tr>\n",
       "  </thead>\n",
       "  <tbody>\n",
       "    <tr>\n",
       "      <th>count</th>\n",
       "      <td>1000.000000</td>\n",
       "      <td>1000.000000</td>\n",
       "      <td>1000.000000</td>\n",
       "      <td>1000.000000</td>\n",
       "    </tr>\n",
       "    <tr>\n",
       "      <th>mean</th>\n",
       "      <td>30.116293</td>\n",
       "      <td>17.164128</td>\n",
       "      <td>8806.972152</td>\n",
       "      <td>8805.228492</td>\n",
       "    </tr>\n",
       "    <tr>\n",
       "      <th>std</th>\n",
       "      <td>17.742131</td>\n",
       "      <td>29.419952</td>\n",
       "      <td>3391.111080</td>\n",
       "      <td>3285.384316</td>\n",
       "    </tr>\n",
       "    <tr>\n",
       "      <th>min</th>\n",
       "      <td>-4.942628</td>\n",
       "      <td>-1.237633</td>\n",
       "      <td>760.115629</td>\n",
       "      <td>944.136187</td>\n",
       "    </tr>\n",
       "    <tr>\n",
       "      <th>25%</th>\n",
       "      <td>18.221827</td>\n",
       "      <td>3.710640</td>\n",
       "      <td>8065.394231</td>\n",
       "      <td>9957.361435</td>\n",
       "    </tr>\n",
       "    <tr>\n",
       "      <th>50%</th>\n",
       "      <td>28.588186</td>\n",
       "      <td>6.030687</td>\n",
       "      <td>10462.416975</td>\n",
       "      <td>10000.463454</td>\n",
       "    </tr>\n",
       "    <tr>\n",
       "      <th>75%</th>\n",
       "      <td>35.880252</td>\n",
       "      <td>9.999136</td>\n",
       "      <td>10608.634596</td>\n",
       "      <td>10041.297949</td>\n",
       "    </tr>\n",
       "    <tr>\n",
       "      <th>max</th>\n",
       "      <td>67.258701</td>\n",
       "      <td>102.189321</td>\n",
       "      <td>11139.504803</td>\n",
       "      <td>11054.536104</td>\n",
       "    </tr>\n",
       "  </tbody>\n",
       "</table>\n",
       "</div>"
      ],
      "text/plain": [
       "           Recency    Frequency            MV           CoS\n",
       "count  1000.000000  1000.000000   1000.000000   1000.000000\n",
       "mean     30.116293    17.164128   8806.972152   8805.228492\n",
       "std      17.742131    29.419952   3391.111080   3285.384316\n",
       "min      -4.942628    -1.237633    760.115629    944.136187\n",
       "25%      18.221827     3.710640   8065.394231   9957.361435\n",
       "50%      28.588186     6.030687  10462.416975  10000.463454\n",
       "75%      35.880252     9.999136  10608.634596  10041.297949\n",
       "max      67.258701   102.189321  11139.504803  11054.536104"
      ]
     },
     "execution_count": 49,
     "metadata": {},
     "output_type": "execute_result"
    }
   ],
   "source": [
    "data.describe()"
   ]
  },
  {
   "cell_type": "code",
   "execution_count": 50,
   "metadata": {
    "executionInfo": {
     "elapsed": 845,
     "status": "ok",
     "timestamp": 1616623379419,
     "user": {
      "displayName": "Cristián Bravo",
      "photoUrl": "https://lh3.googleusercontent.com/a-/AOh14GjcJS9Tin3R1_Ke1xowC_yCoeM2DCwoBpMlkbv5=s64",
      "userId": "07563968753594904197"
     },
     "user_tz": 240
    },
    "id": "69VPmEieQWa-"
   },
   "outputs": [],
   "source": [
    "# Normalize (Standard) and apply to the data\n",
    "scaler = StandardScaler()\n",
    "df = scaler.fit_transform(data)"
   ]
  },
  {
   "cell_type": "markdown",
   "metadata": {},
   "source": [
    "**Written answer:**"
   ]
  },
  {
   "cell_type": "markdown",
   "metadata": {
    "id": "Q2BwinsqQWbC"
   },
   "source": [
    "## Task 2: K-Means Clustering and Silhoutte Analysis [30 pts]\n",
    "\n",
    "Now we can perform the cluster analysis. The single most important question in cluster analysis is to determine the number of clusters that you should create. Following the labs (or [this tutorial](https://scikit-learn.org/stable/auto_examples/cluster/plot_kmeans_silhouette_analysis.html)), try between 3 and 8 clusters, using a seed of 10, and plot their silouhette analyses (we will plot the clusters themselves in the next question). **Written answer: What is the optimal number of clusters using the silhouette method?**"
   ]
  },
  {
   "cell_type": "code",
   "execution_count": 51,
   "metadata": {
    "colab": {
     "base_uri": "https://localhost:8080/",
     "height": 1000
    },
    "executionInfo": {
     "elapsed": 2312,
     "status": "ok",
     "timestamp": 1616623396148,
     "user": {
      "displayName": "Cristián Bravo",
      "photoUrl": "https://lh3.googleusercontent.com/a-/AOh14GjcJS9Tin3R1_Ke1xowC_yCoeM2DCwoBpMlkbv5=s64",
      "userId": "07563968753594904197"
     },
     "user_tz": 240
    },
    "id": "mHRweSWdQWbE",
    "outputId": "25fb94bd-5994-4230-9804-b78e6b491d48"
   },
   "outputs": [
    {
     "name": "stdout",
     "output_type": "stream",
     "text": [
      "For n_clusters = 3 The average silhouette_score is : 0.7441085737382345\n",
      "For n_clusters = 4 The average silhouette_score is : 0.7899120450839303\n",
      "For n_clusters = 5 The average silhouette_score is : 0.7249329012890495\n",
      "For n_clusters = 6 The average silhouette_score is : 0.6556732220239838\n",
      "For n_clusters = 7 The average silhouette_score is : 0.6513064350384186\n",
      "For n_clusters = 8 The average silhouette_score is : 0.6142740011419974\n"
     ]
    }
   ],
   "source": [
    "# Your answer here.\n",
    "labelsThree = []\n",
    "labelsFour = []\n",
    "labelsFive = []\n",
    "for n_clusters in range (3, 9):\n",
    "    clusterer = KMeans(n_clusters=n_clusters, random_state=10)\n",
    "    cluster_labels = clusterer.fit_predict(df)\n",
    "\n",
    "    silhouette_avg = silhouette_score(df, cluster_labels)\n",
    "    print(\n",
    "        \"For n_clusters =\",\n",
    "        n_clusters,\n",
    "        \"The average silhouette_score is :\",\n",
    "        silhouette_avg,\n",
    "    )\n",
    "    if (n_clusters == 3): labelsThree = cluster_labels\n",
    "    elif (n_clusters == 4): labelsFour = cluster_labels\n",
    "    elif (n_clusters == 5): labelsFive = cluster_labels\n"
   ]
  },
  {
   "cell_type": "markdown",
   "metadata": {
    "id": "huAfboXQQWbJ"
   },
   "source": [
    "**Written answer:** The optimal number of clusters is 4 if we are using the silhouette method."
   ]
  },
  {
   "cell_type": "markdown",
   "metadata": {
    "id": "SkTSVFzWQWbM"
   },
   "source": [
    "## Task 3: Plotting the clusters [20 pts]\n",
    "\n",
    "Now we will visualize what we just did. For this we will use a common trick in clustering: use a PCA transform to reduce the data to a few variables (two or three) and plot those. Apply a PCA transform to the data using two components and create a scatterplot, differentiating by using colours the clusters from previous answer using a different colour. **Note the clusters still must be calculated over the unrotated data**. Use only your results from using 3, 4 and 5 clusters. **Written answer: How many clusters would you use considering the results of task 2 and these ones?**"
   ]
  },
  {
   "cell_type": "code",
   "execution_count": 52,
   "metadata": {
    "id": "mZg4CbX_Re1e"
   },
   "outputs": [],
   "source": [
    "# Your code here. Add as many cells as you need!\n",
    "pca = PCA(n_components=2)\n",
    "pca.fit(df)\n",
    "z = pca.transform(df)"
   ]
  },
  {
   "cell_type": "code",
   "execution_count": 53,
   "metadata": {},
   "outputs": [
    {
     "data": {
      "image/png": "[encoded data removed]",
      "text/plain": [
       "<Figure size 640x480 with 1 Axes>"
      ]
     },
     "metadata": {},
     "output_type": "display_data"
    }
   ],
   "source": [
    "c = []\n",
    "for label in labelsThree:\n",
    "    if label == 0: c.append('red')\n",
    "    elif label == 1: c.append('blue')\n",
    "    elif label == 2: c.append('green')\n",
    "\n",
    "plt.title(\"cluster = 3\")\n",
    "plt.scatter(z[:, 0], z[:, 1], c = c)\n",
    "plt.show()"
   ]
  },
  {
   "cell_type": "code",
   "execution_count": 54,
   "metadata": {},
   "outputs": [
    {
     "data": {
      "image/png": "[encoded data removed]",
      "text/plain": [
       "<Figure size 640x480 with 1 Axes>"
      ]
     },
     "metadata": {},
     "output_type": "display_data"
    }
   ],
   "source": [
    "c = []\n",
    "for label in labelsFour:\n",
    "    if label == 0: c.append('red')\n",
    "    elif label == 1: c.append('blue')\n",
    "    elif label == 2: c.append('green')\n",
    "    elif label == 3: c.append('orange')\n",
    "\n",
    "plt.title(\"cluster = 4\")\n",
    "plt.scatter(z[:, 0], z[:, 1], c = c)\n",
    "plt.show()"
   ]
  },
  {
   "cell_type": "code",
   "execution_count": 55,
   "metadata": {},
   "outputs": [
    {
     "data": {
      "image/png": "[encoded data removed]",
      "text/plain": [
       "<Figure size 640x480 with 1 Axes>"
      ]
     },
     "metadata": {},
     "output_type": "display_data"
    }
   ],
   "source": [
    "c = []\n",
    "for label in labelsFive:\n",
    "    if label == 0: c.append('red')\n",
    "    elif label == 1: c.append('blue')\n",
    "    elif label == 2: c.append('green')\n",
    "    elif label == 3: c.append('orange')\n",
    "    elif label == 4: c.append('black')\n",
    "\n",
    "plt.title(\"cluster = 5\")\n",
    "plt.scatter(z[:, 0], z[:, 1], c = c)\n",
    "plt.show()"
   ]
  },
  {
   "cell_type": "markdown",
   "metadata": {},
   "source": [
    "**Written answer:**\n",
    "\n",
    "I will use cluster = 4 as the result."
   ]
  },
  {
   "cell_type": "markdown",
   "metadata": {
    "id": "CXSmQIetQWbP"
   },
   "source": [
    "## Task 4: Deploying the model. [20 pts]\n",
    "\n",
    "The objective of any cluster analysis over customer data is to create a reasonable segmentation of your customers. Using the number of clusters you have decided in Task 3 and a table of the averages per variable for each cluster, name the different clusters and think what would a company would do with a customer in that cluster. (*Hint: For example a clusters with high frequency, low recency, and low monetary value are desirable customers for whom it would be a good plan to try to increase their monetary value while keeping their high engagement. You could name them \"Diamonds in the rough\". [Pandas' `groupby`](https://stackoverflow.com/questions/30328646/python-pandas-group-by-in-group-by-and-average) can probably help.*)"
   ]
  },
  {
   "cell_type": "code",
   "execution_count": 83,
   "metadata": {},
   "outputs": [
    {
     "data": {
      "image/png": "[encoded data removed]",
      "text/plain": [
       "<Figure size 1500x1000 with 4 Axes>"
      ]
     },
     "metadata": {},
     "output_type": "display_data"
    }
   ],
   "source": [
    "# Your code here.\n",
    "import seaborn as sns\n",
    "df2 = data.assign(label=labelsFour)\n",
    "\n",
    "df_label_0 = df2[df['label'] == 0]\n",
    "df_label_1 = df2[df['label'] == 1]\n",
    "df_label_2 = df2[df['label'] == 2]\n",
    "df_label_3 = df2[df['label'] == 3]\n",
    "fig, axs = plt.subplots(2, 2, figsize=(15, 10))\n",
    "\n",
    "sns.boxenplot(ax = axs[0][0], data=df2, x=\"label\", y=\"Recency\")\n",
    "axs[0][0].set_title(\"Recency distribution\")\n",
    "sns.boxenplot(ax = axs[0][1], data=df2, x=\"label\", y=\"Frequency\")\n",
    "axs[0][1].set_title(\"Frequency distribution\")\n",
    "sns.boxenplot(ax = axs[1][0], data=df2, x=\"label\", y=\"MV\")\n",
    "axs[1][0].set_title(\"MV distribution\")\n",
    "sns.boxenplot(ax = axs[1][1], data=df2, x=\"label\", y=\"CoS\")\n",
    "axs[1][1].set_title(\"CoS distribution\")\n",
    "\n",
    "plt.show()"
   ]
  },
  {
   "cell_type": "code",
   "execution_count": 84,
   "metadata": {},
   "outputs": [
    {
     "data": {
      "text/html": [
       "<div>\n",
       "<style scoped>\n",
       "    .dataframe tbody tr th:only-of-type {\n",
       "        vertical-align: middle;\n",
       "    }\n",
       "\n",
       "    .dataframe tbody tr th {\n",
       "        vertical-align: top;\n",
       "    }\n",
       "\n",
       "    .dataframe thead th {\n",
       "        text-align: right;\n",
       "    }\n",
       "</style>\n",
       "<table border=\"1\" class=\"dataframe\">\n",
       "  <thead>\n",
       "    <tr style=\"text-align: right;\">\n",
       "      <th></th>\n",
       "      <th>Recency</th>\n",
       "      <th>Frequency</th>\n",
       "      <th>MV</th>\n",
       "      <th>CoS</th>\n",
       "      <th>label</th>\n",
       "    </tr>\n",
       "  </thead>\n",
       "  <tbody>\n",
       "    <tr>\n",
       "      <th>count</th>\n",
       "      <td>700.000000</td>\n",
       "      <td>700.000000</td>\n",
       "      <td>700.000000</td>\n",
       "      <td>700.000000</td>\n",
       "      <td>700.0</td>\n",
       "    </tr>\n",
       "    <tr>\n",
       "      <th>mean</th>\n",
       "      <td>25.701424</td>\n",
       "      <td>6.473078</td>\n",
       "      <td>10638.156654</td>\n",
       "      <td>9999.979644</td>\n",
       "      <td>0.0</td>\n",
       "    </tr>\n",
       "    <tr>\n",
       "      <th>std</th>\n",
       "      <td>7.957774</td>\n",
       "      <td>2.585076</td>\n",
       "      <td>240.972598</td>\n",
       "      <td>33.382137</td>\n",
       "      <td>0.0</td>\n",
       "    </tr>\n",
       "    <tr>\n",
       "      <th>min</th>\n",
       "      <td>8.052767</td>\n",
       "      <td>2.777994</td>\n",
       "      <td>10360.012241</td>\n",
       "      <td>9944.056083</td>\n",
       "      <td>0.0</td>\n",
       "    </tr>\n",
       "    <tr>\n",
       "      <th>25%</th>\n",
       "      <td>20.116087</td>\n",
       "      <td>4.311432</td>\n",
       "      <td>10449.051974</td>\n",
       "      <td>9969.763056</td>\n",
       "      <td>0.0</td>\n",
       "    </tr>\n",
       "    <tr>\n",
       "      <th>50%</th>\n",
       "      <td>27.269611</td>\n",
       "      <td>6.030687</td>\n",
       "      <td>10552.181315</td>\n",
       "      <td>10000.463454</td>\n",
       "      <td>0.0</td>\n",
       "    </tr>\n",
       "    <tr>\n",
       "      <th>75%</th>\n",
       "      <td>32.130914</td>\n",
       "      <td>8.225224</td>\n",
       "      <td>10889.242888</td>\n",
       "      <td>10030.040537</td>\n",
       "      <td>0.0</td>\n",
       "    </tr>\n",
       "    <tr>\n",
       "      <th>max</th>\n",
       "      <td>37.235872</td>\n",
       "      <td>12.205143</td>\n",
       "      <td>11139.504803</td>\n",
       "      <td>10055.771655</td>\n",
       "      <td>0.0</td>\n",
       "    </tr>\n",
       "  </tbody>\n",
       "</table>\n",
       "</div>"
      ],
      "text/plain": [
       "          Recency   Frequency            MV           CoS  label\n",
       "count  700.000000  700.000000    700.000000    700.000000  700.0\n",
       "mean    25.701424    6.473078  10638.156654   9999.979644    0.0\n",
       "std      7.957774    2.585076    240.972598     33.382137    0.0\n",
       "min      8.052767    2.777994  10360.012241   9944.056083    0.0\n",
       "25%     20.116087    4.311432  10449.051974   9969.763056    0.0\n",
       "50%     27.269611    6.030687  10552.181315  10000.463454    0.0\n",
       "75%     32.130914    8.225224  10889.242888  10030.040537    0.0\n",
       "max     37.235872   12.205143  11139.504803  10055.771655    0.0"
      ]
     },
     "execution_count": 84,
     "metadata": {},
     "output_type": "execute_result"
    }
   ],
   "source": [
    "df_label_0.describe()"
   ]
  },
  {
   "cell_type": "code",
   "execution_count": 85,
   "metadata": {},
   "outputs": [
    {
     "data": {
      "text/html": [
       "<div>\n",
       "<style scoped>\n",
       "    .dataframe tbody tr th:only-of-type {\n",
       "        vertical-align: middle;\n",
       "    }\n",
       "\n",
       "    .dataframe tbody tr th {\n",
       "        vertical-align: top;\n",
       "    }\n",
       "\n",
       "    .dataframe thead th {\n",
       "        text-align: right;\n",
       "    }\n",
       "</style>\n",
       "<table border=\"1\" class=\"dataframe\">\n",
       "  <thead>\n",
       "    <tr style=\"text-align: right;\">\n",
       "      <th></th>\n",
       "      <th>Recency</th>\n",
       "      <th>Frequency</th>\n",
       "      <th>MV</th>\n",
       "      <th>CoS</th>\n",
       "      <th>label</th>\n",
       "    </tr>\n",
       "  </thead>\n",
       "  <tbody>\n",
       "    <tr>\n",
       "      <th>count</th>\n",
       "      <td>100.000000</td>\n",
       "      <td>100.000000</td>\n",
       "      <td>100.000000</td>\n",
       "      <td>100.000000</td>\n",
       "      <td>100.0</td>\n",
       "    </tr>\n",
       "    <tr>\n",
       "      <th>mean</th>\n",
       "      <td>2.167553</td>\n",
       "      <td>99.947029</td>\n",
       "      <td>1153.133946</td>\n",
       "      <td>1005.710736</td>\n",
       "      <td>1.0</td>\n",
       "    </tr>\n",
       "    <tr>\n",
       "      <th>std</th>\n",
       "      <td>4.228345</td>\n",
       "      <td>1.203076</td>\n",
       "      <td>81.544220</td>\n",
       "      <td>32.102917</td>\n",
       "      <td>0.0</td>\n",
       "    </tr>\n",
       "    <tr>\n",
       "      <th>min</th>\n",
       "      <td>-4.942628</td>\n",
       "      <td>97.882770</td>\n",
       "      <td>1012.645633</td>\n",
       "      <td>944.136187</td>\n",
       "      <td>1.0</td>\n",
       "    </tr>\n",
       "    <tr>\n",
       "      <th>25%</th>\n",
       "      <td>-1.329268</td>\n",
       "      <td>99.023696</td>\n",
       "      <td>1085.175482</td>\n",
       "      <td>986.373996</td>\n",
       "      <td>1.0</td>\n",
       "    </tr>\n",
       "    <tr>\n",
       "      <th>50%</th>\n",
       "      <td>2.327978</td>\n",
       "      <td>99.692807</td>\n",
       "      <td>1153.338488</td>\n",
       "      <td>1006.826503</td>\n",
       "      <td>1.0</td>\n",
       "    </tr>\n",
       "    <tr>\n",
       "      <th>75%</th>\n",
       "      <td>5.493970</td>\n",
       "      <td>101.017464</td>\n",
       "      <td>1224.531719</td>\n",
       "      <td>1033.566973</td>\n",
       "      <td>1.0</td>\n",
       "    </tr>\n",
       "    <tr>\n",
       "      <th>max</th>\n",
       "      <td>9.221921</td>\n",
       "      <td>102.189321</td>\n",
       "      <td>1287.786104</td>\n",
       "      <td>1055.252207</td>\n",
       "      <td>1.0</td>\n",
       "    </tr>\n",
       "  </tbody>\n",
       "</table>\n",
       "</div>"
      ],
      "text/plain": [
       "          Recency   Frequency           MV          CoS  label\n",
       "count  100.000000  100.000000   100.000000   100.000000  100.0\n",
       "mean     2.167553   99.947029  1153.133946  1005.710736    1.0\n",
       "std      4.228345    1.203076    81.544220    32.102917    0.0\n",
       "min     -4.942628   97.882770  1012.645633   944.136187    1.0\n",
       "25%     -1.329268   99.023696  1085.175482   986.373996    1.0\n",
       "50%      2.327978   99.692807  1153.338488  1006.826503    1.0\n",
       "75%      5.493970  101.017464  1224.531719  1033.566973    1.0\n",
       "max      9.221921  102.189321  1287.786104  1055.252207    1.0"
      ]
     },
     "execution_count": 85,
     "metadata": {},
     "output_type": "execute_result"
    }
   ],
   "source": [
    "df_label_1.describe()"
   ]
  },
  {
   "cell_type": "code",
   "execution_count": 86,
   "metadata": {},
   "outputs": [
    {
     "data": {
      "text/html": [
       "<div>\n",
       "<style scoped>\n",
       "    .dataframe tbody tr th:only-of-type {\n",
       "        vertical-align: middle;\n",
       "    }\n",
       "\n",
       "    .dataframe tbody tr th {\n",
       "        vertical-align: top;\n",
       "    }\n",
       "\n",
       "    .dataframe thead th {\n",
       "        text-align: right;\n",
       "    }\n",
       "</style>\n",
       "<table border=\"1\" class=\"dataframe\">\n",
       "  <thead>\n",
       "    <tr style=\"text-align: right;\">\n",
       "      <th></th>\n",
       "      <th>Recency</th>\n",
       "      <th>Frequency</th>\n",
       "      <th>MV</th>\n",
       "      <th>CoS</th>\n",
       "      <th>label</th>\n",
       "    </tr>\n",
       "  </thead>\n",
       "  <tbody>\n",
       "    <tr>\n",
       "      <th>count</th>\n",
       "      <td>150.000000</td>\n",
       "      <td>150.000000</td>\n",
       "      <td>150.000000</td>\n",
       "      <td>150.000000</td>\n",
       "      <td>150.0</td>\n",
       "    </tr>\n",
       "    <tr>\n",
       "      <th>mean</th>\n",
       "      <td>59.809092</td>\n",
       "      <td>0.868768</td>\n",
       "      <td>8007.350500</td>\n",
       "      <td>11001.099604</td>\n",
       "      <td>2.0</td>\n",
       "    </tr>\n",
       "    <tr>\n",
       "      <th>std</th>\n",
       "      <td>4.104544</td>\n",
       "      <td>1.142074</td>\n",
       "      <td>83.070355</td>\n",
       "      <td>33.091451</td>\n",
       "      <td>0.0</td>\n",
       "    </tr>\n",
       "    <tr>\n",
       "      <th>min</th>\n",
       "      <td>52.790746</td>\n",
       "      <td>-1.237633</td>\n",
       "      <td>7860.643360</td>\n",
       "      <td>10944.122763</td>\n",
       "      <td>2.0</td>\n",
       "    </tr>\n",
       "    <tr>\n",
       "      <th>25%</th>\n",
       "      <td>56.174893</td>\n",
       "      <td>0.035648</td>\n",
       "      <td>7944.370825</td>\n",
       "      <td>10975.109796</td>\n",
       "      <td>2.0</td>\n",
       "    </tr>\n",
       "    <tr>\n",
       "      <th>50%</th>\n",
       "      <td>59.485465</td>\n",
       "      <td>0.802377</td>\n",
       "      <td>8007.687076</td>\n",
       "      <td>10999.460174</td>\n",
       "      <td>2.0</td>\n",
       "    </tr>\n",
       "    <tr>\n",
       "      <th>75%</th>\n",
       "      <td>63.315894</td>\n",
       "      <td>1.672611</td>\n",
       "      <td>8082.226819</td>\n",
       "      <td>11030.883409</td>\n",
       "      <td>2.0</td>\n",
       "    </tr>\n",
       "    <tr>\n",
       "      <th>max</th>\n",
       "      <td>67.258701</td>\n",
       "      <td>3.189477</td>\n",
       "      <td>8136.960175</td>\n",
       "      <td>11054.536104</td>\n",
       "      <td>2.0</td>\n",
       "    </tr>\n",
       "  </tbody>\n",
       "</table>\n",
       "</div>"
      ],
      "text/plain": [
       "          Recency   Frequency           MV           CoS  label\n",
       "count  150.000000  150.000000   150.000000    150.000000  150.0\n",
       "mean    59.809092    0.868768  8007.350500  11001.099604    2.0\n",
       "std      4.104544    1.142074    83.070355     33.091451    0.0\n",
       "min     52.790746   -1.237633  7860.643360  10944.122763    2.0\n",
       "25%     56.174893    0.035648  7944.370825  10975.109796    2.0\n",
       "50%     59.485465    0.802377  8007.687076  10999.460174    2.0\n",
       "75%     63.315894    1.672611  8082.226819  11030.883409    2.0\n",
       "max     67.258701    3.189477  8136.960175  11054.536104    2.0"
      ]
     },
     "execution_count": 86,
     "metadata": {},
     "output_type": "execute_result"
    }
   ],
   "source": [
    "df_label_2.describe()"
   ]
  },
  {
   "cell_type": "code",
   "execution_count": 87,
   "metadata": {},
   "outputs": [
    {
     "data": {
      "text/html": [
       "<div>\n",
       "<style scoped>\n",
       "    .dataframe tbody tr th:only-of-type {\n",
       "        vertical-align: middle;\n",
       "    }\n",
       "\n",
       "    .dataframe tbody tr th {\n",
       "        vertical-align: top;\n",
       "    }\n",
       "\n",
       "    .dataframe thead th {\n",
       "        text-align: right;\n",
       "    }\n",
       "</style>\n",
       "<table border=\"1\" class=\"dataframe\">\n",
       "  <thead>\n",
       "    <tr style=\"text-align: right;\">\n",
       "      <th></th>\n",
       "      <th>Recency</th>\n",
       "      <th>Frequency</th>\n",
       "      <th>MV</th>\n",
       "      <th>CoS</th>\n",
       "      <th>label</th>\n",
       "    </tr>\n",
       "  </thead>\n",
       "  <tbody>\n",
       "    <tr>\n",
       "      <th>count</th>\n",
       "      <td>50.000000</td>\n",
       "      <td>50.000000</td>\n",
       "      <td>50.000000</td>\n",
       "      <td>50.000000</td>\n",
       "      <td>50.0</td>\n",
       "    </tr>\n",
       "    <tr>\n",
       "      <th>mean</th>\n",
       "      <td>58.743535</td>\n",
       "      <td>50.159107</td>\n",
       "      <td>876.930495</td>\n",
       "      <td>1090.134542</td>\n",
       "      <td>3.0</td>\n",
       "    </tr>\n",
       "    <tr>\n",
       "      <th>std</th>\n",
       "      <td>4.382033</td>\n",
       "      <td>1.318127</td>\n",
       "      <td>75.859663</td>\n",
       "      <td>32.592864</td>\n",
       "      <td>0.0</td>\n",
       "    </tr>\n",
       "    <tr>\n",
       "      <th>min</th>\n",
       "      <td>52.753541</td>\n",
       "      <td>47.901820</td>\n",
       "      <td>760.115629</td>\n",
       "      <td>1046.817949</td>\n",
       "      <td>3.0</td>\n",
       "    </tr>\n",
       "    <tr>\n",
       "      <th>25%</th>\n",
       "      <td>55.527924</td>\n",
       "      <td>48.957502</td>\n",
       "      <td>814.090007</td>\n",
       "      <td>1062.361274</td>\n",
       "      <td>3.0</td>\n",
       "    </tr>\n",
       "    <tr>\n",
       "      <th>50%</th>\n",
       "      <td>57.268206</td>\n",
       "      <td>50.339871</td>\n",
       "      <td>867.849781</td>\n",
       "      <td>1083.452841</td>\n",
       "      <td>3.0</td>\n",
       "    </tr>\n",
       "    <tr>\n",
       "      <th>75%</th>\n",
       "      <td>62.160759</td>\n",
       "      <td>51.299551</td>\n",
       "      <td>921.873205</td>\n",
       "      <td>1117.329997</td>\n",
       "      <td>3.0</td>\n",
       "    </tr>\n",
       "    <tr>\n",
       "      <th>max</th>\n",
       "      <td>67.219213</td>\n",
       "      <td>52.141234</td>\n",
       "      <td>1039.075886</td>\n",
       "      <td>1155.510954</td>\n",
       "      <td>3.0</td>\n",
       "    </tr>\n",
       "  </tbody>\n",
       "</table>\n",
       "</div>"
      ],
      "text/plain": [
       "         Recency  Frequency           MV          CoS  label\n",
       "count  50.000000  50.000000    50.000000    50.000000   50.0\n",
       "mean   58.743535  50.159107   876.930495  1090.134542    3.0\n",
       "std     4.382033   1.318127    75.859663    32.592864    0.0\n",
       "min    52.753541  47.901820   760.115629  1046.817949    3.0\n",
       "25%    55.527924  48.957502   814.090007  1062.361274    3.0\n",
       "50%    57.268206  50.339871   867.849781  1083.452841    3.0\n",
       "75%    62.160759  51.299551   921.873205  1117.329997    3.0\n",
       "max    67.219213  52.141234  1039.075886  1155.510954    3.0"
      ]
     },
     "execution_count": 87,
     "metadata": {},
     "output_type": "execute_result"
    }
   ],
   "source": [
    "df_label_3.describe()"
   ]
  },
  {
   "cell_type": "markdown",
   "metadata": {
    "id": "OIwOE_ZdQWbV"
   },
   "source": [
    "**Written answer: (note this answer will be much longer than usual as you need to make an argument for every cluster)**\n",
    "\n",
    "For cluster 0, 70% of customer are this category, customer has low frequency, medium recency, high MV and COS. I call this group \"Dimond\", I will try to send email to them to increase the recency and frequency, then try to reduce the COS of these set of customers.\n",
    "\n",
    "For cluster 1, 10% customers are this category, customer has low recency, MV and COS and has high frequency. I call this group \"Sliver\", I will try to reduce the COS of these set of customers.\n",
    "\n",
    "For cluster 2, 15% customers are this category, they have low frequency, medium MV, high recency and COS. I call this group \"Gold\", I will try to increase the frequency and try to reduce the COS of these set of customers.\n",
    "\n",
    "For cluster 3, 5% customers are this category, they have low MV, COS, medium frequency and high recency. I call this group \"Gem\", I will try to introuduce them more of our products to increase MV."
   ]
  }
 ],
 "metadata": {
  "colab": {
   "name": "Assignment_Week11_Solution.ipynb",
   "provenance": []
  },
  "kernelspec": {
   "display_name": "Python 3.10.6 64-bit",
   "language": "python",
   "name": "python3"
  },
  "language_info": {
   "codemirror_mode": {
    "name": "ipython",
    "version": 3
   },
   "file_extension": ".py",
   "mimetype": "text/x-python",
   "name": "python",
   "nbconvert_exporter": "python",
   "pygments_lexer": "ipython3",
   "version": "3.10.6"
  },
  "vscode": {
   "interpreter": {
    "hash": "aee8b7b246df8f9039afb4144a1f6fd8d2ca17a180786b69acc140d282b71a49"
   }
  }
 },
 "nbformat": 4,
 "nbformat_minor": 4
}
