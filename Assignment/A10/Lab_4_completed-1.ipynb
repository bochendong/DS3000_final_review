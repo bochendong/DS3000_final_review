{
 "cells": [
  {
   "attachments": {},
   "cell_type": "markdown",
   "metadata": {},
   "source": [
    "# Lab 4: ANN Regression Example using Keras\n",
    "[Keras](https://keras.io/) provides a Python interface for the [TensorFlow](https://www.tensorflow.org/) library."
   ]
  },
  {
   "cell_type": "code",
   "execution_count": 10,
   "metadata": {},
   "outputs": [],
   "source": [
    "import numpy as np\n",
    "import pandas as pd\n",
    "import sklearn\n",
    "from sklearn.model_selection import train_test_split\n",
    "from sklearn.preprocessing import StandardScaler\n",
    "\n",
    "# !python3 -m pip install -U tensorflow\n",
    "import tensorflow as tf\n",
    "from tensorflow import keras\n",
    "\n",
    "seed = 184\n",
    "np.random.seed(seed)\n",
    "tf.random.set_seed(seed)"
   ]
  },
  {
   "cell_type": "code",
   "execution_count": 11,
   "metadata": {},
   "outputs": [
    {
     "name": "stdout",
     "output_type": "stream",
     "text": [
      "Features: ['MedInc', 'HouseAge', 'AveRooms', 'AveBedrms', 'Population', 'AveOccup', 'Latitude', 'Longitude']\n",
      "Target: ['MedHouseVal']\n"
     ]
    }
   ],
   "source": [
    "# For simplicity, we use Scikit-Learn’s fetch_california_housing() function to load the data.\n",
    "# This dataset is simpler than the one we used earlier in the course, since it contains only\n",
    "# numerical features (there is no ocean_proximity feature), and there is no missing value:\n",
    "from sklearn.datasets import fetch_california_housing\n",
    "housing = fetch_california_housing()\n",
    "\n",
    "# let's see the features:\n",
    "print(\"Features:\", housing.feature_names)\n",
    "\n",
    "# let's see the target:\n",
    "print(\"Target:\", housing.target_names)"
   ]
  },
  {
   "cell_type": "code",
   "execution_count": 12,
   "metadata": {},
   "outputs": [],
   "source": [
    "# We split the data into a training set, a validation set, and a test set:\n",
    "X_train_full, X_test,  y_train_full, y_test  = train_test_split(housing.data, housing.target, random_state=seed)\n",
    "X_train,      X_valid, y_train,      y_valid = train_test_split(X_train_full, y_train_full,   random_state=seed)\n",
    "\n",
    "# We scale all the features:\n",
    "scaler = StandardScaler()\n",
    "\n",
    "# X_train = scaler.fit(X_train)\n",
    "# X_train = scaler.transform(X_train)\n",
    "# or\n",
    "X_train = scaler.fit_transform(X_train)\n",
    "\n",
    "X_valid = scaler.transform(X_valid)\n",
    "X_test = scaler.transform(X_test)\n",
    "\n",
    "# The fit() method is used to compute the mean and std dev for a given feature to be used further for scaling.\n",
    "# The transform() method is used to perform scaling using mean and std dev calculated using the .fit() method.\n",
    "# The fit_transform() method does both fits and transform."
   ]
  },
  {
   "cell_type": "code",
   "execution_count": 13,
   "metadata": {},
   "outputs": [
    {
     "name": "stdout",
     "output_type": "stream",
     "text": [
      "Epoch 1/20\n",
      "363/363 [==============================] - 1s 1ms/step - loss: 1.8842 - val_loss: 0.8134\n",
      "Epoch 2/20\n",
      "363/363 [==============================] - 0s 983us/step - loss: 0.7701 - val_loss: 0.6680\n",
      "Epoch 3/20\n",
      "363/363 [==============================] - 0s 1ms/step - loss: 0.6922 - val_loss: 0.6383\n",
      "Epoch 4/20\n",
      "363/363 [==============================] - 0s 996us/step - loss: 0.6588 - val_loss: 0.6133\n",
      "Epoch 5/20\n",
      "363/363 [==============================] - 0s 1ms/step - loss: 0.6326 - val_loss: 0.5930\n",
      "Epoch 6/20\n",
      "363/363 [==============================] - 0s 1ms/step - loss: 0.6097 - val_loss: 0.5749\n",
      "Epoch 7/20\n",
      "363/363 [==============================] - 0s 1ms/step - loss: 0.5899 - val_loss: 0.5588\n",
      "Epoch 8/20\n",
      "363/363 [==============================] - 0s 986us/step - loss: 0.5726 - val_loss: 0.5442\n",
      "Epoch 9/20\n",
      "363/363 [==============================] - 0s 1ms/step - loss: 0.5577 - val_loss: 0.5336\n",
      "Epoch 10/20\n",
      "363/363 [==============================] - 0s 1ms/step - loss: 0.5447 - val_loss: 0.5226\n",
      "Epoch 11/20\n",
      "363/363 [==============================] - 0s 999us/step - loss: 0.5336 - val_loss: 0.5124\n",
      "Epoch 12/20\n",
      "363/363 [==============================] - 0s 988us/step - loss: 0.5238 - val_loss: 0.5053\n",
      "Epoch 13/20\n",
      "363/363 [==============================] - 0s 1ms/step - loss: 0.5156 - val_loss: 0.4979\n",
      "Epoch 14/20\n",
      "363/363 [==============================] - 0s 1ms/step - loss: 0.5084 - val_loss: 0.4926\n",
      "Epoch 15/20\n",
      "363/363 [==============================] - 0s 1ms/step - loss: 0.5025 - val_loss: 0.4877\n",
      "Epoch 16/20\n",
      "363/363 [==============================] - 0s 1ms/step - loss: 0.4966 - val_loss: 0.4826\n",
      "Epoch 17/20\n",
      "363/363 [==============================] - 0s 1ms/step - loss: 0.4922 - val_loss: 0.4794\n",
      "Epoch 18/20\n",
      "363/363 [==============================] - 0s 1ms/step - loss: 0.4879 - val_loss: 0.4744\n",
      "Epoch 19/20\n",
      "363/363 [==============================] - 0s 1ms/step - loss: 0.4844 - val_loss: 0.4714\n",
      "Epoch 20/20\n",
      "363/363 [==============================] - 0s 992us/step - loss: 0.4809 - val_loss: 0.4691\n"
     ]
    }
   ],
   "source": [
    "# First create a Sequential model. This is the simplest kind of Keras model for neural networks that\n",
    "# are just composed of a single stack of layers connected sequentially. This is called the Sequential API:\n",
    "from keras.models import Sequential\n",
    "# The Sequential API is quite easy to use. However, although Sequential models are extremely common, not all\n",
    "# neural network models are simply sequential. Some may have complex topologies. Some may have multiple inputs\n",
    "# and/or multiple outputs (more complex topologies). For this purpose, Keras offers the Functional API.\n",
    "\n",
    "model = Sequential([\n",
    "                    # Add a Dense hidden layer with 30 neurons with ReLU activation function\n",
    "                    # see https://keras.io/api/layers/core_layers/dense/\n",
    "                    keras.layers.Dense(30, activation=\"relu\", input_shape=X_train.shape[1:]),\n",
    "\n",
    "                    # Add a Dense output layer with 1 neuron. It this was a classification problem,\n",
    "                    # you would need one per class with SoftMax activation function.\n",
    "                    keras.layers.Dense(1)\n",
    "                   ])\n",
    "\n",
    "# Use `.compile()` to configure the model for training: \n",
    "model.compile(loss=\"mean_squared_error\", optimizer=keras.optimizers.SGD(learning_rate=1e-3))\n",
    "\n",
    "# Train the model with `.fit()` for a fixed number of epochs (dataset iterations):\n",
    "history = model.fit(X_train, y_train, epochs=20, validation_data=(X_valid, y_valid))\n",
    "\n",
    "# more details on these methods at:\n",
    "# https://keras.io/api/models/model_training_apis/"
   ]
  },
  {
   "cell_type": "code",
   "execution_count": 14,
   "metadata": {},
   "outputs": [
    {
     "name": "stdout",
     "output_type": "stream",
     "text": [
      "1/1 [==============================] - 0s 32ms/step\n",
      "\n",
      "Prediction: [[1.7133533]\n",
      " [1.6267424]\n",
      " [2.2731464]]\n",
      "\n",
      "True: [1.19  1.557 2.169]\n"
     ]
    }
   ],
   "source": [
    "# Do a simple test over n instances of the test set:\n",
    "n=3\n",
    "y_pred = model.predict(X_test[:n])\n",
    "y_true = y_test[:n]\n",
    "\n",
    "print(\"\\nPrediction:\", y_pred)\n",
    "print(\"\\nTrue:\", y_true)"
   ]
  },
  {
   "cell_type": "code",
   "execution_count": 15,
   "metadata": {},
   "outputs": [
    {
     "name": "stdout",
     "output_type": "stream",
     "text": [
      "       loss  val_loss\n",
      "0  1.884177  0.813350\n",
      "1  0.770093  0.667988\n",
      "2  0.692208  0.638285\n"
     ]
    },
    {
     "data": {
      "text/plain": [
       "<AxesSubplot:title={'center':'Learning Curve'}, xlabel='Epoch'>"
      ]
     },
     "execution_count": 15,
     "metadata": {},
     "output_type": "execute_result"
    },
    {
     "data": {
      "image/png": "[encoded data removed]",
      "text/plain": [
       "<Figure size 640x480 with 1 Axes>"
      ]
     },
     "metadata": {},
     "output_type": "display_data"
    }
   ],
   "source": [
    "# Plot learning curve\n",
    "l = pd.DataFrame(history.history)\n",
    "print(l.head(3))\n",
    "l.plot(title=\"Learning Curve\", xlabel=\"Epoch\")"
   ]
  },
  {
   "cell_type": "code",
   "execution_count": 16,
   "metadata": {},
   "outputs": [
    {
     "name": "stdout",
     "output_type": "stream",
     "text": [
      "363/363 [==============================] - 0s 701us/step - loss: 0.4790\n",
      "Prediction Mean Squared Error: 0.48\n"
     ]
    }
   ],
   "source": [
    "mse_train = model.evaluate(X_train, y_train)\n",
    "print(\"Prediction Mean Squared Error:\", round(mse_train,2))"
   ]
  },
  {
   "cell_type": "code",
   "execution_count": 17,
   "metadata": {},
   "outputs": [
    {
     "name": "stdout",
     "output_type": "stream",
     "text": [
      "162/162 [==============================] - 0s 697us/step - loss: 0.4841\n",
      "Generalization Mean Squared Error: 0.48\n"
     ]
    }
   ],
   "source": [
    "mse_test = model.evaluate(X_test, y_test)\n",
    "print(\"Generalization Mean Squared Error:\", round(mse_test,2))"
   ]
  }
 ],
 "metadata": {
  "kernelspec": {
   "display_name": "Python 3.10.6 64-bit",
   "language": "python",
   "name": "python3"
  },
  "language_info": {
   "codemirror_mode": {
    "name": "ipython",
    "version": 3
   },
   "file_extension": ".py",
   "mimetype": "text/x-python",
   "name": "python",
   "nbconvert_exporter": "python",
   "pygments_lexer": "ipython3",
   "version": "3.10.6"
  },
  "nav_menu": {
   "height": "264px",
   "width": "369px"
  },
  "toc": {
   "navigate_menu": true,
   "number_sections": true,
   "sideBar": true,
   "threshold": 6,
   "toc_cell": false,
   "toc_section_display": "block",
   "toc_window_display": false
  },
  "vscode": {
   "interpreter": {
    "hash": "aee8b7b246df8f9039afb4144a1f6fd8d2ca17a180786b69acc140d282b71a49"
   }
  }
 },
 "nbformat": 4,
 "nbformat_minor": 4
}
