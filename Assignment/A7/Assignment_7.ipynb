{
 "cells": [
  {
   "cell_type": "code",
   "execution_count": 1,
   "id": "standing-attitude",
   "metadata": {},
   "outputs": [],
   "source": [
    "# You can import *ANYTHING* you want here.\n",
    "import numpy as np\n",
    "import matplotlib.pyplot as plt\n",
    "import seaborn as sns\n",
    "from xgboost import XGBRegressor\n",
    "from sklearn.ensemble import RandomForestRegressor\n",
    "from sklearn.metrics import mean_absolute_percentage_error # Requires sklearn 0.24 (December 2020), update with conda/pip if needed.\n",
    "from sklearn.model_selection import GridSearchCV, train_test_split, StratifiedKFold\n",
    "\n",
    "import pandas as pd"
   ]
  },
  {
   "cell_type": "markdown",
   "id": "false-ivory",
   "metadata": {},
   "source": [
    "# Assignment 7: Tree methods\n",
    "\n",
    "In this assignment we'll study tree methods and their capabilities as interpolators and extrapolators, and the importance of understanding your data. We will use a dataset of energy consumption of home appliances for houses in Chievres, Belgium. The data has the following variables:\n",
    "\n",
    "- date time year-month-day hour:minute:second\n",
    "- Appliances, energy use in Wh (**Target variable**)energy_extrapolation\n",
    "- lights, energy use of light fixtures in the house in Wh\n",
    "- T1, Temperature in kitchen area, in Celsius\n",
    "- RH_1, Humidity in kitchen area, in %\n",
    "- T2, Temperature in living room area, in Celsius\n",
    "- RH_2, Humidity in living room area, in %\n",
    "- T3, Temperature in laundry room area\n",
    "- RH_3, Humidity in laundry room area, in %\n",
    "- T4, Temperature in office room, in Celsius\n",
    "- RH_4, Humidity in office room, in %\n",
    "- T5, Temperature in bathroom, in Celsius\n",
    "- RH_5, Humidity in bathroom, in %\n",
    "- T6, Temperature outside the building (north side), in Celsius\n",
    "- RH_6, Humidity outside the building (north side), in %\n",
    "- T7, Temperature in ironing room , in Celsius\n",
    "- RH_7, Humidity in ironing room, in %\n",
    "- T8, Temperature in teenager room 2, in Celsius\n",
    "- RH_8, Humidity in teenager room 2, in %\n",
    "- T9, Temperature in parents room, in Celsius\n",
    "- RH_9, Humidity in parents room, in %\n",
    "- To, Temperature outside (from Chievres weather station), in Celsius\n",
    "- Pressure (from Chievres weather station), in mm Hg\n",
    "- RH_out, Humidity outside (from Chievres weather station), in %\n",
    "- Wind speed (from Chievres weather station), in m/s\n",
    "- Visibility (from Chievres weather station), in km\n",
    "- Tdewpoint (from Chievres weather station), in C degrees\n",
    "\n",
    "You are given two datasets: energy_appliances_standard.csv and energy_appliances_extrapolation.csv. The first dataset has typical consumption patterns, while the second one has the top 10% highest consumptions and will be used to test the extrapolating capacities of our models.\n"
   ]
  },
  {
   "cell_type": "markdown",
   "id": "democratic-fifth",
   "metadata": {},
   "source": [
    "## Task 1: Random Forests (35/100)\n",
    "\n",
    "Random Forests are excellent predictors. Usually we only need to tune one parameter: the number of trees in the model. However, how many trees are enough? Follow these steps:\n",
    "\n",
    "1. Load the training dataset (energy_appliances_standard.csv) and show the descriptive statistics of the variables. (3 pts)\n",
    "\n",
    "2. Create a train / test partition of the data using 30% of the data for the test set and a ```random_state``` value of 20201107(2 pts).\n",
    "\n",
    "3. Follow [this example](https://scikit-learn.org/stable/auto_examples/ensemble/plot_ensemble_oob.html) and train a [Random Forest Regressor](https://scikit-learn.org/stable/modules/generated/sklearn.ensemble.RandomForestRegressor.html) using ```Appliances``` as the target variable. Test between 50 and 250 trees, plotting the Out-of-Bag (OOB) error after every iteration. Be patient as training can take a while. Written answer: What is the optimal number of trees for your model and why do you think this? (15 pts)\n",
    "\n",
    "4. Train your final random forest with the number of trees you selected in part 3. Apply this model over your test set and over the extrapolating dataset (from the file ```energy_appliances_extrapolation.csv```), calculating the mean absolute percentual error for each dataset.  Show in a scatterplot the predicted value vs the real value of the target variable for both the test set and the extrapolation set (in the same plot), differentiating both by using different colors for the points. Written answer: How does the random forest model perform on predicting Appliance energy usage in the extrapolation data set? If it performs poorly, why? If it performs well, why? *Hint: look at the scatterplot*. (15 points)"
   ]
  },
  {
   "cell_type": "code",
   "execution_count": 2,
   "id": "printable-defeat",
   "metadata": {},
   "outputs": [
    {
     "data": {
      "text/html": [
       "<div>\n",
       "<style scoped>\n",
       "    .dataframe tbody tr th:only-of-type {\n",
       "        vertical-align: middle;\n",
       "    }\n",
       "\n",
       "    .dataframe tbody tr th {\n",
       "        vertical-align: top;\n",
       "    }\n",
       "\n",
       "    .dataframe thead th {\n",
       "        text-align: right;\n",
       "    }\n",
       "</style>\n",
       "<table border=\"1\" class=\"dataframe\">\n",
       "  <thead>\n",
       "    <tr style=\"text-align: right;\">\n",
       "      <th></th>\n",
       "      <th>Appliances</th>\n",
       "      <th>lights</th>\n",
       "      <th>T1</th>\n",
       "      <th>RH_1</th>\n",
       "      <th>T2</th>\n",
       "      <th>RH_2</th>\n",
       "      <th>T3</th>\n",
       "      <th>RH_3</th>\n",
       "      <th>T4</th>\n",
       "      <th>RH_4</th>\n",
       "      <th>...</th>\n",
       "      <th>T8</th>\n",
       "      <th>RH_8</th>\n",
       "      <th>T9</th>\n",
       "      <th>RH_9</th>\n",
       "      <th>T_out</th>\n",
       "      <th>Press_mm_hg</th>\n",
       "      <th>RH_out</th>\n",
       "      <th>Windspeed</th>\n",
       "      <th>Visibility</th>\n",
       "      <th>Tdewpoint</th>\n",
       "    </tr>\n",
       "  </thead>\n",
       "  <tbody>\n",
       "    <tr>\n",
       "      <th>count</th>\n",
       "      <td>17735.000000</td>\n",
       "      <td>17735.000000</td>\n",
       "      <td>17735.000000</td>\n",
       "      <td>17735.000000</td>\n",
       "      <td>17735.000000</td>\n",
       "      <td>17735.000000</td>\n",
       "      <td>17735.000000</td>\n",
       "      <td>17735.000000</td>\n",
       "      <td>17735.000000</td>\n",
       "      <td>17735.000000</td>\n",
       "      <td>...</td>\n",
       "      <td>17735.000000</td>\n",
       "      <td>17735.000000</td>\n",
       "      <td>17735.000000</td>\n",
       "      <td>17735.000000</td>\n",
       "      <td>17735.000000</td>\n",
       "      <td>17735.000000</td>\n",
       "      <td>17735.000000</td>\n",
       "      <td>17735.000000</td>\n",
       "      <td>17735.000000</td>\n",
       "      <td>17735.000000</td>\n",
       "    </tr>\n",
       "    <tr>\n",
       "      <th>mean</th>\n",
       "      <td>68.121229</td>\n",
       "      <td>3.445729</td>\n",
       "      <td>21.688855</td>\n",
       "      <td>40.150264</td>\n",
       "      <td>20.293891</td>\n",
       "      <td>40.469997</td>\n",
       "      <td>22.230926</td>\n",
       "      <td>39.160423</td>\n",
       "      <td>20.860319</td>\n",
       "      <td>38.983631</td>\n",
       "      <td>...</td>\n",
       "      <td>22.050534</td>\n",
       "      <td>43.016242</td>\n",
       "      <td>19.505556</td>\n",
       "      <td>41.552215</td>\n",
       "      <td>7.314032</td>\n",
       "      <td>755.566425</td>\n",
       "      <td>80.249079</td>\n",
       "      <td>3.969812</td>\n",
       "      <td>38.305214</td>\n",
       "      <td>3.762879</td>\n",
       "    </tr>\n",
       "    <tr>\n",
       "      <th>std</th>\n",
       "      <td>30.182146</td>\n",
       "      <td>7.552424</td>\n",
       "      <td>1.604312</td>\n",
       "      <td>3.930099</td>\n",
       "      <td>2.171999</td>\n",
       "      <td>4.063088</td>\n",
       "      <td>1.969945</td>\n",
       "      <td>3.219280</td>\n",
       "      <td>2.047586</td>\n",
       "      <td>4.320711</td>\n",
       "      <td>...</td>\n",
       "      <td>1.961083</td>\n",
       "      <td>5.202160</td>\n",
       "      <td>2.010550</td>\n",
       "      <td>4.161873</td>\n",
       "      <td>5.291010</td>\n",
       "      <td>7.339842</td>\n",
       "      <td>14.768037</td>\n",
       "      <td>2.447164</td>\n",
       "      <td>11.957900</td>\n",
       "      <td>4.187098</td>\n",
       "    </tr>\n",
       "    <tr>\n",
       "      <th>min</th>\n",
       "      <td>10.000000</td>\n",
       "      <td>0.000000</td>\n",
       "      <td>16.790000</td>\n",
       "      <td>27.023333</td>\n",
       "      <td>16.100000</td>\n",
       "      <td>20.463333</td>\n",
       "      <td>17.200000</td>\n",
       "      <td>28.766667</td>\n",
       "      <td>15.100000</td>\n",
       "      <td>27.660000</td>\n",
       "      <td>...</td>\n",
       "      <td>16.306667</td>\n",
       "      <td>29.600000</td>\n",
       "      <td>14.890000</td>\n",
       "      <td>29.166667</td>\n",
       "      <td>-5.000000</td>\n",
       "      <td>729.366667</td>\n",
       "      <td>24.000000</td>\n",
       "      <td>0.000000</td>\n",
       "      <td>1.000000</td>\n",
       "      <td>-6.600000</td>\n",
       "    </tr>\n",
       "    <tr>\n",
       "      <th>25%</th>\n",
       "      <td>50.000000</td>\n",
       "      <td>0.000000</td>\n",
       "      <td>20.760000</td>\n",
       "      <td>37.260000</td>\n",
       "      <td>18.790000</td>\n",
       "      <td>37.930000</td>\n",
       "      <td>20.790000</td>\n",
       "      <td>36.826667</td>\n",
       "      <td>19.566667</td>\n",
       "      <td>35.500000</td>\n",
       "      <td>...</td>\n",
       "      <td>20.828889</td>\n",
       "      <td>39.200000</td>\n",
       "      <td>18.066667</td>\n",
       "      <td>38.530000</td>\n",
       "      <td>3.500000</td>\n",
       "      <td>751.000000</td>\n",
       "      <td>71.333333</td>\n",
       "      <td>2.000000</td>\n",
       "      <td>29.000000</td>\n",
       "      <td>0.933333</td>\n",
       "    </tr>\n",
       "    <tr>\n",
       "      <th>50%</th>\n",
       "      <td>60.000000</td>\n",
       "      <td>0.000000</td>\n",
       "      <td>21.600000</td>\n",
       "      <td>39.533333</td>\n",
       "      <td>19.926667</td>\n",
       "      <td>40.545000</td>\n",
       "      <td>22.100000</td>\n",
       "      <td>38.466667</td>\n",
       "      <td>20.666667</td>\n",
       "      <td>38.363333</td>\n",
       "      <td>...</td>\n",
       "      <td>22.166667</td>\n",
       "      <td>42.440000</td>\n",
       "      <td>19.390000</td>\n",
       "      <td>40.863333</td>\n",
       "      <td>6.850000</td>\n",
       "      <td>756.100000</td>\n",
       "      <td>84.333333</td>\n",
       "      <td>3.500000</td>\n",
       "      <td>40.000000</td>\n",
       "      <td>3.433333</td>\n",
       "    </tr>\n",
       "    <tr>\n",
       "      <th>75%</th>\n",
       "      <td>80.000000</td>\n",
       "      <td>0.000000</td>\n",
       "      <td>22.600000</td>\n",
       "      <td>42.863333</td>\n",
       "      <td>21.463333</td>\n",
       "      <td>43.326667</td>\n",
       "      <td>23.290000</td>\n",
       "      <td>41.530000</td>\n",
       "      <td>22.100000</td>\n",
       "      <td>42.066667</td>\n",
       "      <td>...</td>\n",
       "      <td>23.390000</td>\n",
       "      <td>46.590000</td>\n",
       "      <td>20.600000</td>\n",
       "      <td>44.290000</td>\n",
       "      <td>10.333333</td>\n",
       "      <td>760.950000</td>\n",
       "      <td>91.845238</td>\n",
       "      <td>5.333333</td>\n",
       "      <td>40.000000</td>\n",
       "      <td>6.550000</td>\n",
       "    </tr>\n",
       "    <tr>\n",
       "      <th>max</th>\n",
       "      <td>190.000000</td>\n",
       "      <td>50.000000</td>\n",
       "      <td>26.200000</td>\n",
       "      <td>59.633333</td>\n",
       "      <td>29.856667</td>\n",
       "      <td>56.026667</td>\n",
       "      <td>29.100000</td>\n",
       "      <td>49.656667</td>\n",
       "      <td>26.200000</td>\n",
       "      <td>51.000000</td>\n",
       "      <td>...</td>\n",
       "      <td>27.230000</td>\n",
       "      <td>58.780000</td>\n",
       "      <td>24.500000</td>\n",
       "      <td>53.326667</td>\n",
       "      <td>26.100000</td>\n",
       "      <td>772.283333</td>\n",
       "      <td>100.000000</td>\n",
       "      <td>14.000000</td>\n",
       "      <td>66.000000</td>\n",
       "      <td>15.500000</td>\n",
       "    </tr>\n",
       "  </tbody>\n",
       "</table>\n",
       "<p>8 rows × 26 columns</p>\n",
       "</div>"
      ],
      "text/plain": [
       "         Appliances        lights            T1          RH_1            T2  \\\n",
       "count  17735.000000  17735.000000  17735.000000  17735.000000  17735.000000   \n",
       "mean      68.121229      3.445729     21.688855     40.150264     20.293891   \n",
       "std       30.182146      7.552424      1.604312      3.930099      2.171999   \n",
       "min       10.000000      0.000000     16.790000     27.023333     16.100000   \n",
       "25%       50.000000      0.000000     20.760000     37.260000     18.790000   \n",
       "50%       60.000000      0.000000     21.600000     39.533333     19.926667   \n",
       "75%       80.000000      0.000000     22.600000     42.863333     21.463333   \n",
       "max      190.000000     50.000000     26.200000     59.633333     29.856667   \n",
       "\n",
       "               RH_2            T3          RH_3            T4          RH_4  \\\n",
       "count  17735.000000  17735.000000  17735.000000  17735.000000  17735.000000   \n",
       "mean      40.469997     22.230926     39.160423     20.860319     38.983631   \n",
       "std        4.063088      1.969945      3.219280      2.047586      4.320711   \n",
       "min       20.463333     17.200000     28.766667     15.100000     27.660000   \n",
       "25%       37.930000     20.790000     36.826667     19.566667     35.500000   \n",
       "50%       40.545000     22.100000     38.466667     20.666667     38.363333   \n",
       "75%       43.326667     23.290000     41.530000     22.100000     42.066667   \n",
       "max       56.026667     29.100000     49.656667     26.200000     51.000000   \n",
       "\n",
       "       ...            T8          RH_8            T9          RH_9  \\\n",
       "count  ...  17735.000000  17735.000000  17735.000000  17735.000000   \n",
       "mean   ...     22.050534     43.016242     19.505556     41.552215   \n",
       "std    ...      1.961083      5.202160      2.010550      4.161873   \n",
       "min    ...     16.306667     29.600000     14.890000     29.166667   \n",
       "25%    ...     20.828889     39.200000     18.066667     38.530000   \n",
       "50%    ...     22.166667     42.440000     19.390000     40.863333   \n",
       "75%    ...     23.390000     46.590000     20.600000     44.290000   \n",
       "max    ...     27.230000     58.780000     24.500000     53.326667   \n",
       "\n",
       "              T_out   Press_mm_hg        RH_out     Windspeed    Visibility  \\\n",
       "count  17735.000000  17735.000000  17735.000000  17735.000000  17735.000000   \n",
       "mean       7.314032    755.566425     80.249079      3.969812     38.305214   \n",
       "std        5.291010      7.339842     14.768037      2.447164     11.957900   \n",
       "min       -5.000000    729.366667     24.000000      0.000000      1.000000   \n",
       "25%        3.500000    751.000000     71.333333      2.000000     29.000000   \n",
       "50%        6.850000    756.100000     84.333333      3.500000     40.000000   \n",
       "75%       10.333333    760.950000     91.845238      5.333333     40.000000   \n",
       "max       26.100000    772.283333    100.000000     14.000000     66.000000   \n",
       "\n",
       "          Tdewpoint  \n",
       "count  17735.000000  \n",
       "mean       3.762879  \n",
       "std        4.187098  \n",
       "min       -6.600000  \n",
       "25%        0.933333  \n",
       "50%        3.433333  \n",
       "75%        6.550000  \n",
       "max       15.500000  \n",
       "\n",
       "[8 rows x 26 columns]"
      ]
     },
     "execution_count": 2,
     "metadata": {},
     "output_type": "execute_result"
    }
   ],
   "source": [
    "# Data load\n",
    "df = pd.read_csv('energy_appliances_standard.csv')\n",
    "df.describe()"
   ]
  },
  {
   "cell_type": "code",
   "execution_count": 3,
   "id": "grateful-stadium",
   "metadata": {},
   "outputs": [],
   "source": [
    "# Create train / test split\n",
    "df = pd.read_csv('energy_appliances_standard.csv')\n",
    "y = df[\"Appliances\"]\n",
    "X =  df.drop(\"Appliances\",axis=1)\n",
    "RANDOM_STATE = 20201107\n",
    "Xtrain, Xtest, ytrain, ytest = train_test_split(X,y, test_size = 0.3, random_state = RANDOM_STATE)"
   ]
  },
  {
   "cell_type": "code",
   "execution_count": 4,
   "id": "valid-providence",
   "metadata": {},
   "outputs": [],
   "source": [
    "# Define random forest and iterate over the number of trees\n",
    "RFregressor = RandomForestRegressor(\n",
    "            max_features=None,\n",
    "            oob_score=True,\n",
    "            random_state=RANDOM_STATE,\n",
    "        )\n",
    "\n",
    "min_estimators = 50\n",
    "max_estimators = 250\n",
    "error_rate = []\n",
    "for i in range(min_estimators, max_estimators + 1, 5):\n",
    "    RFregressor.set_params(n_estimators=i)\n",
    "    RFregressor.fit(Xtrain, ytrain)\n",
    "\n",
    "    oob_error = 1 - RFregressor.oob_score_\n",
    "    error_rate.append((i, oob_error))"
   ]
  },
  {
   "cell_type": "code",
   "execution_count": 5,
   "id": "cardiac-vertex",
   "metadata": {},
   "outputs": [
    {
     "data": {
      "image/png": "[encoded data removed]",
      "text/plain": [
       "<Figure size 432x288 with 1 Axes>"
      ]
     },
     "metadata": {
      "needs_background": "light"
     },
     "output_type": "display_data"
    }
   ],
   "source": [
    "# Plot the OOB error per number of trees\n",
    "# Generate the \"OOB error rate\" vs. \"n_estimators\" plot.\n",
    "\n",
    "xs, ys = zip(*error_rate)\n",
    "plt.plot(xs, ys)\n",
    "\n",
    "plt.xlim(min_estimators, max_estimators)\n",
    "plt.xlabel(\"n estimators\")\n",
    "plt.ylabel(\"OOB error rate\")\n",
    "plt.show()"
   ]
  },
  {
   "cell_type": "markdown",
   "id": "joined-porcelain",
   "metadata": {},
   "source": [
    "**Written answer:** What is the optimal number of trees for your model and why do you think this? (15 pts)\n",
    "\n",
    "The optimal number of number of trees is 250 since it has the mimimum OOB error."
   ]
  },
  {
   "cell_type": "code",
   "execution_count": 6,
   "id": "fancy-lunch",
   "metadata": {},
   "outputs": [],
   "source": [
    "# Final forest\n",
    "ff = RandomForestRegressor(\n",
    "            n_estimators = 250,\n",
    "            max_features=None,\n",
    "            oob_score=True,\n",
    "            random_state=RANDOM_STATE,\n",
    "        )\n",
    "\n",
    "ff.fit(Xtrain, ytrain)\n",
    "\n",
    "# Calculate error over test set\n",
    "y_pred = ff.predict(Xtest)\n",
    "err_test = mean_absolute_percentage_error(y_pred, ytest)\n",
    "\n",
    "# Load the second dataset\n",
    "df_extrapolation = pd.read_csv('energy_appliances_extrapolation.csv')\n",
    "y_extrapolation = df_extrapolation[\"Appliances\"]\n",
    "X_extrapolation =  df_extrapolation.drop(\"Appliances\", axis=1)\n",
    "# Calculate the error over it\n",
    "y_pred_extrapolation = ff.predict(X_extrapolation)\n",
    "err_extrapolation = mean_absolute_percentage_error(y_pred_extrapolation, y_extrapolation)"
   ]
  },
  {
   "cell_type": "code",
   "execution_count": 7,
   "id": "fleet-vertical",
   "metadata": {},
   "outputs": [
    {
     "name": "stdout",
     "output_type": "stream",
     "text": [
      "MAPE (test set): 0.179132\n",
      "MAPE (extrapolation set): 2.923503\n"
     ]
    }
   ],
   "source": [
    "# Print MAPE over the sets\n",
    "print(\"MAPE (test set): %f\" % err_test)\n",
    "print(\"MAPE (extrapolation set): %f\" % err_extrapolation)"
   ]
  },
  {
   "cell_type": "code",
   "execution_count": 29,
   "id": "romance-portugal",
   "metadata": {},
   "outputs": [
    {
     "data": {
      "text/plain": [
       "<matplotlib.collections.PathCollection at 0x7fadd87d0490>"
      ]
     },
     "execution_count": 29,
     "metadata": {},
     "output_type": "execute_result"
    },
    {
     "data": {
      "image/png": "[encoded data removed]",
      "text/plain": [
       "<Figure size 432x288 with 1 Axes>"
      ]
     },
     "metadata": {
      "needs_background": "light"
     },
     "output_type": "display_data"
    }
   ],
   "source": [
    "# Make the scatterplot\n",
    "plt.scatter(ytest, y_pred, c = 'r')\n",
    "plt.scatter(y_extrapolation, y_pred_extrapolation, c = 'b')"
   ]
  },
  {
   "cell_type": "markdown",
   "id": "interested-anxiety",
   "metadata": {},
   "source": [
    "**Written answer:** How does the random forest model perform on predicting Appliance energy usage in the extrapolation data set? If it performs poorly, why? If it performs well, why? *Hint: look at the scatterplot*. (15 points)\n",
    "\n",
    "The random forest model perform poorly on the extrapolation data set. I think this is because the extrapolation data set is much differ from the orginal dataset, and the target does not has that large values.\n"
   ]
  },
  {
   "cell_type": "markdown",
   "id": "changed-uruguay",
   "metadata": {},
   "source": [
    "## Task 2: XGBoosting model (40 pts)\n",
    "\n",
    "Now we'll repeat the process for the XGB model, using an [```XGBRegressor``` object](https://xgboost.readthedocs.io/en/latest/python/python_api.html). The XGBoosting model is much more sensitive to parameter changes though as it allows to tune many different parameters. For this example:\n",
    "\n",
    "1. Written answer: Why do we say we want to use a small learning rate? Why do we say the number of trees to use depends on each dataset/problem? Why do we want to use a small tree depth? (6 pts)\n",
    "\n",
    "2. Selecting a 30% validation sample over the training set, tune your parameters using crossvalidation. Use the following ranges:\n",
    " - Learning rate: [0.01, 0.1, 0.2].\n",
    " - max_depth: 3 to 7.\n",
    " - Number of trees: [350, 400, 450, 500]\n",
    "\n",
    "Leave the other parameters at the values we identified in the lab (except for the objective parameter and those related to classification problems) and use a seed of 20201107. Report the optimal values of your parameters. (20 pts)\n",
    "\n",
    "3. Repeat part 4 of the previous task, but now for your XGB model trained over the optimal parameter combination and the complete training dataset. Plot the variable importance. Written answer: What are the most important variables? Can the XGB model extrapolate? How does it compare to a random forest? (14 pts)"
   ]
  },
  {
   "cell_type": "markdown",
   "id": "portuguese-accused",
   "metadata": {},
   "source": [
    "**Written answer part 1 (2 pts each):**\n"
   ]
  },
  {
   "cell_type": "code",
   "execution_count": 9,
   "id": "simple-contamination",
   "metadata": {},
   "outputs": [],
   "source": [
    "# Define the XGB model\n",
    "XGB = XGBRegressor(\n",
    "                    verbosity=1,                  # If to show more errors or not.\n",
    "                    objective='reg:squarederror',       # Type of target variable.\n",
    "                    booster='gbtree',             # What to boost. Trees in this case.\n",
    "                    n_jobs=-1,                    # Parallel jobs to run. Set your processor number.\n",
    "                    gamma=0.001,                  # Minimum loss reduction required to make a further partition on a leaf node of the tree. (Controls growth!)\n",
    "                    subsample=0.632,              # Subsample ratio. Can set lower\n",
    "                    colsample_bytree=1,           # Subsample ratio of columns when constructing each tree.\n",
    "                    colsample_bylevel=1,          # Subsample ratio of columns when constructing each level. 0.33 is similar to random forest.\n",
    "                    colsample_bynode=1,           # Subsample ratio of columns when constructing each split.\n",
    "                    base_score=0.5,               # Global bias. Set to average of the target rate.\n",
    "                    random_state=RANDOM_STATE        # Seed\n",
    "                            )"
   ]
  },
  {
   "cell_type": "code",
   "execution_count": 10,
   "id": "demonstrated-onion",
   "metadata": {},
   "outputs": [],
   "source": [
    "# Define the parameter grid.\n",
    "param_grid = dict({\n",
    "    'learning_rate': [0.01, 0.1, 0.2],\n",
    "    'max_depth': [3, 4, 5, 6 ,7],\n",
    "    'n_estimators' : [350, 400, 450, 500]\n",
    "                  })"
   ]
  },
  {
   "cell_type": "code",
   "execution_count": 11,
   "id": "93574c10",
   "metadata": {},
   "outputs": [],
   "source": [
    "df = pd.read_csv('energy_appliances_standard.csv')\n",
    "EnergyTrain,  EnergyTest = train_test_split(df, test_size = 0.3, random_state = 20201107)\n",
    "\n",
    "val_train = EnergyTrain.sample(frac = 0.6,               # The fraction to extract\n",
    "                        random_state = RANDOM_STATE)    # The seed.\n",
    "\n",
    "cv_object = StratifiedKFold(n_splits=2)"
   ]
  },
  {
   "cell_type": "code",
   "execution_count": 12,
   "id": "stuffed-nelson",
   "metadata": {},
   "outputs": [
    {
     "name": "stdout",
     "output_type": "stream",
     "text": [
      "Fitting 2 folds for each of 60 candidates, totalling 120 fits\n"
     ]
    },
    {
     "data": {
      "text/plain": [
       "GridSearchCV(cv=StratifiedKFold(n_splits=2, random_state=None, shuffle=False),\n",
       "             estimator=XGBRegressor(base_score=0.5, booster='gbtree',\n",
       "                                    callbacks=None, colsample_bylevel=1,\n",
       "                                    colsample_bynode=1, colsample_bytree=1,\n",
       "                                    early_stopping_rounds=None,\n",
       "                                    enable_categorical=False, eval_metric=None,\n",
       "                                    feature_types=None, gamma=0.001,\n",
       "                                    gpu_id=None, grow_policy=None,\n",
       "                                    importance_type=N...\n",
       "                                    max_depth=None, max_leaves=None,\n",
       "                                    min_child_weight=None, missing=nan,\n",
       "                                    monotone_constraints=None, n_estimators=100,\n",
       "                                    n_jobs=-1, num_parallel_tree=None,\n",
       "                                    predictor=None, random_state=20201107, ...),\n",
       "             n_jobs=-1,\n",
       "             param_grid={'learning_rate': [0.01, 0.1, 0.2],\n",
       "                         'max_depth': [3, 4, 5, 6, 7],\n",
       "                         'n_estimators': [350, 400, 450, 500]},\n",
       "             refit=False, scoring='neg_mean_absolute_percentage_error',\n",
       "             verbose=1)"
      ]
     },
     "execution_count": 12,
     "metadata": {},
     "output_type": "execute_result"
    }
   ],
   "source": [
    "# Train grid search. This takes a while! Go grab a coffee.\n",
    "GridXGB = GridSearchCV(XGB,        # Original XGB. \n",
    "                       param_grid,          # Parameter grid\n",
    "                       cv = cv_object,      # Cross-validation object.  \n",
    "                       scoring = 'neg_mean_absolute_percentage_error', # How to rank outputs.\n",
    "                       n_jobs = -1,          # Parallel jobs. -1 is \"all you have\"\n",
    "                       refit = False,       # If refit at the end with the best. We'll do it manually.\n",
    "                       verbose = 1          # If to show what it is doing.\n",
    "                      )\n",
    "val_y = val_train['Appliances']\n",
    "val_x = val_train.drop(\"Appliances\",axis=1)\n",
    "\n",
    "GridXGB.fit(val_x, val_y)"
   ]
  },
  {
   "cell_type": "code",
   "execution_count": 13,
   "id": "serial-mention",
   "metadata": {},
   "outputs": [
    {
     "data": {
      "text/plain": [
       "{'learning_rate': 0.1, 'max_depth': 7, 'n_estimators': 450}"
      ]
     },
     "execution_count": 13,
     "metadata": {},
     "output_type": "execute_result"
    }
   ],
   "source": [
    "# Show best params\n",
    "GridXGB.best_params_"
   ]
  },
  {
   "cell_type": "code",
   "execution_count": 14,
   "id": "619fac67",
   "metadata": {},
   "outputs": [
    {
     "data": {
      "text/plain": [
       "XGBRegressor(base_score=0.5, booster='gbtree', callbacks=None,\n",
       "             colsample_bylevel=1, colsample_bynode=1, colsample_bytree=1,\n",
       "             early_stopping_rounds=None, enable_categorical=False,\n",
       "             eval_metric=None, feature_types=None, gamma=0.001, gpu_id=-1,\n",
       "             grow_policy='depthwise', importance_type=None,\n",
       "             interaction_constraints='', learning_rate=0.1, max_bin=256,\n",
       "             max_cat_threshold=64, max_cat_to_onehot=4, max_delta_step=0,\n",
       "             max_depth=7, max_leaves=0, min_child_weight=1, missing=nan,\n",
       "             monotone_constraints='()', n_estimators=450, n_jobs=-1,\n",
       "             num_parallel_tree=1, predictor='auto', random_state=20201107, ...)"
      ]
     },
     "execution_count": 14,
     "metadata": {},
     "output_type": "execute_result"
    }
   ],
   "source": [
    "df = pd.read_csv('energy_appliances_standard.csv')\n",
    "y = df[\"Appliances\"]\n",
    "X =  df.drop(\"Appliances\",axis=1)\n",
    "Xtrain, Xtest, ytrain, ytest = train_test_split(X,y, test_size = 0.3, random_state = RANDOM_STATE)\n",
    "\n",
    "XGB_opt = XGBRegressor(learning_rate = 0.1,  \n",
    "                            max_depth =  7,\n",
    "                            n_estimators = 450,\n",
    "                            verbosity=1,                  # If to show more errors or not.\n",
    "                            objective='reg:squarederror',       # Type of target variable.\n",
    "                            booster='gbtree',             # What to boost. Trees in this case.\n",
    "                            n_jobs=-1,                    # Parallel jobs to run. Set your processor number.\n",
    "                            gamma=0.001,                  # Minimum loss reduction required to make a further partition on a leaf node of the tree. (Controls growth!)\n",
    "                            subsample=0.632,              # Subsample ratio. Can set lower\n",
    "                            colsample_bytree=1,           # Subsample ratio of columns when constructing each tree.\n",
    "                            colsample_bylevel=1,          # Subsample ratio of columns when constructing each level. 0.33 is similar to random forest.\n",
    "                            colsample_bynode=1,           # Subsample ratio of columns when constructing each split.\n",
    "                            base_score=0.5,               # Global bias. Set to average of the target rate.\n",
    "                            random_state=RANDOM_STATE        # Seed\n",
    "                            )\n",
    "\n",
    "\n",
    "XGB_opt.fit(Xtrain, ytrain)"
   ]
  },
  {
   "cell_type": "code",
   "execution_count": 15,
   "id": "backed-remark",
   "metadata": {},
   "outputs": [
    {
     "data": {
      "image/png": "[encoded data removed]",
      "text/plain": [
       "<Figure size 216x576 with 1 Axes>"
      ]
     },
     "metadata": {
      "needs_background": "light"
     },
     "output_type": "display_data"
    }
   ],
   "source": [
    "# Variable importance\n",
    "importances = XGB_opt.feature_importances_\n",
    "indices = np.argsort(importances)[::-1] \n",
    "\n",
    "f, ax = plt.subplots(figsize=(3, 8))\n",
    "plt.title(\"Variable Importance - XGBoosting\")\n",
    "sns.set_color_codes(\"pastel\")\n",
    "sns.barplot(y=[Xtrain.columns[i] for i in indices], x=importances[indices], \n",
    "            label=\"Total\", color=\"b\")\n",
    "ax.set(ylabel=\"Variable\",\n",
    "       xlabel=\"Variable Importance\")\n",
    "sns.despine(left=True, bottom=True)"
   ]
  },
  {
   "cell_type": "markdown",
   "id": "asian-calcium",
   "metadata": {},
   "source": [
    "**Written answer:** Why do we say we want to use a small learning rate? Why do we say the number of trees to use depends on each dataset/problem? Why do we want to use a small tree depth?\n",
    "\n",
    "Sicne XGBoosting model is much more sensitive to parameter, so we want to use a smaller learning rate can. The boosted tree model is constructed, sequentially where each new tree attempts to model and correct for the errors made by the sequence of previous trees. The small tree depth can reduce overfitting"
   ]
  },
  {
   "cell_type": "code",
   "execution_count": 16,
   "id": "extra-kidney",
   "metadata": {},
   "outputs": [
    {
     "name": "stdout",
     "output_type": "stream",
     "text": [
      "MAPE (test set): 0.179226\n",
      "MAPE (extrapolation set): 2.835186\n"
     ]
    }
   ],
   "source": [
    "y_pred_xgb = XGB_opt.predict(Xtest)\n",
    "err_test_xgb = mean_absolute_percentage_error(y_pred_xgb, ytest)\n",
    "\n",
    "# Calculate the error over it\n",
    "y_pred_extrapolation_xgb = XGB_opt.predict(X_extrapolation)\n",
    "err_extrapolation_xgb = mean_absolute_percentage_error(y_pred_extrapolation_xgb, y_extrapolation)\n",
    "\n",
    "# Print MAPE over the sets\n",
    "print(\"MAPE (test set): %f\" % err_test_xgb)\n",
    "print(\"MAPE (extrapolation set): %f\" % err_extrapolation_xgb)"
   ]
  },
  {
   "cell_type": "code",
   "execution_count": 30,
   "id": "62d52020",
   "metadata": {},
   "outputs": [
    {
     "data": {
      "text/plain": [
       "<matplotlib.collections.PathCollection at 0x7fae5fac6f10>"
      ]
     },
     "execution_count": 30,
     "metadata": {},
     "output_type": "execute_result"
    },
    {
     "data": {
      "image/png": "[encoded data removed]",
      "text/plain": [
       "<Figure size 432x288 with 1 Axes>"
      ]
     },
     "metadata": {
      "needs_background": "light"
     },
     "output_type": "display_data"
    }
   ],
   "source": [
    "# Make the scatterplot\n",
    "plt.scatter(ytest, y_pred_xgb, c = 'r')\n",
    "plt.scatter(y_extrapolation, y_pred_extrapolation_xgb, c = 'b')"
   ]
  },
  {
   "cell_type": "markdown",
   "id": "false-expression",
   "metadata": {},
   "source": [
    "**Written answer:**  What are the most important variables? Can the XGB model extrapolate? How does it compare to a random forest? (14 pts)\n",
    "\n",
    "The most important variables is light, XGB model cannot extrapolate. It performs slightly better than random forest."
   ]
  },
  {
   "cell_type": "markdown",
   "id": "gothic-memory",
   "metadata": {},
   "source": [
    "## Task 3: Combined model (25 pts)\n",
    "\n",
    "Now we will finally train a model on the combined data, by joining the extrapolation and the original dataset, and study the performance over the original test set, the new test set and the combined result. For this we will only use the Random Forest model. Use a seed of 20201107 for all functions that accept one.\n",
    "\n",
    "1. Create a train / test split set over the extrapolation data, leaving approximately 30% of the data for testing purposes. Combine this train test with the original train set (let's call this the combined train set). (5 pts)\n",
    "2. Train a Random Forest model over the **combined** train data. Discuss how many trees you used and why. (15 pts)\n",
    "3. Plot the variable importance and compare it versus the XGB in task 1. Now that you more data, does the importance change? (5 pts)\n",
    "3. Report the test set performance of your new model over the original test set, the test set you took over the extrapolation dataset and the combined test set. Plot the scatterplot of the both datasets as before in the same plot, differentiating the dataset by using colours. (10 pts)\n",
    "\n",
    "Written answer: What happens now? What can you say about the new model?"
   ]
  },
  {
   "cell_type": "code",
   "execution_count": 18,
   "id": "stunning-tampa",
   "metadata": {},
   "outputs": [],
   "source": [
    "# Create the new train and test set.\n",
    "df1 = pd.read_csv('energy_appliances_standard.csv')\n",
    "df2 = pd.read_csv('energy_appliances_extrapolation.csv')\n",
    "df_combined = pd.concat([df1, df2])\n",
    "\n",
    "yCombined = df_combined['Appliances']\n",
    "XCombined = df_combined.drop(\"Appliances\",axis=1)\n",
    "\n",
    "XtrainCombined, XtestCombined, ytrainCombined, ytestCombined = train_test_split(XCombined,yCombined, test_size = 0.3, random_state = RANDOM_STATE)"
   ]
  },
  {
   "cell_type": "code",
   "execution_count": 21,
   "id": "suburban-broadway",
   "metadata": {},
   "outputs": [
    {
     "data": {
      "text/plain": [
       "RandomForestRegressor(max_features=None, n_estimators=250, oob_score=True,\n",
       "                      random_state=20201107)"
      ]
     },
     "execution_count": 21,
     "metadata": {},
     "output_type": "execute_result"
    }
   ],
   "source": [
    "# Obtain the new random forest (tune the trees)\n",
    "RFregressor_2 = RandomForestRegressor(\n",
    "            n_estimators = 250,\n",
    "            max_features=None,\n",
    "            oob_score=True,\n",
    "            random_state=RANDOM_STATE,\n",
    "        )\n",
    "\n",
    "RFregressor_2.fit(XtrainCombined, ytrainCombined)"
   ]
  },
  {
   "cell_type": "code",
   "execution_count": 22,
   "id": "scenic-ethics",
   "metadata": {},
   "outputs": [
    {
     "data": {
      "image/png": "[encoded data removed]",
      "text/plain": [
       "<Figure size 216x576 with 1 Axes>"
      ]
     },
     "metadata": {
      "needs_background": "light"
     },
     "output_type": "display_data"
    }
   ],
   "source": [
    "# Variable importance\n",
    "importances = RFregressor_2.feature_importances_\n",
    "indices = np.argsort(importances)[::-1] \n",
    "\n",
    "f, ax = plt.subplots(figsize=(3, 8))\n",
    "plt.title(\"Variable Importance - RandomForest\")\n",
    "sns.set_color_codes(\"pastel\")\n",
    "sns.barplot(y=[Xtrain.columns[i] for i in indices], x=importances[indices], \n",
    "            label=\"Total\", color=\"b\")\n",
    "ax.set(ylabel=\"Variable\",\n",
    "       xlabel=\"Variable Importance\")\n",
    "sns.despine(left=True, bottom=True)"
   ]
  },
  {
   "cell_type": "markdown",
   "id": "reliable-triangle",
   "metadata": {},
   "source": [
    "**Written answer:** Train a Random Forest model over the **combined** train data. Discuss how many trees you used and why. (15 pts)\n",
    "\n",
    "I will also use 250 trees since too large will lead to overfitting"
   ]
  },
  {
   "cell_type": "code",
   "execution_count": 23,
   "id": "exclusive-nebraska",
   "metadata": {},
   "outputs": [
    {
     "name": "stdout",
     "output_type": "stream",
     "text": [
      "MAPE (test set): 0.276045\n"
     ]
    }
   ],
   "source": [
    "# Print MAPE over the test sets\n",
    "y_pred_RF_2 = RFregressor_2.predict(XtestCombined)\n",
    "err_test_RF_2 = mean_absolute_percentage_error(y_pred_RF_2, ytestCombined)\n",
    "\n",
    "# Print MAPE over the sets\n",
    "print(\"MAPE (test set): %f\" % err_test_RF_2)"
   ]
  },
  {
   "cell_type": "code",
   "execution_count": 31,
   "id": "italian-proposal",
   "metadata": {},
   "outputs": [
    {
     "data": {
      "text/plain": [
       "<matplotlib.collections.PathCollection at 0x7fae4a15afa0>"
      ]
     },
     "execution_count": 31,
     "metadata": {},
     "output_type": "execute_result"
    },
    {
     "data": {
      "image/png": "[encoded data removed]",
      "text/plain": [
       "<Figure size 432x288 with 1 Axes>"
      ]
     },
     "metadata": {
      "needs_background": "light"
     },
     "output_type": "display_data"
    }
   ],
   "source": [
    "# Scatterplot\n",
    "plt.scatter(ytestCombined, y_pred_RF_2, c = 'r')"
   ]
  },
  {
   "cell_type": "markdown",
   "id": "civilian-instruction",
   "metadata": {},
   "source": [
    "**Written answer:** What happens now? What can you say about the new model?\n",
    "\n",
    "The model perform better than before, it can fit both standard data and extrapolation data."
   ]
  }
 ],
 "metadata": {
  "kernelspec": {
   "display_name": "Python 3.9.12 ('base')",
   "language": "python",
   "name": "python3"
  },
  "language_info": {
   "codemirror_mode": {
    "name": "ipython",
    "version": 3
   },
   "file_extension": ".py",
   "mimetype": "text/x-python",
   "name": "python",
   "nbconvert_exporter": "python",
   "pygments_lexer": "ipython3",
   "version": "3.9.12"
  },
  "vscode": {
   "interpreter": {
    "hash": "9dbd6522d963e110ce680ef8bbf2ac9e45451014885da3f564eb257b1470d2af"
   }
  }
 },
 "nbformat": 4,
 "nbformat_minor": 5
}
