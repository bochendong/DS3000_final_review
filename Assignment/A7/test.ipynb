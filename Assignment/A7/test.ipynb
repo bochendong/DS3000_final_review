{
 "cells": [
  {
   "cell_type": "code",
   "execution_count": 9,
   "metadata": {},
   "outputs": [],
   "source": [
    "from xgboost import XGBRegressor\n",
    "from sklearn.model_selection import GridSearchCV, train_test_split, StratifiedKFold\n",
    "import pandas as pd\n",
    "from sklearn.metrics import mean_absolute_percentage_error \n",
    "import matplotlib.pyplot as plt"
   ]
  },
  {
   "cell_type": "code",
   "execution_count": 2,
   "metadata": {},
   "outputs": [],
   "source": [
    "RANDOM_STATE = 20201107"
   ]
  },
  {
   "cell_type": "code",
   "execution_count": 3,
   "metadata": {},
   "outputs": [],
   "source": [
    "df = pd.read_csv('energy_appliances_standard.csv')\n",
    "y = df[\"Appliances\"]\n",
    "X =  df.drop(\"Appliances\",axis=1)\n",
    "Xtrain, Xtest, ytrain, ytest = train_test_split(X,y, test_size = 0.3, random_state = RANDOM_STATE)"
   ]
  },
  {
   "cell_type": "code",
   "execution_count": 4,
   "metadata": {},
   "outputs": [
    {
     "data": {
      "text/plain": [
       "XGBRegressor(base_score=0.5, booster='gbtree', callbacks=None,\n",
       "             colsample_bylevel=1, colsample_bynode=1, colsample_bytree=1,\n",
       "             early_stopping_rounds=None, enable_categorical=False,\n",
       "             eval_metric=None, feature_types=None, gamma=0.001, gpu_id=-1,\n",
       "             grow_policy='depthwise', importance_type=None,\n",
       "             interaction_constraints='', learning_rate=0.1, max_bin=256,\n",
       "             max_cat_threshold=64, max_cat_to_onehot=4, max_delta_step=0,\n",
       "             max_depth=7, max_leaves=0, min_child_weight=1, missing=nan,\n",
       "             monotone_constraints='()', n_estimators=450, n_jobs=-1,\n",
       "             num_parallel_tree=1, predictor='auto', random_state=20201107, ...)"
      ]
     },
     "execution_count": 4,
     "metadata": {},
     "output_type": "execute_result"
    }
   ],
   "source": [
    "XGB_opt = XGBRegressor(learning_rate = 0.1,  \n",
    "                            max_depth =  7,\n",
    "                            n_estimators = 450,\n",
    "                            verbosity=1,                  # If to show more errors or not.\n",
    "                            objective='reg:squarederror',       # Type of target variable.\n",
    "                            booster='gbtree',             # What to boost. Trees in this case.\n",
    "                            n_jobs=-1,                    # Parallel jobs to run. Set your processor number.\n",
    "                            gamma=0.001,                  # Minimum loss reduction required to make a further partition on a leaf node of the tree. (Controls growth!)\n",
    "                            subsample=0.632,              # Subsample ratio. Can set lower\n",
    "                            colsample_bytree=1,           # Subsample ratio of columns when constructing each tree.\n",
    "                            colsample_bylevel=1,          # Subsample ratio of columns when constructing each level. 0.33 is similar to random forest.\n",
    "                            colsample_bynode=1,           # Subsample ratio of columns when constructing each split.\n",
    "                            base_score=0.5,               # Global bias. Set to average of the target rate.\n",
    "                            random_state=RANDOM_STATE        # Seed\n",
    "                            )\n",
    "\n",
    "\n",
    "XGB_opt.fit(Xtrain, ytrain)"
   ]
  },
  {
   "cell_type": "code",
   "execution_count": 5,
   "metadata": {},
   "outputs": [],
   "source": [
    "y_pred_xgb = XGB_opt.predict(Xtest)\n",
    "err_test_xgb = mean_absolute_percentage_error(y_pred_xgb, ytest)\n",
    "\n",
    "# Load the second dataset\n",
    "df_extrapolation = pd.read_csv('energy_appliances_extrapolation.csv')\n",
    "y_extrapolation = df_extrapolation[\"Appliances\"]\n",
    "X_extrapolation =  df_extrapolation.drop(\"Appliances\",axis=1)\n",
    "# Calculate the error over it\n",
    "y_pred_extrapolation_xgb = XGB_opt.predict(X_extrapolation)\n",
    "err_extrapolation_xgb = mean_absolute_percentage_error(y_pred_extrapolation_xgb, y_extrapolation)"
   ]
  },
  {
   "cell_type": "code",
   "execution_count": 6,
   "metadata": {},
   "outputs": [
    {
     "name": "stdout",
     "output_type": "stream",
     "text": [
      "MAPE (test set): 0.179226\n",
      "MAPE (extrapolation set): 2.835186\n"
     ]
    }
   ],
   "source": [
    "print(\"MAPE (test set): %f\" % err_test_xgb)\n",
    "print(\"MAPE (extrapolation set): %f\" % err_extrapolation_xgb)"
   ]
  },
  {
   "cell_type": "code",
   "execution_count": 12,
   "metadata": {},
   "outputs": [
    {
     "data": {
      "text/plain": [
       "<matplotlib.collections.PathCollection at 0x7fdc78c77550>"
      ]
     },
     "execution_count": 12,
     "metadata": {},
     "output_type": "execute_result"
    },
    {
     "data": {
      "image/png": "[encoded data removed]",
      "text/plain": [
       "<Figure size 432x288 with 1 Axes>"
      ]
     },
     "metadata": {
      "needs_background": "light"
     },
     "output_type": "display_data"
    }
   ],
   "source": [
    "plt.scatter(y_pred_xgb, ytest, c = 'r')\n",
    "plt.scatter(y_pred_extrapolation_xgb, y_extrapolation, c = 'b')"
   ]
  }
 ],
 "metadata": {
  "kernelspec": {
   "display_name": "Python 3.9.12 ('base')",
   "language": "python",
   "name": "python3"
  },
  "language_info": {
   "codemirror_mode": {
    "name": "ipython",
    "version": 3
   },
   "file_extension": ".py",
   "mimetype": "text/x-python",
   "name": "python",
   "nbconvert_exporter": "python",
   "pygments_lexer": "ipython3",
   "version": "3.9.12"
  },
  "orig_nbformat": 4,
  "vscode": {
   "interpreter": {
    "hash": "9dbd6522d963e110ce680ef8bbf2ac9e45451014885da3f564eb257b1470d2af"
   }
  }
 },
 "nbformat": 4,
 "nbformat_minor": 2
}
