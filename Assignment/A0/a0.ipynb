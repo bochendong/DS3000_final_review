{
 "cells": [
  {
   "cell_type": "markdown",
   "metadata": {},
   "source": [
    "# Assignment 00: Gauge your Python skills"
   ]
  },
  {
   "cell_type": "markdown",
   "metadata": {},
   "source": [
    "## Question 1: Soccer roster generator\n",
    "\n",
    "Imagine you have been given a list of 22 soccer players along with their performance scores (out of 11):\n",
    "\n",
    "|Player Name | Performance Score (PS)|\n",
    "|---|---|\n",
    "|James|1|\n",
    "|Robert|2|\n",
    "|John|3|\n",
    "|Michael|4|\n",
    "|David|5|\n",
    "|William|6|\n",
    "|Richard|7|\n",
    "|Joseph|8|\n",
    "|Thomas|9|\n",
    "|Charles|10|\n",
    "|Christopher|11|\n",
    "|Mary|1|\n",
    "|Patricia|2|\n",
    "|Jennifer|3|\n",
    "|Linda|4|\n",
    "|Elizabeth|5|\n",
    "|Barbara|6|\n",
    "|Susan|7|\n",
    "|Jessica|8|\n",
    "|Sarah|9|\n",
    "|Karen|10|\n",
    "|Lisa|11|\n",
    "\n",
    "The coach wants you to develop a random roster generator that operates in a fair way. Meaning, upon every execution of your code, it must output two random lineups (each composed of 11 players) such that __no two players with the same performance scores be in the same team__. For example, one output can be:\n",
    "\n",
    "|Team 1 | PS |Team 2 | PS |\n",
    "|-------|------|-------|------|\n",
    "|James      |1 |Mary       |1 |\n",
    "|Robert     |2 |Patricia   |2 |\n",
    "|John       |3 |Jennifer   |3 |\n",
    "|Michael    |4 |Linda      |4 |\n",
    "|David      |5 |Elizabeth  |5 |\n",
    "|William    |6 |Barbara    |6 |\n",
    "|Richard    |7 |Susan      |7 |\n",
    "|Joseph     |8 |Jessica    |8 |\n",
    "|Thomas     |9 |Sarah      |9 |\n",
    "|Charles    |10|Karen      |10|\n",
    "|Christopher|11|Lisa       |11|\n",
    "\n",
    "Or, another output can be:\n",
    "\n",
    "|Team 1 | PS |Team 2 | PS |\n",
    "|-------|------|-------|------|\n",
    "|James      |1 |Mary       |1 |\n",
    "|Patricia   |2 |Robert     |2 |\n",
    "|John       |3 |Jennifer   |3 |\n",
    "|Michael    |4 |Linda      |4 |\n",
    "|David      |5 |Elizabeth  |5 |\n",
    "|William    |6 |Barbara    |6 |\n",
    "|Richard    |7 |Susan      |7 |\n",
    "|Jessica    |8 |Joseph     |8 |\n",
    "|Thomas     |9 |Sarah      |9 |\n",
    "|Charles    |10|Karen      |10|\n",
    "|Christopher|11|Lisa       |11|\n",
    "\n",
    "I need you to write three versions of your code each in a separate cell:\n",
    "1. Version 1 - Use sequence type __*list*__ for both storing original data and outputing lineups.\n",
    "2. Version 2 - Use sequence type __*tuple*__ for both storing original data and outputing lineups.\n",
    "3. Version 3 - Use __*pandas dataframe*__ for both storing original data and outputing lineups.\n",
    "   \n",
    "Caveats:\n",
    "1. Outputted lineups must show not only players names but also their corresponding Performance Scores.\n",
    "2. Your code is supposed to be a __random__ lineup generator meaning the suggested lineups of every execution of your code must be different from previous executions.\n",
    "3. Random does not mean unique, this is not a problem with infinite number of solutions."
   ]
  },
  {
   "cell_type": "code",
   "execution_count": 37,
   "metadata": {},
   "outputs": [
    {
     "name": "stdout",
     "output_type": "stream",
     "text": [
      "Team 1 lineup is:  ['Mary', 1, 'Robert', 2, 'Jennifer', 3, 'Linda', 4, 'Elizabeth', 5, 'Barbara', 6, 'Richard', 7, 'Jessica', 8, 'Thomas', 9, 'Charles', 10, 'Christopher', 11]\n",
      "Team 2 lineup is:  ['James', 1, 'Patricia', 2, 'John', 3, 'Michael', 4, 'David', 5, 'William', 6, 'Susan', 7, 'Joseph', 8, 'Sarah', 9, 'Karen', 10, 'Lisa', 11]\n"
     ]
    }
   ],
   "source": [
    "# Version 1 \n",
    "import random\n",
    "\n",
    "Player_lst = [  'James',    1,  'Mary',  1,    'Patricia',   2,    'Robert', 2,     'John', 3, 'Jennifer', 3, \n",
    "                'Michael',  4, 'Linda',  4,       'David',   5, 'Elizabeth', 5,  'William', 6,  'Barbara', 6, \n",
    "                'Richard',  7, 'Susan',  7,     'Jessica',   8,    'Joseph', 8 ,  'Thomas', 9,    'Sarah', 9, \n",
    "                'Charles', 10, 'Karen', 10, 'Christopher',  11,      'Lisa', 11]\n",
    "\n",
    "team_1, team_2  = [], []\n",
    "for i in range (11):\n",
    "    team_1_player = random.choice([0 ,2])\n",
    "    team_1.append(Player_lst[team_1_player + i * 4])\n",
    "    team_1.append(Player_lst[team_1_player + i * 4 + 1])\n",
    "\n",
    "    team_2_player = 2 - team_1_player\n",
    "    team_2.append((Player_lst[team_2_player + i * 4]))\n",
    "    team_2.append((Player_lst[team_2_player + i * 4 + 1]))\n",
    "\n",
    "print('Team 1 lineup is: ', team_1)\n",
    "print('Team 2 lineup is: ', team_2)\n"
   ]
  },
  {
   "cell_type": "code",
   "execution_count": 43,
   "metadata": {},
   "outputs": [
    {
     "name": "stdout",
     "output_type": "stream",
     "text": [
      "Team 1 lineup is:  ('James', 1, 'Robert', 2, 'Jennifer', 3, 'Linda', 4, 'Elizabeth', 5, 'William', 6, 'Richard', 7, 'Joseph', 8, 'Thomas', 9, 'Karen', 10, 'Lisa', 11)\n",
      "Team 2 lineup is:  ('Mary', 1, 'Patricia', 2, 'John', 3, 'Michael', 4, 'David', 5, 'Barbara', 6, 'Susan', 7, 'Jessica', 8, 'Sarah', 9, 'Charles', 10, 'Christopher', 11)\n"
     ]
    }
   ],
   "source": [
    "# Version 2\n",
    "Player_tuple = (('James',   1),  ('Mary',  1),  ('Patricia',    2),  ('Robert',    2),  ('John',    3), ('Jennifer', 3), \n",
    "                ('Michael', 4),  ('Linda', 4),  ('David',       5),  ('Elizabeth', 5),  ('William', 6), ('Barbara',  6), \n",
    "                ('Richard', 7),  ('Susan', 7),  ('Jessica',     8),  ('Joseph',    8),  ('Thomas',  9),  ('Sarah',   9), \n",
    "                ('Charles', 10), ('Karen', 10), ('Christopher', 11), ('Lisa',      11))\n",
    "\n",
    "team_1, team_2  = (), ()\n",
    "for i in range (11):\n",
    "    team_1_player = random.randint(0, 1)\n",
    "    team_1  = team_1 + Player_tuple[team_1_player + i * 2]\n",
    "\n",
    "    team_2_player = 1 - team_1_player\n",
    "    team_2 = team_2 + Player_tuple[team_2_player + i * 2]\n",
    "\n",
    "print('Team 1 lineup is: ', team_1)\n",
    "print('Team 2 lineup is: ', team_2)"
   ]
  },
  {
   "cell_type": "code",
   "execution_count": 54,
   "metadata": {},
   "outputs": [
    {
     "name": "stdout",
     "output_type": "stream",
     "text": [
      "Team 1 lineup is: \n",
      "   Player Name Performance Score (PS)\n",
      "1         Mary                      1\n",
      "2     Patricia                      2\n",
      "4         John                      3\n",
      "6      Michael                      4\n",
      "8        David                      5\n",
      "10     William                      6\n",
      "13       Susan                      7\n",
      "15      Joseph                      8\n",
      "17       Sarah                      9\n",
      "19       Karen                     10\n",
      "21        Lisa                     11\n",
      "Team 2 lineup is: \n",
      "    Player Name Performance Score (PS)\n",
      "0         James                      1\n",
      "3        Robert                      2\n",
      "5      Jennifer                      3\n",
      "7         Linda                      4\n",
      "9     Elizabeth                      5\n",
      "11      Barbara                      6\n",
      "12      Richard                      7\n",
      "14      Jessica                      8\n",
      "16       Thomas                      9\n",
      "18      Charles                     10\n",
      "20  Christopher                     11\n"
     ]
    }
   ],
   "source": [
    "# Version 3\n",
    "import numpy as np\n",
    "import pandas as pd\n",
    "\n",
    "df = pd.DataFrame(np.array([\n",
    "                ('James',   1),  ('Mary',  1),  ('Patricia',    2),  ('Robert',    2),  ('John',    3), ('Jennifer', 3), \n",
    "                ('Michael', 4),  ('Linda', 4),  ('David',       5),  ('Elizabeth', 5),  ('William', 6), ('Barbara',  6), \n",
    "                ('Richard', 7),  ('Susan', 7),  ('Jessica',     8),  ('Joseph',    8),  ('Thomas',  9),  ('Sarah',   9), \n",
    "                ('Charles', 10), ('Karen', 10), ('Christopher', 11), ('Lisa',      11)]),\n",
    "               columns=['Player Name', 'Performance Score (PS)'])\n",
    "\n",
    "team_1_df = pd.DataFrame(columns=['Player Name', 'Performance Score (PS)'])\n",
    "team_2_df = pd.DataFrame(columns=['Player Name', 'Performance Score (PS)'])\n",
    "\n",
    "for i in range (11):\n",
    "    team_1_player = random.randint(0, 1)\n",
    "    team_1 = df.iloc[[team_1_player + i * 2]]\n",
    "\n",
    "    team_2_player = 1 - team_1_player\n",
    "    team_2 = df.iloc[[team_2_player + i * 2]]\n",
    "\n",
    "    team_1_df = pd.concat([team_1_df, team_1])\n",
    "    team_2_df = pd.concat([team_2_df, team_2])\n",
    "\n",
    "print('Team 1 lineup is: ')\n",
    "print(team_1_df)\n",
    "print('Team 2 lineup is: ')\n",
    "print(team_2_df)"
   ]
  },
  {
   "cell_type": "markdown",
   "metadata": {},
   "source": [
    "## Question 2: Data Scientist, the sexiest job?\n",
    "Please peruse the following two articles and answer the followup questions:\n",
    "1. <a href=\"https://hbr.org/2012/10/data-scientist-the-sexiest-job-of-the-21st-century\">Data Scientist: The Sexiest Job of the 21st Century.</a>\n",
    "2. <a href=\"https://hbr.org/2022/07/is-data-scientist-still-the-sexiest-job-of-the-21st-century\">Is Data Scientist Still the Sexiest Job of the 21st Century?</a>\n",
    "\n",
    "Based on the articles, why Data Science was viewed as the most attractive and/or exciting job in 2012 and what recent developments and/or challenges it is facing now? How a Data Science role is now different from what it was perceived to be in 2012?\n",
    "\n",
    "Caveat:\n",
    "1. Please keep your answer within 400 words.\n",
    "2. Type your answer in a markdown cell with proper formatting."
   ]
  },
  {
   "cell_type": "markdown",
   "metadata": {},
   "source": [
    "Answer:\n",
    "1. Why Data Science was viewed as the most attractive and/or exciting job in 2012?\n",
    "\n",
    "\n",
    "   Data scientists in 2012 are akin to the Wall Street “quants” of the 1980s and 1990s. With the development of big data, many companies are struggling with the amounts and types of data. Therefore, the demand for data scientists far exceeds the supply. Data scientists can find convincing patterns in the data and make informed decisions about products, processes and Advice to executives on the impact of decisions. They can find the core of the problem and devise creative ways to solve them.\n",
    "   \n",
    "2. What recent developments and/or challenges it is facing now?\n",
    "   \n",
    "   This field will grow faster than almost any other field. However, it faces more and more challenges. The challenges of managing ever-increasing data systems and technologies have resulted in a more complex technological environment, as the technology on which the field depends has advanced so much. In the same time, the importance of non-technical expertise (such as ethics and change management) has grown, and finally The growth of related roles has also created challenges for the field.\n",
    "3. How a Data Science role is now different from what it was perceived to be in 2012?\n",
    "\n",
    "   Data science has become more institutionalized, its scope has been redefined, the technologies it relies on have advanced, and the importance of non-technical expertise has grown. The role of data science is now complemented by a variety of other jobs as well, in 2012 data scientists were assumed to be able to perform all the required tasks, however now there is a surge in related jobs handling many of these tasks, in part due to the No single job role can hold all the skills needed to successfully deploy complex AI or analytics systems. At the same time, the techniques used by data scientists are changing. Some technology trends are a continuation of directions that emerged in 2012, such as the use of open source tools and the move to cloud-based processing and data storage. Finally, the ethical dimension also has an important impact on data science. More and more regulations are being created to deal with ethical lapses.\n",
    "   "
   ]
  },
  {
   "cell_type": "markdown",
   "metadata": {},
   "source": [
    "# Submission\n",
    "You will submit only one notebook to OWL under the __*Assignments*__ tab. The tab is not visible to you now but it will become so before the submission deadline. Submission deadline is in the course Calendar on OWL. "
   ]
  }
 ],
 "metadata": {
  "kernelspec": {
   "display_name": "Python 3.10.6 64-bit",
   "language": "python",
   "name": "python3"
  },
  "language_info": {
   "codemirror_mode": {
    "name": "ipython",
    "version": 3
   },
   "file_extension": ".py",
   "mimetype": "text/x-python",
   "name": "python",
   "nbconvert_exporter": "python",
   "pygments_lexer": "ipython3",
   "version": "3.10.6"
  },
  "orig_nbformat": 4,
  "vscode": {
   "interpreter": {
    "hash": "aee8b7b246df8f9039afb4144a1f6fd8d2ca17a180786b69acc140d282b71a49"
   }
  }
 },
 "nbformat": 4,
 "nbformat_minor": 2
}
