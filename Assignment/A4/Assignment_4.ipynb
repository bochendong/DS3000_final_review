{
 "cells": [
  {
   "cell_type": "markdown",
   "metadata": {},
   "source": [
    "### Follow These Instructions\n",
    "\n",
    "Once you are finished, ensure to complete the following steps.\n",
    "\n",
    "1.  Restart your kernel by clicking 'Kernel' > 'Restart & Run All'.\n",
    "\n",
    "2.  Fix any errors which result from this.\n",
    "\n",
    "3.  Repeat steps 1. and 2. until your notebook runs without errors.\n",
    "\n",
    "4.  Submit your completed notebook to OWL by the deadline."
   ]
  },
  {
   "cell_type": "markdown",
   "metadata": {},
   "source": [
    "# Assignment 4: Classification with Logistic Regression  [ __ /100  marks]\n",
    "\n",
    "\n",
    "In this assignment we will use the `diabetes` dataset, which was collected and made available by “National Institute of Diabetes and Digestive and Kidney Diseases” as part of the Pima Indians Diabetes Database. \n",
    "\n",
    "We will use logistic regression to predict whether subjects have diabetes or not."
   ]
  },
  {
   "cell_type": "code",
   "execution_count": 1,
   "metadata": {},
   "outputs": [],
   "source": [
    "import pandas as pd\n",
    "import seaborn as sns\n",
    "import numpy as np\n",
    "from sklearn.model_selection import train_test_split, cross_val_score\n",
    "from sklearn.linear_model import LogisticRegression\n",
    "from sklearn.metrics import roc_curve, precision_recall_curve, auc\n",
    "import matplotlib.pyplot as plt\n",
    "from sklearn.linear_model import SGDClassifier\n",
    "from sklearn.preprocessing import StandardScaler\n",
    "seed=0"
   ]
  },
  {
   "cell_type": "markdown",
   "metadata": {},
   "source": [
    "## Question 1.1 [ _ /3 marks]\n",
    "\n",
    "Read the file `diabetes.csv` into a pandas DataFrame. Display the first 5 rows of the DataFrame. "
   ]
  },
  {
   "cell_type": "code",
   "execution_count": 2,
   "metadata": {
    "scrolled": true
   },
   "outputs": [
    {
     "data": {
      "text/html": [
       "<div>\n",
       "<style scoped>\n",
       "    .dataframe tbody tr th:only-of-type {\n",
       "        vertical-align: middle;\n",
       "    }\n",
       "\n",
       "    .dataframe tbody tr th {\n",
       "        vertical-align: top;\n",
       "    }\n",
       "\n",
       "    .dataframe thead th {\n",
       "        text-align: right;\n",
       "    }\n",
       "</style>\n",
       "<table border=\"1\" class=\"dataframe\">\n",
       "  <thead>\n",
       "    <tr style=\"text-align: right;\">\n",
       "      <th></th>\n",
       "      <th>Pregnancies</th>\n",
       "      <th>Glucose</th>\n",
       "      <th>BloodPressure</th>\n",
       "      <th>SkinThickness</th>\n",
       "      <th>Insulin</th>\n",
       "      <th>BMI</th>\n",
       "      <th>DiabetesPedigreeFunction</th>\n",
       "      <th>Age</th>\n",
       "      <th>Outcome</th>\n",
       "    </tr>\n",
       "  </thead>\n",
       "  <tbody>\n",
       "    <tr>\n",
       "      <th>0</th>\n",
       "      <td>6</td>\n",
       "      <td>148</td>\n",
       "      <td>72</td>\n",
       "      <td>35</td>\n",
       "      <td>0</td>\n",
       "      <td>33.6</td>\n",
       "      <td>0.627</td>\n",
       "      <td>50</td>\n",
       "      <td>1</td>\n",
       "    </tr>\n",
       "    <tr>\n",
       "      <th>1</th>\n",
       "      <td>1</td>\n",
       "      <td>85</td>\n",
       "      <td>66</td>\n",
       "      <td>29</td>\n",
       "      <td>0</td>\n",
       "      <td>26.6</td>\n",
       "      <td>0.351</td>\n",
       "      <td>31</td>\n",
       "      <td>0</td>\n",
       "    </tr>\n",
       "    <tr>\n",
       "      <th>2</th>\n",
       "      <td>8</td>\n",
       "      <td>183</td>\n",
       "      <td>64</td>\n",
       "      <td>0</td>\n",
       "      <td>0</td>\n",
       "      <td>23.3</td>\n",
       "      <td>0.672</td>\n",
       "      <td>32</td>\n",
       "      <td>1</td>\n",
       "    </tr>\n",
       "    <tr>\n",
       "      <th>3</th>\n",
       "      <td>1</td>\n",
       "      <td>89</td>\n",
       "      <td>66</td>\n",
       "      <td>23</td>\n",
       "      <td>94</td>\n",
       "      <td>28.1</td>\n",
       "      <td>0.167</td>\n",
       "      <td>21</td>\n",
       "      <td>0</td>\n",
       "    </tr>\n",
       "    <tr>\n",
       "      <th>4</th>\n",
       "      <td>0</td>\n",
       "      <td>137</td>\n",
       "      <td>40</td>\n",
       "      <td>35</td>\n",
       "      <td>168</td>\n",
       "      <td>43.1</td>\n",
       "      <td>2.288</td>\n",
       "      <td>33</td>\n",
       "      <td>1</td>\n",
       "    </tr>\n",
       "  </tbody>\n",
       "</table>\n",
       "</div>"
      ],
      "text/plain": [
       "   Pregnancies  Glucose  BloodPressure  SkinThickness  Insulin   BMI  \\\n",
       "0            6      148             72             35        0  33.6   \n",
       "1            1       85             66             29        0  26.6   \n",
       "2            8      183             64              0        0  23.3   \n",
       "3            1       89             66             23       94  28.1   \n",
       "4            0      137             40             35      168  43.1   \n",
       "\n",
       "   DiabetesPedigreeFunction  Age  Outcome  \n",
       "0                     0.627   50        1  \n",
       "1                     0.351   31        0  \n",
       "2                     0.672   32        1  \n",
       "3                     0.167   21        0  \n",
       "4                     2.288   33        1  "
      ]
     },
     "execution_count": 2,
     "metadata": {},
     "output_type": "execute_result"
    }
   ],
   "source": [
    "# ****** your code here ******\n",
    "df = pd.read_csv('diabetes.csv')\n",
    "df.head(5)"
   ]
  },
  {
   "cell_type": "markdown",
   "metadata": {},
   "source": [
    "## Question 1.2 [ _ /6 marks]\n",
    "\n",
    "(1) How many classes are there? How many features are available to predict the outcome?"
   ]
  },
  {
   "cell_type": "markdown",
   "metadata": {},
   "source": [
    "**Your answer**: 2 classes and 8 features"
   ]
  },
  {
   "cell_type": "markdown",
   "metadata": {},
   "source": [
    "(2) Is the dataset class-balanced?"
   ]
  },
  {
   "cell_type": "code",
   "execution_count": 3,
   "metadata": {},
   "outputs": [
    {
     "data": {
      "text/plain": [
       "0    500\n",
       "1    268\n",
       "Name: Outcome, dtype: int64"
      ]
     },
     "execution_count": 3,
     "metadata": {},
     "output_type": "execute_result"
    }
   ],
   "source": [
    "# ****** your code here ******\n",
    "df.Outcome.value_counts()"
   ]
  },
  {
   "cell_type": "markdown",
   "metadata": {},
   "source": [
    "**Your answer**: The data set is unbalanced since it has 500 0s and 268 1s."
   ]
  },
  {
   "cell_type": "markdown",
   "metadata": {},
   "source": [
    "(3) For this classification problem, what is the baseline accuracy? Round into 3 decimal place."
   ]
  },
  {
   "cell_type": "code",
   "execution_count": 4,
   "metadata": {},
   "outputs": [
    {
     "name": "stdout",
     "output_type": "stream",
     "text": [
      "Baseline Accuracy is: 0.651\n"
     ]
    }
   ],
   "source": [
    "# ****** your code here ******\n",
    "baseline_accuracy = 500 / (500 + 268)\n",
    "print(\"Baseline Accuracy is: %.3f\" % baseline_accuracy)"
   ]
  },
  {
   "cell_type": "markdown",
   "metadata": {},
   "source": [
    "## Question 1.3 [ _ /3 marks]\n",
    "\n",
    "Use `train_test_split` with `random_state=0` to split the data into training and test sets. Leave `20%` for testing."
   ]
  },
  {
   "cell_type": "code",
   "execution_count": 5,
   "metadata": {},
   "outputs": [],
   "source": [
    "# Store all the features into variable \"X\"\n",
    "# ****** your code here ******\n",
    "X = X = df.iloc[:,0:8].values\n",
    "\n",
    "# Store the output class values into variable \"y\" \n",
    "# ****** your code here ******\n",
    "\n",
    "y = df.Outcome.values\n",
    "\n",
    "# Split your X and y data using train_test_split \n",
    "# ****** your code here ******\n",
    "Xtrain, Xtest, ytrain, ytest = train_test_split(X, y, test_size=0.2, random_state=0)"
   ]
  },
  {
   "cell_type": "markdown",
   "metadata": {},
   "source": [
    "## Question 2.1 [ _ /3 marks]\n",
    "\n",
    "We will use sklearn's `LogisticRegression` to solve the classification problem. Before we move on, answer the following questions by reading the [documentation](https://scikit-learn.org/stable/modules/generated/sklearn.linear_model.LogisticRegression.html)."
   ]
  },
  {
   "cell_type": "markdown",
   "metadata": {},
   "source": [
    "\n",
    "(1) Does `LogisticRegression` use a penalty by default?  If yes, what penalty?\n",
    "\n",
    "**Your answer**:  Default penalty is l2 penalty\n",
    "\n",
    "\n",
    "    \n",
    "(2) If we apply a penalty during learning, what difference do you expect to see in the resulting coefficients, relative to not applying a penalty during learning?\n",
    "\n",
    "**Your answer**:  The resulting coefficients should be smaller\n",
    "\n",
    "\n",
    "    \n",
    "(3) If using the default settings of `LogisticRegression`, do you need to include a column of 1s in your feature/design matrix? Briefly explain why or why not.\n",
    "\n",
    "**Your answer**:  We do not need add a column of 1s in your feature/design matrix. The default intercept is 0 here."
   ]
  },
  {
   "cell_type": "markdown",
   "metadata": {},
   "source": [
    "## Question 2.2 [ _ /10 marks]\n",
    "\n",
    "Create a `LogisticRegression` model with `penalty=none`. Let's fisrt train and test this classifier using only \"Insulin\" as the input feature. Make a scatter plot of the points. Plot your prediction on the same graph."
   ]
  },
  {
   "cell_type": "code",
   "execution_count": 6,
   "metadata": {},
   "outputs": [
    {
     "data": {
      "text/plain": [
       "[]"
      ]
     },
     "execution_count": 6,
     "metadata": {},
     "output_type": "execute_result"
    },
    {
     "data": {
      "image/png": "[encoded data removed]",
      "text/plain": [
       "<Figure size 432x288 with 1 Axes>"
      ]
     },
     "metadata": {
      "needs_background": "light"
     },
     "output_type": "display_data"
    }
   ],
   "source": [
    "# Create a LogisticRegression model without regularization \n",
    "# ****** your code here ******\n",
    "model = LogisticRegression(penalty='none', max_iter=10000)\n",
    "\n",
    "# Obtain training data and test data  \n",
    "# ****** your code here ******\n",
    "XtrainLinsulin = Xtrain[:,4].reshape(-1, 1)\n",
    "XtestLinsulin = Xtest[:,4].reshape(-1, 1)\n",
    "\n",
    "# Fit to your training data using Logistic Regression \n",
    "# ****** your code here ******\n",
    "model.fit(XtrainLinsulin, ytrain)\n",
    "\n",
    "# Create a scatter plot of the test data. \n",
    "# ****** your code here ******\n",
    "ypred = model.predict(np.linspace(0, 800,300).reshape(-1, 1))\n",
    "ytest_probLinsulin = model.predict_proba(XtestLinsulin)\n",
    "\n",
    "plt.scatter(XtestLinsulin, ytest)\n",
    "plt.title(\"Logistic Regression using feature Lnsulin\")\n",
    "\n",
    "# Also plot your prediction using sns.lineplot\n",
    "# lineplot needs 1d vector x\n",
    "sns.lineplot(x = np.linspace(0, 800,300), y = ypred, color = 'r')\n",
    "plt.plot()"
   ]
  },
  {
   "cell_type": "markdown",
   "metadata": {},
   "source": [
    "## Question 2.3 [ _ /10 marks]\n",
    "Evaluate the classification performance using `Accuracy`, `Recall`, `Precision`, `Sensitivity` and `Specificity`."
   ]
  },
  {
   "cell_type": "code",
   "execution_count": 7,
   "metadata": {},
   "outputs": [
    {
     "name": "stdout",
     "output_type": "stream",
     "text": [
      "Acc: 0.70779\n",
      "Recall: 0.06383\n",
      "Precision: 0.75000\n",
      "Sensitivity: 0.06383\n",
      "Specificity: 0.99065\n"
     ]
    }
   ],
   "source": [
    "# ****** your code here ******\n",
    "# You can either write a function or not\n",
    "def compute_performance(ypred, ytest, classes):\n",
    "    tp = sum(np.logical_and(ypred == classes[1], ytest == classes[1]))\n",
    "    tn = sum(np.logical_and(ypred == classes[0], ytest == classes[0]))\n",
    "    fp = sum(np.logical_and(ypred == classes[1], ytest == classes[0]))\n",
    "    fn = sum(np.logical_and(ypred == classes[0], ytest == classes[1]))\n",
    "\n",
    "    return tp, tn, fp, fn\n",
    "\n",
    "ypred = model.predict(XtestLinsulin)\n",
    "tp, tn, fp, fn = compute_performance(ypred, ytest, model.classes_)\n",
    "\n",
    "Acc = (tp + tn) / (tp + tn + fp + fn)\n",
    "print(\"Acc: %.5f\" % Acc)\n",
    "Recall = tp / (tp + fn)\n",
    "print(\"Recall: %.5f\" % Recall)\n",
    "Precision = tp/(tp + fp)\n",
    "print(\"Precision: %.5f\" % Precision)\n",
    "Sensitivity = tp / (tp + fn)\n",
    "print(\"Sensitivity: %.5f\" % Sensitivity)\n",
    "Specificity = tn / (tn + fp)\n",
    "print(\"Specificity: %.5f\" % Specificity)\n",
    "\n"
   ]
  },
  {
   "cell_type": "markdown",
   "metadata": {},
   "source": [
    "## Question 3.1 [ _ /10 marks]\n",
    "\n",
    "Create another `LogisticRegression` model with `penalty=none`. Train and test this classifier with all features and then evaluate the performance."
   ]
  },
  {
   "cell_type": "code",
   "execution_count": 8,
   "metadata": {},
   "outputs": [
    {
     "name": "stdout",
     "output_type": "stream",
     "text": [
      "Acc: 0.82468\n"
     ]
    }
   ],
   "source": [
    "# Create a LogisticRegression model without regularization \n",
    "# ****** your code here ******\n",
    "model = LogisticRegression(penalty='none', max_iter=10000)\n",
    "\n",
    "# Fit to your training data using Logistic Regression \n",
    "# ****** your code here ******\n",
    "model.fit(Xtrain, ytrain)\n",
    "\n",
    "# Compute your test predictions, given test inputs \n",
    "# ****** your code here ******\n",
    "ypred = model.predict(Xtest)\n",
    "ytest_prob = model.predict_proba(Xtest)\n",
    "\n",
    "# Evaluate the performance\n",
    "# ****** your code here ******\n",
    "tp, tn, fp, fn = compute_performance(ypred, ytest, model.classes_)\n",
    "Acc = (tp + tn) / (tp + tn + fp + fn)\n",
    "print(\"Acc: %.5f\" % Acc)"
   ]
  },
  {
   "cell_type": "markdown",
   "metadata": {},
   "source": [
    "Does using more features help to improve the classification?\n",
    "\n",
    "**Your answer** : Yes, the accuracy increased."
   ]
  },
  {
   "cell_type": "markdown",
   "metadata": {},
   "source": [
    "## Question 3.2 [ _ /10 marks]\n",
    "Let's adjust the decision threshold from 0.5 (default) to 0.4 and 0.6, and then evlaute the performance."
   ]
  },
  {
   "cell_type": "code",
   "execution_count": 9,
   "metadata": {},
   "outputs": [
    {
     "name": "stdout",
     "output_type": "stream",
     "text": [
      "Acc: 0.79221\n"
     ]
    }
   ],
   "source": [
    "# Using your classifer from last question, adjust the decision threshold and get the updated predictions \n",
    "# ****** your code here ******\n",
    "threshold = 0.4\n",
    "ytest_prob = model.predict_proba(Xtest)\n",
    "ypred = model.classes_[(ytest_prob[:,1]>threshold).astype(int)]\n",
    "\n",
    "# Evaluate the performance\n",
    "# ****** your code here ******\n",
    "tp, tn, fp, fn = compute_performance(ypred, ytest, model.classes_)\n",
    "Acc = (tp + tn) / (tp + tn + fp + fn)\n",
    "print(\"Acc: %.5f\" % Acc)"
   ]
  },
  {
   "cell_type": "code",
   "execution_count": 10,
   "metadata": {},
   "outputs": [
    {
     "name": "stdout",
     "output_type": "stream",
     "text": [
      "Acc: 0.81818\n"
     ]
    }
   ],
   "source": [
    "# Using your classifer from last question, adjust the decision threshold and get the updated predictions \n",
    "# ****** your code here ******\n",
    "threshold = 0.6\n",
    "\n",
    "ytest_prob = model.predict_proba(Xtest)\n",
    "ypred = model.classes_[(ytest_prob[:,1]>threshold).astype(int)]\n",
    "\n",
    "# Evaluate the performance\n",
    "# ****** your code here ******\n",
    "tp, tn, fp, fn = compute_performance(ypred, ytest, model.classes_)\n",
    "Acc = (tp + tn) / (tp + tn + fp + fn)\n",
    "print(\"Acc: %.5f\" % Acc)"
   ]
  },
  {
   "cell_type": "markdown",
   "metadata": {},
   "source": [
    "What do you think is a better threshold? \n",
    "\n",
    "**Your answer**:  0.6 is the better threshold"
   ]
  },
  {
   "cell_type": "markdown",
   "metadata": {},
   "source": [
    "## Question 3.3 [ _ /10 marks]\n",
    "\n",
    "Create a final `LogisticRegression` model with `penalty=l2`, `C=0.01`. Train and test this classifier with all features and then evaluate the performance."
   ]
  },
  {
   "cell_type": "code",
   "execution_count": 11,
   "metadata": {},
   "outputs": [
    {
     "name": "stdout",
     "output_type": "stream",
     "text": [
      "Acc: 0.81169\n"
     ]
    }
   ],
   "source": [
    "# Create a LogisticRegression model with l2 regularization \n",
    "# ****** your code here ******\n",
    "model = LogisticRegression(penalty=\"l2\", max_iter=10000, C = 0.01)\n",
    "\n",
    "# Fit to your training data using Logistic Regression \n",
    "# ****** your code here ******\n",
    "model.fit(Xtrain, ytrain)\n",
    "\n",
    "# Compute your test predictions, given test inputs \n",
    "# ****** your code here ******\n",
    "ypred = model.predict(Xtest)\n",
    "ytest_prob_l2 = model.predict_proba(Xtest)\n",
    "\n",
    "# Evaluate the performance\n",
    "# ****** your code here ******\n",
    "tp, tn, fp, fn = compute_performance(ypred, ytest, model.classes_)\n",
    "Acc = (tp + tn) / (tp + tn + fp + fn)\n",
    "print(\"Acc: %.5f\" % Acc)"
   ]
  },
  {
   "cell_type": "markdown",
   "metadata": {},
   "source": [
    "Does regularization help to improve the classification?\n",
    "\n",
    "**Your answer** : Since the accuracy decreased compared to 3.1, the regularization does not help"
   ]
  },
  {
   "cell_type": "markdown",
   "metadata": {},
   "source": [
    "## Question 4 [ _ /15 marks]\n",
    "\n",
    "Plot ROC Curves for the classifiers you used in questions 2.2, 3.1, and 3.3. Use AUC to determine which classifier is the best."
   ]
  },
  {
   "cell_type": "code",
   "execution_count": 12,
   "metadata": {},
   "outputs": [
    {
     "name": "stdout",
     "output_type": "stream",
     "text": [
      "classifier (one feature): 0.536289520779479\n",
      "classifier (all feature): 0.8663750248558362\n",
      "classifier (all feature with l2): 0.8526546033008551\n"
     ]
    },
    {
     "data": {
      "image/png": "[encoded data removed]",
      "text/plain": [
       "<Figure size 432x288 with 1 Axes>"
      ]
     },
     "metadata": {
      "needs_background": "light"
     },
     "output_type": "display_data"
    }
   ],
   "source": [
    "# Use roc_curve to get FPR and TPR for each of the 3 classifiers \n",
    "# ****** your code here ******\n",
    "fpr1, tpr1, _ = roc_curve(ytest, ytest_probLinsulin[:,1], pos_label=1)\n",
    "fpr2, tpr2, _ = roc_curve(ytest, ytest_prob[:,1], pos_label=1)\n",
    "fpr3, tpr3, _ = roc_curve(ytest, ytest_prob_l2[:,1], pos_label=1)\n",
    "\n",
    "# Plot all of the ROC curves \n",
    "# ****** your code here ******\n",
    "ax = sns.lineplot(x = fpr1,y = tpr1)\n",
    "ax = sns.lineplot(x = fpr2,y = tpr2)\n",
    "ax = sns.lineplot(x = fpr3,y = tpr3)\n",
    "ax.legend(['One feature', 'All feature', 'All feature with l2'])\n",
    "\n",
    "# Determine AUC for each of the ROC curves \n",
    "# ****** your code here ******\n",
    "AUC_one_feature = auc(fpr1,tpr1)\n",
    "AUC_all_feature = auc(fpr2,tpr2)\n",
    "AUC_l2 = auc(fpr3,tpr3)\n",
    "\n",
    "print(\"classifier (one feature): \"+ str(AUC_one_feature))\n",
    "print(\"classifier (all feature): \"+ str(AUC_all_feature))\n",
    "print(\"classifier (all feature with l2): \"+ str(AUC_l2))"
   ]
  },
  {
   "cell_type": "markdown",
   "metadata": {},
   "source": [
    "Which one is the best classifier?\n",
    "\n",
    "**Your answer**: The classifier in question 3.1 is the best classifier, it has the largest AUC value and largest area below ROC curve"
   ]
  },
  {
   "cell_type": "markdown",
   "metadata": {},
   "source": [
    "## Question 5 [ _ /20 marks]\n",
    "\n",
    "Multiclass Logistic Regression\n",
    "\n",
    "In the classification lab, we trained a binary LR classifier using the _mnist_ dataset to discriminate entries which were equal to 5 from the rest. Use the same dataset to train a multiclass `SGDClassifier`  with `l2` regularization. So, this time you will have 10 classes i.e., 0, 1, 2, 3, 4, 5, 6, 7, 8, and 9. Your model must achieve an average accuracy of more than 90% according to the cross validation accuracy scores over 3 folds. For training use `max_iter=2000`, `tol=1e-3`, `random_state=seed`. For some `sklearn` functions you can set argument `n_jobs=N` to run them in parallel for computation speed-up. A good value for N can be the number of physical CPU cores that your machine possesses. Check the documentations of the functions to take advantage from this where possible. First load the data and plot a histogram to comment on class distribution and whether you assume the dataset as imbalanced or balanced. For data splitting use `test_size=0.5` and `random_state=seed`."
   ]
  },
  {
   "cell_type": "code",
   "execution_count": 13,
   "metadata": {},
   "outputs": [],
   "source": [
    "### your stuff\n",
    "from sklearn.datasets import fetch_openml\n",
    "seed = 0\n",
    "mnist = fetch_openml('mnist_784', version=1, as_frame=False)"
   ]
  },
  {
   "cell_type": "code",
   "execution_count": 14,
   "metadata": {},
   "outputs": [
    {
     "name": "stdout",
     "output_type": "stream",
     "text": [
      "Scores: [0.87 0.86 0.87]\n",
      "Mean: 0.87\n",
      "Standard deviation: 0.01\n"
     ]
    }
   ],
   "source": [
    "X, y = mnist[\"data\"], mnist[\"target\"]\n",
    "X_train, X_test, y_train, y_test = train_test_split(X, y, test_size=0.5, random_state=seed)\n",
    "\n",
    "sgd_clf = SGDClassifier(max_iter=2000, tol=1e-3, random_state=seed)\n",
    "sgd_clf.fit(X_train, y_train)\n",
    "\n",
    "scores = cross_val_score(sgd_clf, X_train, y_train, cv=3, scoring=\"accuracy\")\n",
    "print(\"Scores:\", scores.round(2))\n",
    "print(\"Mean:\", scores.mean().round(2))\n",
    "print(\"Standard deviation:\", scores.std().round(2))"
   ]
  },
  {
   "cell_type": "markdown",
   "metadata": {},
   "source": [
    "**Your written answer**: "
   ]
  },
  {
   "cell_type": "markdown",
   "metadata": {},
   "source": [
    "## Extras:\n",
    "\n",
    "You can run the cell below to see how well your model can recognize a digit written by the mouse cursor. Set the `final_model` variable, run the cell, draw on the pop-up canvas, and once you close the canvas you will see the result."
   ]
  },
  {
   "cell_type": "code",
   "execution_count": 16,
   "metadata": {},
   "outputs": [
    {
     "name": "stdout",
     "output_type": "stream",
     "text": [
      "\n",
      "Input recognized as 2.\n"
     ]
    }
   ],
   "source": [
    "final_model=sgd_clf # use the name of your final model\n",
    "#!pip install tk-tools\n",
    "from tkinter import *\n",
    "import tkinter as tk\n",
    "from PIL import Image\n",
    "import io\n",
    "import matplotlib as mpl\n",
    "\n",
    "temp_file_name=\"TEMP_image_TEMP.jpg\"\n",
    "app = Tk()\n",
    "app.geometry(\"300x300\")\n",
    "canvas = tk.Canvas(app, bg='white')\n",
    "canvas.pack(anchor='nw', fill='both', expand=1)\n",
    "def get_x_and_y(event):\n",
    "    global lasx, lasy\n",
    "    lasx, lasy = event.x, event.y\n",
    "\n",
    "def draw_smth(event):\n",
    "    global lasx, lasy\n",
    "    canvas.create_line((lasx, lasy, event.x, event.y), fill='red', width=4)\n",
    "    lasx, lasy = event.x, event.y\n",
    "    ps = canvas.postscript(colormode = 'color')\n",
    "    img = Image.open(io.BytesIO(ps.encode('utf-8')))\n",
    "    img.save(temp_file_name)\n",
    "\n",
    "canvas.bind(\"<Button-1>\", get_x_and_y)\n",
    "canvas.bind(\"<B1-Motion>\", draw_smth)\n",
    "\n",
    "app.mainloop()\n",
    "img = Image.open(temp_file_name)\n",
    "#resize image to 28x28 pixels\n",
    "img = img.resize((28,28))\n",
    "#convert rgb to grayscale\n",
    "img = img.convert(\"L\")\n",
    "img = np.array(img)\n",
    "img = 255.0 - img\n",
    "plt.imshow(img, cmap = mpl.cm.binary); plt.axis(\"off\")\n",
    "# reshaping to support our model input\n",
    "img = np.reshape(img, 28*28)\n",
    "\n",
    "#predicting the class\n",
    "print('\\nInput recognized as ' + str(final_model.predict([img])[0])+'.')"
   ]
  },
  {
   "cell_type": "markdown",
   "metadata": {},
   "source": [
    "## Question 6 [0/0 marks]\n",
    "It often makes mistakes and its accuracy does not seem to be around 90%. Can you give reasons to explain why?"
   ]
  },
  {
   "cell_type": "markdown",
   "metadata": {},
   "source": [
    "**Your answer**: "
   ]
  },
  {
   "cell_type": "markdown",
   "metadata": {},
   "source": [
    "### Follow These Instructions\n",
    "\n",
    "Once you are finished, ensure to complete the following steps.\n",
    "\n",
    "1.  Restart your kernel by clicking 'Kernel' > 'Restart & Run All'.\n",
    "\n",
    "2.  Fix any errors which result from this.\n",
    "\n",
    "3.  Repeat steps 1. and 2. until your notebook runs without errors.\n",
    "\n",
    "4.  Submit your completed notebook to OWL by the deadline."
   ]
  }
 ],
 "metadata": {
  "kernelspec": {
   "display_name": "Python 3.9.12 ('base')",
   "language": "python",
   "name": "python3"
  },
  "language_info": {
   "codemirror_mode": {
    "name": "ipython",
    "version": 3
   },
   "file_extension": ".py",
   "mimetype": "text/x-python",
   "name": "python",
   "nbconvert_exporter": "python",
   "pygments_lexer": "ipython3",
   "version": "3.9.12"
  },
  "vscode": {
   "interpreter": {
    "hash": "9dbd6522d963e110ce680ef8bbf2ac9e45451014885da3f564eb257b1470d2af"
   }
  }
 },
 "nbformat": 4,
 "nbformat_minor": 4
}
