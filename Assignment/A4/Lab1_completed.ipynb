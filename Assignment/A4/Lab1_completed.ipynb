{
 "cells": [
  {
   "cell_type": "code",
   "execution_count": 1,
   "metadata": {},
   "outputs": [],
   "source": [
    "import pandas as pd\n",
    "import numpy as np\n",
    "import seaborn as sns\n",
    "import matplotlib.pyplot as plt\n",
    "from sklearn.model_selection import train_test_split\n",
    "from sklearn.linear_model import LogisticRegression\n",
    "from sklearn.metrics import recall_score, confusion_matrix, roc_curve, auc\n",
    "seed=0"
   ]
  },
  {
   "cell_type": "markdown",
   "metadata": {},
   "source": [
    "## Logistic Regression"
   ]
  },
  {
   "cell_type": "code",
   "execution_count": 2,
   "metadata": {},
   "outputs": [
    {
     "data": {
      "text/html": [
       "<div>\n",
       "<style scoped>\n",
       "    .dataframe tbody tr th:only-of-type {\n",
       "        vertical-align: middle;\n",
       "    }\n",
       "\n",
       "    .dataframe tbody tr th {\n",
       "        vertical-align: top;\n",
       "    }\n",
       "\n",
       "    .dataframe thead th {\n",
       "        text-align: right;\n",
       "    }\n",
       "</style>\n",
       "<table border=\"1\" class=\"dataframe\">\n",
       "  <thead>\n",
       "    <tr style=\"text-align: right;\">\n",
       "      <th></th>\n",
       "      <th>AREA</th>\n",
       "      <th>PERIMETER</th>\n",
       "      <th>MAJORAXIS</th>\n",
       "      <th>MINORAXIS</th>\n",
       "      <th>ECCENTRICITY</th>\n",
       "      <th>CONVEX_AREA</th>\n",
       "      <th>EXTENT</th>\n",
       "      <th>CLASS</th>\n",
       "    </tr>\n",
       "  </thead>\n",
       "  <tbody>\n",
       "    <tr>\n",
       "      <th>0</th>\n",
       "      <td>15231</td>\n",
       "      <td>525.578979</td>\n",
       "      <td>229.749878</td>\n",
       "      <td>85.093788</td>\n",
       "      <td>0.928882</td>\n",
       "      <td>15617</td>\n",
       "      <td>0.572896</td>\n",
       "      <td>Cammeo</td>\n",
       "    </tr>\n",
       "    <tr>\n",
       "      <th>1</th>\n",
       "      <td>14656</td>\n",
       "      <td>494.311005</td>\n",
       "      <td>206.020065</td>\n",
       "      <td>91.730972</td>\n",
       "      <td>0.895405</td>\n",
       "      <td>15072</td>\n",
       "      <td>0.615436</td>\n",
       "      <td>Cammeo</td>\n",
       "    </tr>\n",
       "    <tr>\n",
       "      <th>2</th>\n",
       "      <td>14634</td>\n",
       "      <td>501.122009</td>\n",
       "      <td>214.106781</td>\n",
       "      <td>87.768288</td>\n",
       "      <td>0.912118</td>\n",
       "      <td>14954</td>\n",
       "      <td>0.693259</td>\n",
       "      <td>Cammeo</td>\n",
       "    </tr>\n",
       "    <tr>\n",
       "      <th>3</th>\n",
       "      <td>13176</td>\n",
       "      <td>458.342987</td>\n",
       "      <td>193.337387</td>\n",
       "      <td>87.448395</td>\n",
       "      <td>0.891861</td>\n",
       "      <td>13368</td>\n",
       "      <td>0.640669</td>\n",
       "      <td>Cammeo</td>\n",
       "    </tr>\n",
       "    <tr>\n",
       "      <th>4</th>\n",
       "      <td>14688</td>\n",
       "      <td>507.166992</td>\n",
       "      <td>211.743378</td>\n",
       "      <td>89.312454</td>\n",
       "      <td>0.906691</td>\n",
       "      <td>15262</td>\n",
       "      <td>0.646024</td>\n",
       "      <td>Cammeo</td>\n",
       "    </tr>\n",
       "  </tbody>\n",
       "</table>\n",
       "</div>"
      ],
      "text/plain": [
       "    AREA   PERIMETER   MAJORAXIS  MINORAXIS  ECCENTRICITY  CONVEX_AREA  \\\n",
       "0  15231  525.578979  229.749878  85.093788      0.928882        15617   \n",
       "1  14656  494.311005  206.020065  91.730972      0.895405        15072   \n",
       "2  14634  501.122009  214.106781  87.768288      0.912118        14954   \n",
       "3  13176  458.342987  193.337387  87.448395      0.891861        13368   \n",
       "4  14688  507.166992  211.743378  89.312454      0.906691        15262   \n",
       "\n",
       "     EXTENT   CLASS  \n",
       "0  0.572896  Cammeo  \n",
       "1  0.615436  Cammeo  \n",
       "2  0.693259  Cammeo  \n",
       "3  0.640669  Cammeo  \n",
       "4  0.646024  Cammeo  "
      ]
     },
     "execution_count": 2,
     "metadata": {},
     "output_type": "execute_result"
    }
   ],
   "source": [
    "# This dataset describes grains of rice in terms of visual properties.\n",
    "# The class is the variety of rice, either Cammeo or Osmancık\n",
    "# https://archive.ics.uci.edu/ml/datasets/Rice+%28Cammeo+and+Osmancik%29\n",
    "# (Actually downloaded the data from the paper's website.)\n",
    "rice = pd.read_csv(\"Rice_Osmancik_Cammeo_Dataset.csv\")\n",
    "rice.head()"
   ]
  },
  {
   "cell_type": "code",
   "execution_count": 3,
   "metadata": {},
   "outputs": [
    {
     "data": {
      "text/plain": [
       "Osmancik    2180\n",
       "Cammeo      1630\n",
       "Name: CLASS, dtype: int64"
      ]
     },
     "execution_count": 3,
     "metadata": {},
     "output_type": "execute_result"
    }
   ],
   "source": [
    "# Check out class distribution\n",
    "\n",
    "rice.CLASS.value_counts()"
   ]
  },
  {
   "cell_type": "code",
   "execution_count": 13,
   "metadata": {},
   "outputs": [
    {
     "name": "stdout",
     "output_type": "stream",
     "text": [
      "Baseline Accuracy: 57.2%\n"
     ]
    }
   ],
   "source": [
    "#Baseline accuracy? (i.e. accuracy for always guessing the majority class)\n",
    "\n",
    "# baselineacc = 2180 / (2180 + 1630)\n",
    "\n",
    "A = rice.CLASS[rice['CLASS']=='Osmancik'].count() # majority class\n",
    "B = rice.CLASS[rice['CLASS']=='Cammeo'].count()\n",
    "\n",
    "baselineacc = A/(A+B) # the classifier you train must beat this number else no point in training one\n",
    "\n",
    "print('Baseline Accuracy: '+str((baselineacc*100).round(1))+'%')"
   ]
  },
  {
   "cell_type": "code",
   "execution_count": 14,
   "metadata": {},
   "outputs": [],
   "source": [
    "# Split data, train logistic regression\n",
    "\n",
    "X = rice.drop('CLASS', axis='columns').values\n",
    "y = rice.CLASS.values\n",
    "\n",
    "Xtrain, Xtest, ytrain, ytest = train_test_split(X, y, test_size=0.5, random_state=seed)"
   ]
  },
  {
   "cell_type": "code",
   "execution_count": 15,
   "metadata": {},
   "outputs": [
    {
     "name": "stdout",
     "output_type": "stream",
     "text": [
      "Intercept:\n",
      " [0.003] \n",
      "Coefficients:\n",
      " [[ 0.006  0.145 -0.241  0.392  0.001 -0.01   0.003]]\n"
     ]
    }
   ],
   "source": [
    "# Fit model, print coefficients\n",
    "ricelr = LogisticRegression(penalty='none').fit(Xtrain,ytrain)\n",
    "\n",
    "print(f\"Intercept:\\n {ricelr.intercept_.round(3)} \\nCoefficients:\\n {ricelr.coef_.round(3)}\")\n",
    "# This tells you how each one of the features relates to the probability that an example is from the positive or negative class  "
   ]
  },
  {
   "cell_type": "code",
   "execution_count": 16,
   "metadata": {},
   "outputs": [
    {
     "data": {
      "text/plain": [
       "array([[  3.342],\n",
       "       [-10.379],\n",
       "       [ -0.099],\n",
       "       ...,\n",
       "       [ -4.002],\n",
       "       [  1.715],\n",
       "       [ -8.586]])"
      ]
     },
     "execution_count": 16,
     "metadata": {},
     "output_type": "execute_result"
    }
   ],
   "source": [
    "# Predict manually\n",
    "sigmoid = lambda x: 1 / (1 + np.exp(-x)) # a small anonymous function that can take any number of args but can only have one expression\n",
    "z = ricelr.intercept_ + Xtest@ricelr.coef_.T\n",
    "z.round(3)"
   ]
  },
  {
   "cell_type": "markdown",
   "metadata": {},
   "source": [
    "Read more about Lambda [here](https://www.w3schools.com/python/python_lambda.asp)."
   ]
  },
  {
   "cell_type": "code",
   "execution_count": 19,
   "metadata": {},
   "outputs": [
    {
     "data": {
      "text/plain": [
       "array([[0.97],\n",
       "       [0.  ],\n",
       "       [0.48],\n",
       "       ...,\n",
       "       [0.02],\n",
       "       [0.85],\n",
       "       [0.  ]])"
      ]
     },
     "execution_count": 19,
     "metadata": {},
     "output_type": "execute_result"
    }
   ],
   "source": [
    "# now let's see how probabilities look like:\n",
    "sigmoid(z).round(2)"
   ]
  },
  {
   "cell_type": "code",
   "execution_count": 20,
   "metadata": {},
   "outputs": [
    {
     "data": {
      "text/plain": [
       "array([[0.03, 0.97],\n",
       "       [1.  , 0.  ],\n",
       "       [0.52, 0.48],\n",
       "       ...,\n",
       "       [0.98, 0.02],\n",
       "       [0.15, 0.85],\n",
       "       [1.  , 0.  ]])"
      ]
     },
     "execution_count": 20,
     "metadata": {},
     "output_type": "execute_result"
    }
   ],
   "source": [
    "# or you can use a built-in function to see the probabilities without hard coding:\n",
    "ricelr.predict_proba(Xtest).round(2)\n",
    "# first column: probabilities for class 0 (one minus second column),\n",
    "# second column: probabilities for class 1 (calculated above)"
   ]
  },
  {
   "cell_type": "code",
   "execution_count": 21,
   "metadata": {},
   "outputs": [
    {
     "data": {
      "text/plain": [
       "array(['Osmancik', 'Cammeo', 'Cammeo', ..., 'Cammeo', 'Osmancik',\n",
       "       'Cammeo'], dtype=object)"
      ]
     },
     "execution_count": 21,
     "metadata": {},
     "output_type": "execute_result"
    }
   ],
   "source": [
    "# Get label predictions\n",
    "ytest_hat = ricelr.predict(Xtest)\n",
    "ytest_hat"
   ]
  },
  {
   "cell_type": "markdown",
   "metadata": {},
   "source": [
    "## Evaluating Classifiers"
   ]
  },
  {
   "cell_type": "code",
   "execution_count": 25,
   "metadata": {},
   "outputs": [
    {
     "name": "stdout",
     "output_type": "stream",
     "text": [
      "tp: 1001 tn: 773 fp: 81 fn: 50\n",
      "Accuracy: 0.931 Recall: 0.952 Precision: 0.925 Sensitivity: 0.952 Specificity: 0.905\n",
      "\n",
      "Baseline Accuracy:  0.572\n"
     ]
    }
   ],
   "source": [
    "# Calculate performance measures from scratch\n",
    "# TP: true positives \n",
    "# TN: true negatives \n",
    "# FP: False positives \n",
    "# FN: False negatives\n",
    "\n",
    "def compute_performance(yhat, y, classes):\n",
    "    # First, get tp, tn, fp, fn\n",
    "    tp = sum(np.logical_and(yhat == classes[1], y == classes[1]))\n",
    "    tn = sum(np.logical_and(yhat == classes[0], y == classes[0]))\n",
    "    fp = sum(np.logical_and(yhat == classes[1], y == classes[0]))\n",
    "    fn = sum(np.logical_and(yhat == classes[0], y == classes[1]))\n",
    "\n",
    "    print(f\"tp: {tp} tn: {tn} fp: {fp} fn: {fn}\")\n",
    "    \n",
    "    # Accuracy\n",
    "    acc = (tp + tn) / (tp + tn + fp + fn)\n",
    "    \n",
    "    # Precision\n",
    "    # \"Of the ones I labeled +, how many are actually +?\"\n",
    "    precision = tp / (tp + fp)\n",
    "    \n",
    "    # Recall\n",
    "    # \"Of all the + in the data, how many do I correctly label?\"\n",
    "    recall = tp / (tp + fn)    \n",
    "    \n",
    "    # Sensitivity\n",
    "    # \"Of all the + in the data, how many do I correctly label?\"\n",
    "    sensitivity = recall\n",
    "    \n",
    "    # Specificity\n",
    "    # \"Of all the - in the data, how many do I correctly label?\"\n",
    "    specificity = tn / (fp + tn)\n",
    "    \n",
    "    # Print results\n",
    "    \n",
    "    print(\"Accuracy:\",round(acc,3),\"Recall:\",round(recall,3),\"Precision:\",round(precision,3),\n",
    "          \"Sensitivity:\",round(sensitivity,3),\"Specificity:\",round(specificity,3))\n",
    "\n",
    "compute_performance(ytest_hat, ytest, ricelr.classes_)\n",
    "\n",
    "# Let's compare against base-line accuracy:\n",
    "print('\\nBaseline Accuracy: ', baselineacc.round(3))"
   ]
  },
  {
   "cell_type": "code",
   "execution_count": 26,
   "metadata": {},
   "outputs": [
    {
     "name": "stdout",
     "output_type": "stream",
     "text": [
      "tp: 1040 tn: 613 fp: 241 fn: 11\n",
      "Accuracy: 0.868 Recall: 0.99 Precision: 0.812 Sensitivity: 0.99 Specificity: 0.718\n"
     ]
    }
   ],
   "source": [
    "# Now let's experiment by adjusting the decision threshold\n",
    "threshold = 0.1\n",
    "ytest_prob = ricelr.predict_proba(Xtest)\n",
    "\n",
    "# ytest_prob\n",
    "\n",
    "# ytest_prob[:,1].round(3) > threshold\n",
    "\n",
    "# [(ytest_prob[:,1] > threshold).astype(int)] # turn them into 0 and 1\n",
    "\n",
    "# ricelr.classes_ # element 0 for label class 0 and element 1 for label class 1\n",
    "\n",
    "yhat = ricelr.classes_[(ytest_prob[:,1] > threshold).astype(int)]\n",
    "\n",
    "# yhat\n",
    "\n",
    "compute_performance(yhat, ytest, ricelr.classes_)"
   ]
  },
  {
   "cell_type": "code",
   "execution_count": 27,
   "metadata": {},
   "outputs": [
    {
     "data": {
      "text/plain": [
       "Text(0, 0.5, 'TP Rate')"
      ]
     },
     "execution_count": 27,
     "metadata": {},
     "output_type": "execute_result"
    },
    {
     "data": {
      "image/png": "[encoded data removed]",
      "text/plain": [
       "<Figure size 640x480 with 1 Axes>"
      ]
     },
     "metadata": {},
     "output_type": "display_data"
    }
   ],
   "source": [
    "# Ranking based criterion: Receiver Operating Characteristic (ROC) curve using sklearns:\n",
    "  \n",
    "fpr, tpr, _ = roc_curve(ytest, ytest_prob[:,1], pos_label=ricelr.classes_[1]) # 2nd arg: ranking score, 3rd arg: \"Osmancik\"\n",
    "ax =sns.lineplot(x=fpr,y=tpr)\n",
    "ax.set_xlabel(\"FP Rate\")\n",
    "ax.set_ylabel(\"TP Rate\")"
   ]
  },
  {
   "cell_type": "code",
   "execution_count": 29,
   "metadata": {},
   "outputs": [
    {
     "data": {
      "text/plain": [
       "0.98"
      ]
     },
     "execution_count": 29,
     "metadata": {},
     "output_type": "execute_result"
    }
   ],
   "source": [
    "# Area under ROC (AUROC)\n",
    "auc(fpr,tpr).round(3)"
   ]
  },
  {
   "cell_type": "markdown",
   "metadata": {},
   "source": [
    "## Multiclass Logistic Regression"
   ]
  },
  {
   "cell_type": "code",
   "execution_count": 30,
   "metadata": {},
   "outputs": [
    {
     "data": {
      "text/html": [
       "<div>\n",
       "<style scoped>\n",
       "    .dataframe tbody tr th:only-of-type {\n",
       "        vertical-align: middle;\n",
       "    }\n",
       "\n",
       "    .dataframe tbody tr th {\n",
       "        vertical-align: top;\n",
       "    }\n",
       "\n",
       "    .dataframe thead th {\n",
       "        text-align: right;\n",
       "    }\n",
       "</style>\n",
       "<table border=\"1\" class=\"dataframe\">\n",
       "  <thead>\n",
       "    <tr style=\"text-align: right;\">\n",
       "      <th></th>\n",
       "      <th>Sepal-length</th>\n",
       "      <th>Sepal-width</th>\n",
       "      <th>Petal-length</th>\n",
       "      <th>Petal-width</th>\n",
       "      <th>Species</th>\n",
       "    </tr>\n",
       "  </thead>\n",
       "  <tbody>\n",
       "    <tr>\n",
       "      <th>0</th>\n",
       "      <td>5.1</td>\n",
       "      <td>3.5</td>\n",
       "      <td>1.4</td>\n",
       "      <td>0.2</td>\n",
       "      <td>Iris-setosa</td>\n",
       "    </tr>\n",
       "    <tr>\n",
       "      <th>1</th>\n",
       "      <td>4.9</td>\n",
       "      <td>3.0</td>\n",
       "      <td>1.4</td>\n",
       "      <td>0.2</td>\n",
       "      <td>Iris-setosa</td>\n",
       "    </tr>\n",
       "    <tr>\n",
       "      <th>2</th>\n",
       "      <td>4.7</td>\n",
       "      <td>3.2</td>\n",
       "      <td>1.3</td>\n",
       "      <td>0.2</td>\n",
       "      <td>Iris-setosa</td>\n",
       "    </tr>\n",
       "    <tr>\n",
       "      <th>3</th>\n",
       "      <td>4.6</td>\n",
       "      <td>3.1</td>\n",
       "      <td>1.5</td>\n",
       "      <td>0.2</td>\n",
       "      <td>Iris-setosa</td>\n",
       "    </tr>\n",
       "    <tr>\n",
       "      <th>4</th>\n",
       "      <td>5.0</td>\n",
       "      <td>3.6</td>\n",
       "      <td>1.4</td>\n",
       "      <td>0.2</td>\n",
       "      <td>Iris-setosa</td>\n",
       "    </tr>\n",
       "  </tbody>\n",
       "</table>\n",
       "</div>"
      ],
      "text/plain": [
       "   Sepal-length  Sepal-width  Petal-length  Petal-width      Species\n",
       "0           5.1          3.5           1.4          0.2  Iris-setosa\n",
       "1           4.9          3.0           1.4          0.2  Iris-setosa\n",
       "2           4.7          3.2           1.3          0.2  Iris-setosa\n",
       "3           4.6          3.1           1.5          0.2  Iris-setosa\n",
       "4           5.0          3.6           1.4          0.2  Iris-setosa"
      ]
     },
     "execution_count": 30,
     "metadata": {},
     "output_type": "execute_result"
    }
   ],
   "source": [
    "# Read data\n",
    "iris = pd.read_csv(\"iris.csv\")\n",
    "iris.head()"
   ]
  },
  {
   "cell_type": "code",
   "execution_count": 32,
   "metadata": {},
   "outputs": [
    {
     "data": {
      "text/plain": [
       "Iris-setosa        50\n",
       "Iris-versicolor    50\n",
       "Iris-virginica     50\n",
       "Name: Species, dtype: int64"
      ]
     },
     "execution_count": 32,
     "metadata": {},
     "output_type": "execute_result"
    }
   ],
   "source": [
    "# Check out class distribution\n",
    "iris.Species.value_counts()\n",
    "# we have 3 balanced classes"
   ]
  },
  {
   "cell_type": "code",
   "execution_count": 33,
   "metadata": {},
   "outputs": [],
   "source": [
    "# Create y and X. Not going to split these data for this demonstration.\n",
    "X = iris.drop(\"Species\", axis=\"columns\")\n",
    "y = iris.Species.values"
   ]
  },
  {
   "cell_type": "code",
   "execution_count": 34,
   "metadata": {},
   "outputs": [
    {
     "name": "stdout",
     "output_type": "stream",
     "text": [
      "Intercepts:\n",
      " [  3.978  19.33  -23.308] \n",
      "\n",
      "Coefficients:\n",
      " [[  7.353  20.398 -30.264 -14.143]\n",
      " [ -2.444  -6.858  10.417  -2.071]\n",
      " [ -4.909 -13.539  19.846  16.215]]\n"
     ]
    }
   ],
   "source": [
    "# Note that unlike our convention in class, sklearn makes a parameter vector\n",
    "# for every class (not just first K-1) even though it is redundant.\n",
    "IRISLR = LogisticRegression(penalty='none')\n",
    "irislr = IRISLR.fit(X,y)\n",
    "print(f\"Intercepts:\\n {irislr.intercept_.round(3)} \\n\\nCoefficients:\\n {irislr.coef_.round(3)}\")"
   ]
  },
  {
   "cell_type": "code",
   "execution_count": 35,
   "metadata": {},
   "outputs": [],
   "source": [
    "yhat = irislr.predict(X)\n",
    "# yhat\n",
    "yhat_probs = irislr.predict_proba(X)\n",
    "# yhat_probs.round(3)"
   ]
  },
  {
   "cell_type": "code",
   "execution_count": 36,
   "metadata": {},
   "outputs": [
    {
     "data": {
      "text/plain": [
       "array([[50,  0,  0],\n",
       "       [ 0, 49,  1],\n",
       "       [ 0,  1, 49]])"
      ]
     },
     "execution_count": 36,
     "metadata": {},
     "output_type": "execute_result"
    }
   ],
   "source": [
    "confusion_matrix(yhat,y).T\n",
    "# We transpose to get it in the format we saw in slides:\n",
    "# Rows: Predicted labels\n",
    "# Columns: True labels "
   ]
  },
  {
   "cell_type": "markdown",
   "metadata": {},
   "source": [
    "## Regularization"
   ]
  },
  {
   "cell_type": "code",
   "execution_count": 39,
   "metadata": {},
   "outputs": [
    {
     "name": "stdout",
     "output_type": "stream",
     "text": [
      "Intercepts:\n",
      " [ 2.193  0.219 -2.411] \n",
      "\n",
      "Coefficients:\n",
      " [[-0.137  0.096 -0.435 -0.178]\n",
      " [-0.001 -0.102  0.087 -0.003]\n",
      " [ 0.138  0.006  0.348  0.182]]\n"
     ]
    },
    {
     "data": {
      "text/plain": [
       "array([[50,  0,  0],\n",
       "       [ 1, 32, 17],\n",
       "       [ 0,  1, 49]])"
      ]
     },
     "execution_count": 39,
     "metadata": {},
     "output_type": "execute_result"
    }
   ],
   "source": [
    "# l2: sum of the squares of the values of the coefficients\n",
    "# C: smaller values specify stronger regularization\n",
    "IRISLR = LogisticRegression(penalty='l2', solver='newton-cg', C=0.01) # Experiment different values for C\n",
    "\n",
    "irislr = IRISLR.fit(X,y)\n",
    "print(f\"Intercepts:\\n {irislr.intercept_.round(3)} \\n\\nCoefficients:\\n {irislr.coef_.round(3)}\")\n",
    "\n",
    "yhat = irislr.predict(X)\n",
    "yhat_probs = irislr.predict_proba(X)\n",
    "confusion_matrix(yhat,y).T"
   ]
  }
 ],
 "metadata": {
  "kernelspec": {
   "display_name": "Python 3.8.13 ('ML')",
   "language": "python",
   "name": "python3"
  },
  "language_info": {
   "codemirror_mode": {
    "name": "ipython",
    "version": 3
   },
   "file_extension": ".py",
   "mimetype": "text/x-python",
   "name": "python",
   "nbconvert_exporter": "python",
   "pygments_lexer": "ipython3",
   "version": "3.8.13"
  },
  "vscode": {
   "interpreter": {
    "hash": "5c83c3ca59419a9bd6335317d30070f5f03c1d7834fcd61b98e82c2edec68ebb"
   }
  }
 },
 "nbformat": 4,
 "nbformat_minor": 4
}
