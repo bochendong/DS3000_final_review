{
 "cells": [
  {
   "cell_type": "code",
   "execution_count": 13,
   "metadata": {},
   "outputs": [],
   "source": [
    "import pandas as pd\n",
    "import numpy as np\n",
    "import matplotlib.pyplot as plt \n",
    "import seaborn as sns\n",
    "import scipy.optimize as so\n",
    "from sklearn.metrics import r2_score\n",
    "from sklearn.linear_model import Ridge\n",
    "from sklearn.linear_model import LinearRegression\n",
    "from sklearn.model_selection import train_test_split\n",
    "\n",
    "seed = 0"
   ]
  },
  {
   "cell_type": "markdown",
   "metadata": {},
   "source": [
    "# Linear Model\n",
    "\n",
    "## LAD and RSS\n",
    "\n",
    "L1 loss function (sum of magnitudes, used for LAD model):\n",
    "$$L_1(w;b) = \\sum_{i=1}^{n} \\lvert {y_i-\\hat{y_i}} \\rvert \\text{, where } \\hat{y_i} = wx + b$$\n",
    "\n",
    "\n",
    "L2 loss function (RSS, residual sum of squares, used for OLS model):\n",
    "\n",
    "$$L_2(w;b) = \\sum_{i=1}^{n} ({y_i-\\hat{y_i}})^2  \\text{, where } \\hat{y_i} = wx + b$$"
   ]
  },
  {
   "cell_type": "code",
   "execution_count": 14,
   "metadata": {},
   "outputs": [],
   "source": [
    "def linearModelPredict(b,X):\n",
    "    yp = X @ b\n",
    "    return yp\n",
    "\n",
    "def linearModelLossLAD(b,X,y):\n",
    "    y_pred = linearModelPredict(b, X)\n",
    "    residual = y - y_pred\n",
    "    sum_abs_dev = sum(abs(residual))\n",
    "    grad = -np.dot(np.sign(residual), X)\n",
    "    return (sum_abs_dev, grad)\n",
    "    \n",
    "def linearModelLossRSS(b,X,y):\n",
    "    y_pred = linearModelPredict(b,X)\n",
    "    residual = y - y_pred\n",
    "    residual_sum_of_squares = sum(residual**2)\n",
    "    #compute the gradient\n",
    "    gradient = -2 * np.dot(np.transpose(X),residual)\n",
    "    return (residual_sum_of_squares, gradient)\n",
    "\n",
    "def linearModelFit(X,y,lossfcn = linearModelLossRSS):\n",
    "    nrows, ncols = X.shape\n",
    "    b = np.zeros((ncols, 1))\n",
    "    \n",
    "    RESULT = so.minimize(lossfcn, b, args=(X, y),jac=True)\n",
    "    estimated_betas = RESULT.x\n",
    "    \n",
    "    TSS = sum((y - np.mean(y))**2)\n",
    "    RSS, deriv = linearModelLossRSS(estimated_betas, X, y)\n",
    "\n",
    "    R2 = 1-(RSS / TSS)\n",
    "    return (estimated_betas, R2)"
   ]
  },
  {
   "cell_type": "code",
   "execution_count": 15,
   "metadata": {},
   "outputs": [
    {
     "name": "stderr",
     "output_type": "stream",
     "text": [
      "/var/folders/fy/p355vwwd683668y784t68b2c0000gn/T/ipykernel_88359/4035364564.py:24: DeprecationWarning: Use of `minimize` with `x0.ndim != 1` is deprecated. Currently, singleton dimensions will be removed from `x0`, but an error will be raised in SciPy 1.11.0.\n",
      "  RESULT = so.minimize(lossfcn, b, args=(X, y),jac=True)\n"
     ]
    },
    {
     "data": {
      "text/plain": [
       "[]"
      ]
     },
     "execution_count": 15,
     "metadata": {},
     "output_type": "execute_result"
    },
    {
     "data": {
      "image/png": "[encoded data removed]",
      "text/plain": [
       "<Figure size 640x480 with 1 Axes>"
      ]
     },
     "metadata": {},
     "output_type": "display_data"
    }
   ],
   "source": [
    "possum_data = pd.read_csv(\"./possum.csv\")\n",
    "x = possum_data['age']\n",
    "\n",
    "X = np.c_[np.ones(len(possum_data)), x.to_numpy()]\n",
    "y = possum_data[\"tailL\"].to_numpy()\n",
    "\n",
    "betas_RSS, r2_rss = linearModelFit(X,y)\n",
    "betas_LAD, r2_LAD = linearModelFit(X,y, linearModelLossLAD)\n",
    "\n",
    "y_pred_RSS = linearModelPredict(betas_RSS, X)\n",
    "y_pred_LAD = linearModelPredict(betas_LAD, X)\n",
    "plt.plot(X[:,1], y_pred_RSS, color='red', linestyle='--')\n",
    "plt.plot(X[:,1], y_pred_LAD, color='blue', linestyle='--')\n",
    "plt.scatter(x, y, alpha= 0.8)\n",
    "plt.legend(['RSS', 'LAD'])\n",
    "plt.plot()"
   ]
  },
  {
   "cell_type": "markdown",
   "metadata": {},
   "source": [
    "## Regularization"
   ]
  },
  {
   "cell_type": "markdown",
   "metadata": {},
   "source": [
    "## L1 Regularizationv (Lasso Regression)\n",
    "\n",
    "$$\n",
    "L(\\theta) = \\sum_{i=1}^{n} ({y_i-\\hat{y_i}})^2 + \\lambda * \\|w\\|_1\n",
    "$$"
   ]
  },
  {
   "cell_type": "markdown",
   "metadata": {},
   "source": [
    "## L2 Regularization (Ridge Regression)\n",
    "\n",
    "$$\n",
    "L(\\theta) = \\sum_{i=1}^{n} ({y_i-\\hat{y_i}})^2 + \\lambda * \\|w\\|^2_2\n",
    "$$"
   ]
  },
  {
   "cell_type": "markdown",
   "metadata": {},
   "source": [
    "## Skearn Linear Regression"
   ]
  },
  {
   "cell_type": "code",
   "execution_count": 16,
   "metadata": {},
   "outputs": [],
   "source": [
    "data = pd.read_csv(\"Real_estate_valuation_dataset.csv\")\n",
    "longitude = data['longitude']\n",
    "latitude = data['latitude']\n",
    "\n",
    "x = np.c_[np.ones(len(data)), data[['longitude', 'latitude']].to_numpy()]\n",
    "y = data['house_price_of_unit_area'].to_numpy()\n",
    "\n",
    "xtrain, xtest, ytrain, ytest = train_test_split(x, y, test_size=0.2, random_state=seed)"
   ]
  },
  {
   "cell_type": "code",
   "execution_count": 17,
   "metadata": {},
   "outputs": [
    {
     "name": "stdout",
     "output_type": "stream",
     "text": [
      "Coefficient of determination on the test set: 0.445\n",
      "Intercept is: -49748.608\n",
      "Coefficient are: [  0.    323.251 420.557]\n"
     ]
    }
   ],
   "source": [
    "model = LinearRegression()\n",
    "model.fit(xtrain, ytrain)\n",
    "ypred = model.predict(xtest)\n",
    "r2_test = r2_score(ytest, ypred)\n",
    "print(\"Coefficient of determination on the test set: %.3f\" % r2_test)\n",
    "\n",
    "# Obtain intercept and coefficient\n",
    "intercept = model.intercept_\n",
    "coefficient = model.coef_\n",
    "print(\"Intercept is:\", intercept.round(3))\n",
    "print(\"Coefficient are:\", coefficient.round(3))"
   ]
  },
  {
   "cell_type": "markdown",
   "metadata": {},
   "source": [
    "## MultiVariable"
   ]
  },
  {
   "cell_type": "code",
   "execution_count": 18,
   "metadata": {},
   "outputs": [],
   "source": [
    "x = data.drop('house_price_of_unit_area', axis=1)\n",
    "x = np.c_[np.ones(len(data)), x.to_numpy()]\n",
    "\n",
    "xtrain, xtest, ytrain, ytest = train_test_split(x, y, test_size=0.2, random_state=0)"
   ]
  },
  {
   "cell_type": "code",
   "execution_count": 19,
   "metadata": {},
   "outputs": [
    {
     "data": {
      "text/plain": [
       "Text(0.5, 0, 'Coefficient')"
      ]
     },
     "execution_count": 19,
     "metadata": {},
     "output_type": "execute_result"
    },
    {
     "data": {
      "image/png": "[encoded data removed]",
      "text/plain": [
       "<Figure size 640x480 with 1 Axes>"
      ]
     },
     "metadata": {},
     "output_type": "display_data"
    }
   ],
   "source": [
    "# Define the model\n",
    "ridge_reg = Ridge(alpha=1, solver=\"cholesky\", random_state=42)\n",
    "\n",
    "# Fit the model using the training set\n",
    "ridge_reg.fit(x, y)\n",
    "\n",
    "# Obtain intercept and coefficient\n",
    "intercept = ridge_reg.intercept_\n",
    "coefficient = ridge_reg.coef_\n",
    "\n",
    "coefficient_feature = coefficient[1:]\n",
    "features_name = data.columns[:-1]\n",
    "plt.barh(features_name, coefficient_feature)\n",
    "plt.xlabel('Coefficient')"
   ]
  }
 ],
 "metadata": {
  "kernelspec": {
   "display_name": "Python 3.10.6 64-bit",
   "language": "python",
   "name": "python3"
  },
  "language_info": {
   "codemirror_mode": {
    "name": "ipython",
    "version": 3
   },
   "file_extension": ".py",
   "mimetype": "text/x-python",
   "name": "python",
   "nbconvert_exporter": "python",
   "pygments_lexer": "ipython3",
   "version": "3.10.6"
  },
  "orig_nbformat": 4,
  "vscode": {
   "interpreter": {
    "hash": "aee8b7b246df8f9039afb4144a1f6fd8d2ca17a180786b69acc140d282b71a49"
   }
  }
 },
 "nbformat": 4,
 "nbformat_minor": 2
}
