{
 "cells": [
  {
   "cell_type": "code",
   "execution_count": null,
   "metadata": {},
   "outputs": [],
   "source": [
    "import pandas as pd\n",
    "import matplotlib.pyplot as plt \n",
    "import numpy as np\n",
    "import scipy.optimize as so"
   ]
  },
  {
   "cell_type": "markdown",
   "metadata": {},
   "source": [
    "# Linear Regression"
   ]
  },
  {
   "cell_type": "code",
   "execution_count": null,
   "metadata": {},
   "outputs": [],
   "source": [
    "def linearModelPredict(b,X):\n",
    "    yp = X @ b\n",
    "    return yp\n",
    "\n",
    "def linearModelLossRSS(b,X,y):\n",
    "    y_pred = linearModelPredict(b,X)\n",
    "    residual = y - y_pred\n",
    "    residual_sum_of_squares = sum(residual**2)\n",
    "    #compute the gradient\n",
    "    gradient = -2*np.dot(np.transpose(X),residual)\n",
    "    return (residual_sum_of_squares, gradient)\n",
    "\n",
    "def linearModelFit(X,y,lossfcn = linearModelLossRSS):\n",
    "    nrows, ncols = X.shape\n",
    "    b = np.zeros((ncols, 1))\n",
    "    \n",
    "    RESULT = so.minimize(lossfcn, b, args=(X, y),jac=True)\n",
    "    estimated_betas = RESULT.x\n",
    "    \n",
    "    TSS = sum((y - np.mean(y))**2)\n",
    "    RSS, deriv = linearModelLossRSS(estimated_betas, X, y)\n",
    "    R2 = 1-(RSS / TSS)\n",
    "    return (estimated_betas, R2)"
   ]
  }
 ],
 "metadata": {
  "kernelspec": {
   "display_name": "Python 3.10.6 64-bit",
   "language": "python",
   "name": "python3"
  },
  "language_info": {
   "name": "python",
   "version": "3.10.6"
  },
  "orig_nbformat": 4,
  "vscode": {
   "interpreter": {
    "hash": "aee8b7b246df8f9039afb4144a1f6fd8d2ca17a180786b69acc140d282b71a49"
   }
  }
 },
 "nbformat": 4,
 "nbformat_minor": 2
}
