{
 "cells": [
  {
   "cell_type": "markdown",
   "metadata": {},
   "source": [
    "\n",
    "# Introduction to Machine Learning/ Data Science - Midterm  [ __ / 70 marks]"
   ]
  },
  {
   "cell_type": "markdown",
   "metadata": {},
   "source": [
    "<img src=\"https://encrypted-tbn0.gstatic.com/images?q=tbn:ANd9GcRyUsvp8lFRGIPJc6R5KIfzr2Y-3uklW1hZLg&usqp=CAU\" width=600>"
   ]
  },
  {
   "cell_type": "markdown",
   "metadata": {},
   "source": [
    "## Before you start...\n",
    "\n",
    "* This midterm is Open-book (you can use any notes, jupyter notebooks, the internet, etc.). The only thing you're not permitted to do is communicate with others in any way (inside or outside of the classroom).\n",
    "* You will have 2 hours to fill and submit this notebook via OWL --> Assignments --> \"Midterm - Introduction to ML/DS\". Read each question carefully and try your best. If you have a question, raise your hand and we will attend to you.\n",
    "\n",
    "## Before you submit...\n",
    "\n",
    "* Make sure that you restart the kernel, then re-run the whole notebook to ensure that there are no errors. If everything checks out, you can submit your notebook via OWL --> Assignments --> \"Midterm - Introduction to ML/DS\"."
   ]
  },
  {
   "cell_type": "code",
   "execution_count": 98,
   "metadata": {},
   "outputs": [],
   "source": [
    "# Put all imports here...\n",
    "import numpy as np\n",
    "import pandas as pd\n",
    "import matplotlib.pyplot as plt\n",
    "import scipy.optimize as so\n",
    "\n",
    "from sklearn.linear_model import LinearRegression, Lasso, LogisticRegression\n",
    "from sklearn.model_selection import train_test_split, cross_val_score\n",
    "from sklearn.preprocessing import StandardScaler\n",
    "from sklearn.pipeline import Pipeline\n",
    "from sklearn.feature_selection import SelectFromModel\n",
    "from sklearn.metrics import confusion_matrix, roc_curve, ConfusionMatrixDisplay\n",
    "from IPython.display import display\n",
    "from scipy.special import gammaln"
   ]
  },
  {
   "cell_type": "code",
   "execution_count": 99,
   "metadata": {},
   "outputs": [
    {
     "name": "stdout",
     "output_type": "stream",
     "text": [
      "1.20.1\n",
      "1.2.4\n",
      "3.3.4\n",
      "1.6.2\n",
      "0.24.1\n"
     ]
    }
   ],
   "source": [
    "# Check package versions...\n",
    "import numpy\n",
    "import pandas\n",
    "import matplotlib\n",
    "import scipy\n",
    "import sklearn\n",
    "\n",
    "print(numpy.__version__)      #1.21.3\n",
    "print(pandas.__version__)     #1.3.4\n",
    "print(matplotlib.__version__) #3.4.3\n",
    "print(scipy.__version__)      #1.7.1\n",
    "print(sklearn.__version__)    #0.24.2\n",
    "\n",
    "# to update any package (i.e. numpy):\n",
    "#!pip install --upgrade numpy --user"
   ]
  },
  {
   "cell_type": "markdown",
   "metadata": {},
   "source": [
    "## Additional comments...\n",
    "* Where possible I have also indicated some lecture code or assignment code which may be helpful to look at; again, this is to help you and not a requirement to follow.\n",
    "* Regarding class feedback on reshape, I will tell you that none of the code in the solutions requires reshape (i.e. none of the code that isn't already written). However, if you find that reshape is required for your implementation you are of course welcome to use it. \n",
    "* In some cases I have included commented code which you can use to test that your function is working as it was intended. You do not need to use these. Please comment this code after you've used it."
   ]
  },
  {
   "cell_type": "markdown",
   "metadata": {},
   "source": [
    "## Part 1: Linear Regression [ _ /31 marks]\n",
    "\n",
    "Let's start by considering **Least Absolute Deviation** (L1) regression in order to fit a line to some data. Here we will be using the csv file, \"`part1.csv`\". \n",
    "\n",
    "*Potentially Helpful Code for this part*: Assignment 1 code (\"A1_S.ipynb\") and the Week 1 to 6 review code (\"Week1-6-Code_ReviewF.ipynb\") "
   ]
  },
  {
   "cell_type": "markdown",
   "metadata": {},
   "source": [
    "### Question 1.1 [ _ /1 mark]\n",
    "\n",
    "The data (`part1.csv`) has been read into a pandas dataframe (`df1`) for you. Plot this data in a scatterplot (you do not need axes labels or a title)."
   ]
  },
  {
   "cell_type": "code",
   "execution_count": 100,
   "metadata": {},
   "outputs": [
    {
     "data": {
      "text/plain": [
       "<matplotlib.collections.PathCollection at 0x7f93f99f8820>"
      ]
     },
     "execution_count": 100,
     "metadata": {},
     "output_type": "execute_result"
    },
    {
     "data": {
      "image/png": "[encoded data removed]",
      "text/plain": [
       "<Figure size 432x288 with 1 Axes>"
      ]
     },
     "metadata": {
      "needs_background": "light"
     },
     "output_type": "display_data"
    }
   ],
   "source": [
    "# Read the data into a dataframe\n",
    "df1 = pd.read_csv(\"part1.csv\")\n",
    "\n",
    "# Plot the data in a scatterplot [ /1 mark]\n",
    "# ****** your code here ****** \n",
    "\n",
    "plt.scatter(df1[\"x\"],df1[\"y\"])"
   ]
  },
  {
   "cell_type": "markdown",
   "metadata": {},
   "source": [
    "### Question 1.2 [ _ /10 marks]\n",
    "\n",
    "Create a line of best fit using **L1 (LAD) regression** (consider $\\mathbf{\\hat{y} = Xb}$). Define your loss function explicitly in a function called `l1loss`. Plot the data (scatterplot) with the line of best fit (from your regression) on the same graph. Also calculate and print the R-squared value (use only the **fit** data). \n",
    "\n",
    "Recall the loss function for LAD regression: \n",
    "\n",
    "$$Loss_{L1} = \\sum_{i=1}^{n} \\lvert {y_i-\\hat{y_i}} \\rvert$$\n",
    "\n",
    "Also consider the following system of equations:\n",
    "\n",
    "\\begin{equation}\n",
    "\\begin{bmatrix}\n",
    "\\hat{y_0}\\\\\n",
    "\\hat{y_1}\\\\\n",
    ".. \\\\\n",
    "\\hat{y_n}\n",
    "\\end{bmatrix}\n",
    "= \n",
    "\\begin{bmatrix}\n",
    "1 & x_0\\\\\n",
    "1 & x_1\\\\\n",
    ".. & .. \\\\\n",
    "1 & x_n\n",
    "\\end{bmatrix}\n",
    "\\begin{bmatrix}\n",
    "b_0\\\\\n",
    "b_1\\\\\n",
    "\\end{bmatrix}\n",
    "\\end{equation}"
   ]
  },
  {
   "cell_type": "code",
   "execution_count": 101,
   "metadata": {},
   "outputs": [
    {
     "name": "stdout",
     "output_type": "stream",
     "text": [
      "3.2399999999999998\n",
      "R-squared: 0.021614998044514833\n"
     ]
    },
    {
     "data": {
      "text/plain": [
       "<matplotlib.collections.PathCollection at 0x7f93f9f93ca0>"
      ]
     },
     "execution_count": 101,
     "metadata": {},
     "output_type": "execute_result"
    },
    {
     "data": {
      "image/png": "[encoded data removed]",
      "text/plain": [
       "<Figure size 432x288 with 1 Axes>"
      ]
     },
     "metadata": {
      "needs_background": "light"
     },
     "output_type": "display_data"
    }
   ],
   "source": [
    "# From your dataframe, create x, X (design matrix) and y [ /2 marks]\n",
    "# ****** your code here ****** \n",
    "x = df1.loc[:,\"x\"].values\n",
    "# ****** your code here ****** \n",
    "X = np.c_[np.ones(len(x)),x]\n",
    "# ****** your code here ****** \n",
    "y = df1.loc[:,\"y\"].values\n",
    "\n",
    "# Create the loss function for l1 (l1loss) [ /2 marks]\n",
    "def l1loss(b,X,y):\n",
    "    # ****** your code here ****** \n",
    "    loss = np.sum(np.abs(y-np.dot(X,b)))\n",
    "    return loss\n",
    "\n",
    "# Uncomment this part if you want to check your function\n",
    "check_func_b = np.array([1,1.2])\n",
    "check_func_X = np.array([[1,2],[1,3.2]])\n",
    "check_func_y = np.array([3,2])\n",
    "print(l1loss(check_func_b,check_func_X,check_func_y)) \n",
    "# The result of the print statement should be 3.2399999999999998\n",
    "\n",
    "# Use so.minimize to get bpr (your prediction for b) [ /1 mark]\n",
    "# You can consider a starting b-value of np.zeros((2,1))\n",
    "# You do not need to specify a particular solver \n",
    "# ****** your code here ****** \n",
    "bpr = so.minimize(l1loss,np.ones((2,1)),args=(X,y)).x\n",
    "\n",
    "# Now, compute and print R-squared (use bpr, X, and y) [ /2 marks]\n",
    "# ****** your code here ****** \n",
    "R2 = lambda y, X, b: 1-(np.sum((y-(np.dot(X,b)))**2))/np.sum((y-np.mean(y))**2) \n",
    "# ****** your code here ****** \n",
    "print(f\"R-squared: {R2(y,X,bpr)}\")\n",
    "\n",
    "# Compute ypr (your y-prediction, given bpr and X) [ /1 mark]\n",
    "# ****** your code here ****** \n",
    "ypr = np.dot(X, bpr)\n",
    "\n",
    "# Plot the data with your line of best fit [ /2 marks]\n",
    "# You do not need to create new x-values here.\n",
    "# ****** your code here ****** \n",
    "plt.plot(X[:,1],ypr, color='black')\n",
    "# ****** your code here ****** \n",
    "plt.scatter(df1[\"x\"],df1[\"y\"])"
   ]
  },
  {
   "cell_type": "markdown",
   "metadata": {},
   "source": [
    "### Question 1.3 [ _ /3 marks]\n",
    "\n",
    "If we were to repeat Question 1.2 using L2 (Ordinary Least Squares) regression (instead of LAD), would the resulting R-squared value of the fit be **higher** or **lower**? [ _ /1 mark] Why is this? [ _ /2 marks]\n",
    "\n",
    "If we use L2 instead of L1, the resulting R-squared value will be **higher**. Since OLS will always have the highest possible R-squared value."
   ]
  },
  {
   "cell_type": "markdown",
   "metadata": {},
   "source": [
    "**Your answer**:"
   ]
  },
  {
   "cell_type": "markdown",
   "metadata": {},
   "source": [
    "### Question 1.4 [ _ /5 marks]\n",
    "\n",
    "Let us now consider the pseudo-Huber (p-Huber) loss function (which combines L1 and L2) with $\\delta = 4$. This loss function is defined as the following:\n",
    "\n",
    "$$ Loss_{p-Huber}= \\sum_{i=1}^{n}{\\delta}^2 \\Bigg(\\sqrt{1+\\Bigg(\\frac{y_i-\\hat{y_i}}{\\delta}\\Bigg)^2} -1\\Bigg)  $$\n",
    "\n",
    "Define a function called `phuber_loss` which returns pseudo-Huber loss, given $\\mathbf{b}$, design matrix $\\mathbf{X}$, and $\\mathbf{y}$. As we previously did, use $\\mathbf{\\hat{y} = Xb}$. \n",
    "\n",
    "Note: You do not need to plot anything or report an R-squared value here (just fill in the function). You can check your function with some provided code."
   ]
  },
  {
   "cell_type": "code",
   "execution_count": 102,
   "metadata": {
    "scrolled": true
   },
   "outputs": [
    {
     "name": "stdout",
     "output_type": "stream",
     "text": [
      "3.7024817484711576\n"
     ]
    }
   ],
   "source": [
    "# define the phuber_loss function here [ /5 marks]\n",
    "def phuber_loss(b,X,y):\n",
    "    # ****** your code here ****** \n",
    "    y_hat = np.dot(X, b)\n",
    "    delta = 4\n",
    "\n",
    "    loss = np.sum(np.sqrt(1 + ((y - y_hat) / delta)**2) - 1) * (delta **2)\n",
    "    return loss\n",
    "\n",
    "# Uncomment this part if you want to check your function\n",
    "check_func_b = np.array([1,1.2])\n",
    "check_func_X = np.array([[1,2],[1,3.2]])\n",
    "check_func_y = np.array([3,2])\n",
    "print(phuber_loss(check_func_b,check_func_X,check_func_y)) \n",
    "# The result of the print statement should be 3.7024817484711576"
   ]
  },
  {
   "cell_type": "markdown",
   "metadata": {},
   "source": [
    "### Question 1.5 [ _/3 marks]\n",
    "\n",
    "The following plot shows fits (with and without outliers) from *two Regression techniques*, `Regression A` and `Regression B`. *Based on this plot*, which of these Regression techniques is **more robust** to outliers: Regression A or Regression B? [ _ /1 mark] Why? [ _ /2 marks] "
   ]
  },
  {
   "cell_type": "markdown",
   "metadata": {},
   "source": [
    "![title](part1_5.png)"
   ]
  },
  {
   "cell_type": "markdown",
   "metadata": {},
   "source": [
    "**Your answer**:\n",
    "\n",
    "Regression B is more roubst to outliers. The outliers are above both of the fit line. If we see the change with and without outliers, we can see that Regression A is more senstive to those yellow points and hence Regression B is more roubst to outliers."
   ]
  },
  {
   "cell_type": "markdown",
   "metadata": {},
   "source": [
    "### Question 1.6 [ _ /9 marks]\n",
    "\n",
    "Now consider **L2 (OLS) Regression** and **the Bootstrap** for the data (i.e. the `part1.csv` data we've used throughout Question 1). The code for a single L2 Regression is provided below (using sklearn's `LinearRegression()`). Since the design matrix has a column of 1's, notice I set `fit_intercept=False`. \n",
    "\n",
    "*Your task*: \n",
    "* Create and plot **20 Boostrap predictions** (i.e. 20 Bootstrapped L2 fits). More specifically, plot the data, the provided prediction line, and your 20 Bootstrap predictions in a single plot. Most of the code is provided, but you will need to fill in the indicated parts.\n",
    "* A 95% Confidence Interval around the provided L2 Regression prediction has been computed and plotted (the prediction line plus a 95% confidence interval margin around this line). You will need to evaluate this margin at x=0 to create a 95% Confidence Interval for the prediction (at `x=0`)."
   ]
  },
  {
   "cell_type": "markdown",
   "metadata": {},
   "source": [
    "#### Provided code (you don't need to write anything in here):"
   ]
  },
  {
   "cell_type": "code",
   "execution_count": 103,
   "metadata": {},
   "outputs": [
    {
     "data": {
      "text/plain": [
       "[<matplotlib.lines.Line2D at 0x7f93fa0dca60>]"
      ]
     },
     "execution_count": 103,
     "metadata": {},
     "output_type": "execute_result"
    },
    {
     "data": {
      "image/png": "[encoded data removed]",
      "text/plain": [
       "<Figure size 432x288 with 1 Axes>"
      ]
     },
     "metadata": {
      "needs_background": "light"
     },
     "output_type": "display_data"
    }
   ],
   "source": [
    "# Here is the provided code for an L2 (OLS) Regression on `part1.csv`:\n",
    "\n",
    "# Specify x_ols, X_ols, y_ols (\"x_ols\" stands for \"x, ordinary least squares\")\n",
    "x_ols = df1.x.values\n",
    "X_ols = np.c_[np.ones(len(x_ols)), x_ols]\n",
    "y_ols = df1.y.values\n",
    "\n",
    "# I created a LinearRegression object (lin_ols) and fit it to the data\n",
    "lin_ols = LinearRegression(fit_intercept=False).fit(X_ols,y_ols)\n",
    "\n",
    "# I created a prediction line (ypr_ols), then plotted it with new data\n",
    "xnew_ols = np.linspace(min(x_ols),max(x_ols),len(x_ols))\n",
    "Xnew_ols = np.c_[np.ones(len(xnew_ols)), xnew_ols]\n",
    "ypr_ols = lin_ols.predict(Xnew_ols)\n",
    "\n",
    "# You can uncomment this to see the plot\n",
    "plt.scatter(x_ols, y_ols) \n",
    "plt.plot(xnew_ols, ypr_ols, linestyle='dotted', color='red')"
   ]
  },
  {
   "cell_type": "markdown",
   "metadata": {},
   "source": [
    "#### Code for the bootstrap (Complete 4 lines of this code) [ _ /5 marks]:"
   ]
  },
  {
   "cell_type": "code",
   "execution_count": 104,
   "metadata": {},
   "outputs": [
    {
     "data": {
      "image/png": "[encoded data removed]",
      "text/plain": [
       "<Figure size 432x288 with 1 Axes>"
      ]
     },
     "metadata": {
      "needs_background": "light"
     },
     "output_type": "display_data"
    }
   ],
   "source": [
    "# Fill in the rest of this function (boot) to compute the bootstrap predictions\n",
    "\n",
    "# This function should take a dataframe \"S\" as input. It returns \"boot_ypr\", a 2d \n",
    "# array which contains \"num_iterations\" samples of size \"sample_size\"\n",
    "def boot(S):\n",
    "    # Specify the number of bootstrap samples you'll take\n",
    "    num_iterations = 20 # ****** your code here ****** [ /1 mark]   \n",
    "    \n",
    "    # Specify the size of each bootstrap prediction sample\n",
    "    sample_size = len(S) # ****** your code here ****** [ /1 mark]\n",
    "\n",
    "    #initialize empty array of bootstrap parameter estimates\n",
    "    boot_ypr = np.zeros((num_iterations,sample_size))\n",
    "\n",
    "    for i in range(num_iterations):\n",
    "        # create a bootstrap sample from the dataframe S\n",
    "        S_star =  S.sample(sample_size, replace=True) # ****** your code here ****** [ /2 marks]\n",
    "\n",
    "        # create Sx_ols, SX_ols, and Sy_ols for your bootstrap sample\n",
    "        Sx_ols = S_star.x.values\n",
    "        SX_ols = np.c_[np.ones(len(Sx_ols)), Sx_ols]\n",
    "        Sy_ols = S_star.y.values\n",
    "        \n",
    "        # create a linear regression object, fit to the data\n",
    "        Slin_ols = LinearRegression(fit_intercept=False)\n",
    "        Slin_ols.fit(SX_ols,Sy_ols)\n",
    "        \n",
    "        # create Sx_new, SX_new (new data) for our predictions\n",
    "        Sx_new = np.linspace(0,20,30)\n",
    "        SX_new = np.c_[np.ones(len(Sx_new)), Sx_new]\n",
    "        \n",
    "        # compute a prediction from the bootstrap design matrix\n",
    "        Sypr_ols = Slin_ols.predict(SX_new)\n",
    "        boot_ypr[i,:] = Sypr_ols # ****** your code here ****** [ /1 mark]\n",
    "    \n",
    "    return boot_ypr\n",
    "\n",
    "# Here we are plotting 20 bootstrap samples\n",
    "boot_x_new = np.linspace(0, 20, 30)\n",
    "boot_X_new = np.c_[np.ones(len(boot_x_new)), boot_x_new]\n",
    "boot_ypred = boot(df1)\n",
    "\n",
    "for i in range(20):\n",
    "    plt.plot(boot_x_new, boot_ypred[i,:])"
   ]
  },
  {
   "cell_type": "markdown",
   "metadata": {},
   "source": [
    "#### Code for the 95% Confidence Interval (Complete 2 lines of this code) [ _ /4 marks]:"
   ]
  },
  {
   "cell_type": "code",
   "execution_count": 105,
   "metadata": {},
   "outputs": [
    {
     "name": "stdout",
     "output_type": "stream",
     "text": [
      "Confidence interval: [7.592431633180533,15.500215809519469]\n"
     ]
    },
    {
     "data": {
      "image/png": "[encoded data removed]",
      "text/plain": [
       "<Figure size 432x288 with 1 Axes>"
      ]
     },
     "metadata": {
      "needs_background": "light"
     },
     "output_type": "display_data"
    }
   ],
   "source": [
    "# Optional: you can use my \"boot_ypred\" if needed here, just uncomment the line below\n",
    "boot_ypred = pd.read_csv(\"part1_6.csv\").values; \n",
    "boot_x_new = np.linspace(0, 20, 30)\n",
    "\n",
    "# Here we are creating lower and upper quantiles for a 95% Confidence Interval \n",
    "# around the provided prediction line using np.quantile. \n",
    "lower = np.quantile(boot_ypred - ypr_ols, 0.025, axis=0)\n",
    "upper = np.quantile(boot_ypred - ypr_ols, 0.975, axis=0)\n",
    "\n",
    "# Here we plot the provided prediction line with the 95% confidence interval margin\n",
    "plt.plot(boot_x_new, ypr_ols)\n",
    "plt.plot(boot_x_new, ypr_ols - upper, 'r--') # subtract upper quantile to get a lower bound\n",
    "plt.plot(boot_x_new, ypr_ols - lower, 'r--')# subtract lower quantile to get an upper bound\n",
    "\n",
    "# In the code above we have plotted the 95% confidence interval for the prediction line from x=0 to x=20 \n",
    "# Compute the 95% confidence interval for the prediction line at x=0. A is the lower bound, B is the upper bound. \n",
    "\n",
    "std_err = np.std(boot_ypred[:,0], ddof=1)/np.sqrt(len(boot_ypred[:,0]))\n",
    "A = boot_ypred[:,0].mean() - 1.96 * std_err # ****** your code here ****** [ /2 marks]\n",
    "B = boot_ypred[:,0].mean() + 1.96 * std_err # ****** your code here ****** [ /2 marks]\n",
    "print(f\"Confidence interval: [{A},{B}]\")"
   ]
  },
  {
   "cell_type": "markdown",
   "metadata": {},
   "source": [
    "## Part 2: Maximum Likelihood Estimation [ _ /16 marks]"
   ]
  },
  {
   "cell_type": "markdown",
   "metadata": {},
   "source": [
    "Consider the Poisson distribution. This distribution is well-suited for count-based data. The Poisson pdf and negative log likelihood are defined as follows:\n",
    "\n",
    "Probability Density Function (PDF):\n",
    "$$ f(y; \\lambda) = \\frac{\\lambda^{-y} \\exp(-\\lambda)}{y!}$$\n",
    "\n",
    "Negative Log Likelihood (NLL):\n",
    "$$\\ell(y_1,y_2,...,y_n; \\lambda)=-\\sum_{i=1}^{n}(y \\log(\\lambda))-\\lambda-y!$$\n",
    "\n",
    "*Potentially Helpful Code for this part*: Assignment 2 code (\"A2_S.ipynb\") and the Week 1 to 6 review code (\"Week1-6-Code_ReviewF.ipynb\")"
   ]
  },
  {
   "cell_type": "markdown",
   "metadata": {},
   "source": [
    "## Question 2.1 [ _ /4 marks]\n",
    "\n",
    "Create a function called `poisson_nll` which takes arguments `lam` (expected rate of occurence) and `y` (count of occurrences) and returns the poisson negative log likelihood (`nll`). **NOTE: instead of y!, type `gammaln(y+1)`**. The gammaln function has been imported for you."
   ]
  },
  {
   "cell_type": "code",
   "execution_count": 106,
   "metadata": {},
   "outputs": [
    {
     "name": "stdout",
     "output_type": "stream",
     "text": [
      "3.019170746988274\n"
     ]
    }
   ],
   "source": [
    "# define the negative log likelihood function\n",
    "def poisson_nll(lam, y):\n",
    "    # Note: use gammaln(y+1) instead of y!.\n",
    "    # ****** your code here ******\n",
    "    nll = - (np.sum(y * np.log(lam) - lam - gammaln(y+1)))\n",
    "    return nll\n",
    "\n",
    "# Uncomment this part if you want to check your function\n",
    "check_func_lam = 2\n",
    "check_func_y = np.array([3,2])\n",
    "print(poisson_nll(check_func_lam,check_func_y)) \n",
    "# The result of the print statement should be 3.019170746988274"
   ]
  },
  {
   "cell_type": "markdown",
   "metadata": {},
   "source": [
    "## Question 2.2 [ _ /6 marks]\n",
    "\n",
    "Create a function called `poisson_nll_regression` which takes arguments for model coefficients $\\mathbf{b}$, a design matrix of features $\\mathbf{X}$ (including a column of ones and a column of x-values), and counts $\\mathbf{y}$ and returns the negative log likelihood. You can assume that $\\mathbf{y}$ is i.i.d (independent and identically distributed) with a poisson distribution characterized by parameter $\\lambda = \\exp(X b)$."
   ]
  },
  {
   "cell_type": "code",
   "execution_count": 107,
   "metadata": {},
   "outputs": [
    {
     "name": "stdout",
     "output_type": "stream",
     "text": [
      "139.03835842729978\n"
     ]
    }
   ],
   "source": [
    "# define negative log likelihood in terms of lambda and the function form for your linear regression\n",
    "def poisson_nll_regression(b, X, y):\n",
    "    # ****** your code here ****** [ /3 marks]\n",
    "    lam = np.exp(np.dot(X, b))\n",
    "    # ****** your code here ****** [ /3 marks]\n",
    "    nll = - (np.sum(y * np.log(lam) - lam - gammaln(y+1)))\n",
    "    return nll\n",
    "\n",
    "# Uncomment this part if you want to check your function\n",
    "check_func_b = np.array([1,1.2])\n",
    "check_func_X = np.array([[1,2],[1,3.2]])\n",
    "check_func_y = np.array([3,2])\n",
    "print(poisson_nll_regression(check_func_b,check_func_X,check_func_y))\n",
    "# The result of the print statement should be 139.03835842729978"
   ]
  },
  {
   "cell_type": "markdown",
   "metadata": {},
   "source": [
    "## Question 2.3 [ _ /6 marks]\n",
    "\n",
    "The dataset `part2.csv` contains count data (y) which has been influenced by a single feature (x). Plot the data; also plot the poisson maximumum likelihood regression prediction curve on new data (use `np.linspace` to generate 100 points from $x=-5$ to $x=5$). \n",
    "\n",
    "Note: An estimate for the optimal fit parameters (`bpr`) has been provided for this question.  "
   ]
  },
  {
   "cell_type": "code",
   "execution_count": 108,
   "metadata": {},
   "outputs": [
    {
     "data": {
      "text/plain": [
       "[<matplotlib.lines.Line2D at 0x7f93f99c9e20>]"
      ]
     },
     "execution_count": 108,
     "metadata": {},
     "output_type": "execute_result"
    },
    {
     "data": {
      "image/png": "[encoded data removed]",
      "text/plain": [
       "<Figure size 432x288 with 1 Axes>"
      ]
     },
     "metadata": {
      "needs_background": "light"
     },
     "output_type": "display_data"
    }
   ],
   "source": [
    "# The optimal model coefficient values are provided\n",
    "b0, b1 = -0.054007750104876455, 0.3209514537121639\n",
    "\n",
    "# Read the part2.csv file into a dataframe (df2), plot the data [ /2 marks]\n",
    "# ****** your code here ******\n",
    "df = pd.read_csv('part2.csv')\n",
    "# ****** your code here ****** \n",
    "plt.scatter(df[\"x\"],df[\"y\"])\n",
    "\n",
    "# Given the b0,b1 coefficients, plot the prediction curve [ /4 marks]\n",
    "# ****** your code here ******\n",
    "x_grid = np.linspace(-5, 5, 50)\n",
    "X_new = np.c_[np.ones(x_grid.size), x_grid]\n",
    "\n",
    "# ****** your code here ****** \n",
    "b = np.array([b0, b1])\n",
    "# ****** your code here ****** \n",
    "y_pred = np.exp(np.dot(X_new, b))\n",
    "# ****** your code here ****** \n",
    "plt.plot(X_new[:,1],y_pred)"
   ]
  },
  {
   "cell_type": "markdown",
   "metadata": {},
   "source": [
    "\n",
    "## Part 3: Classification and Evaluation [ _ /23 marks]"
   ]
  },
  {
   "cell_type": "markdown",
   "metadata": {},
   "source": [
    "For this final part, let's consider the mushroom dataset (it has been modified and re-named `part3_1.csv`). If you would like to read more on the dataset, go to https://archive.ics.uci.edu/ml/datasets/mushroom\n",
    "\n",
    "Importantly, this dataset has two output classes: `e` (edible) and `p` (poisonous). Assume that `p` is the positive class. Let's attempt to fit the data using **Logistic Regression** with **L1 Regularization**.\n",
    "\n",
    "*Potentially Helpful Code for this part*: Assignment 3/4 code (\"A3_S.ipynb\", \"A4_S.ipynb\") and the Week 1-6 review code (\"Week1-6-Code_ReviewF.ipynb\")"
   ]
  },
  {
   "cell_type": "markdown",
   "metadata": {},
   "source": [
    "### Question 3.1 [ _ /5 marks]\n",
    "\n",
    "Read the file `part3_1.csv` into a dataframe. Print the first 5 rows of the dataframe. Would `automatic` or `manual` feature selection be preferable in this circumstance? Why? Provide your answer in 1-2 sentences [ _ /3 marks].\n",
    "\n",
    "* By **automatic feature selection**, I am referring to feature selection wherein features are removed without human input (for example, regularization). \n",
    "* By **manual feature selection**, I am referring to feature selection wherein a person (i.e. you) is choosing which features to remove."
   ]
  },
  {
   "cell_type": "code",
   "execution_count": 109,
   "metadata": {},
   "outputs": [
    {
     "data": {
      "text/html": [
       "<div>\n",
       "<style scoped>\n",
       "    .dataframe tbody tr th:only-of-type {\n",
       "        vertical-align: middle;\n",
       "    }\n",
       "\n",
       "    .dataframe tbody tr th {\n",
       "        vertical-align: top;\n",
       "    }\n",
       "\n",
       "    .dataframe thead th {\n",
       "        text-align: right;\n",
       "    }\n",
       "</style>\n",
       "<table border=\"1\" class=\"dataframe\">\n",
       "  <thead>\n",
       "    <tr style=\"text-align: right;\">\n",
       "      <th></th>\n",
       "      <th>CLASS</th>\n",
       "      <th>cap-shape</th>\n",
       "      <th>cap-surface</th>\n",
       "      <th>cap-color</th>\n",
       "      <th>ring-number</th>\n",
       "      <th>ring-type</th>\n",
       "      <th>spore-print-color</th>\n",
       "    </tr>\n",
       "  </thead>\n",
       "  <tbody>\n",
       "    <tr>\n",
       "      <th>0</th>\n",
       "      <td>p</td>\n",
       "      <td>x</td>\n",
       "      <td>s</td>\n",
       "      <td>n</td>\n",
       "      <td>o</td>\n",
       "      <td>p</td>\n",
       "      <td>k</td>\n",
       "    </tr>\n",
       "    <tr>\n",
       "      <th>1</th>\n",
       "      <td>e</td>\n",
       "      <td>x</td>\n",
       "      <td>s</td>\n",
       "      <td>y</td>\n",
       "      <td>o</td>\n",
       "      <td>p</td>\n",
       "      <td>n</td>\n",
       "    </tr>\n",
       "    <tr>\n",
       "      <th>2</th>\n",
       "      <td>e</td>\n",
       "      <td>b</td>\n",
       "      <td>s</td>\n",
       "      <td>w</td>\n",
       "      <td>o</td>\n",
       "      <td>p</td>\n",
       "      <td>n</td>\n",
       "    </tr>\n",
       "    <tr>\n",
       "      <th>3</th>\n",
       "      <td>p</td>\n",
       "      <td>x</td>\n",
       "      <td>y</td>\n",
       "      <td>w</td>\n",
       "      <td>o</td>\n",
       "      <td>p</td>\n",
       "      <td>k</td>\n",
       "    </tr>\n",
       "    <tr>\n",
       "      <th>4</th>\n",
       "      <td>e</td>\n",
       "      <td>x</td>\n",
       "      <td>s</td>\n",
       "      <td>g</td>\n",
       "      <td>o</td>\n",
       "      <td>e</td>\n",
       "      <td>n</td>\n",
       "    </tr>\n",
       "  </tbody>\n",
       "</table>\n",
       "</div>"
      ],
      "text/plain": [
       "  CLASS cap-shape cap-surface cap-color ring-number ring-type  \\\n",
       "0     p         x           s         n           o         p   \n",
       "1     e         x           s         y           o         p   \n",
       "2     e         b           s         w           o         p   \n",
       "3     p         x           y         w           o         p   \n",
       "4     e         x           s         g           o         e   \n",
       "\n",
       "  spore-print-color  \n",
       "0                 k  \n",
       "1                 n  \n",
       "2                 n  \n",
       "3                 k  \n",
       "4                 n  "
      ]
     },
     "metadata": {},
     "output_type": "display_data"
    }
   ],
   "source": [
    "# read the csv into a dataframe [ /1 mark]\n",
    "# ****** your code here ******\n",
    "\n",
    "df3 = pd.read_csv('part3_1.csv')\n",
    "\n",
    "# display the first 5 rows [ /1 mark]\n",
    "# ****** your code here ******\n",
    "display(df3.head(5))"
   ]
  },
  {
   "cell_type": "markdown",
   "metadata": {},
   "source": [
    "**Your answer**: I perfer manual feature selection, because the data are not numerical. It's harder to perform automatic feature selection."
   ]
  },
  {
   "cell_type": "markdown",
   "metadata": {},
   "source": [
    "### Question 3.2 [ _ /5 marks]\n",
    "\n",
    "Let's convert all of our data into numerical values using `get_dummies` (use `drop_first=True`). Note: You only need the one line of code to call \"get_dummies\"; you do not need to use `pd.Categorical` here. Display the first 5 rows. Report the number of resulting \"features\" [ _ /2 marks]. "
   ]
  },
  {
   "cell_type": "code",
   "execution_count": 110,
   "metadata": {},
   "outputs": [
    {
     "data": {
      "text/html": [
       "<div>\n",
       "<style scoped>\n",
       "    .dataframe tbody tr th:only-of-type {\n",
       "        vertical-align: middle;\n",
       "    }\n",
       "\n",
       "    .dataframe tbody tr th {\n",
       "        vertical-align: top;\n",
       "    }\n",
       "\n",
       "    .dataframe thead th {\n",
       "        text-align: right;\n",
       "    }\n",
       "</style>\n",
       "<table border=\"1\" class=\"dataframe\">\n",
       "  <thead>\n",
       "    <tr style=\"text-align: right;\">\n",
       "      <th></th>\n",
       "      <th>CLASS_p</th>\n",
       "      <th>cap-shape_c</th>\n",
       "      <th>cap-shape_f</th>\n",
       "      <th>cap-shape_k</th>\n",
       "      <th>cap-shape_s</th>\n",
       "      <th>cap-shape_x</th>\n",
       "      <th>cap-surface_g</th>\n",
       "      <th>cap-surface_s</th>\n",
       "      <th>cap-surface_y</th>\n",
       "      <th>cap-color_c</th>\n",
       "      <th>...</th>\n",
       "      <th>ring-type_n</th>\n",
       "      <th>ring-type_p</th>\n",
       "      <th>spore-print-color_h</th>\n",
       "      <th>spore-print-color_k</th>\n",
       "      <th>spore-print-color_n</th>\n",
       "      <th>spore-print-color_o</th>\n",
       "      <th>spore-print-color_r</th>\n",
       "      <th>spore-print-color_u</th>\n",
       "      <th>spore-print-color_w</th>\n",
       "      <th>spore-print-color_y</th>\n",
       "    </tr>\n",
       "  </thead>\n",
       "  <tbody>\n",
       "    <tr>\n",
       "      <th>0</th>\n",
       "      <td>1</td>\n",
       "      <td>0</td>\n",
       "      <td>0</td>\n",
       "      <td>0</td>\n",
       "      <td>0</td>\n",
       "      <td>1</td>\n",
       "      <td>0</td>\n",
       "      <td>1</td>\n",
       "      <td>0</td>\n",
       "      <td>0</td>\n",
       "      <td>...</td>\n",
       "      <td>0</td>\n",
       "      <td>1</td>\n",
       "      <td>0</td>\n",
       "      <td>1</td>\n",
       "      <td>0</td>\n",
       "      <td>0</td>\n",
       "      <td>0</td>\n",
       "      <td>0</td>\n",
       "      <td>0</td>\n",
       "      <td>0</td>\n",
       "    </tr>\n",
       "    <tr>\n",
       "      <th>1</th>\n",
       "      <td>0</td>\n",
       "      <td>0</td>\n",
       "      <td>0</td>\n",
       "      <td>0</td>\n",
       "      <td>0</td>\n",
       "      <td>1</td>\n",
       "      <td>0</td>\n",
       "      <td>1</td>\n",
       "      <td>0</td>\n",
       "      <td>0</td>\n",
       "      <td>...</td>\n",
       "      <td>0</td>\n",
       "      <td>1</td>\n",
       "      <td>0</td>\n",
       "      <td>0</td>\n",
       "      <td>1</td>\n",
       "      <td>0</td>\n",
       "      <td>0</td>\n",
       "      <td>0</td>\n",
       "      <td>0</td>\n",
       "      <td>0</td>\n",
       "    </tr>\n",
       "    <tr>\n",
       "      <th>2</th>\n",
       "      <td>0</td>\n",
       "      <td>0</td>\n",
       "      <td>0</td>\n",
       "      <td>0</td>\n",
       "      <td>0</td>\n",
       "      <td>0</td>\n",
       "      <td>0</td>\n",
       "      <td>1</td>\n",
       "      <td>0</td>\n",
       "      <td>0</td>\n",
       "      <td>...</td>\n",
       "      <td>0</td>\n",
       "      <td>1</td>\n",
       "      <td>0</td>\n",
       "      <td>0</td>\n",
       "      <td>1</td>\n",
       "      <td>0</td>\n",
       "      <td>0</td>\n",
       "      <td>0</td>\n",
       "      <td>0</td>\n",
       "      <td>0</td>\n",
       "    </tr>\n",
       "    <tr>\n",
       "      <th>3</th>\n",
       "      <td>1</td>\n",
       "      <td>0</td>\n",
       "      <td>0</td>\n",
       "      <td>0</td>\n",
       "      <td>0</td>\n",
       "      <td>1</td>\n",
       "      <td>0</td>\n",
       "      <td>0</td>\n",
       "      <td>1</td>\n",
       "      <td>0</td>\n",
       "      <td>...</td>\n",
       "      <td>0</td>\n",
       "      <td>1</td>\n",
       "      <td>0</td>\n",
       "      <td>1</td>\n",
       "      <td>0</td>\n",
       "      <td>0</td>\n",
       "      <td>0</td>\n",
       "      <td>0</td>\n",
       "      <td>0</td>\n",
       "      <td>0</td>\n",
       "    </tr>\n",
       "    <tr>\n",
       "      <th>4</th>\n",
       "      <td>0</td>\n",
       "      <td>0</td>\n",
       "      <td>0</td>\n",
       "      <td>0</td>\n",
       "      <td>0</td>\n",
       "      <td>1</td>\n",
       "      <td>0</td>\n",
       "      <td>1</td>\n",
       "      <td>0</td>\n",
       "      <td>0</td>\n",
       "      <td>...</td>\n",
       "      <td>0</td>\n",
       "      <td>0</td>\n",
       "      <td>0</td>\n",
       "      <td>0</td>\n",
       "      <td>1</td>\n",
       "      <td>0</td>\n",
       "      <td>0</td>\n",
       "      <td>0</td>\n",
       "      <td>0</td>\n",
       "      <td>0</td>\n",
       "    </tr>\n",
       "  </tbody>\n",
       "</table>\n",
       "<p>5 rows × 32 columns</p>\n",
       "</div>"
      ],
      "text/plain": [
       "   CLASS_p  cap-shape_c  cap-shape_f  cap-shape_k  cap-shape_s  cap-shape_x  \\\n",
       "0        1            0            0            0            0            1   \n",
       "1        0            0            0            0            0            1   \n",
       "2        0            0            0            0            0            0   \n",
       "3        1            0            0            0            0            1   \n",
       "4        0            0            0            0            0            1   \n",
       "\n",
       "   cap-surface_g  cap-surface_s  cap-surface_y  cap-color_c  ...  ring-type_n  \\\n",
       "0              0              1              0            0  ...            0   \n",
       "1              0              1              0            0  ...            0   \n",
       "2              0              1              0            0  ...            0   \n",
       "3              0              0              1            0  ...            0   \n",
       "4              0              1              0            0  ...            0   \n",
       "\n",
       "   ring-type_p  spore-print-color_h  spore-print-color_k  spore-print-color_n  \\\n",
       "0            1                    0                    1                    0   \n",
       "1            1                    0                    0                    1   \n",
       "2            1                    0                    0                    1   \n",
       "3            1                    0                    1                    0   \n",
       "4            0                    0                    0                    1   \n",
       "\n",
       "   spore-print-color_o  spore-print-color_r  spore-print-color_u  \\\n",
       "0                    0                    0                    0   \n",
       "1                    0                    0                    0   \n",
       "2                    0                    0                    0   \n",
       "3                    0                    0                    0   \n",
       "4                    0                    0                    0   \n",
       "\n",
       "   spore-print-color_w  spore-print-color_y  \n",
       "0                    0                    0  \n",
       "1                    0                    0  \n",
       "2                    0                    0  \n",
       "3                    0                    0  \n",
       "4                    0                    0  \n",
       "\n",
       "[5 rows x 32 columns]"
      ]
     },
     "metadata": {},
     "output_type": "display_data"
    }
   ],
   "source": [
    "# Use get_dummies to convert features to numeric values [ /2 marks]\n",
    "# ****** your code here ******\n",
    "df3 = pd.get_dummies(df3, drop_first=True)\n",
    "# display the first 5 rows [ /1 mark]\n",
    "# ****** your code here ******\n",
    "display(df3.head(5))"
   ]
  },
  {
   "cell_type": "markdown",
   "metadata": {},
   "source": [
    "**Your answer**: The number of resulting fearure is 31"
   ]
  },
  {
   "cell_type": "markdown",
   "metadata": {},
   "source": [
    "### Question 3.3 [ _ /5 marks]\n",
    "\n",
    "Let's perform our Logistic Regression using sklearn:\n",
    "* First, create your design matrix $\\mathbf{X}$ and output (target) vector $\\mathbf{y}$, then split your data into training and test sets using sklearn's `train_test_split`. Use `test_size=0.3`, `random_state=0`. \n",
    "* Next, apply **2-fold Cross-Validation** on your training set using the provided model `M`: this is a Logistic Regression Pipeline which has been created for convenience. Use `scoring='neg_log_loss'`. Print the mean CV score."
   ]
  },
  {
   "cell_type": "code",
   "execution_count": 111,
   "metadata": {},
   "outputs": [
    {
     "name": "stdout",
     "output_type": "stream",
     "text": [
      "-0.11683498910221854\n"
     ]
    }
   ],
   "source": [
    "# In order to help keep the questions independent (i.e. not reliant on the previous question),\n",
    "# I have created a dataframe for this question called \"part3_3.csv\". It is read into df33 below:\n",
    "df33 = pd.read_csv(\"part3_3.csv\")#; display(df33.head()) #You can check this with your answer\n",
    "\n",
    "# First, create X and y from the dataframe df33 [ /2 marks]\n",
    "# ****** your code here ******\n",
    "\n",
    "X = df33.drop([\"CLASS_p\"],axis=1)\n",
    "# ****** your code here ******\n",
    "y = df33.CLASS_p.values.reshape(-1)\n",
    "\n",
    "# Next, call train_test_split [ /1 mark]\n",
    "# ****** your code here ******\n",
    "Xtrain, Xtest, ytrain, ytest = train_test_split(X, y, test_size = 0.3, random_state = 0)\n",
    "\n",
    "# A Model Pipeline (M) has been created for you:\n",
    "M = Pipeline([\n",
    "    ['scl', StandardScaler()],\n",
    "    ['logr', LogisticRegression(C=1, max_iter=2000, penalty='l1', solver='saga')]\n",
    "])\n",
    "\n",
    "# Apply 2-fold Cross-Validation, print the mean CV score [ /2 marks]\n",
    "# ****** your code here ****** \n",
    "cvsc = cross_val_score(M, Xtrain, ytrain, cv=2,scoring = 'neg_log_loss')\n",
    "print(cvsc.mean())"
   ]
  },
  {
   "cell_type": "markdown",
   "metadata": {},
   "source": [
    "### Question 3.4 [ _ /5 marks]\n",
    "\n",
    "After performing a Grid search for an optimal regularization coefficient, we selected a particular model. Next, we trained this model on the training set; finally, we computed the model's predictions on the test set. Finally, we generated and plotted a confusion matrix:\n",
    "\n",
    "![title](part3_4.png)\n",
    "\n",
    "We can now evaluate our chosen model. Complete the following:\n",
    "* Using the result (i.e. the Confusion Matrix), compute the F-Measure and print this value.\n",
    "* Answer: \"How many instances of Type II Error are there in our result?\" \n",
    "\n",
    "The formulas needed are provided below:\n",
    "\n",
    "$$\\text{F-measure} = 2 \\bigg( \\frac{(\\text{Precision})(\\text{Recall})}{\\text{Precision}+\\text{Recall}}  \\bigg) $$\n",
    "<br>\n",
    "$$\\text{Precision} = \\bigg( \\frac{\\text{True Positive}}{\\text{True Positive} + \\text{False Positive}}  \\bigg) $$\n",
    "<br>\n",
    "$$\\text{Recall} = \\bigg( \\frac{\\text{True Positive}}{\\text{True Positive} + \\text{False Negative}}  \\bigg) $$\n"
   ]
  },
  {
   "cell_type": "code",
   "execution_count": 112,
   "metadata": {},
   "outputs": [
    {
     "name": "stdout",
     "output_type": "stream",
     "text": [
      "0.9513371328364753\n"
     ]
    }
   ],
   "source": [
    "# Compute and print the f-measure [ /3 marks]\n",
    "tp, tn, fp, fn = 1085, 1242, 30, 81\n",
    "\n",
    "# ****** your code here ******\n",
    "precision = tp / (tp + fp)\n",
    "# ****** your code here ****** \n",
    "recall = tp / (tp + fn)   \n",
    "# ****** your code here ****** \n",
    "f_measure = 2 * (precision * recall) / (precision + recall)\n",
    "# ****** your code here ****** \n",
    "print(f_measure)"
   ]
  },
  {
   "cell_type": "markdown",
   "metadata": {},
   "source": [
    "#### How many instances of Type II Error are there in our result? [ /2 marks]\n",
    "\n",
    "**Your Answer**: 81"
   ]
  },
  {
   "cell_type": "markdown",
   "metadata": {},
   "source": [
    "### Question 3.5 [ _ /3 marks]\n",
    "\n",
    "The dataframe below showcases which features were removed from applying Logistic Regression to the mushroom dataset with an `unknown` regularizer: `True` indicates that the feature is kept, `False` indicates that it is removed (Note: it is removed **only** because the coefficient multiplying that feature is 0). \n",
    "\n",
    "Which of the three regularizers which we have looked at so far (`LASSO`, `Ridge`, `Elastic Net`) could have been used to get this result?"
   ]
  },
  {
   "cell_type": "code",
   "execution_count": 113,
   "metadata": {},
   "outputs": [
    {
     "data": {
      "text/html": [
       "<div>\n",
       "<style scoped>\n",
       "    .dataframe tbody tr th:only-of-type {\n",
       "        vertical-align: middle;\n",
       "    }\n",
       "\n",
       "    .dataframe tbody tr th {\n",
       "        vertical-align: top;\n",
       "    }\n",
       "\n",
       "    .dataframe thead th {\n",
       "        text-align: right;\n",
       "    }\n",
       "</style>\n",
       "<table border=\"1\" class=\"dataframe\">\n",
       "  <thead>\n",
       "    <tr style=\"text-align: right;\">\n",
       "      <th></th>\n",
       "      <th>cap-shape_c</th>\n",
       "      <th>cap-shape_f</th>\n",
       "      <th>cap-shape_k</th>\n",
       "      <th>cap-shape_s</th>\n",
       "      <th>cap-shape_x</th>\n",
       "      <th>cap-surface_g</th>\n",
       "      <th>cap-surface_s</th>\n",
       "      <th>cap-surface_y</th>\n",
       "      <th>cap-color_c</th>\n",
       "      <th>cap-color_e</th>\n",
       "      <th>...</th>\n",
       "      <th>ring-type_n</th>\n",
       "      <th>ring-type_p</th>\n",
       "      <th>spore-print-color_h</th>\n",
       "      <th>spore-print-color_k</th>\n",
       "      <th>spore-print-color_n</th>\n",
       "      <th>spore-print-color_o</th>\n",
       "      <th>spore-print-color_r</th>\n",
       "      <th>spore-print-color_u</th>\n",
       "      <th>spore-print-color_w</th>\n",
       "      <th>spore-print-color_y</th>\n",
       "    </tr>\n",
       "  </thead>\n",
       "  <tbody>\n",
       "    <tr>\n",
       "      <th>keep_feature</th>\n",
       "      <td>True</td>\n",
       "      <td>True</td>\n",
       "      <td>True</td>\n",
       "      <td>False</td>\n",
       "      <td>True</td>\n",
       "      <td>False</td>\n",
       "      <td>True</td>\n",
       "      <td>True</td>\n",
       "      <td>True</td>\n",
       "      <td>True</td>\n",
       "      <td>...</td>\n",
       "      <td>True</td>\n",
       "      <td>True</td>\n",
       "      <td>True</td>\n",
       "      <td>True</td>\n",
       "      <td>True</td>\n",
       "      <td>True</td>\n",
       "      <td>True</td>\n",
       "      <td>True</td>\n",
       "      <td>True</td>\n",
       "      <td>True</td>\n",
       "    </tr>\n",
       "  </tbody>\n",
       "</table>\n",
       "<p>1 rows × 31 columns</p>\n",
       "</div>"
      ],
      "text/plain": [
       "              cap-shape_c  cap-shape_f  cap-shape_k  cap-shape_s  cap-shape_x  \\\n",
       "keep_feature         True         True         True        False         True   \n",
       "\n",
       "              cap-surface_g  cap-surface_s  cap-surface_y  cap-color_c  \\\n",
       "keep_feature          False           True           True         True   \n",
       "\n",
       "              cap-color_e  ...  ring-type_n  ring-type_p  spore-print-color_h  \\\n",
       "keep_feature         True  ...         True         True                 True   \n",
       "\n",
       "              spore-print-color_k  spore-print-color_n  spore-print-color_o  \\\n",
       "keep_feature                 True                 True                 True   \n",
       "\n",
       "              spore-print-color_r  spore-print-color_u  spore-print-color_w  \\\n",
       "keep_feature                 True                 True                 True   \n",
       "\n",
       "              spore-print-color_y  \n",
       "keep_feature                 True  \n",
       "\n",
       "[1 rows x 31 columns]"
      ]
     },
     "metadata": {},
     "output_type": "display_data"
    }
   ],
   "source": [
    "# Run this code to display the csv file for the question\n",
    "df35 = pd.read_csv(\"part3_5.csv\", index_col=0); display(df35)"
   ]
  },
  {
   "cell_type": "markdown",
   "metadata": {},
   "source": [
    "#### Could LASSO have been used to get this result (i.e. can LASSO remove features)? [ /1 mark]\n",
    "**Your answer (yes or no)**: yes\n",
    "\n",
    "#### Could Ridge have been used to get this result (i.e. can Ridge remove features)? [ /1 mark]\n",
    "**Your answer (yes or no)**: no\n",
    "\n",
    "#### Could Elastic Net have been used to get this result (i.e. can Elastic Net remove features)? [ /1 mark]\n",
    "**Your answer (yes or no)**: yes"
   ]
  }
 ],
 "metadata": {
  "kernelspec": {
   "display_name": "Python 3.10.6 64-bit",
   "language": "python",
   "name": "python3"
  },
  "language_info": {
   "codemirror_mode": {
    "name": "ipython",
    "version": 3
   },
   "file_extension": ".py",
   "mimetype": "text/x-python",
   "name": "python",
   "nbconvert_exporter": "python",
   "pygments_lexer": "ipython3",
   "version": "3.10.6"
  },
  "vscode": {
   "interpreter": {
    "hash": "aee8b7b246df8f9039afb4144a1f6fd8d2ca17a180786b69acc140d282b71a49"
   }
  }
 },
 "nbformat": 4,
 "nbformat_minor": 5
}
